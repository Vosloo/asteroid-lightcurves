{
    "cells": [
        {
            "cell_type": "code",
            "execution_count": 1,
            "metadata": {},
            "outputs": [],
            "source": [
                "import copy\n",
                "import json\n",
                "from datetime import datetime\n",
                "from typing import TypedDict\n",
                "\n",
                "import matplotlib.pyplot as plt\n",
                "import numpy as np\n",
                "import seaborn as sns\n",
                "import torch\n",
                "import torch.nn as nn\n",
                "import torch.optim as optim\n",
                "from constants import DATA_DIR, MODELS_DIR\n",
                "from sklearn.metrics import mean_absolute_error, mean_squared_error, r2_score\n",
                "from sklearn.model_selection import train_test_split\n",
                "from torch.nn.utils.rnn import (\n",
                "    PackedSequence,\n",
                "    pack_padded_sequence,\n",
                "    pad_packed_sequence,\n",
                "    pad_sequence,\n",
                ")\n",
                "from torch.utils.data import DataLoader, Dataset, TensorDataset\n",
                "\n",
                "from astrofit.utils import AsteroidLoader, LightcurveBinner\n",
                "\n",
                "sns.set_theme(style=\"darkgrid\")\n",
                "plt.rcParams[\"figure.figsize\"] = (14, 6)"
            ]
        },
        {
            "cell_type": "code",
            "execution_count": 2,
            "metadata": {},
            "outputs": [],
            "source": [
                "assert torch.cuda.is_available(), \"CUDA is not available\""
            ]
        },
        {
            "cell_type": "code",
            "execution_count": 3,
            "metadata": {},
            "outputs": [],
            "source": [
                "asteroid_loader = AsteroidLoader(DATA_DIR)\n",
                "lightcurve_binner = LightcurveBinner()\n",
                "\n",
                "ASTEROIDS_FREQ_DATA_PATH = DATA_DIR / \"asteroids_freq_data.json\"\n"
            ]
        },
        {
            "cell_type": "code",
            "execution_count": 4,
            "metadata": {},
            "outputs": [
                {
                    "data": {
                        "text/plain": [
                            "163"
                        ]
                    },
                    "execution_count": 4,
                    "metadata": {},
                    "output_type": "execute_result"
                }
            ],
            "source": [
                "with open(ASTEROIDS_FREQ_DATA_PATH, \"r\") as f_in:\n",
                "    asteroids_data = json.load(f_in)\n",
                "\n",
                "filtered_data = {name: data for name, data in asteroids_data.items() if not data[\"is_failed\"]}\n",
                "len(filtered_data)"
            ]
        },
        {
            "cell_type": "code",
            "execution_count": 5,
            "metadata": {},
            "outputs": [],
            "source": [
                "X_data = []\n",
                "y_data = []\n",
                "for data in filtered_data.values():\n",
                "    tmp = []\n",
                "    no_splits = len(data[\"freq_features\"]) // 50\n",
                "    for i in range(no_splits):\n",
                "        tmp.append(data[\"freq_features\"][50 * i : 50 * (i + 1)])\n",
                "    \n",
                "    X_data.append(torch.tensor(tmp))\n",
                "    y_data.append(data[\"period\"])\n",
                "\n",
                "y_data = torch.tensor(y_data).unsqueeze(1)"
            ]
        },
        {
            "cell_type": "code",
            "execution_count": 6,
            "metadata": {},
            "outputs": [],
            "source": [
                "def get_packed_padded_data(data: list[torch.Tensor]):\n",
                "    seq_len = torch.tensor([len(x) for x in data])\n",
                "    \n",
                "    padded = pad_sequence(data, batch_first=True)\n",
                "    print(f\"Padded shape: {padded.shape}\")\n",
                "    \n",
                "    packed =  pack_padded_sequence(padded, seq_len, batch_first=True, enforce_sorted=False)\n",
                "    print(f\"Packed data shape: {packed.data.shape}\")\n",
                "\n",
                "    return packed"
            ]
        },
        {
            "cell_type": "code",
            "execution_count": 7,
            "metadata": {},
            "outputs": [
                {
                    "name": "stdout",
                    "output_type": "stream",
                    "text": [
                        "Train size: 114\n",
                        "Validation size: 34\n",
                        "Test size: 15\n"
                    ]
                }
            ],
            "source": [
                "X_train, X_tmp, y_train, y_tmp = train_test_split(X_data, y_data, test_size=0.3, random_state=42)\n",
                "X_val, X_test, y_val, y_test = train_test_split(X_tmp, y_tmp, test_size=0.3, random_state=42)\n",
                "print(f\"Train size: {len(X_train)}\")\n",
                "print(f\"Validation size: {len(X_val)}\")\n",
                "print(f\"Test size: {len(X_test)}\")"
            ]
        },
        {
            "cell_type": "code",
            "execution_count": 8,
            "metadata": {},
            "outputs": [
                {
                    "data": {
                        "text/plain": [
                            "torch.Size([114, 1])"
                        ]
                    },
                    "execution_count": 8,
                    "metadata": {},
                    "output_type": "execute_result"
                }
            ],
            "source": [
                "y_train.shape"
            ]
        },
        {
            "cell_type": "code",
            "execution_count": 9,
            "metadata": {},
            "outputs": [
                {
                    "name": "stdout",
                    "output_type": "stream",
                    "text": [
                        "Padded shape: torch.Size([114, 4, 50])\n",
                        "Packed data shape: torch.Size([400, 50])\n",
                        "Padded shape: torch.Size([34, 4, 50])\n",
                        "Packed data shape: torch.Size([121, 50])\n",
                        "Padded shape: torch.Size([15, 4, 50])\n",
                        "Packed data shape: torch.Size([54, 50])\n"
                    ]
                }
            ],
            "source": [
                "X_train = get_packed_padded_data(X_train)\n",
                "X_val = get_packed_padded_data(X_val)\n",
                "X_test = get_packed_padded_data(X_test)\n"
            ]
        },
        {
            "cell_type": "code",
            "execution_count": 10,
            "metadata": {},
            "outputs": [],
            "source": [
                "class ModelConfig(TypedDict):\n",
                "    input_size: int\n",
                "    hidden_size: int\n",
                "    num_layers: int\n",
                "    fc1_size: int\n",
                "    fc2_size: int\n",
                "    bidirectional: bool\n",
                "    dropout: float"
            ]
        },
        {
            "cell_type": "code",
            "execution_count": 11,
            "metadata": {},
            "outputs": [],
            "source": [
                "class AsteroidLSTM(nn.Module):\n",
                "    def __init__(self, config: ModelConfig):\n",
                "        super(AsteroidLSTM, self).__init__()\n",
                "        self.hidden_size = config[\"hidden_size\"]\n",
                "        self.num_layers = config[\"num_layers\"]\n",
                "        self.bidirectional = config[\"bidirectional\"]\n",
                "        self.lstm = nn.LSTM(\n",
                "            config[\"input_size\"],\n",
                "            config[\"hidden_size\"],\n",
                "            config[\"num_layers\"],\n",
                "            batch_first=True,\n",
                "            bidirectional=config[\"bidirectional\"],\n",
                "            dropout=config[\"dropout\"],\n",
                "        )\n",
                "\n",
                "        fc_input_size = config[\"hidden_size\"] * 2 if config[\"bidirectional\"] else config[\"hidden_size\"]\n",
                "        self.fc1 = nn.Linear(fc_input_size, config[\"fc1_size\"])\n",
                "        self.fc2 = nn.Linear(config[\"fc1_size\"], config[\"fc2_size\"])\n",
                "        self.fc3 = nn.Linear(config[\"fc2_size\"], 1)\n",
                "        self.relu = nn.ReLU()\n",
                "        self.dropout = nn.Dropout(config[\"dropout\"])\n",
                "\n",
                "    def forward(self, x: torch.Tensor):\n",
                "        # Process the packed sequence through the LSTM\n",
                "        output, _ = self.lstm(x)\n",
                "\n",
                "        # Unpack the sequence\n",
                "        output, lengths = pad_packed_sequence(output, batch_first=True)\n",
                "\n",
                "        # Get the last output for each sequence\n",
                "        batch_size = output.size(0)\n",
                "        last_output = output[torch.arange(batch_size), lengths - 1]\n",
                "\n",
                "        # If bidirectional, concatenate forward and backward last outputs\n",
                "        if self.bidirectional:\n",
                "            last_output = torch.cat((last_output[:, : self.hidden_size], last_output[:, self.hidden_size :]), dim=1)\n",
                "\n",
                "        x = self.relu(self.fc1(last_output))\n",
                "        x = self.dropout(x)\n",
                "        x = self.relu(self.fc2(x))\n",
                "        x = self.dropout(x)\n",
                "        x = self.fc3(x)\n",
                "        return x"
            ]
        },
        {
            "cell_type": "code",
            "execution_count": 12,
            "metadata": {},
            "outputs": [],
            "source": [
                "class PackedSequenceDataset(Dataset):\n",
                "    def __init__(self, packed_sequence, targets):\n",
                "        self.data = packed_sequence\n",
                "        self.targets = targets\n",
                "\n",
                "    def __len__(self):\n",
                "        return len(self.targets)\n",
                "\n",
                "    def __getitem__(self, idx):\n",
                "        return idx, self.targets[idx]\n",
                "\n",
                "\n",
                "def custom_collate_fn(batch):\n",
                "    indices, targets = zip(*batch)\n",
                "    return torch.LongTensor(indices), torch.tensor(targets).float()"
            ]
        },
        {
            "cell_type": "code",
            "execution_count": 30,
            "metadata": {},
            "outputs": [],
            "source": [
                "def train_model(\n",
                "    model,\n",
                "    X_train,\n",
                "    y_train,\n",
                "    X_val,\n",
                "    y_val,\n",
                "    batch_size,\n",
                "    num_epochs,\n",
                "    learning_rate,\n",
                "    model_suffix: str | None = None,\n",
                "    patience=100,\n",
                "):\n",
                "    device = torch.device(\"cuda\" if torch.cuda.is_available() else \"cpu\")\n",
                "    model.to(device)\n",
                "\n",
                "    criterion = nn.MSELoss()\n",
                "    optimizer = optim.Adam(model.parameters(), lr=learning_rate)\n",
                "\n",
                "    # Create DataLoaders\n",
                "    train_dataset = PackedSequenceDataset(X_train, y_train)\n",
                "    val_dataset = PackedSequenceDataset(X_val, y_val)\n",
                "    train_loader = DataLoader(train_dataset, batch_size=batch_size, shuffle=True, collate_fn=custom_collate_fn)\n",
                "    val_loader = DataLoader(val_dataset, batch_size=batch_size, shuffle=False, collate_fn=custom_collate_fn)\n",
                "\n",
                "    best_val_loss = float(\"inf\")\n",
                "    best_model = None\n",
                "    patience_counter = 0\n",
                "\n",
                "    for epoch in range(num_epochs):\n",
                "        model.train()\n",
                "        train_loss = 0.0\n",
                "        for indices, y_batch in train_loader:\n",
                "            y_batch = y_batch.to(device)\n",
                "\n",
                "            optimizer.zero_grad()\n",
                "            # Create a new PackedSequence for this batch\n",
                "            X_batch = PackedSequence(\n",
                "                X_train.data[\n",
                "                    X_train.batch_sizes[: indices.max() + 1].sum()\n",
                "                    - X_train.batch_sizes[: indices.max() + 1].sum() : X_train.batch_sizes[: indices.max() + 1].sum()\n",
                "                ],\n",
                "                X_train.batch_sizes[: indices.max() + 1],\n",
                "                X_train.sorted_indices[indices],\n",
                "                X_train.unsorted_indices[indices],\n",
                "            )\n",
                "            X_batch = X_batch.to(device)\n",
                "\n",
                "            outputs = model(X_batch)\n",
                "            loss = criterion(outputs.squeeze(), y_batch)\n",
                "            loss.backward()\n",
                "            optimizer.step()\n",
                "\n",
                "            train_loss += loss.item() * y_batch.size(0)\n",
                "\n",
                "        train_loss /= len(train_loader.dataset)\n",
                "\n",
                "        # Validation\n",
                "        model.eval()\n",
                "        val_loss = 0.0\n",
                "        with torch.no_grad():\n",
                "            for indices, y_batch in val_loader:\n",
                "                y_batch = y_batch.to(device)\n",
                "                # Create a new PackedSequence for this batch\n",
                "                X_batch = PackedSequence(\n",
                "                    X_val.data[\n",
                "                        X_val.batch_sizes[: indices.max() + 1].sum()\n",
                "                        - X_val.batch_sizes[: indices.max() + 1].sum() : X_val.batch_sizes[: indices.max() + 1].sum()\n",
                "                    ],\n",
                "                    X_val.batch_sizes[: indices.max() + 1],\n",
                "                    X_val.sorted_indices[indices],\n",
                "                    X_val.unsorted_indices[indices],\n",
                "                )\n",
                "                X_batch = X_batch.to(device)\n",
                "\n",
                "                outputs = model(X_batch)\n",
                "                loss = criterion(outputs.squeeze(), y_batch)\n",
                "                val_loss += loss.item() * y_batch.size(0)\n",
                "\n",
                "        val_loss /= len(val_loader.dataset)\n",
                "\n",
                "        if model_suffix is not None:\n",
                "            print(f\"\\rEpoch {epoch+1}/{num_epochs}, Train Loss: {train_loss:.4f}, Val Loss: {val_loss:.4f}\", end=\"\")\n",
                "\n",
                "        # Check if this is the best model\n",
                "        if val_loss < best_val_loss:\n",
                "            best_val_loss = val_loss\n",
                "            best_model = copy.deepcopy(model)\n",
                "            patience_counter = 0\n",
                "\n",
                "            if model_suffix is not None:\n",
                "                torch.save(best_model.state_dict(), MODELS_DIR / f\"asteroid_lstm_{model_suffix}.pt\")\n",
                "                print(f\"\\nNew best model saved with validation loss: {best_val_loss:.4f}\")\n",
                "        else:\n",
                "            patience_counter += 1\n",
                "\n",
                "        # Early stopping\n",
                "        if patience_counter >= patience:\n",
                "            print(f\"Early stopping triggered after {epoch+1} epochs\")\n",
                "            break\n",
                "\n",
                "    return best_model"
            ]
        },
        {
            "cell_type": "code",
            "execution_count": 14,
            "metadata": {},
            "outputs": [],
            "source": [
                "def evaluate_model(model, X_test, y_test, batch_size):\n",
                "    device = torch.device(\"cuda\" if torch.cuda.is_available() else \"cpu\")\n",
                "    model.to(device)\n",
                "\n",
                "    test_dataset = PackedSequenceDataset(X_test, y_test)\n",
                "    test_loader = DataLoader(test_dataset, batch_size=batch_size, shuffle=False, collate_fn=custom_collate_fn)\n",
                "\n",
                "    model.eval()\n",
                "    all_outputs = []\n",
                "    all_targets = []\n",
                "\n",
                "    with torch.no_grad():\n",
                "        for indices, y_batch in test_loader:\n",
                "            y_batch = y_batch.to(device)\n",
                "\n",
                "            # Create a new PackedSequence for this batch\n",
                "            X_batch = PackedSequence(\n",
                "                X_test.data[\n",
                "                    X_test.batch_sizes[: indices.max() + 1].sum()\n",
                "                    - X_test.batch_sizes[: indices.max() + 1].sum() : X_test.batch_sizes[: indices.max() + 1].sum()\n",
                "                ],\n",
                "                X_test.batch_sizes[: indices.max() + 1],\n",
                "                X_test.sorted_indices[indices],\n",
                "                X_test.unsorted_indices[indices],\n",
                "            )\n",
                "            X_batch = X_batch.to(device)\n",
                "\n",
                "            outputs = model(X_batch)\n",
                "\n",
                "            all_outputs.extend(outputs.cpu().numpy().squeeze())\n",
                "            all_targets.extend(y_batch.cpu().numpy())\n",
                "\n",
                "    all_outputs = np.array(all_outputs)\n",
                "    all_targets = np.array(all_targets)\n",
                "\n",
                "    # Calculate metrics\n",
                "    mse = mean_squared_error(all_targets, all_outputs)\n",
                "    rmse = np.sqrt(mse)\n",
                "    mae = mean_absolute_error(all_targets, all_outputs)\n",
                "    r2 = r2_score(all_targets, all_outputs)\n",
                "\n",
                "    print(f\"Test MSE: {mse:.4f}\")\n",
                "    print(f\"Test RMSE: {rmse:.4f}\")\n",
                "    print(f\"Test MAE: {mae:.4f}\")\n",
                "    print(f\"Test R2 Score: {r2:.4f}\")\n",
                "\n",
                "    return mse, rmse, mae, r2, all_outputs, all_targets"
            ]
        },
        {
            "cell_type": "code",
            "execution_count": 15,
            "metadata": {},
            "outputs": [],
            "source": [
                "config = ModelConfig(\n",
                "    input_size=X_train.data.size(-1),\n",
                "    hidden_size=64,\n",
                "    num_layers=2,\n",
                "    fc1_size=64,\n",
                "    fc2_size=32,\n",
                "    bidirectional=False,\n",
                "    dropout=0.1,\n",
                ")"
            ]
        },
        {
            "cell_type": "code",
            "execution_count": 16,
            "metadata": {},
            "outputs": [
                {
                    "data": {
                        "text/plain": [
                            "AsteroidLSTM(\n",
                            "  (lstm): LSTM(50, 64, num_layers=2, batch_first=True, dropout=0.1)\n",
                            "  (fc1): Linear(in_features=64, out_features=64, bias=True)\n",
                            "  (fc2): Linear(in_features=64, out_features=32, bias=True)\n",
                            "  (fc3): Linear(in_features=32, out_features=1, bias=True)\n",
                            "  (relu): ReLU()\n",
                            "  (dropout): Dropout(p=0.1, inplace=False)\n",
                            ")"
                        ]
                    },
                    "execution_count": 16,
                    "metadata": {},
                    "output_type": "execute_result"
                }
            ],
            "source": [
                "model = AsteroidLSTM(config).cuda()\n",
                "model"
            ]
        },
        {
            "cell_type": "code",
            "execution_count": 17,
            "metadata": {},
            "outputs": [],
            "source": [
                "batch_size = 16\n",
                "num_epochs = 1000\n",
                "learning_rate = 0.001"
            ]
        },
        {
            "cell_type": "code",
            "execution_count": 18,
            "metadata": {},
            "outputs": [
                {
                    "name": "stdout",
                    "output_type": "stream",
                    "text": [
                        "Epoch 1/1000, Train Loss: 74.7077, Val Loss: 56.9478\n",
                        "New best model saved with validation loss: 56.9478\n",
                        "Epoch 2/1000, Train Loss: 72.6733, Val Loss: 54.1124\n",
                        "New best model saved with validation loss: 54.1124\n",
                        "Epoch 3/1000, Train Loss: 67.6129, Val Loss: 45.1539\n",
                        "New best model saved with validation loss: 45.1539\n",
                        "Epoch 4/1000, Train Loss: 52.9884, Val Loss: 27.0761\n",
                        "New best model saved with validation loss: 27.0761\n",
                        "Epoch 5/1000, Train Loss: 27.6691, Val Loss: 9.4082\n",
                        "New best model saved with validation loss: 9.4082\n",
                        "Epoch 8/1000, Train Loss: 9.1145, Val Loss: 7.240335\n",
                        "New best model saved with validation loss: 7.2403\n",
                        "Epoch 9/1000, Train Loss: 9.4771, Val Loss: 6.4949\n",
                        "New best model saved with validation loss: 6.4949\n",
                        "Epoch 10/1000, Train Loss: 8.9795, Val Loss: 6.4484\n",
                        "New best model saved with validation loss: 6.4484\n",
                        "Epoch 17/1000, Train Loss: 9.1218, Val Loss: 6.14597\n",
                        "New best model saved with validation loss: 6.1459\n",
                        "Epoch 18/1000, Train Loss: 8.8955, Val Loss: 5.9899\n",
                        "New best model saved with validation loss: 5.9899\n",
                        "Epoch 21/1000, Train Loss: 8.8471, Val Loss: 5.8879\n",
                        "New best model saved with validation loss: 5.8879\n",
                        "Epoch 32/1000, Train Loss: 8.0884, Val Loss: 5.8125\n",
                        "New best model saved with validation loss: 5.8125\n",
                        "Epoch 33/1000, Train Loss: 8.0087, Val Loss: 5.6506\n",
                        "New best model saved with validation loss: 5.6506\n",
                        "Epoch 38/1000, Train Loss: 7.5207, Val Loss: 5.4939\n",
                        "New best model saved with validation loss: 5.4939\n",
                        "Epoch 45/1000, Train Loss: 8.7799, Val Loss: 5.3681\n",
                        "New best model saved with validation loss: 5.3681\n",
                        "Epoch 49/1000, Train Loss: 7.2416, Val Loss: 5.2966\n",
                        "New best model saved with validation loss: 5.2966\n",
                        "Epoch 52/1000, Train Loss: 7.7002, Val Loss: 4.8514\n",
                        "New best model saved with validation loss: 4.8514\n",
                        "Epoch 55/1000, Train Loss: 7.2070, Val Loss: 4.8261\n",
                        "New best model saved with validation loss: 4.8261\n",
                        "Epoch 57/1000, Train Loss: 6.7990, Val Loss: 4.6385\n",
                        "New best model saved with validation loss: 4.6385\n",
                        "Epoch 58/1000, Train Loss: 6.6176, Val Loss: 4.5269\n",
                        "New best model saved with validation loss: 4.5269\n",
                        "Epoch 59/1000, Train Loss: 7.0070, Val Loss: 4.4384\n",
                        "New best model saved with validation loss: 4.4384\n",
                        "Epoch 61/1000, Train Loss: 5.9763, Val Loss: 4.0810\n",
                        "New best model saved with validation loss: 4.0810\n",
                        "Epoch 69/1000, Train Loss: 5.0687, Val Loss: 4.0256\n",
                        "New best model saved with validation loss: 4.0256\n",
                        "Epoch 76/1000, Train Loss: 5.0891, Val Loss: 4.0195\n",
                        "New best model saved with validation loss: 4.0195\n",
                        "Epoch 77/1000, Train Loss: 4.9655, Val Loss: 3.9420\n",
                        "New best model saved with validation loss: 3.9420\n",
                        "Epoch 1000/1000, Train Loss: 1.8356, Val Loss: 7.5951"
                    ]
                }
            ],
            "source": [
                "train_start = datetime.now().strftime(\"%Y%m%d_%H%M%S\")\n",
                "best_model = train_model(\n",
                "    model,\n",
                "    X_train,\n",
                "    y_train,\n",
                "    X_val,\n",
                "    y_val,\n",
                "    batch_size,\n",
                "    num_epochs,\n",
                "    learning_rate,\n",
                "    model_suffix=train_start,\n",
                ")"
            ]
        },
        {
            "cell_type": "code",
            "execution_count": 19,
            "metadata": {},
            "outputs": [
                {
                    "name": "stdout",
                    "output_type": "stream",
                    "text": [
                        "Test MSE: 5.8935\n",
                        "Test RMSE: 2.4276\n",
                        "Test MAE: 2.0517\n",
                        "Test R2 Score: 0.0128\n"
                    ]
                }
            ],
            "source": [
                "model.load_state_dict(torch.load(MODELS_DIR / f\"asteroid_lstm_{train_start}.pt\"))\n",
                "model.eval()\n",
                "\n",
                "mse, rmse, mae, r2, predictions, true_values = evaluate_model(model, X_test, y_test, batch_size)"
            ]
        },
        {
            "cell_type": "code",
            "execution_count": 20,
            "metadata": {},
            "outputs": [
                {
                    "name": "stdout",
                    "output_type": "stream",
                    "text": [
                        "True:   4.8290, Predicted:   8.1891\n",
                        "True:   8.3899, Predicted:   7.3521\n",
                        "True:  12.3214, Predicted:   8.0293\n",
                        "True:   4.8040, Predicted:   7.0223\n",
                        "True:   3.9682, Predicted:   6.8891\n",
                        "True:   5.5296, Predicted:   6.0910\n",
                        "True:   8.9806, Predicted:   7.2861\n",
                        "True:   7.2400, Predicted:   8.3655\n",
                        "True:   4.4404, Predicted:   8.5389\n",
                        "True:   7.2801, Predicted:   7.9576\n"
                    ]
                }
            ],
            "source": [
                "for i in range(10):\n",
                "    print(f\"True: {true_values[i]:8.4f}, Predicted: {predictions[i]:8.4f}\")"
            ]
        },
        {
            "cell_type": "code",
            "execution_count": 21,
            "metadata": {},
            "outputs": [
                {
                    "data": {
                        "image/png": "[encoded data removed]",
                        "text/plain": [
                            "<Figure size 1000x600 with 1 Axes>"
                        ]
                    },
                    "metadata": {},
                    "output_type": "display_data"
                }
            ],
            "source": [
                "plt.figure(figsize=(10, 6))\n",
                "plt.scatter(true_values, predictions, alpha=0.5)\n",
                "plt.plot([true_values.min(), true_values.max()], [true_values.min(), true_values.max()], 'r--', lw=2)\n",
                "plt.xlabel('True Values')\n",
                "plt.ylabel('Predictions')\n",
                "plt.title('True Values vs Predictions')\n",
                "plt.tight_layout()\n",
                "plt.show()"
            ]
        },
        {
            "cell_type": "code",
            "execution_count": 22,
            "metadata": {},
            "outputs": [
                {
                    "name": "stderr",
                    "output_type": "stream",
                    "text": [
                        "/home/marek/miniforge3/envs/mgr/lib/python3.11/site-packages/tqdm/auto.py:21: TqdmWarning: IProgress not found. Please update jupyter and ipywidgets. See https://ipywidgets.readthedocs.io/en/stable/user_install.html\n",
                        "  from .autonotebook import tqdm as notebook_tqdm\n"
                    ]
                }
            ],
            "source": [
                "import optuna\n",
                "from optuna.trial import TrialState"
            ]
        },
        {
            "cell_type": "code",
            "execution_count": 23,
            "metadata": {},
            "outputs": [],
            "source": [
                "def objective(trial):\n",
                "    # Define the hyperparameters to tune\n",
                "    config = ModelConfig(\n",
                "        input_size=50,  # Assuming this is fixed\n",
                "        hidden_size=trial.suggest_int('hidden_size', 32, 256),\n",
                "        num_layers=trial.suggest_int('num_layers', 1, 3),\n",
                "        fc1_size=trial.suggest_int('fc1_size', 32, 256),\n",
                "        fc2_size=trial.suggest_int('fc2_size', 16, 128),\n",
                "        bidirectional=trial.suggest_categorical('bidirectional', [True, False]),\n",
                "        dropout=trial.suggest_float('dropout', 0.1, 0.5)\n",
                "    )\n",
                "    \n",
                "    learning_rate = trial.suggest_float('learning_rate', 1e-5, 1e-1, log=True)\n",
                "    batch_size = trial.suggest_categorical('batch_size', [16, 32, 64, 128])\n",
                "\n",
                "    # Create model with the suggested hyperparameters\n",
                "    model = AsteroidLSTM(config)\n",
                "\n",
                "    # Train the model\n",
                "    best_model = train_model(model, X_train, y_train, X_val, y_val, batch_size, num_epochs=200, learning_rate=learning_rate)\n",
                "\n",
                "    # Evaluate the model\n",
                "    _, _, mae, _, _, _ = evaluate_model(best_model, X_val, y_val, batch_size)\n",
                "\n",
                "    return mae\n"
            ]
        },
        {
            "cell_type": "code",
            "execution_count": 24,
            "metadata": {},
            "outputs": [
                {
                    "name": "stderr",
                    "output_type": "stream",
                    "text": [
                        "[I 2024-06-22 16:59:37,201] A new study created in memory with name: no-name-275b6cc6-76b2-49d7-a95c-5a56eddbefbd\n",
                        "/home/marek/miniforge3/envs/mgr/lib/python3.11/site-packages/torch/nn/modules/rnn.py:83: UserWarning: dropout option adds dropout after all but last recurrent layer, so non-zero dropout expects num_layers greater than 1, but got dropout=0.46360156540011477 and num_layers=1\n",
                        "  warnings.warn(\"dropout option adds dropout after all but last \"\n",
                        "[I 2024-06-22 16:59:38,116] Trial 0 finished with value: 1.9480981826782227 and parameters: {'hidden_size': 163, 'num_layers': 1, 'fc1_size': 218, 'fc2_size': 43, 'bidirectional': False, 'dropout': 0.46360156540011477, 'learning_rate': 0.0005133720693293112, 'batch_size': 128}. Best is trial 0 with value: 1.9480981826782227.\n"
                    ]
                },
                {
                    "name": "stdout",
                    "output_type": "stream",
                    "text": [
                        "Test MSE: 6.0287\n",
                        "Test RMSE: 2.4553\n",
                        "Test MAE: 1.9481\n",
                        "Test R2 Score: -0.2748\n"
                    ]
                },
                {
                    "name": "stderr",
                    "output_type": "stream",
                    "text": [
                        "[I 2024-06-22 16:59:40,419] Trial 1 finished with value: 2.327924966812134 and parameters: {'hidden_size': 145, 'num_layers': 3, 'fc1_size': 248, 'fc2_size': 103, 'bidirectional': True, 'dropout': 0.45147674349457523, 'learning_rate': 5.347998516491998e-05, 'batch_size': 64}. Best is trial 0 with value: 1.9480981826782227.\n"
                    ]
                },
                {
                    "name": "stdout",
                    "output_type": "stream",
                    "text": [
                        "Test MSE: 7.9090\n",
                        "Test RMSE: 2.8123\n",
                        "Test MAE: 2.3279\n",
                        "Test R2 Score: -0.6724\n"
                    ]
                },
                {
                    "name": "stderr",
                    "output_type": "stream",
                    "text": [
                        "[I 2024-06-22 16:59:42,416] Trial 2 finished with value: 1.639225959777832 and parameters: {'hidden_size': 80, 'num_layers': 3, 'fc1_size': 134, 'fc2_size': 74, 'bidirectional': True, 'dropout': 0.46561431111707907, 'learning_rate': 0.00044262256300616967, 'batch_size': 64}. Best is trial 2 with value: 1.639225959777832.\n"
                    ]
                },
                {
                    "name": "stdout",
                    "output_type": "stream",
                    "text": [
                        "Test MSE: 3.8900\n",
                        "Test RMSE: 1.9723\n",
                        "Test MAE: 1.6392\n",
                        "Test R2 Score: 0.1774\n"
                    ]
                },
                {
                    "name": "stderr",
                    "output_type": "stream",
                    "text": [
                        "[I 2024-06-22 16:59:46,348] Trial 3 finished with value: 1.492121934890747 and parameters: {'hidden_size': 137, 'num_layers': 3, 'fc1_size': 76, 'fc2_size': 89, 'bidirectional': True, 'dropout': 0.17269038579882437, 'learning_rate': 0.0006680329028211281, 'batch_size': 32}. Best is trial 3 with value: 1.492121934890747.\n"
                    ]
                },
                {
                    "name": "stdout",
                    "output_type": "stream",
                    "text": [
                        "Test MSE: 3.1796\n",
                        "Test RMSE: 1.7831\n",
                        "Test MAE: 1.4921\n",
                        "Test R2 Score: 0.3277\n"
                    ]
                },
                {
                    "name": "stderr",
                    "output_type": "stream",
                    "text": [
                        "[I 2024-06-22 16:59:51,916] Trial 4 finished with value: 1.7498517036437988 and parameters: {'hidden_size': 249, 'num_layers': 2, 'fc1_size': 51, 'fc2_size': 30, 'bidirectional': False, 'dropout': 0.4657355167423325, 'learning_rate': 0.0055398130465371285, 'batch_size': 16}. Best is trial 3 with value: 1.492121934890747.\n"
                    ]
                },
                {
                    "name": "stdout",
                    "output_type": "stream",
                    "text": [
                        "Test MSE: 4.5829\n",
                        "Test RMSE: 2.1408\n",
                        "Test MAE: 1.7499\n",
                        "Test R2 Score: 0.0309\n"
                    ]
                },
                {
                    "name": "stderr",
                    "output_type": "stream",
                    "text": [
                        "[I 2024-06-22 16:59:57,283] Trial 5 finished with value: 1.7727352380752563 and parameters: {'hidden_size': 48, 'num_layers': 3, 'fc1_size': 174, 'fc2_size': 68, 'bidirectional': False, 'dropout': 0.3464178880220391, 'learning_rate': 0.07756346184650902, 'batch_size': 16}. Best is trial 3 with value: 1.492121934890747.\n"
                    ]
                },
                {
                    "name": "stdout",
                    "output_type": "stream",
                    "text": [
                        "Test MSE: 4.6828\n",
                        "Test RMSE: 2.1640\n",
                        "Test MAE: 1.7727\n",
                        "Test R2 Score: 0.0098\n"
                    ]
                },
                {
                    "name": "stderr",
                    "output_type": "stream",
                    "text": [
                        "[I 2024-06-22 16:59:58,222] Trial 6 finished with value: 1.7426501512527466 and parameters: {'hidden_size': 160, 'num_layers': 3, 'fc1_size': 72, 'fc2_size': 79, 'bidirectional': False, 'dropout': 0.45963769104489394, 'learning_rate': 0.009318801953769629, 'batch_size': 128}. Best is trial 3 with value: 1.492121934890747.\n"
                    ]
                },
                {
                    "name": "stdout",
                    "output_type": "stream",
                    "text": [
                        "Test MSE: 4.3807\n",
                        "Test RMSE: 2.0930\n",
                        "Test MAE: 1.7427\n",
                        "Test R2 Score: 0.0737\n"
                    ]
                },
                {
                    "name": "stderr",
                    "output_type": "stream",
                    "text": [
                        "[I 2024-06-22 17:00:02,913] Trial 7 finished with value: 1.838261604309082 and parameters: {'hidden_size': 200, 'num_layers': 3, 'fc1_size': 134, 'fc2_size': 79, 'bidirectional': True, 'dropout': 0.206916287586281, 'learning_rate': 0.0785514393846314, 'batch_size': 32}. Best is trial 3 with value: 1.492121934890747.\n"
                    ]
                },
                {
                    "name": "stdout",
                    "output_type": "stream",
                    "text": [
                        "Test MSE: 4.8035\n",
                        "Test RMSE: 2.1917\n",
                        "Test MAE: 1.8383\n",
                        "Test R2 Score: -0.0157\n"
                    ]
                },
                {
                    "name": "stderr",
                    "output_type": "stream",
                    "text": [
                        "/home/marek/miniforge3/envs/mgr/lib/python3.11/site-packages/torch/nn/modules/rnn.py:83: UserWarning: dropout option adds dropout after all but last recurrent layer, so non-zero dropout expects num_layers greater than 1, but got dropout=0.4846273580715067 and num_layers=1\n",
                        "  warnings.warn(\"dropout option adds dropout after all but last \"\n",
                        "[I 2024-06-22 17:00:03,811] Trial 8 finished with value: 1.7664391994476318 and parameters: {'hidden_size': 83, 'num_layers': 1, 'fc1_size': 176, 'fc2_size': 29, 'bidirectional': True, 'dropout': 0.4846273580715067, 'learning_rate': 0.007151909737753669, 'batch_size': 128}. Best is trial 3 with value: 1.492121934890747.\n"
                    ]
                },
                {
                    "name": "stdout",
                    "output_type": "stream",
                    "text": [
                        "Test MSE: 4.7141\n",
                        "Test RMSE: 2.1712\n",
                        "Test MAE: 1.7664\n",
                        "Test R2 Score: 0.0032\n"
                    ]
                },
                {
                    "name": "stderr",
                    "output_type": "stream",
                    "text": [
                        "[I 2024-06-22 17:00:06,660] Trial 9 finished with value: 1.550919771194458 and parameters: {'hidden_size': 244, 'num_layers': 2, 'fc1_size': 206, 'fc2_size': 43, 'bidirectional': False, 'dropout': 0.2900436734895644, 'learning_rate': 0.0013686414988884244, 'batch_size': 32}. Best is trial 3 with value: 1.492121934890747.\n"
                    ]
                },
                {
                    "name": "stdout",
                    "output_type": "stream",
                    "text": [
                        "Test MSE: 3.2303\n",
                        "Test RMSE: 1.7973\n",
                        "Test MAE: 1.5509\n",
                        "Test R2 Score: 0.3169\n"
                    ]
                },
                {
                    "name": "stderr",
                    "output_type": "stream",
                    "text": [
                        "[I 2024-06-22 17:00:10,044] Trial 10 finished with value: 2.4117870330810547 and parameters: {'hidden_size': 101, 'num_layers': 2, 'fc1_size': 89, 'fc2_size': 123, 'bidirectional': True, 'dropout': 0.11603567822140898, 'learning_rate': 1.6542021593919237e-05, 'batch_size': 32}. Best is trial 3 with value: 1.492121934890747.\n"
                    ]
                },
                {
                    "name": "stdout",
                    "output_type": "stream",
                    "text": [
                        "Test MSE: 9.4148\n",
                        "Test RMSE: 3.0683\n",
                        "Test MAE: 2.4118\n",
                        "Test R2 Score: -0.9908\n"
                    ]
                },
                {
                    "name": "stderr",
                    "output_type": "stream",
                    "text": [
                        "[I 2024-06-22 17:00:13,037] Trial 11 finished with value: 1.9681212902069092 and parameters: {'hidden_size': 247, 'num_layers': 2, 'fc1_size': 32, 'fc2_size': 56, 'bidirectional': False, 'dropout': 0.2585672570489195, 'learning_rate': 0.00016150306108518952, 'batch_size': 32}. Best is trial 3 with value: 1.492121934890747.\n"
                    ]
                },
                {
                    "name": "stdout",
                    "output_type": "stream",
                    "text": [
                        "Test MSE: 5.6580\n",
                        "Test RMSE: 2.3786\n",
                        "Test MAE: 1.9681\n",
                        "Test R2 Score: -0.1964\n"
                    ]
                },
                {
                    "name": "stderr",
                    "output_type": "stream",
                    "text": [
                        "[I 2024-06-22 17:00:16,740] Trial 12 finished with value: 1.557310938835144 and parameters: {'hidden_size': 206, 'num_layers': 2, 'fc1_size': 104, 'fc2_size': 104, 'bidirectional': True, 'dropout': 0.16930249265517755, 'learning_rate': 0.0017612282531596405, 'batch_size': 32}. Best is trial 3 with value: 1.492121934890747.\n"
                    ]
                },
                {
                    "name": "stdout",
                    "output_type": "stream",
                    "text": [
                        "Test MSE: 3.8210\n",
                        "Test RMSE: 1.9548\n",
                        "Test MAE: 1.5573\n",
                        "Test R2 Score: 0.1920\n"
                    ]
                },
                {
                    "name": "stderr",
                    "output_type": "stream",
                    "text": [
                        "/home/marek/miniforge3/envs/mgr/lib/python3.11/site-packages/torch/nn/modules/rnn.py:83: UserWarning: dropout option adds dropout after all but last recurrent layer, so non-zero dropout expects num_layers greater than 1, but got dropout=0.2989357171536844 and num_layers=1\n",
                        "  warnings.warn(\"dropout option adds dropout after all but last \"\n",
                        "[I 2024-06-22 17:00:19,201] Trial 13 finished with value: 1.522722840309143 and parameters: {'hidden_size': 195, 'num_layers': 1, 'fc1_size': 198, 'fc2_size': 103, 'bidirectional': False, 'dropout': 0.2989357171536844, 'learning_rate': 0.0017190722838485736, 'batch_size': 32}. Best is trial 3 with value: 1.492121934890747.\n"
                    ]
                },
                {
                    "name": "stdout",
                    "output_type": "stream",
                    "text": [
                        "Test MSE: 4.1618\n",
                        "Test RMSE: 2.0400\n",
                        "Test MAE: 1.5227\n",
                        "Test R2 Score: 0.1200\n"
                    ]
                },
                {
                    "name": "stderr",
                    "output_type": "stream",
                    "text": [
                        "/home/marek/miniforge3/envs/mgr/lib/python3.11/site-packages/torch/nn/modules/rnn.py:83: UserWarning: dropout option adds dropout after all but last recurrent layer, so non-zero dropout expects num_layers greater than 1, but got dropout=0.3675819073687911 and num_layers=1\n",
                        "  warnings.warn(\"dropout option adds dropout after all but last \"\n",
                        "[I 2024-06-22 17:00:22,089] Trial 14 finished with value: 1.958186149597168 and parameters: {'hidden_size': 194, 'num_layers': 1, 'fc1_size': 154, 'fc2_size': 99, 'bidirectional': True, 'dropout': 0.3675819073687911, 'learning_rate': 0.00014198802300014596, 'batch_size': 32}. Best is trial 3 with value: 1.492121934890747.\n"
                    ]
                },
                {
                    "name": "stdout",
                    "output_type": "stream",
                    "text": [
                        "Test MSE: 5.8498\n",
                        "Test RMSE: 2.4186\n",
                        "Test MAE: 1.9582\n",
                        "Test R2 Score: -0.2370\n"
                    ]
                },
                {
                    "name": "stderr",
                    "output_type": "stream",
                    "text": [
                        "/home/marek/miniforge3/envs/mgr/lib/python3.11/site-packages/torch/nn/modules/rnn.py:83: UserWarning: dropout option adds dropout after all but last recurrent layer, so non-zero dropout expects num_layers greater than 1, but got dropout=0.24577486052105785 and num_layers=1\n",
                        "  warnings.warn(\"dropout option adds dropout after all but last \"\n",
                        "[I 2024-06-22 17:00:24,552] Trial 15 finished with value: 1.5431194305419922 and parameters: {'hidden_size': 104, 'num_layers': 1, 'fc1_size': 115, 'fc2_size': 121, 'bidirectional': False, 'dropout': 0.24577486052105785, 'learning_rate': 0.00320781244105386, 'batch_size': 32}. Best is trial 3 with value: 1.492121934890747.\n"
                    ]
                },
                {
                    "name": "stdout",
                    "output_type": "stream",
                    "text": [
                        "Test MSE: 3.9644\n",
                        "Test RMSE: 1.9911\n",
                        "Test MAE: 1.5431\n",
                        "Test R2 Score: 0.1617\n"
                    ]
                },
                {
                    "name": "stderr",
                    "output_type": "stream",
                    "text": [
                        "/home/marek/miniforge3/envs/mgr/lib/python3.11/site-packages/torch/nn/modules/rnn.py:83: UserWarning: dropout option adds dropout after all but last recurrent layer, so non-zero dropout expects num_layers greater than 1, but got dropout=0.10171792999063795 and num_layers=1\n",
                        "  warnings.warn(\"dropout option adds dropout after all but last \"\n",
                        "[I 2024-06-22 17:00:27,425] Trial 16 finished with value: 1.6609234809875488 and parameters: {'hidden_size': 125, 'num_layers': 1, 'fc1_size': 208, 'fc2_size': 90, 'bidirectional': True, 'dropout': 0.10171792999063795, 'learning_rate': 0.02087541699590732, 'batch_size': 32}. Best is trial 3 with value: 1.492121934890747.\n"
                    ]
                },
                {
                    "name": "stdout",
                    "output_type": "stream",
                    "text": [
                        "Test MSE: 3.5811\n",
                        "Test RMSE: 1.8924\n",
                        "Test MAE: 1.6609\n",
                        "Test R2 Score: 0.2428\n"
                    ]
                },
                {
                    "name": "stderr",
                    "output_type": "stream",
                    "text": [
                        "[I 2024-06-22 17:00:28,911] Trial 17 finished with value: 1.5871628522872925 and parameters: {'hidden_size': 179, 'num_layers': 2, 'fc1_size': 255, 'fc2_size': 114, 'bidirectional': False, 'dropout': 0.3652236922542259, 'learning_rate': 0.0005335120293452649, 'batch_size': 64}. Best is trial 3 with value: 1.492121934890747.\n"
                    ]
                },
                {
                    "name": "stdout",
                    "output_type": "stream",
                    "text": [
                        "Test MSE: 3.3266\n",
                        "Test RMSE: 1.8239\n",
                        "Test MAE: 1.5872\n",
                        "Test R2 Score: 0.2966\n"
                    ]
                },
                {
                    "name": "stderr",
                    "output_type": "stream",
                    "text": [
                        "[I 2024-06-22 17:00:38,764] Trial 18 finished with value: 1.8961931467056274 and parameters: {'hidden_size': 216, 'num_layers': 3, 'fc1_size': 180, 'fc2_size': 91, 'bidirectional': True, 'dropout': 0.16198800631357935, 'learning_rate': 0.00012276323719277198, 'batch_size': 16}. Best is trial 3 with value: 1.492121934890747.\n"
                    ]
                },
                {
                    "name": "stdout",
                    "output_type": "stream",
                    "text": [
                        "Test MSE: 5.3392\n",
                        "Test RMSE: 2.3107\n",
                        "Test MAE: 1.8962\n",
                        "Test R2 Score: -0.1290\n"
                    ]
                },
                {
                    "name": "stderr",
                    "output_type": "stream",
                    "text": [
                        "/home/marek/miniforge3/envs/mgr/lib/python3.11/site-packages/torch/nn/modules/rnn.py:83: UserWarning: dropout option adds dropout after all but last recurrent layer, so non-zero dropout expects num_layers greater than 1, but got dropout=0.3209866283540321 and num_layers=1\n",
                        "  warnings.warn(\"dropout option adds dropout after all but last \"\n",
                        "[I 2024-06-22 17:00:41,375] Trial 19 finished with value: 3.8359482288360596 and parameters: {'hidden_size': 133, 'num_layers': 1, 'fc1_size': 62, 'fc2_size': 62, 'bidirectional': False, 'dropout': 0.3209866283540321, 'learning_rate': 1.30745430799493e-05, 'batch_size': 32}. Best is trial 3 with value: 1.492121934890747.\n"
                    ]
                },
                {
                    "name": "stdout",
                    "output_type": "stream",
                    "text": [
                        "Test MSE: 21.4448\n",
                        "Test RMSE: 4.6308\n",
                        "Test MAE: 3.8359\n",
                        "Test R2 Score: -3.5347\n"
                    ]
                },
                {
                    "name": "stderr",
                    "output_type": "stream",
                    "text": [
                        "[I 2024-06-22 17:00:44,134] Trial 20 finished with value: 1.7500219345092773 and parameters: {'hidden_size': 222, 'num_layers': 2, 'fc1_size': 152, 'fc2_size': 88, 'bidirectional': False, 'dropout': 0.41075119390024956, 'learning_rate': 0.020902058845422587, 'batch_size': 32}. Best is trial 3 with value: 1.492121934890747.\n"
                    ]
                },
                {
                    "name": "stdout",
                    "output_type": "stream",
                    "text": [
                        "Test MSE: 4.5103\n",
                        "Test RMSE: 2.1237\n",
                        "Test MAE: 1.7500\n",
                        "Test R2 Score: 0.0463\n"
                    ]
                },
                {
                    "name": "stderr",
                    "output_type": "stream",
                    "text": [
                        "/home/marek/miniforge3/envs/mgr/lib/python3.11/site-packages/torch/nn/modules/rnn.py:83: UserWarning: dropout option adds dropout after all but last recurrent layer, so non-zero dropout expects num_layers greater than 1, but got dropout=0.2434172761013567 and num_layers=1\n",
                        "  warnings.warn(\"dropout option adds dropout after all but last \"\n",
                        "[I 2024-06-22 17:00:46,677] Trial 21 finished with value: 1.7352410554885864 and parameters: {'hidden_size': 110, 'num_layers': 1, 'fc1_size': 108, 'fc2_size': 127, 'bidirectional': False, 'dropout': 0.2434172761013567, 'learning_rate': 0.002642011520532896, 'batch_size': 32}. Best is trial 3 with value: 1.492121934890747.\n"
                    ]
                },
                {
                    "name": "stdout",
                    "output_type": "stream",
                    "text": [
                        "Test MSE: 4.5582\n",
                        "Test RMSE: 2.1350\n",
                        "Test MAE: 1.7352\n",
                        "Test R2 Score: 0.0361\n"
                    ]
                },
                {
                    "name": "stderr",
                    "output_type": "stream",
                    "text": [
                        "/home/marek/miniforge3/envs/mgr/lib/python3.11/site-packages/torch/nn/modules/rnn.py:83: UserWarning: dropout option adds dropout after all but last recurrent layer, so non-zero dropout expects num_layers greater than 1, but got dropout=0.22030147123266236 and num_layers=1\n",
                        "  warnings.warn(\"dropout option adds dropout after all but last \"\n",
                        "[I 2024-06-22 17:00:49,294] Trial 22 finished with value: 1.7075026035308838 and parameters: {'hidden_size': 43, 'num_layers': 1, 'fc1_size': 114, 'fc2_size': 114, 'bidirectional': False, 'dropout': 0.22030147123266236, 'learning_rate': 0.0026585539825163033, 'batch_size': 32}. Best is trial 3 with value: 1.492121934890747.\n"
                    ]
                },
                {
                    "name": "stdout",
                    "output_type": "stream",
                    "text": [
                        "Test MSE: 3.9353\n",
                        "Test RMSE: 1.9838\n",
                        "Test MAE: 1.7075\n",
                        "Test R2 Score: 0.1679\n"
                    ]
                },
                {
                    "name": "stderr",
                    "output_type": "stream",
                    "text": [
                        "/home/marek/miniforge3/envs/mgr/lib/python3.11/site-packages/torch/nn/modules/rnn.py:83: UserWarning: dropout option adds dropout after all but last recurrent layer, so non-zero dropout expects num_layers greater than 1, but got dropout=0.2780071566606313 and num_layers=1\n",
                        "  warnings.warn(\"dropout option adds dropout after all but last \"\n",
                        "[I 2024-06-22 17:00:51,934] Trial 23 finished with value: 1.7865042686462402 and parameters: {'hidden_size': 152, 'num_layers': 1, 'fc1_size': 83, 'fc2_size': 117, 'bidirectional': False, 'dropout': 0.2780071566606313, 'learning_rate': 0.000675849102882954, 'batch_size': 32}. Best is trial 3 with value: 1.492121934890747.\n"
                    ]
                },
                {
                    "name": "stdout",
                    "output_type": "stream",
                    "text": [
                        "Test MSE: 4.7819\n",
                        "Test RMSE: 2.1868\n",
                        "Test MAE: 1.7865\n",
                        "Test R2 Score: -0.0112\n"
                    ]
                },
                {
                    "name": "stderr",
                    "output_type": "stream",
                    "text": [
                        "/home/marek/miniforge3/envs/mgr/lib/python3.11/site-packages/torch/nn/modules/rnn.py:83: UserWarning: dropout option adds dropout after all but last recurrent layer, so non-zero dropout expects num_layers greater than 1, but got dropout=0.19179324031728026 and num_layers=1\n",
                        "  warnings.warn(\"dropout option adds dropout after all but last \"\n",
                        "[I 2024-06-22 17:00:54,499] Trial 24 finished with value: 1.4496734142303467 and parameters: {'hidden_size': 177, 'num_layers': 1, 'fc1_size': 114, 'fc2_size': 109, 'bidirectional': False, 'dropout': 0.19179324031728026, 'learning_rate': 0.0030051065527327636, 'batch_size': 32}. Best is trial 24 with value: 1.4496734142303467.\n"
                    ]
                },
                {
                    "name": "stdout",
                    "output_type": "stream",
                    "text": [
                        "Test MSE: 3.1238\n",
                        "Test RMSE: 1.7674\n",
                        "Test MAE: 1.4497\n",
                        "Test R2 Score: 0.3395\n"
                    ]
                },
                {
                    "name": "stderr",
                    "output_type": "stream",
                    "text": [
                        "/home/marek/miniforge3/envs/mgr/lib/python3.11/site-packages/torch/nn/modules/rnn.py:83: UserWarning: dropout option adds dropout after all but last recurrent layer, so non-zero dropout expects num_layers greater than 1, but got dropout=0.16918625058127418 and num_layers=1\n",
                        "  warnings.warn(\"dropout option adds dropout after all but last \"\n",
                        "[I 2024-06-22 17:00:57,107] Trial 25 finished with value: 2.038983106613159 and parameters: {'hidden_size': 177, 'num_layers': 1, 'fc1_size': 91, 'fc2_size': 108, 'bidirectional': False, 'dropout': 0.16918625058127418, 'learning_rate': 0.00025776914421680926, 'batch_size': 32}. Best is trial 24 with value: 1.4496734142303467.\n"
                    ]
                },
                {
                    "name": "stdout",
                    "output_type": "stream",
                    "text": [
                        "Test MSE: 6.7314\n",
                        "Test RMSE: 2.5945\n",
                        "Test MAE: 2.0390\n",
                        "Test R2 Score: -0.4234\n"
                    ]
                },
                {
                    "name": "stderr",
                    "output_type": "stream",
                    "text": [
                        "[I 2024-06-22 17:00:58,945] Trial 26 finished with value: 1.7481238842010498 and parameters: {'hidden_size': 177, 'num_layers': 2, 'fc1_size': 228, 'fc2_size': 94, 'bidirectional': True, 'dropout': 0.13845822056171617, 'learning_rate': 0.0011408938965530725, 'batch_size': 64}. Best is trial 24 with value: 1.4496734142303467.\n"
                    ]
                },
                {
                    "name": "stdout",
                    "output_type": "stream",
                    "text": [
                        "Test MSE: 4.2568\n",
                        "Test RMSE: 2.0632\n",
                        "Test MAE: 1.7481\n",
                        "Test R2 Score: 0.0999\n"
                    ]
                },
                {
                    "name": "stderr",
                    "output_type": "stream",
                    "text": [
                        "/home/marek/miniforge3/envs/mgr/lib/python3.11/site-packages/torch/nn/modules/rnn.py:83: UserWarning: dropout option adds dropout after all but last recurrent layer, so non-zero dropout expects num_layers greater than 1, but got dropout=0.19949569445256152 and num_layers=1\n",
                        "  warnings.warn(\"dropout option adds dropout after all but last \"\n",
                        "[I 2024-06-22 17:01:03,821] Trial 27 finished with value: 2.3983120918273926 and parameters: {'hidden_size': 130, 'num_layers': 1, 'fc1_size': 45, 'fc2_size': 83, 'bidirectional': False, 'dropout': 0.19949569445256152, 'learning_rate': 4.3458025020829866e-05, 'batch_size': 16}. Best is trial 24 with value: 1.4496734142303467.\n"
                    ]
                },
                {
                    "name": "stdout",
                    "output_type": "stream",
                    "text": [
                        "Test MSE: 8.8469\n",
                        "Test RMSE: 2.9744\n",
                        "Test MAE: 2.3983\n",
                        "Test R2 Score: -0.8708\n"
                    ]
                },
                {
                    "name": "stderr",
                    "output_type": "stream",
                    "text": [
                        "[I 2024-06-22 17:01:05,549] Trial 28 finished with value: 1.5035377740859985 and parameters: {'hidden_size': 226, 'num_layers': 3, 'fc1_size': 190, 'fc2_size': 109, 'bidirectional': True, 'dropout': 0.3107113577138636, 'learning_rate': 0.02172041374004019, 'batch_size': 128}. Best is trial 24 with value: 1.4496734142303467.\n"
                    ]
                },
                {
                    "name": "stdout",
                    "output_type": "stream",
                    "text": [
                        "Test MSE: 3.1848\n",
                        "Test RMSE: 1.7846\n",
                        "Test MAE: 1.5035\n",
                        "Test R2 Score: 0.3266\n"
                    ]
                },
                {
                    "name": "stderr",
                    "output_type": "stream",
                    "text": [
                        "[I 2024-06-22 17:01:07,358] Trial 29 finished with value: 1.794289231300354 and parameters: {'hidden_size': 230, 'num_layers': 3, 'fc1_size': 137, 'fc2_size': 109, 'bidirectional': True, 'dropout': 0.13626422313367131, 'learning_rate': 0.020833951474906638, 'batch_size': 128}. Best is trial 24 with value: 1.4496734142303467.\n"
                    ]
                },
                {
                    "name": "stdout",
                    "output_type": "stream",
                    "text": [
                        "Test MSE: 4.6289\n",
                        "Test RMSE: 2.1515\n",
                        "Test MAE: 1.7943\n",
                        "Test R2 Score: 0.0212\n"
                    ]
                },
                {
                    "name": "stderr",
                    "output_type": "stream",
                    "text": [
                        "[I 2024-06-22 17:01:08,727] Trial 30 finished with value: 1.5159085988998413 and parameters: {'hidden_size': 164, 'num_layers': 3, 'fc1_size': 230, 'fc2_size': 53, 'bidirectional': True, 'dropout': 0.32446782913464767, 'learning_rate': 0.04070679988718762, 'batch_size': 128}. Best is trial 24 with value: 1.4496734142303467.\n"
                    ]
                },
                {
                    "name": "stdout",
                    "output_type": "stream",
                    "text": [
                        "Test MSE: 3.3779\n",
                        "Test RMSE: 1.8379\n",
                        "Test MAE: 1.5159\n",
                        "Test R2 Score: 0.2857\n"
                    ]
                },
                {
                    "name": "stderr",
                    "output_type": "stream",
                    "text": [
                        "[I 2024-06-22 17:01:10,105] Trial 31 finished with value: 1.4828732013702393 and parameters: {'hidden_size': 165, 'num_layers': 3, 'fc1_size': 231, 'fc2_size': 52, 'bidirectional': True, 'dropout': 0.32903550738329557, 'learning_rate': 0.037013270065024285, 'batch_size': 128}. Best is trial 24 with value: 1.4496734142303467.\n"
                    ]
                },
                {
                    "name": "stdout",
                    "output_type": "stream",
                    "text": [
                        "Test MSE: 3.1403\n",
                        "Test RMSE: 1.7721\n",
                        "Test MAE: 1.4829\n",
                        "Test R2 Score: 0.3360\n"
                    ]
                },
                {
                    "name": "stderr",
                    "output_type": "stream",
                    "text": [
                        "[I 2024-06-22 17:01:11,488] Trial 32 finished with value: 1.6194976568222046 and parameters: {'hidden_size': 170, 'num_layers': 3, 'fc1_size': 238, 'fc2_size': 37, 'bidirectional': True, 'dropout': 0.37958688847470495, 'learning_rate': 0.011415975277395534, 'batch_size': 128}. Best is trial 24 with value: 1.4496734142303467.\n"
                    ]
                },
                {
                    "name": "stdout",
                    "output_type": "stream",
                    "text": [
                        "Test MSE: 3.6105\n",
                        "Test RMSE: 1.9001\n",
                        "Test MAE: 1.6195\n",
                        "Test R2 Score: 0.2365\n"
                    ]
                },
                {
                    "name": "stderr",
                    "output_type": "stream",
                    "text": [
                        "[I 2024-06-22 17:01:12,779] Trial 33 finished with value: 1.7456059455871582 and parameters: {'hidden_size': 150, 'num_layers': 3, 'fc1_size': 191, 'fc2_size': 97, 'bidirectional': True, 'dropout': 0.4234022082226808, 'learning_rate': 0.04004146823426951, 'batch_size': 128}. Best is trial 24 with value: 1.4496734142303467.\n"
                    ]
                },
                {
                    "name": "stdout",
                    "output_type": "stream",
                    "text": [
                        "Test MSE: 4.3687\n",
                        "Test RMSE: 2.0901\n",
                        "Test MAE: 1.7456\n",
                        "Test R2 Score: 0.0762\n"
                    ]
                },
                {
                    "name": "stderr",
                    "output_type": "stream",
                    "text": [
                        "[I 2024-06-22 17:01:14,062] Trial 34 finished with value: 1.6212186813354492 and parameters: {'hidden_size': 140, 'num_layers': 3, 'fc1_size': 218, 'fc2_size': 70, 'bidirectional': True, 'dropout': 0.3219900771627947, 'learning_rate': 0.00379720818155749, 'batch_size': 128}. Best is trial 24 with value: 1.4496734142303467.\n"
                    ]
                },
                {
                    "name": "stdout",
                    "output_type": "stream",
                    "text": [
                        "Test MSE: 3.4941\n",
                        "Test RMSE: 1.8692\n",
                        "Test MAE: 1.6212\n",
                        "Test R2 Score: 0.2612\n"
                    ]
                },
                {
                    "name": "stderr",
                    "output_type": "stream",
                    "text": [
                        "[I 2024-06-22 17:01:15,487] Trial 35 finished with value: 1.7635269165039062 and parameters: {'hidden_size': 187, 'num_layers': 3, 'fc1_size': 125, 'fc2_size': 49, 'bidirectional': True, 'dropout': 0.2696802890513266, 'learning_rate': 0.04003316640177383, 'batch_size': 128}. Best is trial 24 with value: 1.4496734142303467.\n"
                    ]
                },
                {
                    "name": "stdout",
                    "output_type": "stream",
                    "text": [
                        "Test MSE: 4.6088\n",
                        "Test RMSE: 2.1468\n",
                        "Test MAE: 1.7635\n",
                        "Test R2 Score: 0.0254\n"
                    ]
                },
                {
                    "name": "stderr",
                    "output_type": "stream",
                    "text": [
                        "[I 2024-06-22 17:01:17,196] Trial 36 finished with value: 1.8345308303833008 and parameters: {'hidden_size': 231, 'num_layers': 3, 'fc1_size': 162, 'fc2_size': 22, 'bidirectional': True, 'dropout': 0.22696669301236821, 'learning_rate': 0.012007997546723078, 'batch_size': 128}. Best is trial 24 with value: 1.4496734142303467.\n"
                    ]
                },
                {
                    "name": "stdout",
                    "output_type": "stream",
                    "text": [
                        "Test MSE: 4.7883\n",
                        "Test RMSE: 2.1882\n",
                        "Test MAE: 1.8345\n",
                        "Test R2 Score: -0.0125\n"
                    ]
                },
                {
                    "name": "stderr",
                    "output_type": "stream",
                    "text": [
                        "[I 2024-06-22 17:01:19,266] Trial 37 finished with value: 1.5523091554641724 and parameters: {'hidden_size': 122, 'num_layers': 3, 'fc1_size': 74, 'fc2_size': 83, 'bidirectional': True, 'dropout': 0.18960072363954833, 'learning_rate': 0.005165541980046223, 'batch_size': 64}. Best is trial 24 with value: 1.4496734142303467.\n"
                    ]
                },
                {
                    "name": "stdout",
                    "output_type": "stream",
                    "text": [
                        "Test MSE: 3.2650\n",
                        "Test RMSE: 1.8069\n",
                        "Test MAE: 1.5523\n",
                        "Test R2 Score: 0.3096\n"
                    ]
                },
                {
                    "name": "stderr",
                    "output_type": "stream",
                    "text": [
                        "[I 2024-06-22 17:01:20,616] Trial 38 finished with value: 1.9315645694732666 and parameters: {'hidden_size': 157, 'num_layers': 3, 'fc1_size': 97, 'fc2_size': 75, 'bidirectional': True, 'dropout': 0.34127517594569884, 'learning_rate': 0.00033916647346525703, 'batch_size': 128}. Best is trial 24 with value: 1.4496734142303467.\n"
                    ]
                },
                {
                    "name": "stdout",
                    "output_type": "stream",
                    "text": [
                        "Test MSE: 5.4853\n",
                        "Test RMSE: 2.3421\n",
                        "Test MAE: 1.9316\n",
                        "Test R2 Score: -0.1599\n"
                    ]
                },
                {
                    "name": "stderr",
                    "output_type": "stream",
                    "text": [
                        "[I 2024-06-22 17:01:32,452] Trial 39 finished with value: 1.4801875352859497 and parameters: {'hidden_size': 256, 'num_layers': 3, 'fc1_size': 239, 'fc2_size': 63, 'bidirectional': True, 'dropout': 0.42077610314065816, 'learning_rate': 0.0007968306034195894, 'batch_size': 16}. Best is trial 24 with value: 1.4496734142303467.\n"
                    ]
                },
                {
                    "name": "stdout",
                    "output_type": "stream",
                    "text": [
                        "Test MSE: 3.4231\n",
                        "Test RMSE: 1.8502\n",
                        "Test MAE: 1.4802\n",
                        "Test R2 Score: 0.2762\n"
                    ]
                },
                {
                    "name": "stderr",
                    "output_type": "stream",
                    "text": [
                        "[I 2024-06-22 17:01:38,702] Trial 40 finished with value: 1.4417904615402222 and parameters: {'hidden_size': 59, 'num_layers': 2, 'fc1_size': 256, 'fc2_size': 61, 'bidirectional': True, 'dropout': 0.42893450053849136, 'learning_rate': 0.0007732117777888663, 'batch_size': 16}. Best is trial 40 with value: 1.4417904615402222.\n"
                    ]
                },
                {
                    "name": "stdout",
                    "output_type": "stream",
                    "text": [
                        "Test MSE: 3.1072\n",
                        "Test RMSE: 1.7627\n",
                        "Test MAE: 1.4418\n",
                        "Test R2 Score: 0.3430\n"
                    ]
                },
                {
                    "name": "stderr",
                    "output_type": "stream",
                    "text": [
                        "[I 2024-06-22 17:01:45,005] Trial 41 finished with value: 1.4355849027633667 and parameters: {'hidden_size': 57, 'num_layers': 2, 'fc1_size': 246, 'fc2_size': 56, 'bidirectional': True, 'dropout': 0.4331366922040594, 'learning_rate': 0.0008272131288299557, 'batch_size': 16}. Best is trial 41 with value: 1.4355849027633667.\n"
                    ]
                },
                {
                    "name": "stdout",
                    "output_type": "stream",
                    "text": [
                        "Test MSE: 3.2364\n",
                        "Test RMSE: 1.7990\n",
                        "Test MAE: 1.4356\n",
                        "Test R2 Score: 0.3156\n"
                    ]
                },
                {
                    "name": "stderr",
                    "output_type": "stream",
                    "text": [
                        "[I 2024-06-22 17:01:51,348] Trial 42 finished with value: 1.502321720123291 and parameters: {'hidden_size': 63, 'num_layers': 2, 'fc1_size': 245, 'fc2_size': 64, 'bidirectional': True, 'dropout': 0.4244101096057846, 'learning_rate': 0.0008388598947301599, 'batch_size': 16}. Best is trial 41 with value: 1.4355849027633667.\n"
                    ]
                },
                {
                    "name": "stdout",
                    "output_type": "stream",
                    "text": [
                        "Test MSE: 3.4529\n",
                        "Test RMSE: 1.8582\n",
                        "Test MAE: 1.5023\n",
                        "Test R2 Score: 0.2698\n"
                    ]
                },
                {
                    "name": "stderr",
                    "output_type": "stream",
                    "text": [
                        "[I 2024-06-22 17:01:57,713] Trial 43 finished with value: 1.6584076881408691 and parameters: {'hidden_size': 57, 'num_layers': 2, 'fc1_size': 252, 'fc2_size': 61, 'bidirectional': True, 'dropout': 0.49600422592340004, 'learning_rate': 0.00037239704451038356, 'batch_size': 16}. Best is trial 41 with value: 1.4355849027633667.\n"
                    ]
                },
                {
                    "name": "stdout",
                    "output_type": "stream",
                    "text": [
                        "Test MSE: 3.7397\n",
                        "Test RMSE: 1.9338\n",
                        "Test MAE: 1.6584\n",
                        "Test R2 Score: 0.2092\n"
                    ]
                },
                {
                    "name": "stderr",
                    "output_type": "stream",
                    "text": [
                        "[I 2024-06-22 17:02:04,156] Trial 44 finished with value: 1.617823600769043 and parameters: {'hidden_size': 79, 'num_layers': 2, 'fc1_size': 238, 'fc2_size': 44, 'bidirectional': True, 'dropout': 0.44546232171855177, 'learning_rate': 0.00022928499617545507, 'batch_size': 16}. Best is trial 41 with value: 1.4355849027633667.\n"
                    ]
                },
                {
                    "name": "stdout",
                    "output_type": "stream",
                    "text": [
                        "Test MSE: 3.9235\n",
                        "Test RMSE: 1.9808\n",
                        "Test MAE: 1.6178\n",
                        "Test R2 Score: 0.1703\n"
                    ]
                },
                {
                    "name": "stderr",
                    "output_type": "stream",
                    "text": [
                        "[I 2024-06-22 17:02:10,385] Trial 45 finished with value: 1.5005215406417847 and parameters: {'hidden_size': 36, 'num_layers': 2, 'fc1_size': 218, 'fc2_size': 56, 'bidirectional': True, 'dropout': 0.3888198753452063, 'learning_rate': 0.0010171174970487662, 'batch_size': 16}. Best is trial 41 with value: 1.4355849027633667.\n"
                    ]
                },
                {
                    "name": "stdout",
                    "output_type": "stream",
                    "text": [
                        "Test MSE: 3.2462\n",
                        "Test RMSE: 1.8017\n",
                        "Test MAE: 1.5005\n",
                        "Test R2 Score: 0.3136\n"
                    ]
                },
                {
                    "name": "stderr",
                    "output_type": "stream",
                    "text": [
                        "[I 2024-06-22 17:02:16,631] Trial 46 finished with value: 1.6154568195343018 and parameters: {'hidden_size': 66, 'num_layers': 2, 'fc1_size': 244, 'fc2_size': 51, 'bidirectional': True, 'dropout': 0.4415066518093604, 'learning_rate': 0.001807603921088679, 'batch_size': 16}. Best is trial 41 with value: 1.4355849027633667.\n"
                    ]
                },
                {
                    "name": "stdout",
                    "output_type": "stream",
                    "text": [
                        "Test MSE: 3.9063\n",
                        "Test RMSE: 1.9764\n",
                        "Test MAE: 1.6155\n",
                        "Test R2 Score: 0.1740\n"
                    ]
                },
                {
                    "name": "stderr",
                    "output_type": "stream",
                    "text": [
                        "[I 2024-06-22 17:02:22,991] Trial 47 finished with value: 1.768977165222168 and parameters: {'hidden_size': 93, 'num_layers': 2, 'fc1_size': 232, 'fc2_size': 67, 'bidirectional': True, 'dropout': 0.40996079634983407, 'learning_rate': 7.928902970172133e-05, 'batch_size': 16}. Best is trial 41 with value: 1.4355849027633667.\n"
                    ]
                },
                {
                    "name": "stdout",
                    "output_type": "stream",
                    "text": [
                        "Test MSE: 4.3572\n",
                        "Test RMSE: 2.0874\n",
                        "Test MAE: 1.7690\n",
                        "Test R2 Score: 0.0786\n"
                    ]
                },
                {
                    "name": "stderr",
                    "output_type": "stream",
                    "text": [
                        "[I 2024-06-22 17:02:29,530] Trial 48 finished with value: 1.4933273792266846 and parameters: {'hidden_size': 76, 'num_layers': 2, 'fc1_size': 212, 'fc2_size': 38, 'bidirectional': True, 'dropout': 0.4750029350671737, 'learning_rate': 0.0006160485454018284, 'batch_size': 16}. Best is trial 41 with value: 1.4355849027633667.\n"
                    ]
                },
                {
                    "name": "stdout",
                    "output_type": "stream",
                    "text": [
                        "Test MSE: 3.2831\n",
                        "Test RMSE: 1.8119\n",
                        "Test MAE: 1.4933\n",
                        "Test R2 Score: 0.3058\n"
                    ]
                },
                {
                    "name": "stderr",
                    "output_type": "stream",
                    "text": [
                        "[I 2024-06-22 17:02:37,350] Trial 49 finished with value: 1.4719305038452148 and parameters: {'hidden_size': 209, 'num_layers': 2, 'fc1_size': 254, 'fc2_size': 74, 'bidirectional': True, 'dropout': 0.3496441752387176, 'learning_rate': 0.006022870097517079, 'batch_size': 16}. Best is trial 41 with value: 1.4355849027633667.\n"
                    ]
                },
                {
                    "name": "stdout",
                    "output_type": "stream",
                    "text": [
                        "Test MSE: 3.4044\n",
                        "Test RMSE: 1.8451\n",
                        "Test MAE: 1.4719\n",
                        "Test R2 Score: 0.2801\n"
                    ]
                },
                {
                    "name": "stderr",
                    "output_type": "stream",
                    "text": [
                        "[I 2024-06-22 17:02:45,555] Trial 50 finished with value: 1.5792617797851562 and parameters: {'hidden_size': 238, 'num_layers': 2, 'fc1_size': 253, 'fc2_size': 74, 'bidirectional': True, 'dropout': 0.3950436022988183, 'learning_rate': 0.005054889717930911, 'batch_size': 16}. Best is trial 41 with value: 1.4355849027633667.\n"
                    ]
                },
                {
                    "name": "stdout",
                    "output_type": "stream",
                    "text": [
                        "Test MSE: 3.6807\n",
                        "Test RMSE: 1.9185\n",
                        "Test MAE: 1.5793\n",
                        "Test R2 Score: 0.2217\n"
                    ]
                },
                {
                    "name": "stderr",
                    "output_type": "stream",
                    "text": [
                        "[I 2024-06-22 17:02:53,326] Trial 51 finished with value: 1.700512409210205 and parameters: {'hidden_size': 215, 'num_layers': 2, 'fc1_size': 227, 'fc2_size': 58, 'bidirectional': True, 'dropout': 0.34840165712153587, 'learning_rate': 0.0017162297704676895, 'batch_size': 16}. Best is trial 41 with value: 1.4355849027633667.\n"
                    ]
                },
                {
                    "name": "stdout",
                    "output_type": "stream",
                    "text": [
                        "Test MSE: 3.9896\n",
                        "Test RMSE: 1.9974\n",
                        "Test MAE: 1.7005\n",
                        "Test R2 Score: 0.1564\n"
                    ]
                },
                {
                    "name": "stderr",
                    "output_type": "stream",
                    "text": [
                        "[I 2024-06-22 17:03:01,845] Trial 52 finished with value: 1.4208208322525024 and parameters: {'hidden_size': 256, 'num_layers': 2, 'fc1_size': 243, 'fc2_size': 46, 'bidirectional': True, 'dropout': 0.45785980418665756, 'learning_rate': 0.008001477706805663, 'batch_size': 16}. Best is trial 52 with value: 1.4208208322525024.\n"
                    ]
                },
                {
                    "name": "stdout",
                    "output_type": "stream",
                    "text": [
                        "Test MSE: 3.2004\n",
                        "Test RMSE: 1.7890\n",
                        "Test MAE: 1.4208\n",
                        "Test R2 Score: 0.3232\n"
                    ]
                },
                {
                    "name": "stderr",
                    "output_type": "stream",
                    "text": [
                        "[I 2024-06-22 17:03:10,417] Trial 53 finished with value: 1.5654559135437012 and parameters: {'hidden_size': 249, 'num_layers': 2, 'fc1_size': 244, 'fc2_size': 46, 'bidirectional': True, 'dropout': 0.472373947560013, 'learning_rate': 0.00947434901731739, 'batch_size': 16}. Best is trial 52 with value: 1.4208208322525024.\n"
                    ]
                },
                {
                    "name": "stdout",
                    "output_type": "stream",
                    "text": [
                        "Test MSE: 3.4883\n",
                        "Test RMSE: 1.8677\n",
                        "Test MAE: 1.5655\n",
                        "Test R2 Score: 0.2624\n"
                    ]
                },
                {
                    "name": "stderr",
                    "output_type": "stream",
                    "text": [
                        "[I 2024-06-22 17:03:17,973] Trial 54 finished with value: 1.4989618062973022 and parameters: {'hidden_size': 203, 'num_layers': 2, 'fc1_size': 255, 'fc2_size': 37, 'bidirectional': True, 'dropout': 0.458312034532526, 'learning_rate': 0.006398927194177777, 'batch_size': 16}. Best is trial 52 with value: 1.4208208322525024.\n"
                    ]
                },
                {
                    "name": "stdout",
                    "output_type": "stream",
                    "text": [
                        "Test MSE: 3.1655\n",
                        "Test RMSE: 1.7792\n",
                        "Test MAE: 1.4990\n",
                        "Test R2 Score: 0.3306\n"
                    ]
                },
                {
                    "name": "stderr",
                    "output_type": "stream",
                    "text": [
                        "[I 2024-06-22 17:03:26,463] Trial 55 finished with value: 1.5639365911483765 and parameters: {'hidden_size': 256, 'num_layers': 2, 'fc1_size': 220, 'fc2_size': 66, 'bidirectional': True, 'dropout': 0.4313053608239341, 'learning_rate': 0.0035993518470772905, 'batch_size': 16}. Best is trial 52 with value: 1.4208208322525024.\n"
                    ]
                },
                {
                    "name": "stdout",
                    "output_type": "stream",
                    "text": [
                        "Test MSE: 3.6444\n",
                        "Test RMSE: 1.9090\n",
                        "Test MAE: 1.5639\n",
                        "Test R2 Score: 0.2294\n"
                    ]
                },
                {
                    "name": "stderr",
                    "output_type": "stream",
                    "text": [
                        "[I 2024-06-22 17:03:32,059] Trial 56 finished with value: 1.6429107189178467 and parameters: {'hidden_size': 212, 'num_layers': 2, 'fc1_size': 241, 'fc2_size': 29, 'bidirectional': False, 'dropout': 0.4001528119347564, 'learning_rate': 0.002405212106225644, 'batch_size': 16}. Best is trial 52 with value: 1.4208208322525024.\n"
                    ]
                },
                {
                    "name": "stdout",
                    "output_type": "stream",
                    "text": [
                        "Test MSE: 3.7875\n",
                        "Test RMSE: 1.9461\n",
                        "Test MAE: 1.6429\n",
                        "Test R2 Score: 0.1991\n"
                    ]
                },
                {
                    "name": "stderr",
                    "output_type": "stream",
                    "text": [
                        "[I 2024-06-22 17:03:40,356] Trial 57 finished with value: 1.6218503713607788 and parameters: {'hidden_size': 238, 'num_layers': 2, 'fc1_size': 205, 'fc2_size': 58, 'bidirectional': True, 'dropout': 0.4872779832210336, 'learning_rate': 0.0013317124719947411, 'batch_size': 16}. Best is trial 52 with value: 1.4208208322525024.\n"
                    ]
                },
                {
                    "name": "stdout",
                    "output_type": "stream",
                    "text": [
                        "Test MSE: 3.5686\n",
                        "Test RMSE: 1.8891\n",
                        "Test MAE: 1.6219\n",
                        "Test R2 Score: 0.2454\n"
                    ]
                },
                {
                    "name": "stderr",
                    "output_type": "stream",
                    "text": [
                        "[I 2024-06-22 17:03:46,239] Trial 58 finished with value: 1.5690455436706543 and parameters: {'hidden_size': 252, 'num_layers': 2, 'fc1_size': 249, 'fc2_size': 40, 'bidirectional': False, 'dropout': 0.3637179516775567, 'learning_rate': 0.0008441018519856928, 'batch_size': 16}. Best is trial 52 with value: 1.4208208322525024.\n"
                    ]
                },
                {
                    "name": "stdout",
                    "output_type": "stream",
                    "text": [
                        "Test MSE: 3.4447\n",
                        "Test RMSE: 1.8560\n",
                        "Test MAE: 1.5690\n",
                        "Test R2 Score: 0.2716\n"
                    ]
                },
                {
                    "name": "stderr",
                    "output_type": "stream",
                    "text": [
                        "[I 2024-06-22 17:03:53,464] Trial 59 finished with value: 1.6717650890350342 and parameters: {'hidden_size': 190, 'num_layers': 2, 'fc1_size': 223, 'fc2_size': 32, 'bidirectional': True, 'dropout': 0.448722912651784, 'learning_rate': 0.00041340314431963357, 'batch_size': 16}. Best is trial 52 with value: 1.4208208322525024.\n"
                    ]
                },
                {
                    "name": "stdout",
                    "output_type": "stream",
                    "text": [
                        "Test MSE: 4.2188\n",
                        "Test RMSE: 2.0540\n",
                        "Test MAE: 1.6718\n",
                        "Test R2 Score: 0.1079\n"
                    ]
                },
                {
                    "name": "stderr",
                    "output_type": "stream",
                    "text": [
                        "[I 2024-06-22 17:03:55,260] Trial 60 finished with value: 1.8175928592681885 and parameters: {'hidden_size': 90, 'num_layers': 2, 'fc1_size': 236, 'fc2_size': 77, 'bidirectional': True, 'dropout': 0.43377262549516177, 'learning_rate': 0.004455416105494155, 'batch_size': 64}. Best is trial 52 with value: 1.4208208322525024.\n"
                    ]
                },
                {
                    "name": "stdout",
                    "output_type": "stream",
                    "text": [
                        "Test MSE: 4.1209\n",
                        "Test RMSE: 2.0300\n",
                        "Test MAE: 1.8176\n",
                        "Test R2 Score: 0.1286\n"
                    ]
                },
                {
                    "name": "stderr",
                    "output_type": "stream",
                    "text": [
                        "[I 2024-06-22 17:04:01,520] Trial 61 finished with value: 1.6916359663009644 and parameters: {'hidden_size': 47, 'num_layers': 2, 'fc1_size': 255, 'fc2_size': 48, 'bidirectional': True, 'dropout': 0.3401734910442252, 'learning_rate': 0.0139349402167777, 'batch_size': 16}. Best is trial 52 with value: 1.4208208322525024.\n"
                    ]
                },
                {
                    "name": "stdout",
                    "output_type": "stream",
                    "text": [
                        "Test MSE: 4.1340\n",
                        "Test RMSE: 2.0332\n",
                        "Test MAE: 1.6916\n",
                        "Test R2 Score: 0.1258\n"
                    ]
                },
                {
                    "name": "stderr",
                    "output_type": "stream",
                    "text": [
                        "[I 2024-06-22 17:04:12,939] Trial 62 finished with value: 1.8119895458221436 and parameters: {'hidden_size': 238, 'num_layers': 3, 'fc1_size': 233, 'fc2_size': 52, 'bidirectional': True, 'dropout': 0.3757534320469336, 'learning_rate': 0.0593270904901635, 'batch_size': 16}. Best is trial 52 with value: 1.4208208322525024.\n"
                    ]
                },
                {
                    "name": "stdout",
                    "output_type": "stream",
                    "text": [
                        "Test MSE: 4.7291\n",
                        "Test RMSE: 2.1746\n",
                        "Test MAE: 1.8120\n",
                        "Test R2 Score: -0.0000\n"
                    ]
                },
                {
                    "name": "stderr",
                    "output_type": "stream",
                    "text": [
                        "/home/marek/miniforge3/envs/mgr/lib/python3.11/site-packages/torch/nn/modules/rnn.py:83: UserWarning: dropout option adds dropout after all but last recurrent layer, so non-zero dropout expects num_layers greater than 1, but got dropout=0.4125956928617739 and num_layers=1\n",
                        "  warnings.warn(\"dropout option adds dropout after all but last \"\n",
                        "[I 2024-06-22 17:04:18,898] Trial 63 finished with value: 1.6496058702468872 and parameters: {'hidden_size': 181, 'num_layers': 1, 'fc1_size': 248, 'fc2_size': 62, 'bidirectional': True, 'dropout': 0.4125956928617739, 'learning_rate': 0.002312293504116439, 'batch_size': 16}. Best is trial 52 with value: 1.4208208322525024.\n"
                    ]
                },
                {
                    "name": "stdout",
                    "output_type": "stream",
                    "text": [
                        "Test MSE: 4.2251\n",
                        "Test RMSE: 2.0555\n",
                        "Test MAE: 1.6496\n",
                        "Test R2 Score: 0.1066\n"
                    ]
                },
                {
                    "name": "stderr",
                    "output_type": "stream",
                    "text": [
                        "[I 2024-06-22 17:04:25,947] Trial 64 finished with value: 1.691361427307129 and parameters: {'hidden_size': 169, 'num_layers': 2, 'fc1_size': 240, 'fc2_size': 55, 'bidirectional': True, 'dropout': 0.29667227539872754, 'learning_rate': 0.0007328867393323383, 'batch_size': 16}. Best is trial 52 with value: 1.4208208322525024.\n"
                    ]
                },
                {
                    "name": "stdout",
                    "output_type": "stream",
                    "text": [
                        "Test MSE: 4.1954\n",
                        "Test RMSE: 2.0483\n",
                        "Test MAE: 1.6914\n",
                        "Test R2 Score: 0.1128\n"
                    ]
                },
                {
                    "name": "stderr",
                    "output_type": "stream",
                    "text": [
                        "/home/marek/miniforge3/envs/mgr/lib/python3.11/site-packages/torch/nn/modules/rnn.py:83: UserWarning: dropout option adds dropout after all but last recurrent layer, so non-zero dropout expects num_layers greater than 1, but got dropout=0.4600300264885723 and num_layers=1\n",
                        "  warnings.warn(\"dropout option adds dropout after all but last \"\n",
                        "[I 2024-06-22 17:04:27,324] Trial 65 finished with value: 1.597960114479065 and parameters: {'hidden_size': 199, 'num_layers': 1, 'fc1_size': 124, 'fc2_size': 68, 'bidirectional': False, 'dropout': 0.4600300264885723, 'learning_rate': 0.00877379951883581, 'batch_size': 64}. Best is trial 52 with value: 1.4208208322525024.\n"
                    ]
                },
                {
                    "name": "stdout",
                    "output_type": "stream",
                    "text": [
                        "Test MSE: 3.7504\n",
                        "Test RMSE: 1.9366\n",
                        "Test MAE: 1.5980\n",
                        "Test R2 Score: 0.2069\n"
                    ]
                },
                {
                    "name": "stderr",
                    "output_type": "stream",
                    "text": [
                        "[I 2024-06-22 17:04:33,895] Trial 66 finished with value: 1.7927031517028809 and parameters: {'hidden_size': 33, 'num_layers': 3, 'fc1_size': 226, 'fc2_size': 42, 'bidirectional': True, 'dropout': 0.3538528467674931, 'learning_rate': 0.02946016960866387, 'batch_size': 16}. Best is trial 52 with value: 1.4208208322525024.\n"
                    ]
                },
                {
                    "name": "stdout",
                    "output_type": "stream",
                    "text": [
                        "Test MSE: 4.7190\n",
                        "Test RMSE: 2.1723\n",
                        "Test MAE: 1.7927\n",
                        "Test R2 Score: 0.0021\n"
                    ]
                },
                {
                    "name": "stderr",
                    "output_type": "stream",
                    "text": [
                        "[I 2024-06-22 17:04:36,686] Trial 67 finished with value: 1.4219696521759033 and parameters: {'hidden_size': 117, 'num_layers': 2, 'fc1_size': 213, 'fc2_size': 46, 'bidirectional': False, 'dropout': 0.416448879892596, 'learning_rate': 0.0004997903273300972, 'batch_size': 32}. Best is trial 52 with value: 1.4208208322525024.\n"
                    ]
                },
                {
                    "name": "stdout",
                    "output_type": "stream",
                    "text": [
                        "Test MSE: 3.0269\n",
                        "Test RMSE: 1.7398\n",
                        "Test MAE: 1.4220\n",
                        "Test R2 Score: 0.3599\n"
                    ]
                },
                {
                    "name": "stderr",
                    "output_type": "stream",
                    "text": [
                        "[I 2024-06-22 17:04:39,556] Trial 68 finished with value: 1.5608465671539307 and parameters: {'hidden_size': 57, 'num_layers': 2, 'fc1_size': 212, 'fc2_size': 71, 'bidirectional': False, 'dropout': 0.41330598909501176, 'learning_rate': 0.0002419939353737842, 'batch_size': 32}. Best is trial 52 with value: 1.4208208322525024.\n"
                    ]
                },
                {
                    "name": "stdout",
                    "output_type": "stream",
                    "text": [
                        "Test MSE: 3.6674\n",
                        "Test RMSE: 1.9150\n",
                        "Test MAE: 1.5608\n",
                        "Test R2 Score: 0.2245\n"
                    ]
                },
                {
                    "name": "stderr",
                    "output_type": "stream",
                    "text": [
                        "[I 2024-06-22 17:04:42,508] Trial 69 finished with value: 1.5770540237426758 and parameters: {'hidden_size': 71, 'num_layers': 2, 'fc1_size': 145, 'fc2_size': 33, 'bidirectional': False, 'dropout': 0.4336312344782287, 'learning_rate': 0.0005530203350616333, 'batch_size': 32}. Best is trial 52 with value: 1.4208208322525024.\n"
                    ]
                },
                {
                    "name": "stdout",
                    "output_type": "stream",
                    "text": [
                        "Test MSE: 3.5134\n",
                        "Test RMSE: 1.8744\n",
                        "Test MAE: 1.5771\n",
                        "Test R2 Score: 0.2571\n"
                    ]
                },
                {
                    "name": "stderr",
                    "output_type": "stream",
                    "text": [
                        "[I 2024-06-22 17:04:45,411] Trial 70 finished with value: 1.5459109544754028 and parameters: {'hidden_size': 243, 'num_layers': 2, 'fc1_size': 202, 'fc2_size': 82, 'bidirectional': False, 'dropout': 0.4748018332760355, 'learning_rate': 0.0013531558062878776, 'batch_size': 32}. Best is trial 52 with value: 1.4208208322525024.\n"
                    ]
                },
                {
                    "name": "stdout",
                    "output_type": "stream",
                    "text": [
                        "Test MSE: 3.1819\n",
                        "Test RMSE: 1.7838\n",
                        "Test MAE: 1.5459\n",
                        "Test R2 Score: 0.3272\n"
                    ]
                },
                {
                    "name": "stderr",
                    "output_type": "stream",
                    "text": [
                        "[I 2024-06-22 17:04:48,167] Trial 71 finished with value: 1.515505075454712 and parameters: {'hidden_size': 145, 'num_layers': 2, 'fc1_size': 235, 'fc2_size': 59, 'bidirectional': False, 'dropout': 0.3867105628409737, 'learning_rate': 0.00045884086752813436, 'batch_size': 32}. Best is trial 52 with value: 1.4208208322525024.\n"
                    ]
                },
                {
                    "name": "stdout",
                    "output_type": "stream",
                    "text": [
                        "Test MSE: 3.5590\n",
                        "Test RMSE: 1.8865\n",
                        "Test MAE: 1.5155\n",
                        "Test R2 Score: 0.2474\n"
                    ]
                },
                {
                    "name": "stderr",
                    "output_type": "stream",
                    "text": [
                        "[I 2024-06-22 17:04:50,921] Trial 72 finished with value: 1.7643003463745117 and parameters: {'hidden_size': 116, 'num_layers': 2, 'fc1_size': 248, 'fc2_size': 46, 'bidirectional': False, 'dropout': 0.399946786929469, 'learning_rate': 0.09995045977990707, 'batch_size': 32}. Best is trial 52 with value: 1.4208208322525024.\n"
                    ]
                },
                {
                    "name": "stdout",
                    "output_type": "stream",
                    "text": [
                        "Test MSE: 4.4335\n",
                        "Test RMSE: 2.1056\n",
                        "Test MAE: 1.7643\n",
                        "Test R2 Score: 0.0625\n"
                    ]
                },
                {
                    "name": "stderr",
                    "output_type": "stream",
                    "text": [
                        "[I 2024-06-22 17:04:59,090] Trial 73 finished with value: 1.7541440725326538 and parameters: {'hidden_size': 165, 'num_layers': 3, 'fc1_size': 215, 'fc2_size': 54, 'bidirectional': True, 'dropout': 0.30874837655304654, 'learning_rate': 0.015067129246688123, 'batch_size': 16}. Best is trial 52 with value: 1.4208208322525024.\n"
                    ]
                },
                {
                    "name": "stdout",
                    "output_type": "stream",
                    "text": [
                        "Test MSE: 4.5839\n",
                        "Test RMSE: 2.1410\n",
                        "Test MAE: 1.7541\n",
                        "Test R2 Score: 0.0307\n"
                    ]
                },
                {
                    "name": "stderr",
                    "output_type": "stream",
                    "text": [
                        "/home/marek/miniforge3/envs/mgr/lib/python3.11/site-packages/torch/nn/modules/rnn.py:83: UserWarning: dropout option adds dropout after all but last recurrent layer, so non-zero dropout expects num_layers greater than 1, but got dropout=0.2839512624941745 and num_layers=1\n",
                        "  warnings.warn(\"dropout option adds dropout after all but last \"\n",
                        "[I 2024-06-22 17:05:01,686] Trial 74 finished with value: 1.4665952920913696 and parameters: {'hidden_size': 154, 'num_layers': 1, 'fc1_size': 170, 'fc2_size': 50, 'bidirectional': False, 'dropout': 0.2839512624941745, 'learning_rate': 0.0067786211702292, 'batch_size': 32}. Best is trial 52 with value: 1.4208208322525024.\n"
                    ]
                },
                {
                    "name": "stdout",
                    "output_type": "stream",
                    "text": [
                        "Test MSE: 3.6400\n",
                        "Test RMSE: 1.9079\n",
                        "Test MAE: 1.4666\n",
                        "Test R2 Score: 0.2303\n"
                    ]
                },
                {
                    "name": "stderr",
                    "output_type": "stream",
                    "text": [
                        "/home/marek/miniforge3/envs/mgr/lib/python3.11/site-packages/torch/nn/modules/rnn.py:83: UserWarning: dropout option adds dropout after all but last recurrent layer, so non-zero dropout expects num_layers greater than 1, but got dropout=0.2446676058827584 and num_layers=1\n",
                        "  warnings.warn(\"dropout option adds dropout after all but last \"\n",
                        "[I 2024-06-22 17:05:04,502] Trial 75 finished with value: 1.70037841796875 and parameters: {'hidden_size': 137, 'num_layers': 1, 'fc1_size': 177, 'fc2_size': 49, 'bidirectional': False, 'dropout': 0.2446676058827584, 'learning_rate': 0.003092390267149307, 'batch_size': 32}. Best is trial 52 with value: 1.4208208322525024.\n"
                    ]
                },
                {
                    "name": "stdout",
                    "output_type": "stream",
                    "text": [
                        "Test MSE: 4.3247\n",
                        "Test RMSE: 2.0796\n",
                        "Test MAE: 1.7004\n",
                        "Test R2 Score: 0.0855\n"
                    ]
                },
                {
                    "name": "stderr",
                    "output_type": "stream",
                    "text": [
                        "/home/marek/miniforge3/envs/mgr/lib/python3.11/site-packages/torch/nn/modules/rnn.py:83: UserWarning: dropout option adds dropout after all but last recurrent layer, so non-zero dropout expects num_layers greater than 1, but got dropout=0.2777225540245145 and num_layers=1\n",
                        "  warnings.warn(\"dropout option adds dropout after all but last \"\n",
                        "[I 2024-06-22 17:05:07,256] Trial 76 finished with value: 1.5663690567016602 and parameters: {'hidden_size': 221, 'num_layers': 1, 'fc1_size': 186, 'fc2_size': 63, 'bidirectional': False, 'dropout': 0.2777225540245145, 'learning_rate': 0.007281440372498522, 'batch_size': 32}. Best is trial 52 with value: 1.4208208322525024.\n"
                    ]
                },
                {
                    "name": "stdout",
                    "output_type": "stream",
                    "text": [
                        "Test MSE: 3.6422\n",
                        "Test RMSE: 1.9084\n",
                        "Test MAE: 1.5664\n",
                        "Test R2 Score: 0.2298\n"
                    ]
                },
                {
                    "name": "stderr",
                    "output_type": "stream",
                    "text": [
                        "/home/marek/miniforge3/envs/mgr/lib/python3.11/site-packages/torch/nn/modules/rnn.py:83: UserWarning: dropout option adds dropout after all but last recurrent layer, so non-zero dropout expects num_layers greater than 1, but got dropout=0.4196162989174037 and num_layers=1\n",
                        "  warnings.warn(\"dropout option adds dropout after all but last \"\n",
                        "[I 2024-06-22 17:05:10,040] Trial 77 finished with value: 1.9079210758209229 and parameters: {'hidden_size': 157, 'num_layers': 1, 'fc1_size': 256, 'fc2_size': 43, 'bidirectional': False, 'dropout': 0.4196162989174037, 'learning_rate': 0.0003084725003714654, 'batch_size': 32}. Best is trial 52 with value: 1.4208208322525024.\n"
                    ]
                },
                {
                    "name": "stdout",
                    "output_type": "stream",
                    "text": [
                        "Test MSE: 5.5397\n",
                        "Test RMSE: 2.3537\n",
                        "Test MAE: 1.9079\n",
                        "Test R2 Score: -0.1714\n"
                    ]
                },
                {
                    "name": "stderr",
                    "output_type": "stream",
                    "text": [
                        "/home/marek/miniforge3/envs/mgr/lib/python3.11/site-packages/torch/nn/modules/rnn.py:83: UserWarning: dropout option adds dropout after all but last recurrent layer, so non-zero dropout expects num_layers greater than 1, but got dropout=0.2593749134727698 and num_layers=1\n",
                        "  warnings.warn(\"dropout option adds dropout after all but last \"\n",
                        "[I 2024-06-22 17:05:13,013] Trial 78 finished with value: 1.735200047492981 and parameters: {'hidden_size': 100, 'num_layers': 1, 'fc1_size': 167, 'fc2_size': 59, 'bidirectional': False, 'dropout': 0.2593749134727698, 'learning_rate': 0.0020384895349965437, 'batch_size': 32}. Best is trial 52 with value: 1.4208208322525024.\n"
                    ]
                },
                {
                    "name": "stdout",
                    "output_type": "stream",
                    "text": [
                        "Test MSE: 4.8848\n",
                        "Test RMSE: 2.2102\n",
                        "Test MAE: 1.7352\n",
                        "Test R2 Score: -0.0329\n"
                    ]
                },
                {
                    "name": "stderr",
                    "output_type": "stream",
                    "text": [
                        "/home/marek/miniforge3/envs/mgr/lib/python3.11/site-packages/torch/nn/modules/rnn.py:83: UserWarning: dropout option adds dropout after all but last recurrent layer, so non-zero dropout expects num_layers greater than 1, but got dropout=0.22772744527700034 and num_layers=1\n",
                        "  warnings.warn(\"dropout option adds dropout after all but last \"\n",
                        "[I 2024-06-22 17:05:15,827] Trial 79 finished with value: 1.736405372619629 and parameters: {'hidden_size': 256, 'num_layers': 1, 'fc1_size': 65, 'fc2_size': 18, 'bidirectional': False, 'dropout': 0.22772744527700034, 'learning_rate': 0.0009796794888351696, 'batch_size': 32}. Best is trial 52 with value: 1.4208208322525024.\n"
                    ]
                },
                {
                    "name": "stdout",
                    "output_type": "stream",
                    "text": [
                        "Test MSE: 4.6718\n",
                        "Test RMSE: 2.1614\n",
                        "Test MAE: 1.7364\n",
                        "Test R2 Score: 0.0121\n"
                    ]
                },
                {
                    "name": "stderr",
                    "output_type": "stream",
                    "text": [
                        "[I 2024-06-22 17:05:21,433] Trial 80 finished with value: 1.6120539903640747 and parameters: {'hidden_size': 147, 'num_layers': 2, 'fc1_size': 153, 'fc2_size': 46, 'bidirectional': False, 'dropout': 0.45860897830593605, 'learning_rate': 0.0001788955849761183, 'batch_size': 16}. Best is trial 52 with value: 1.4208208322525024.\n"
                    ]
                },
                {
                    "name": "stdout",
                    "output_type": "stream",
                    "text": [
                        "Test MSE: 3.6717\n",
                        "Test RMSE: 1.9162\n",
                        "Test MAE: 1.6121\n",
                        "Test R2 Score: 0.2236\n"
                    ]
                },
                {
                    "name": "stderr",
                    "output_type": "stream",
                    "text": [
                        "[I 2024-06-22 17:05:22,581] Trial 81 finished with value: 1.626780390739441 and parameters: {'hidden_size': 155, 'num_layers': 2, 'fc1_size': 230, 'fc2_size': 52, 'bidirectional': True, 'dropout': 0.3264634601119829, 'learning_rate': 0.006529187699136131, 'batch_size': 128}. Best is trial 52 with value: 1.4208208322525024.\n"
                    ]
                },
                {
                    "name": "stdout",
                    "output_type": "stream",
                    "text": [
                        "Test MSE: 3.7570\n",
                        "Test RMSE: 1.9383\n",
                        "Test MAE: 1.6268\n",
                        "Test R2 Score: 0.2056\n"
                    ]
                },
                {
                    "name": "stderr",
                    "output_type": "stream",
                    "text": [
                        "[I 2024-06-22 17:05:24,042] Trial 82 finished with value: 1.6161768436431885 and parameters: {'hidden_size': 182, 'num_layers': 3, 'fc1_size': 241, 'fc2_size': 50, 'bidirectional': True, 'dropout': 0.4432198608895348, 'learning_rate': 0.0012136411437343605, 'batch_size': 128}. Best is trial 52 with value: 1.4208208322525024.\n"
                    ]
                },
                {
                    "name": "stdout",
                    "output_type": "stream",
                    "text": [
                        "Test MSE: 3.7423\n",
                        "Test RMSE: 1.9345\n",
                        "Test MAE: 1.6162\n",
                        "Test R2 Score: 0.2087\n"
                    ]
                },
                {
                    "name": "stderr",
                    "output_type": "stream",
                    "text": [
                        "/home/marek/miniforge3/envs/mgr/lib/python3.11/site-packages/torch/nn/modules/rnn.py:83: UserWarning: dropout option adds dropout after all but last recurrent layer, so non-zero dropout expects num_layers greater than 1, but got dropout=0.3353289834921649 and num_layers=1\n",
                        "  warnings.warn(\"dropout option adds dropout after all but last \"\n",
                        "[I 2024-06-22 17:05:25,671] Trial 83 finished with value: 1.7460869550704956 and parameters: {'hidden_size': 169, 'num_layers': 1, 'fc1_size': 249, 'fc2_size': 64, 'bidirectional': True, 'dropout': 0.3353289834921649, 'learning_rate': 0.004077106743908755, 'batch_size': 64}. Best is trial 52 with value: 1.4208208322525024.\n"
                    ]
                },
                {
                    "name": "stdout",
                    "output_type": "stream",
                    "text": [
                        "Test MSE: 4.4435\n",
                        "Test RMSE: 2.1080\n",
                        "Test MAE: 1.7461\n",
                        "Test R2 Score: 0.0604\n"
                    ]
                },
                {
                    "name": "stderr",
                    "output_type": "stream",
                    "text": [
                        "[I 2024-06-22 17:05:29,407] Trial 84 finished with value: 1.8179596662521362 and parameters: {'hidden_size': 56, 'num_layers': 3, 'fc1_size': 222, 'fc2_size': 53, 'bidirectional': True, 'dropout': 0.14537253958363555, 'learning_rate': 0.0005004221131851879, 'batch_size': 32}. Best is trial 52 with value: 1.4208208322525024.\n"
                    ]
                },
                {
                    "name": "stdout",
                    "output_type": "stream",
                    "text": [
                        "Test MSE: 5.1408\n",
                        "Test RMSE: 2.2673\n",
                        "Test MAE: 1.8180\n",
                        "Test R2 Score: -0.0871\n"
                    ]
                },
                {
                    "name": "stderr",
                    "output_type": "stream",
                    "text": [
                        "[I 2024-06-22 17:05:35,977] Trial 85 finished with value: 1.7596546411514282 and parameters: {'hidden_size': 132, 'num_layers': 2, 'fc1_size': 198, 'fc2_size': 56, 'bidirectional': True, 'dropout': 0.1884686753837416, 'learning_rate': 0.017049315644367805, 'batch_size': 16}. Best is trial 52 with value: 1.4208208322525024.\n"
                    ]
                },
                {
                    "name": "stdout",
                    "output_type": "stream",
                    "text": [
                        "Test MSE: 4.5709\n",
                        "Test RMSE: 2.1380\n",
                        "Test MAE: 1.7597\n",
                        "Test R2 Score: 0.0334\n"
                    ]
                },
                {
                    "name": "stderr",
                    "output_type": "stream",
                    "text": [
                        "[I 2024-06-22 17:05:41,366] Trial 86 finished with value: 1.6805757284164429 and parameters: {'hidden_size': 125, 'num_layers': 2, 'fc1_size': 245, 'fc2_size': 70, 'bidirectional': False, 'dropout': 0.3630533985458793, 'learning_rate': 0.0016886339700448703, 'batch_size': 16}. Best is trial 52 with value: 1.4208208322525024.\n"
                    ]
                },
                {
                    "name": "stdout",
                    "output_type": "stream",
                    "text": [
                        "Test MSE: 3.8379\n",
                        "Test RMSE: 1.9590\n",
                        "Test MAE: 1.6806\n",
                        "Test R2 Score: 0.1885\n"
                    ]
                },
                {
                    "name": "stderr",
                    "output_type": "stream",
                    "text": [
                        "[I 2024-06-22 17:05:42,552] Trial 87 finished with value: 1.7428463697433472 and parameters: {'hidden_size': 175, 'num_layers': 2, 'fc1_size': 235, 'fc2_size': 34, 'bidirectional': True, 'dropout': 0.38005991524696225, 'learning_rate': 0.03041520481083944, 'batch_size': 128}. Best is trial 52 with value: 1.4208208322525024.\n"
                    ]
                },
                {
                    "name": "stdout",
                    "output_type": "stream",
                    "text": [
                        "Test MSE: 4.3666\n",
                        "Test RMSE: 2.0896\n",
                        "Test MAE: 1.7428\n",
                        "Test R2 Score: 0.0766\n"
                    ]
                },
                {
                    "name": "stderr",
                    "output_type": "stream",
                    "text": [
                        "/home/marek/miniforge3/envs/mgr/lib/python3.11/site-packages/torch/nn/modules/rnn.py:83: UserWarning: dropout option adds dropout after all but last recurrent layer, so non-zero dropout expects num_layers greater than 1, but got dropout=0.312053633202386 and num_layers=1\n",
                        "  warnings.warn(\"dropout option adds dropout after all but last \"\n",
                        "[I 2024-06-22 17:05:45,598] Trial 88 finished with value: 1.6404123306274414 and parameters: {'hidden_size': 162, 'num_layers': 1, 'fc1_size': 132, 'fc2_size': 25, 'bidirectional': True, 'dropout': 0.312053633202386, 'learning_rate': 0.00849497850674798, 'batch_size': 32}. Best is trial 52 with value: 1.4208208322525024.\n"
                    ]
                },
                {
                    "name": "stdout",
                    "output_type": "stream",
                    "text": [
                        "Test MSE: 3.8964\n",
                        "Test RMSE: 1.9739\n",
                        "Test MAE: 1.6404\n",
                        "Test R2 Score: 0.1761\n"
                    ]
                },
                {
                    "name": "stderr",
                    "output_type": "stream",
                    "text": [
                        "[I 2024-06-22 17:05:51,526] Trial 89 finished with value: 1.5760769844055176 and parameters: {'hidden_size': 140, 'num_layers': 3, 'fc1_size': 228, 'fc2_size': 60, 'bidirectional': False, 'dropout': 0.40344340812962737, 'learning_rate': 0.002933902829998638, 'batch_size': 16}. Best is trial 52 with value: 1.4208208322525024.\n"
                    ]
                },
                {
                    "name": "stdout",
                    "output_type": "stream",
                    "text": [
                        "Test MSE: 3.3299\n",
                        "Test RMSE: 1.8248\n",
                        "Test MAE: 1.5761\n",
                        "Test R2 Score: 0.2959\n"
                    ]
                },
                {
                    "name": "stderr",
                    "output_type": "stream",
                    "text": [
                        "[I 2024-06-22 17:05:59,182] Trial 90 finished with value: 1.6201727390289307 and parameters: {'hidden_size': 207, 'num_layers': 2, 'fc1_size': 109, 'fc2_size': 39, 'bidirectional': True, 'dropout': 0.42330085190636746, 'learning_rate': 0.0008828988946684287, 'batch_size': 16}. Best is trial 52 with value: 1.4208208322525024.\n"
                    ]
                },
                {
                    "name": "stdout",
                    "output_type": "stream",
                    "text": [
                        "Test MSE: 3.7810\n",
                        "Test RMSE: 1.9445\n",
                        "Test MAE: 1.6202\n",
                        "Test R2 Score: 0.2005\n"
                    ]
                },
                {
                    "name": "stderr",
                    "output_type": "stream",
                    "text": [
                        "[I 2024-06-22 17:06:03,364] Trial 91 finished with value: 1.5388895273208618 and parameters: {'hidden_size': 150, 'num_layers': 3, 'fc1_size': 80, 'fc2_size': 105, 'bidirectional': True, 'dropout': 0.15541766801499732, 'learning_rate': 0.0006739244109048671, 'batch_size': 32}. Best is trial 52 with value: 1.4208208322525024.\n"
                    ]
                },
                {
                    "name": "stdout",
                    "output_type": "stream",
                    "text": [
                        "Test MSE: 3.1294\n",
                        "Test RMSE: 1.7690\n",
                        "Test MAE: 1.5389\n",
                        "Test R2 Score: 0.3383\n"
                    ]
                },
                {
                    "name": "stderr",
                    "output_type": "stream",
                    "text": [
                        "[I 2024-06-22 17:06:07,071] Trial 92 finished with value: 1.6226531267166138 and parameters: {'hidden_size': 40, 'num_layers': 3, 'fc1_size': 32, 'fc2_size': 94, 'bidirectional': True, 'dropout': 0.1829838905671806, 'learning_rate': 0.0011338938888546361, 'batch_size': 32}. Best is trial 52 with value: 1.4208208322525024.\n"
                    ]
                },
                {
                    "name": "stdout",
                    "output_type": "stream",
                    "text": [
                        "Test MSE: 4.0962\n",
                        "Test RMSE: 2.0239\n",
                        "Test MAE: 1.6227\n",
                        "Test R2 Score: 0.1338\n"
                    ]
                },
                {
                    "name": "stderr",
                    "output_type": "stream",
                    "text": [
                        "[I 2024-06-22 17:06:11,722] Trial 93 finished with value: 1.664238452911377 and parameters: {'hidden_size': 186, 'num_layers': 3, 'fc1_size': 95, 'fc2_size': 128, 'bidirectional': True, 'dropout': 0.13125446220398795, 'learning_rate': 0.0015584738528651063, 'batch_size': 32}. Best is trial 52 with value: 1.4208208322525024.\n"
                    ]
                },
                {
                    "name": "stdout",
                    "output_type": "stream",
                    "text": [
                        "Test MSE: 3.8760\n",
                        "Test RMSE: 1.9688\n",
                        "Test MAE: 1.6642\n",
                        "Test R2 Score: 0.1804\n"
                    ]
                },
                {
                    "name": "stderr",
                    "output_type": "stream",
                    "text": [
                        "[I 2024-06-22 17:06:15,781] Trial 94 finished with value: 1.6350399255752563 and parameters: {'hidden_size': 110, 'num_layers': 3, 'fc1_size': 48, 'fc2_size': 99, 'bidirectional': True, 'dropout': 0.21229402581243462, 'learning_rate': 0.0003318909460664552, 'batch_size': 32}. Best is trial 52 with value: 1.4208208322525024.\n"
                    ]
                },
                {
                    "name": "stdout",
                    "output_type": "stream",
                    "text": [
                        "Test MSE: 3.9329\n",
                        "Test RMSE: 1.9831\n",
                        "Test MAE: 1.6350\n",
                        "Test R2 Score: 0.1684\n"
                    ]
                },
                {
                    "name": "stderr",
                    "output_type": "stream",
                    "text": [
                        "[I 2024-06-22 17:06:25,509] Trial 95 finished with value: 1.5076160430908203 and parameters: {'hidden_size': 195, 'num_layers': 3, 'fc1_size': 241, 'fc2_size': 122, 'bidirectional': True, 'dropout': 0.11079603561691789, 'learning_rate': 0.005082173153314699, 'batch_size': 16}. Best is trial 52 with value: 1.4208208322525024.\n"
                    ]
                },
                {
                    "name": "stdout",
                    "output_type": "stream",
                    "text": [
                        "Test MSE: 3.1568\n",
                        "Test RMSE: 1.7767\n",
                        "Test MAE: 1.5076\n",
                        "Test R2 Score: 0.3325\n"
                    ]
                },
                {
                    "name": "stderr",
                    "output_type": "stream",
                    "text": [
                        "[I 2024-06-22 17:06:26,615] Trial 96 finished with value: 1.7728060483932495 and parameters: {'hidden_size': 85, 'num_layers': 2, 'fc1_size': 170, 'fc2_size': 116, 'bidirectional': True, 'dropout': 0.1761033894254212, 'learning_rate': 0.011313141964271778, 'batch_size': 128}. Best is trial 52 with value: 1.4208208322525024.\n"
                    ]
                },
                {
                    "name": "stdout",
                    "output_type": "stream",
                    "text": [
                        "Test MSE: 4.4628\n",
                        "Test RMSE: 2.1125\n",
                        "Test MAE: 1.7728\n",
                        "Test R2 Score: 0.0563\n"
                    ]
                },
                {
                    "name": "stderr",
                    "output_type": "stream",
                    "text": [
                        "[I 2024-06-22 17:06:32,721] Trial 97 finished with value: 1.4034918546676636 and parameters: {'hidden_size': 244, 'num_layers': 3, 'fc1_size': 56, 'fc2_size': 66, 'bidirectional': True, 'dropout': 0.2897216770797896, 'learning_rate': 0.0007513939934499025, 'batch_size': 32}. Best is trial 97 with value: 1.4034918546676636.\n"
                    ]
                },
                {
                    "name": "stdout",
                    "output_type": "stream",
                    "text": [
                        "Test MSE: 3.2067\n",
                        "Test RMSE: 1.7907\n",
                        "Test MAE: 1.4035\n",
                        "Test R2 Score: 0.3219\n"
                    ]
                },
                {
                    "name": "stderr",
                    "output_type": "stream",
                    "text": [
                        "[I 2024-06-22 17:06:37,247] Trial 98 finished with value: 1.6159495115280151 and parameters: {'hidden_size': 243, 'num_layers': 2, 'fc1_size': 145, 'fc2_size': 65, 'bidirectional': True, 'dropout': 0.2889327096221702, 'learning_rate': 0.0006774932519844962, 'batch_size': 32}. Best is trial 97 with value: 1.4034918546676636.\n"
                    ]
                },
                {
                    "name": "stdout",
                    "output_type": "stream",
                    "text": [
                        "Test MSE: 4.1972\n",
                        "Test RMSE: 2.0487\n",
                        "Test MAE: 1.6159\n",
                        "Test R2 Score: 0.1125\n"
                    ]
                },
                {
                    "name": "stderr",
                    "output_type": "stream",
                    "text": [
                        "[I 2024-06-22 17:06:44,057] Trial 99 finished with value: 1.52154541015625 and parameters: {'hidden_size': 231, 'num_layers': 3, 'fc1_size': 161, 'fc2_size': 73, 'bidirectional': False, 'dropout': 0.25985505910113593, 'learning_rate': 0.0007986139460696501, 'batch_size': 16}. Best is trial 97 with value: 1.4034918546676636.\n"
                    ]
                },
                {
                    "name": "stdout",
                    "output_type": "stream",
                    "text": [
                        "Test MSE: 3.4119\n",
                        "Test RMSE: 1.8471\n",
                        "Test MAE: 1.5215\n",
                        "Test R2 Score: 0.2785\n"
                    ]
                }
            ],
            "source": [
                "study = optuna.create_study(direction='minimize')\n",
                "study.optimize(objective, n_trials=100)\n"
            ]
        },
        {
            "cell_type": "code",
            "execution_count": 25,
            "metadata": {},
            "outputs": [
                {
                    "name": "stdout",
                    "output_type": "stream",
                    "text": [
                        "Number of finished trials: 100\n",
                        "Best trial:\n",
                        "  Value: 1.4034918546676636\n",
                        "  Params: \n",
                        "    hidden_size: 244\n",
                        "    num_layers: 3\n",
                        "    fc1_size: 56\n",
                        "    fc2_size: 66\n",
                        "    bidirectional: True\n",
                        "    dropout: 0.2897216770797896\n",
                        "    learning_rate: 0.0007513939934499025\n",
                        "    batch_size: 32\n"
                    ]
                }
            ],
            "source": [
                "print(f\"Number of finished trials: {len(study.trials)}\")\n",
                "print(\"Best trial:\")\n",
                "trial = study.best_trial\n",
                "print(f\"  Value: {trial.value}\")\n",
                "print(f\"  Params: \")\n",
                "for key, value in trial.params.items():\n",
                "    print(f\"    {key}: {value}\")"
            ]
        },
        {
            "cell_type": "code",
            "execution_count": 26,
            "metadata": {},
            "outputs": [],
            "source": [
                "best_params = study.best_params\n",
                "final_config = ModelConfig(\n",
                "    input_size=50,  # Assuming this is fixed\n",
                "    hidden_size=best_params[\"hidden_size\"],\n",
                "    num_layers=best_params[\"num_layers\"],\n",
                "    fc1_size=best_params[\"fc1_size\"],\n",
                "    fc2_size=best_params[\"fc2_size\"],\n",
                "    bidirectional=best_params[\"bidirectional\"],\n",
                "    dropout=best_params[\"dropout\"],\n",
                ")"
            ]
        },
        {
            "cell_type": "code",
            "execution_count": 35,
            "metadata": {},
            "outputs": [
                {
                    "name": "stdout",
                    "output_type": "stream",
                    "text": [
                        "Epoch 1/1000, Train Loss: 73.1628, Val Loss: 54.8589\n",
                        "New best model saved with validation loss: 54.8589\n",
                        "Epoch 2/1000, Train Loss: 68.9710, Val Loss: 45.7827\n",
                        "New best model saved with validation loss: 45.7827\n",
                        "Epoch 3/1000, Train Loss: 56.0563, Val Loss: 30.3315\n",
                        "New best model saved with validation loss: 30.3315\n",
                        "Epoch 4/1000, Train Loss: 37.7502, Val Loss: 14.8248\n",
                        "New best model saved with validation loss: 14.8248\n",
                        "Epoch 5/1000, Train Loss: 20.2451, Val Loss: 5.8784\n",
                        "New best model saved with validation loss: 5.8784\n",
                        "Epoch 9/1000, Train Loss: 11.9415, Val Loss: 5.24382\n",
                        "New best model saved with validation loss: 5.2438\n",
                        "Epoch 13/1000, Train Loss: 9.6379, Val Loss: 5.15749\n",
                        "New best model saved with validation loss: 5.1574\n",
                        "Epoch 18/1000, Train Loss: 11.1740, Val Loss: 5.1142\n",
                        "New best model saved with validation loss: 5.1142\n",
                        "Epoch 19/1000, Train Loss: 10.4755, Val Loss: 5.1107\n",
                        "New best model saved with validation loss: 5.1107\n",
                        "Epoch 37/1000, Train Loss: 10.2921, Val Loss: 5.0865\n",
                        "New best model saved with validation loss: 5.0865\n",
                        "Epoch 45/1000, Train Loss: 11.1376, Val Loss: 5.0604\n",
                        "New best model saved with validation loss: 5.0604\n",
                        "Epoch 54/1000, Train Loss: 9.3658, Val Loss: 5.03384\n",
                        "New best model saved with validation loss: 5.0338\n",
                        "Epoch 55/1000, Train Loss: 9.3607, Val Loss: 5.0315\n",
                        "New best model saved with validation loss: 5.0315\n",
                        "Epoch 66/1000, Train Loss: 8.3235, Val Loss: 4.9895\n",
                        "New best model saved with validation loss: 4.9895\n",
                        "Epoch 67/1000, Train Loss: 9.7923, Val Loss: 4.9868\n",
                        "New best model saved with validation loss: 4.9868\n",
                        "Epoch 68/1000, Train Loss: 9.9736, Val Loss: 4.9757\n",
                        "New best model saved with validation loss: 4.9757\n",
                        "Epoch 69/1000, Train Loss: 9.2568, Val Loss: 4.9757\n",
                        "New best model saved with validation loss: 4.9757\n",
                        "Epoch 73/1000, Train Loss: 8.0490, Val Loss: 4.9628\n",
                        "New best model saved with validation loss: 4.9628\n",
                        "Epoch 77/1000, Train Loss: 10.8997, Val Loss: 4.9505\n",
                        "New best model saved with validation loss: 4.9505\n",
                        "Epoch 81/1000, Train Loss: 8.8059, Val Loss: 4.91126\n",
                        "New best model saved with validation loss: 4.9112\n",
                        "Epoch 83/1000, Train Loss: 8.9459, Val Loss: 4.9084\n",
                        "New best model saved with validation loss: 4.9084\n",
                        "Epoch 89/1000, Train Loss: 8.9828, Val Loss: 4.87458\n",
                        "New best model saved with validation loss: 4.8745\n",
                        "Epoch 90/1000, Train Loss: 10.1360, Val Loss: 4.8447\n",
                        "New best model saved with validation loss: 4.8447\n",
                        "Epoch 99/1000, Train Loss: 7.2859, Val Loss: 4.84376\n",
                        "New best model saved with validation loss: 4.8437\n",
                        "Epoch 101/1000, Train Loss: 8.5855, Val Loss: 4.79169\n",
                        "New best model saved with validation loss: 4.7916\n",
                        "Epoch 105/1000, Train Loss: 10.0031, Val Loss: 4.7641\n",
                        "New best model saved with validation loss: 4.7641\n",
                        "Epoch 110/1000, Train Loss: 8.5058, Val Loss: 4.7360\n",
                        "New best model saved with validation loss: 4.7360\n",
                        "Epoch 114/1000, Train Loss: 8.3657, Val Loss: 4.6913\n",
                        "New best model saved with validation loss: 4.6913\n",
                        "Epoch 117/1000, Train Loss: 8.5651, Val Loss: 4.6364\n",
                        "New best model saved with validation loss: 4.6364\n",
                        "Epoch 118/1000, Train Loss: 9.7159, Val Loss: 4.5709\n",
                        "New best model saved with validation loss: 4.5709\n",
                        "Epoch 121/1000, Train Loss: 8.5263, Val Loss: 4.5125\n",
                        "New best model saved with validation loss: 4.5125\n",
                        "Epoch 122/1000, Train Loss: 7.3735, Val Loss: 4.4520\n",
                        "New best model saved with validation loss: 4.4520\n",
                        "Epoch 125/1000, Train Loss: 9.2739, Val Loss: 4.3235\n",
                        "New best model saved with validation loss: 4.3235\n",
                        "Epoch 127/1000, Train Loss: 7.4997, Val Loss: 4.1619\n",
                        "New best model saved with validation loss: 4.1619\n",
                        "Epoch 130/1000, Train Loss: 8.2734, Val Loss: 4.0939\n",
                        "New best model saved with validation loss: 4.0939\n",
                        "Epoch 133/1000, Train Loss: 7.5718, Val Loss: 3.8370\n",
                        "New best model saved with validation loss: 3.8370\n",
                        "Epoch 136/1000, Train Loss: 6.7235, Val Loss: 3.7996\n",
                        "New best model saved with validation loss: 3.7996\n",
                        "Epoch 142/1000, Train Loss: 6.7448, Val Loss: 3.7111\n",
                        "New best model saved with validation loss: 3.7111\n",
                        "Epoch 144/1000, Train Loss: 6.5484, Val Loss: 3.5675\n",
                        "New best model saved with validation loss: 3.5675\n",
                        "Epoch 157/1000, Train Loss: 6.3666, Val Loss: 3.5415\n",
                        "New best model saved with validation loss: 3.5415\n",
                        "Epoch 158/1000, Train Loss: 5.4185, Val Loss: 3.4702\n",
                        "New best model saved with validation loss: 3.4702\n",
                        "Epoch 258/1000, Train Loss: 4.0619, Val Loss: 4.1884Early stopping triggered after 258 epochs\n"
                    ]
                }
            ],
            "source": [
                "final_model = AsteroidLSTM(final_config)\n",
                "\n",
                "best_model = train_model(\n",
                "    final_model,\n",
                "    X_train,\n",
                "    y_train,\n",
                "    X_val,\n",
                "    y_val,\n",
                "    batch_size=best_params[\"batch_size\"],\n",
                "    num_epochs=1000,\n",
                "    learning_rate=best_params[\"learning_rate\"],\n",
                "    model_suffix=datetime.now().strftime(\"%Y%m%d_%H%M%S\"),\n",
                ")"
            ]
        },
        {
            "cell_type": "code",
            "execution_count": 36,
            "metadata": {},
            "outputs": [
                {
                    "name": "stdout",
                    "output_type": "stream",
                    "text": [
                        "Test MSE: 5.7190\n",
                        "Test RMSE: 2.3914\n",
                        "Test MAE: 1.8597\n",
                        "Test R2 Score: 0.0420\n",
                        "Test MSE: 5.7190\n",
                        "Test RMSE: 2.3914\n",
                        "Test MAE: 1.8597\n",
                        "Test R2 Score: 0.0420\n"
                    ]
                }
            ],
            "source": [
                "mse, rmse, mae, r2, predictions, true_values = evaluate_model(best_model, X_test, y_test, best_params[\"batch_size\"])\n",
                "print(f\"Test MSE: {mse:.4f}\")\n",
                "print(f\"Test RMSE: {rmse:.4f}\")\n",
                "print(f\"Test MAE: {mae:.4f}\")\n",
                "print(f\"Test R2 Score: {r2:.4f}\")"
            ]
        },
        {
            "cell_type": "code",
            "execution_count": 37,
            "metadata": {},
            "outputs": [
                {
                    "name": "stdout",
                    "output_type": "stream",
                    "text": [
                        "True:   4.8290, Predicted:   8.7226\n",
                        "True:   8.3899, Predicted:   6.1400\n",
                        "True:  12.3214, Predicted:   7.7866\n",
                        "True:   4.8040, Predicted:   8.0458\n",
                        "True:   3.9682, Predicted:   5.8129\n",
                        "True:   5.5296, Predicted:   5.7767\n",
                        "True:   8.9806, Predicted:   8.2419\n",
                        "True:   7.2400, Predicted:   6.5539\n",
                        "True:   4.4404, Predicted:   8.5265\n",
                        "True:   7.2801, Predicted:   7.1945\n"
                    ]
                }
            ],
            "source": [
                "for i in range(10):\n",
                "    print(f\"True: {true_values[i]:8.4f}, Predicted: {predictions[i]:8.4f}\")\n"
            ]
        },
        {
            "cell_type": "code",
            "execution_count": null,
            "metadata": {},
            "outputs": [],
            "source": []
        }
    ],
    "metadata": {
        "kernelspec": {
            "display_name": "mgr",
            "language": "python",
            "name": "python3"
        },
        "language_info": {
            "codemirror_mode": {
                "name": "ipython",
                "version": 3
            },
            "file_extension": ".py",
            "mimetype": "text/x-python",
            "name": "python",
            "nbconvert_exporter": "python",
            "pygments_lexer": "ipython3",
            "version": "3.11.9"
        }
    },
    "nbformat": 4,
    "nbformat_minor": 2
}
