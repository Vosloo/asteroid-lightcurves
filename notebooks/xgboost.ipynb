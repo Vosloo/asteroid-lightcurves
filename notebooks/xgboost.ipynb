{
 "cells": [
  {
   "cell_type": "code",
   "execution_count": 19,
   "metadata": {},
   "outputs": [],
   "source": [
    "import json\n",
    "from random import seed, shuffle\n",
    "from time import perf_counter\n",
    "from typing import Literal, TypedDict\n",
    "\n",
    "import numpy as np\n",
    "from astropy.timeseries import LombScargle\n",
    "from constants import DATA_DIR\n",
    "from hyperopt import STATUS_OK, Trials, fmin, hp, tpe\n",
    "from matplotlib import pyplot as plt\n",
    "from sklearn.metrics import mean_squared_error\n",
    "from sklearn.model_selection import train_test_split\n",
    "from tqdm import tqdm\n",
    "from xgboost import XGBRegressor\n",
    "\n",
    "from astrofit.model import Asteroid, Lightcurve, LightcurveBin\n",
    "from astrofit.utils import (\n",
    "    AsteroidLoader,\n",
    "    LightcurveBinner,\n",
    "    LightcurvePlotter,\n",
    "    LightcurveSplitter,\n",
    ")"
   ]
  },
  {
   "cell_type": "code",
   "execution_count": 2,
   "metadata": {},
   "outputs": [],
   "source": [
    "asteroid_loader = AsteroidLoader(DATA_DIR)\n",
    "lightcurve_binner = LightcurveBinner()\n",
    "lightcurve_plotter = LightcurvePlotter()\n",
    "lightcurve_splitter = LightcurveSplitter()\n",
    "\n",
    "ASTEROIDS_FREQ_DATA_PATH = DATA_DIR / \"asteroids_freq_data.json\""
   ]
  },
  {
   "cell_type": "code",
   "execution_count": 3,
   "metadata": {},
   "outputs": [
    {
     "name": "stderr",
     "output_type": "stream",
     "text": [
      "100%|██████████| 329/329 [00:02<00:00, 111.74it/s]"
     ]
    },
    {
     "name": "stdout",
     "output_type": "stream",
     "text": [
      "Loaded 203 asteroids\n"
     ]
    },
    {
     "name": "stderr",
     "output_type": "stream",
     "text": [
      "\n"
     ]
    }
   ],
   "source": [
    "MAX_PERIOD = 13\n",
    "\n",
    "asteroids: list[Asteroid] = []\n",
    "for asteroid_name in tqdm(asteroid_loader.available_asteroids):\n",
    "    asteroid = asteroid_loader.load_asteroid(asteroid_name)\n",
    "    if asteroid.period > MAX_PERIOD:\n",
    "        continue\n",
    "\n",
    "    asteroids.append(asteroid)\n",
    "\n",
    "print(f\"Loaded {len(asteroids)} asteroids\")"
   ]
  },
  {
   "cell_type": "code",
   "execution_count": 4,
   "metadata": {},
   "outputs": [],
   "source": [
    "class Config(TypedDict):\n",
    "    max_hours_diff: float\n",
    "    min_no_points: int\n",
    "    top_k_bins: int\n",
    "    select_bins_by: Literal[\"lightcurves\", \"points\"]\n",
    "    max_time_diff: float\n",
    "    min_bin_size: int\n",
    "    top_k_freqs: int\n",
    "    nterms: int\n"
   ]
  },
  {
   "cell_type": "code",
   "execution_count": 5,
   "metadata": {},
   "outputs": [],
   "source": [
    "def _split_lightcurves(asteroid: Asteroid, config: Config, debug: bool) -> list[Lightcurve]:\n",
    "    max_hours_diff = config[\"max_hours_diff\"]\n",
    "    min_no_points = config[\"min_no_points\"]\n",
    "\n",
    "    if debug:\n",
    "        print(\n",
    "            f\"Splitting lightcurves for {asteroid.name} with max_hours_diff={max_hours_diff} and min_no_points={min_no_points}\"\n",
    "        )\n",
    "\n",
    "        print(f\"Before splitting: {len(asteroid.lightcurves)} lightcurves\")\n",
    "\n",
    "    splitted = lightcurve_splitter.split_lightcurves(\n",
    "        asteroid.lightcurves,\n",
    "        max_hours_diff=max_hours_diff,\n",
    "        min_no_points=min_no_points,\n",
    "    )\n",
    "\n",
    "    if debug:\n",
    "        print(f\"After splitting: {len(splitted)} lightcurves\")\n",
    "\n",
    "    return splitted\n",
    "\n",
    "\n",
    "def _get_top_k_bins(lightcurves: list[Lightcurve], config: Config, debug: bool) -> list[LightcurveBin]:\n",
    "    max_time_diff = config[\"max_time_diff\"]\n",
    "    min_bin_size = config[\"min_bin_size\"]\n",
    "    top_k_bins = config[\"top_k_bins\"]\n",
    "\n",
    "    if debug:\n",
    "        print(f\"Getting top {top_k_bins} bins with max_time_diff={max_time_diff} and min_bin_size={min_bin_size}\")\n",
    "\n",
    "    bins = lightcurve_binner.bin_lightcurves(\n",
    "        lightcurves,\n",
    "        max_time_diff=max_time_diff,\n",
    "        min_bin_size=min_bin_size,\n",
    "    )\n",
    "\n",
    "    if debug:\n",
    "        print(f\"After binning {len(bins)} bins available\")\n",
    "\n",
    "    if len(bins) < top_k_bins:\n",
    "        print(f\"WARNING - using {len(bins)} bins instead of {top_k_bins}\")\n",
    "\n",
    "    if config[\"select_bins_by\"] == \"lightcurves\":\n",
    "        return sorted(bins, reverse=True)[:top_k_bins]\n",
    "\n",
    "    elif config[\"select_bins_by\"] == \"points\":\n",
    "        return sorted(bins, key=lambda bin: bin.points_count, reverse=True)[:top_k_bins]\n",
    "\n",
    "    else:\n",
    "        raise ValueError(\"Invalid value for select_bins_by\")\n",
    "\n",
    "\n",
    "def _get_top_k_freqs(lightcurve_bin: LightcurveBin, config: Config, debug: bool):\n",
    "    nterms = config[\"nterms\"]\n",
    "    top_k_freqs = config[\"top_k_freqs\"]\n",
    "\n",
    "    if debug:\n",
    "        print(\n",
    "            f\"Getting top {top_k_freqs} frequencies with nterms={nterms} for \"\n",
    "            f\"lightcurves={len(lightcurve_bin)} with total points={len(lightcurve_bin.times)}\"\n",
    "        )\n",
    "\n",
    "    frequency, power = LombScargle(\n",
    "        lightcurve_bin.times,\n",
    "        lightcurve_bin.brightnesses,\n",
    "        nterms=nterms,\n",
    "    ).autopower(maximum_frequency=400)\n",
    "\n",
    "    idx = np.argsort(power)[::-1][:top_k_freqs]\n",
    "    top_k_freqs = frequency[idx]\n",
    "\n",
    "    return np.sort(top_k_freqs)\n",
    "\n",
    "\n",
    "def get_freq_features(asteroid: Asteroid, config: Config, as_list: bool = False, debug: bool = False) -> list | np.ndarray | None:\n",
    "    splitted_lightcurves = _split_lightcurves(asteroid, config, debug)\n",
    "    top_k_bins = _get_top_k_bins(splitted_lightcurves, config, debug)\n",
    "\n",
    "    if not top_k_bins:  #  or len(top_k_bins) < config[\"top_k_bins\"]:\n",
    "        if debug:\n",
    "            print(f\"{'-'*50}\\n\")\n",
    "\n",
    "        return\n",
    "\n",
    "    freq_features = []\n",
    "    for _bin in top_k_bins:\n",
    "        top_k_freqs = _get_top_k_freqs(_bin, config, debug)\n",
    "        freq_features.extend(top_k_freqs)\n",
    "\n",
    "    if debug:\n",
    "        print(f\"{'-'*50}\\n\")\n",
    "\n",
    "    if as_list:\n",
    "        return freq_features\n",
    "\n",
    "    return np.array(freq_features)"
   ]
  },
  {
   "cell_type": "code",
   "execution_count": 6,
   "metadata": {},
   "outputs": [],
   "source": [
    "config = Config(\n",
    "    max_hours_diff=24,\n",
    "    min_no_points=10,\n",
    "    top_k_bins=4,\n",
    "    select_bins_by=\"points\",\n",
    "    max_time_diff=45,\n",
    "    min_bin_size=1,\n",
    "    top_k_freqs=50,\n",
    "    nterms=3,\n",
    ")"
   ]
  },
  {
   "cell_type": "code",
   "execution_count": 7,
   "metadata": {},
   "outputs": [
    {
     "name": "stderr",
     "output_type": "stream",
     "text": [
      "  0%|          | 0/203 [00:00<?, ?it/s]"
     ]
    },
    {
     "name": "stdout",
     "output_type": "stream",
     "text": [
      "Splitting lightcurves for Abundantia with max_hours_diff=24 and min_no_points=10\n",
      "Before splitting: 1 lightcurves\n",
      "After splitting: 5 lightcurves\n",
      "Getting top 4 bins with max_time_diff=45 and min_bin_size=1\n",
      "After binning 2 bins available\n",
      "WARNING - using 2 bins instead of 4\n",
      "Getting top 50 frequencies with nterms=3 for lightcurves=2 with total points=37\n"
     ]
    },
    {
     "name": "stderr",
     "output_type": "stream",
     "text": [
      "  0%|          | 1/203 [00:02<09:42,  2.88s/it]"
     ]
    },
    {
     "name": "stdout",
     "output_type": "stream",
     "text": [
      "Getting top 50 frequencies with nterms=3 for lightcurves=1 with total points=10\n",
      "--------------------------------------------------\n",
      "\n",
      "Splitting lightcurves for Adelheid with max_hours_diff=24 and min_no_points=10\n",
      "Before splitting: 31 lightcurves\n",
      "After splitting: 31 lightcurves\n",
      "Getting top 4 bins with max_time_diff=45 and min_bin_size=1\n",
      "After binning 7 bins available\n",
      "Getting top 50 frequencies with nterms=3 for lightcurves=8 with total points=377\n",
      "Getting top 50 frequencies with nterms=3 for lightcurves=5 with total points=167\n",
      "Getting top 50 frequencies with nterms=3 for lightcurves=4 with total points=130\n",
      "Getting top 50 frequencies with nterms=3 for lightcurves=4 with total points=126\n"
     ]
    },
    {
     "name": "stderr",
     "output_type": "stream",
     "text": [
      "  1%|          | 2/203 [00:13<24:43,  7.38s/it]"
     ]
    },
    {
     "name": "stdout",
     "output_type": "stream",
     "text": [
      "--------------------------------------------------\n",
      "\n",
      "Splitting lightcurves for Aegina with max_hours_diff=24 and min_no_points=10\n",
      "Before splitting: 1 lightcurves\n",
      "After splitting: 2 lightcurves\n",
      "Getting top 4 bins with max_time_diff=45 and min_bin_size=1\n",
      "After binning 1 bins available\n",
      "WARNING - using 1 bins instead of 4\n",
      "Getting top 50 frequencies with nterms=3 for lightcurves=1 with total points=10\n",
      "--------------------------------------------------\n",
      "\n",
      "Splitting lightcurves for Aethra with max_hours_diff=24 and min_no_points=10\n",
      "Before splitting: 5 lightcurves\n",
      "After splitting: 3 lightcurves\n",
      "Getting top 4 bins with max_time_diff=45 and min_bin_size=1\n",
      "After binning 0 bins available\n",
      "WARNING - using 0 bins instead of 4\n",
      "--------------------------------------------------\n",
      "\n",
      "Splitting lightcurves for Alexandra with max_hours_diff=24 and min_no_points=10\n",
      "Before splitting: 37 lightcurves\n",
      "After splitting: 37 lightcurves\n",
      "Getting top 4 bins with max_time_diff=45 and min_bin_size=1\n",
      "After binning 7 bins available\n",
      "Getting top 50 frequencies with nterms=3 for lightcurves=7 with total points=789\n",
      "Getting top 50 frequencies with nterms=3 for lightcurves=5 with total points=787\n",
      "Getting top 50 frequencies with nterms=3 for lightcurves=5 with total points=422\n",
      "Getting top 50 frequencies with nterms=3 for lightcurves=5 with total points=223\n"
     ]
    },
    {
     "name": "stderr",
     "output_type": "stream",
     "text": [
      "  2%|▏         | 5/203 [00:20<12:13,  3.71s/it]"
     ]
    },
    {
     "name": "stdout",
     "output_type": "stream",
     "text": [
      "--------------------------------------------------\n",
      "\n",
      "Splitting lightcurves for Alice with max_hours_diff=24 and min_no_points=10\n",
      "Before splitting: 9 lightcurves\n",
      "After splitting: 5 lightcurves\n",
      "Getting top 4 bins with max_time_diff=45 and min_bin_size=1\n",
      "After binning 3 bins available\n",
      "WARNING - using 3 bins instead of 4\n",
      "Getting top 50 frequencies with nterms=3 for lightcurves=2 with total points=69\n"
     ]
    },
    {
     "name": "stderr",
     "output_type": "stream",
     "text": [
      "  3%|▎         | 6/203 [00:20<09:17,  2.83s/it]"
     ]
    },
    {
     "name": "stdout",
     "output_type": "stream",
     "text": [
      "Getting top 50 frequencies with nterms=3 for lightcurves=1 with total points=42\n",
      "Getting top 50 frequencies with nterms=3 for lightcurves=1 with total points=38\n",
      "--------------------------------------------------\n",
      "\n",
      "Splitting lightcurves for Alkeste with max_hours_diff=24 and min_no_points=10\n",
      "Before splitting: 1 lightcurves\n",
      "After splitting: 6 lightcurves\n",
      "Getting top 4 bins with max_time_diff=45 and min_bin_size=1\n",
      "After binning 3 bins available\n",
      "WARNING - using 3 bins instead of 4\n",
      "Getting top 50 frequencies with nterms=3 for lightcurves=3 with total points=37\n",
      "Getting top 50 frequencies with nterms=3 for lightcurves=1 with total points=11\n",
      "Getting top 50 frequencies with nterms=3 for lightcurves=1 with total points=11\n"
     ]
    },
    {
     "name": "stderr",
     "output_type": "stream",
     "text": [
      "  3%|▎         | 7/203 [00:24<09:55,  3.04s/it]"
     ]
    },
    {
     "name": "stdout",
     "output_type": "stream",
     "text": [
      "--------------------------------------------------\n",
      "\n",
      "Splitting lightcurves for Alma with max_hours_diff=24 and min_no_points=10\n",
      "Before splitting: 1 lightcurves\n",
      "After splitting: 4 lightcurves\n",
      "Getting top 4 bins with max_time_diff=45 and min_bin_size=1\n",
      "After binning 2 bins available\n",
      "WARNING - using 2 bins instead of 4\n",
      "Getting top 50 frequencies with nterms=3 for lightcurves=2 with total points=215\n"
     ]
    },
    {
     "name": "stderr",
     "output_type": "stream",
     "text": [
      "  4%|▍         | 8/203 [00:24<07:46,  2.39s/it]"
     ]
    },
    {
     "name": "stdout",
     "output_type": "stream",
     "text": [
      "Getting top 50 frequencies with nterms=3 for lightcurves=1 with total points=209\n",
      "--------------------------------------------------\n",
      "\n",
      "Splitting lightcurves for Althaea with max_hours_diff=24 and min_no_points=10\n",
      "Before splitting: 4 lightcurves\n",
      "After splitting: 4 lightcurves\n",
      "Getting top 4 bins with max_time_diff=45 and min_bin_size=1\n",
      "After binning 3 bins available\n",
      "WARNING - using 3 bins instead of 4\n",
      "Getting top 50 frequencies with nterms=3 for lightcurves=1 with total points=89\n",
      "Getting top 50 frequencies with nterms=3 for lightcurves=1 with total points=15\n",
      "Getting top 50 frequencies with nterms=3 for lightcurves=1 with total points=10\n"
     ]
    },
    {
     "name": "stderr",
     "output_type": "stream",
     "text": [
      "  4%|▍         | 9/203 [00:25<06:25,  1.99s/it]"
     ]
    },
    {
     "name": "stdout",
     "output_type": "stream",
     "text": [
      "--------------------------------------------------\n",
      "\n",
      "Splitting lightcurves for Ambrosia with max_hours_diff=24 and min_no_points=10\n",
      "Before splitting: 9 lightcurves\n",
      "After splitting: 15 lightcurves\n",
      "Getting top 4 bins with max_time_diff=45 and min_bin_size=1\n",
      "After binning 4 bins available\n",
      "Getting top 50 frequencies with nterms=3 for lightcurves=9 with total points=727\n",
      "Getting top 50 frequencies with nterms=3 for lightcurves=3 with total points=186\n"
     ]
    },
    {
     "name": "stderr",
     "output_type": "stream",
     "text": [
      "  5%|▍         | 10/203 [00:31<10:09,  3.16s/it]"
     ]
    },
    {
     "name": "stdout",
     "output_type": "stream",
     "text": [
      "Getting top 50 frequencies with nterms=3 for lightcurves=1 with total points=106\n",
      "Getting top 50 frequencies with nterms=3 for lightcurves=1 with total points=14\n",
      "--------------------------------------------------\n",
      "\n",
      "Splitting lightcurves for Amicitia with max_hours_diff=24 and min_no_points=10\n",
      "Before splitting: 3 lightcurves\n",
      "After splitting: 2 lightcurves\n",
      "Getting top 4 bins with max_time_diff=45 and min_bin_size=1\n",
      "After binning 0 bins available\n",
      "WARNING - using 0 bins instead of 4\n",
      "--------------------------------------------------\n",
      "\n",
      "Splitting lightcurves for Amphitrite with max_hours_diff=24 and min_no_points=10\n",
      "Before splitting: 60 lightcurves\n",
      "After splitting: 45 lightcurves\n",
      "Getting top 4 bins with max_time_diff=45 and min_bin_size=1\n",
      "After binning 17 bins available\n",
      "Getting top 50 frequencies with nterms=3 for lightcurves=2 with total points=756\n",
      "Getting top 50 frequencies with nterms=3 for lightcurves=5 with total points=596\n",
      "Getting top 50 frequencies with nterms=3 for lightcurves=9 with total points=543\n",
      "Getting top 50 frequencies with nterms=3 for lightcurves=2 with total points=227\n"
     ]
    },
    {
     "name": "stderr",
     "output_type": "stream",
     "text": [
      "  6%|▌         | 12/203 [00:36<09:07,  2.87s/it]"
     ]
    },
    {
     "name": "stdout",
     "output_type": "stream",
     "text": [
      "--------------------------------------------------\n",
      "\n",
      "Splitting lightcurves for Andromache with max_hours_diff=24 and min_no_points=10\n",
      "Before splitting: 1 lightcurves\n",
      "After splitting: 7 lightcurves\n",
      "Getting top 4 bins with max_time_diff=45 and min_bin_size=1\n",
      "After binning 2 bins available\n",
      "WARNING - using 2 bins instead of 4\n",
      "Getting top 50 frequencies with nterms=3 for lightcurves=5 with total points=50\n"
     ]
    },
    {
     "name": "stderr",
     "output_type": "stream",
     "text": [
      "  6%|▋         | 13/203 [00:40<09:56,  3.14s/it]"
     ]
    },
    {
     "name": "stdout",
     "output_type": "stream",
     "text": [
      "Getting top 50 frequencies with nterms=3 for lightcurves=1 with total points=10\n",
      "--------------------------------------------------\n",
      "\n",
      "Splitting lightcurves for Angelina with max_hours_diff=24 and min_no_points=10\n",
      "Before splitting: 22 lightcurves\n",
      "After splitting: 12 lightcurves\n",
      "Getting top 4 bins with max_time_diff=45 and min_bin_size=1\n",
      "After binning 3 bins available\n",
      "WARNING - using 3 bins instead of 4\n",
      "Getting top 50 frequencies with nterms=3 for lightcurves=4 with total points=146\n",
      "Getting top 50 frequencies with nterms=3 for lightcurves=4 with total points=64\n"
     ]
    },
    {
     "name": "stderr",
     "output_type": "stream",
     "text": [
      "  7%|▋         | 14/203 [00:46<12:02,  3.82s/it]"
     ]
    },
    {
     "name": "stdout",
     "output_type": "stream",
     "text": [
      "Getting top 50 frequencies with nterms=3 for lightcurves=2 with total points=42\n",
      "--------------------------------------------------\n",
      "\n",
      "Splitting lightcurves for Anna with max_hours_diff=24 and min_no_points=10\n",
      "Before splitting: 1 lightcurves\n",
      "After splitting: 0 lightcurves\n",
      "Getting top 4 bins with max_time_diff=45 and min_bin_size=1\n",
      "After binning 0 bins available\n",
      "WARNING - using 0 bins instead of 4\n",
      "--------------------------------------------------\n",
      "\n",
      "Splitting lightcurves for Antigone with max_hours_diff=24 and min_no_points=10\n",
      "Before splitting: 52 lightcurves\n",
      "After splitting: 45 lightcurves\n",
      "Getting top 4 bins with max_time_diff=45 and min_bin_size=1\n",
      "After binning 18 bins available\n",
      "Getting top 50 frequencies with nterms=3 for lightcurves=8 with total points=1303\n",
      "Getting top 50 frequencies with nterms=3 for lightcurves=3 with total points=508\n",
      "Getting top 50 frequencies with nterms=3 for lightcurves=4 with total points=481\n",
      "Getting top 50 frequencies with nterms=3 for lightcurves=2 with total points=384\n"
     ]
    },
    {
     "name": "stderr",
     "output_type": "stream",
     "text": [
      "  8%|▊         | 16/203 [00:57<14:06,  4.53s/it]"
     ]
    },
    {
     "name": "stdout",
     "output_type": "stream",
     "text": [
      "--------------------------------------------------\n",
      "\n",
      "Splitting lightcurves for Antonia with max_hours_diff=24 and min_no_points=10\n",
      "Before splitting: 3 lightcurves\n",
      "After splitting: 7 lightcurves\n",
      "Getting top 4 bins with max_time_diff=45 and min_bin_size=1\n",
      "After binning 1 bins available\n",
      "WARNING - using 1 bins instead of 4\n",
      "Getting top 50 frequencies with nterms=3 for lightcurves=5 with total points=891\n"
     ]
    },
    {
     "name": "stderr",
     "output_type": "stream",
     "text": [
      "  8%|▊         | 17/203 [01:00<12:44,  4.11s/it]"
     ]
    },
    {
     "name": "stdout",
     "output_type": "stream",
     "text": [
      "--------------------------------------------------\n",
      "\n",
      "Splitting lightcurves for Arethusa with max_hours_diff=24 and min_no_points=10\n",
      "Before splitting: 5 lightcurves\n",
      "After splitting: 4 lightcurves\n",
      "Getting top 4 bins with max_time_diff=45 and min_bin_size=1\n",
      "After binning 0 bins available\n",
      "WARNING - using 0 bins instead of 4\n",
      "--------------------------------------------------\n",
      "\n",
      "Splitting lightcurves for Ariadne with max_hours_diff=24 and min_no_points=10\n",
      "Before splitting: 35 lightcurves\n",
      "After splitting: 32 lightcurves\n",
      "Getting top 4 bins with max_time_diff=45 and min_bin_size=1\n",
      "After binning 11 bins available\n",
      "Getting top 50 frequencies with nterms=3 for lightcurves=9 with total points=512\n",
      "Getting top 50 frequencies with nterms=3 for lightcurves=6 with total points=486\n",
      "Getting top 50 frequencies with nterms=3 for lightcurves=2 with total points=172\n",
      "Getting top 50 frequencies with nterms=3 for lightcurves=3 with total points=146\n"
     ]
    },
    {
     "name": "stderr",
     "output_type": "stream",
     "text": [
      "  9%|▉         | 19/203 [01:08<12:48,  4.17s/it]"
     ]
    },
    {
     "name": "stdout",
     "output_type": "stream",
     "text": [
      "--------------------------------------------------\n",
      "\n",
      "Splitting lightcurves for Aschera with max_hours_diff=24 and min_no_points=10\n",
      "Before splitting: 1 lightcurves\n",
      "After splitting: 0 lightcurves\n",
      "Getting top 4 bins with max_time_diff=45 and min_bin_size=1\n",
      "After binning 0 bins available\n",
      "WARNING - using 0 bins instead of 4\n",
      "--------------------------------------------------\n",
      "\n",
      "Splitting lightcurves for Atala with max_hours_diff=24 and min_no_points=10\n",
      "Before splitting: 3 lightcurves\n",
      "After splitting: 2 lightcurves\n",
      "Getting top 4 bins with max_time_diff=45 and min_bin_size=1\n",
      "After binning 0 bins available\n",
      "WARNING - using 0 bins instead of 4\n",
      "--------------------------------------------------\n",
      "\n",
      "Splitting lightcurves for Atalante with max_hours_diff=24 and min_no_points=10\n",
      "Before splitting: 6 lightcurves\n",
      "After splitting: 18 lightcurves\n",
      "Getting top 4 bins with max_time_diff=45 and min_bin_size=1\n",
      "After binning 6 bins available\n",
      "Getting top 50 frequencies with nterms=3 for lightcurves=5 with total points=1540\n",
      "Getting top 50 frequencies with nterms=3 for lightcurves=3 with total points=622\n",
      "Getting top 50 frequencies with nterms=3 for lightcurves=2 with total points=153\n",
      "Getting top 50 frequencies with nterms=3 for lightcurves=3 with total points=131\n"
     ]
    },
    {
     "name": "stderr",
     "output_type": "stream",
     "text": [
      " 11%|█         | 22/203 [01:16<10:34,  3.50s/it]"
     ]
    },
    {
     "name": "stdout",
     "output_type": "stream",
     "text": [
      "--------------------------------------------------\n",
      "\n",
      "Splitting lightcurves for Athor with max_hours_diff=24 and min_no_points=10\n",
      "Before splitting: 9 lightcurves\n",
      "After splitting: 22 lightcurves\n",
      "Getting top 4 bins with max_time_diff=45 and min_bin_size=1\n",
      "After binning 5 bins available\n",
      "Getting top 50 frequencies with nterms=3 for lightcurves=9 with total points=1757\n",
      "Getting top 50 frequencies with nterms=3 for lightcurves=3 with total points=1049\n",
      "Getting top 50 frequencies with nterms=3 for lightcurves=3 with total points=714\n",
      "Getting top 50 frequencies with nterms=3 for lightcurves=4 with total points=148\n"
     ]
    },
    {
     "name": "stderr",
     "output_type": "stream",
     "text": [
      " 11%|█▏        | 23/203 [01:27<14:22,  4.79s/it]"
     ]
    },
    {
     "name": "stdout",
     "output_type": "stream",
     "text": [
      "--------------------------------------------------\n",
      "\n",
      "Splitting lightcurves for Augusta with max_hours_diff=24 and min_no_points=10\n",
      "Before splitting: 7 lightcurves\n",
      "After splitting: 6 lightcurves\n",
      "Getting top 4 bins with max_time_diff=45 and min_bin_size=1\n",
      "After binning 1 bins available\n",
      "WARNING - using 1 bins instead of 4\n",
      "Getting top 50 frequencies with nterms=3 for lightcurves=1 with total points=38\n",
      "--------------------------------------------------\n",
      "\n",
      "Splitting lightcurves for Aurora with max_hours_diff=24 and min_no_points=10\n",
      "Before splitting: 22 lightcurves\n",
      "After splitting: 21 lightcurves\n",
      "Getting top 4 bins with max_time_diff=45 and min_bin_size=1\n",
      "After binning 9 bins available\n",
      "Getting top 50 frequencies with nterms=3 for lightcurves=3 with total points=311\n",
      "Getting top 50 frequencies with nterms=3 for lightcurves=4 with total points=97\n",
      "Getting top 50 frequencies with nterms=3 for lightcurves=2 with total points=97\n",
      "Getting top 50 frequencies with nterms=3 for lightcurves=3 with total points=88\n"
     ]
    },
    {
     "name": "stderr",
     "output_type": "stream",
     "text": [
      " 12%|█▏        | 25/203 [01:35<13:15,  4.47s/it]"
     ]
    },
    {
     "name": "stdout",
     "output_type": "stream",
     "text": [
      "--------------------------------------------------\n",
      "\n",
      "Splitting lightcurves for Ausonia with max_hours_diff=24 and min_no_points=10\n",
      "Before splitting: 16 lightcurves\n",
      "After splitting: 16 lightcurves\n",
      "Getting top 4 bins with max_time_diff=45 and min_bin_size=1\n",
      "After binning 7 bins available\n",
      "Getting top 50 frequencies with nterms=3 for lightcurves=6 with total points=1207\n",
      "Getting top 50 frequencies with nterms=3 for lightcurves=2 with total points=235\n"
     ]
    },
    {
     "name": "stderr",
     "output_type": "stream",
     "text": [
      " 13%|█▎        | 26/203 [01:41<13:56,  4.73s/it]"
     ]
    },
    {
     "name": "stdout",
     "output_type": "stream",
     "text": [
      "Getting top 50 frequencies with nterms=3 for lightcurves=1 with total points=123\n",
      "Getting top 50 frequencies with nterms=3 for lightcurves=1 with total points=96\n",
      "--------------------------------------------------\n",
      "\n",
      "Splitting lightcurves for Austria with max_hours_diff=24 and min_no_points=10\n",
      "Before splitting: 2 lightcurves\n",
      "After splitting: 2 lightcurves\n",
      "Getting top 4 bins with max_time_diff=45 and min_bin_size=1\n",
      "After binning 1 bins available\n",
      "WARNING - using 1 bins instead of 4\n",
      "Getting top 50 frequencies with nterms=3 for lightcurves=1 with total points=82\n",
      "--------------------------------------------------\n",
      "\n",
      "Splitting lightcurves for Badenia with max_hours_diff=24 and min_no_points=10\n",
      "Before splitting: 2 lightcurves\n",
      "After splitting: 0 lightcurves\n",
      "Getting top 4 bins with max_time_diff=45 and min_bin_size=1\n",
      "After binning 0 bins available\n",
      "WARNING - using 0 bins instead of 4\n",
      "--------------------------------------------------\n",
      "\n",
      "Splitting lightcurves for Bavaria with max_hours_diff=24 and min_no_points=10\n",
      "Before splitting: 29 lightcurves\n",
      "After splitting: 25 lightcurves\n",
      "Getting top 4 bins with max_time_diff=45 and min_bin_size=1\n",
      "After binning 8 bins available\n",
      "Getting top 50 frequencies with nterms=3 for lightcurves=5 with total points=619\n",
      "Getting top 50 frequencies with nterms=3 for lightcurves=6 with total points=334\n",
      "Getting top 50 frequencies with nterms=3 for lightcurves=2 with total points=186\n",
      "Getting top 50 frequencies with nterms=3 for lightcurves=3 with total points=160\n"
     ]
    },
    {
     "name": "stderr",
     "output_type": "stream",
     "text": [
      " 14%|█▍        | 29/203 [01:54<13:14,  4.57s/it]"
     ]
    },
    {
     "name": "stdout",
     "output_type": "stream",
     "text": [
      "--------------------------------------------------\n",
      "\n",
      "Splitting lightcurves for Beatrix with max_hours_diff=24 and min_no_points=10\n",
      "Before splitting: 1 lightcurves\n",
      "After splitting: 0 lightcurves\n",
      "Getting top 4 bins with max_time_diff=45 and min_bin_size=1\n",
      "After binning 0 bins available\n",
      "WARNING - using 0 bins instead of 4\n",
      "--------------------------------------------------\n",
      "\n",
      "Splitting lightcurves for Belisana with max_hours_diff=24 and min_no_points=10\n",
      "Before splitting: 3 lightcurves\n",
      "After splitting: 16 lightcurves\n",
      "Getting top 4 bins with max_time_diff=45 and min_bin_size=1\n",
      "After binning 3 bins available\n",
      "WARNING - using 3 bins instead of 4\n",
      "Getting top 50 frequencies with nterms=3 for lightcurves=4 with total points=243\n",
      "Getting top 50 frequencies with nterms=3 for lightcurves=3 with total points=182\n"
     ]
    },
    {
     "name": "stderr",
     "output_type": "stream",
     "text": [
      " 15%|█▌        | 31/203 [02:00<11:53,  4.15s/it]"
     ]
    },
    {
     "name": "stdout",
     "output_type": "stream",
     "text": [
      "Getting top 50 frequencies with nterms=3 for lightcurves=1 with total points=14\n",
      "--------------------------------------------------\n",
      "\n",
      "Splitting lightcurves for Bettina with max_hours_diff=24 and min_no_points=10\n",
      "Before splitting: 19 lightcurves\n",
      "After splitting: 15 lightcurves\n",
      "Getting top 4 bins with max_time_diff=45 and min_bin_size=1\n",
      "After binning 9 bins available\n",
      "Getting top 50 frequencies with nterms=3 for lightcurves=2 with total points=230\n",
      "Getting top 50 frequencies with nterms=3 for lightcurves=1 with total points=114\n",
      "Getting top 50 frequencies with nterms=3 for lightcurves=1 with total points=60\n",
      "Getting top 50 frequencies with nterms=3 for lightcurves=2 with total points=42\n"
     ]
    },
    {
     "name": "stderr",
     "output_type": "stream",
     "text": [
      " 16%|█▌        | 32/203 [02:04<11:50,  4.15s/it]"
     ]
    },
    {
     "name": "stdout",
     "output_type": "stream",
     "text": [
      "--------------------------------------------------\n",
      "\n",
      "Splitting lightcurves for Bianca with max_hours_diff=24 and min_no_points=10\n",
      "Before splitting: 49 lightcurves\n",
      "After splitting: 45 lightcurves\n",
      "Getting top 4 bins with max_time_diff=45 and min_bin_size=1\n",
      "After binning 10 bins available\n",
      "Getting top 50 frequencies with nterms=3 for lightcurves=8 with total points=430\n",
      "Getting top 50 frequencies with nterms=3 for lightcurves=6 with total points=363\n",
      "Getting top 50 frequencies with nterms=3 for lightcurves=6 with total points=360\n",
      "Getting top 50 frequencies with nterms=3 for lightcurves=5 with total points=162\n"
     ]
    },
    {
     "name": "stderr",
     "output_type": "stream",
     "text": [
      " 16%|█▋        | 33/203 [02:16<16:22,  5.78s/it]"
     ]
    },
    {
     "name": "stdout",
     "output_type": "stream",
     "text": [
      "--------------------------------------------------\n",
      "\n",
      "Splitting lightcurves for Bohemia with max_hours_diff=24 and min_no_points=10\n",
      "Before splitting: 8 lightcurves\n",
      "After splitting: 21 lightcurves\n",
      "Getting top 4 bins with max_time_diff=45 and min_bin_size=1\n",
      "After binning 8 bins available\n",
      "Getting top 50 frequencies with nterms=3 for lightcurves=5 with total points=430\n",
      "Getting top 50 frequencies with nterms=3 for lightcurves=3 with total points=209\n",
      "Getting top 50 frequencies with nterms=3 for lightcurves=1 with total points=152\n",
      "Getting top 50 frequencies with nterms=3 for lightcurves=4 with total points=130\n"
     ]
    },
    {
     "name": "stderr",
     "output_type": "stream",
     "text": [
      " 17%|█▋        | 34/203 [02:27<19:32,  6.94s/it]"
     ]
    },
    {
     "name": "stdout",
     "output_type": "stream",
     "text": [
      "--------------------------------------------------\n",
      "\n",
      "Splitting lightcurves for Brasilia with max_hours_diff=24 and min_no_points=10\n",
      "Before splitting: 1 lightcurves\n",
      "After splitting: 3 lightcurves\n",
      "Getting top 4 bins with max_time_diff=45 and min_bin_size=1\n",
      "After binning 1 bins available\n",
      "WARNING - using 1 bins instead of 4\n",
      "Getting top 50 frequencies with nterms=3 for lightcurves=2 with total points=114\n"
     ]
    },
    {
     "name": "stderr",
     "output_type": "stream",
     "text": [
      " 17%|█▋        | 35/203 [02:29<15:30,  5.54s/it]"
     ]
    },
    {
     "name": "stdout",
     "output_type": "stream",
     "text": [
      "--------------------------------------------------\n",
      "\n",
      "Splitting lightcurves for Brucia with max_hours_diff=24 and min_no_points=10\n",
      "Before splitting: 1 lightcurves\n",
      "After splitting: 0 lightcurves\n",
      "Getting top 4 bins with max_time_diff=45 and min_bin_size=1\n",
      "After binning 0 bins available\n",
      "WARNING - using 0 bins instead of 4\n",
      "--------------------------------------------------\n",
      "\n",
      "Splitting lightcurves for Brunhild with max_hours_diff=24 and min_no_points=10\n",
      "Before splitting: 1 lightcurves\n",
      "After splitting: 12 lightcurves\n",
      "Getting top 4 bins with max_time_diff=45 and min_bin_size=1\n",
      "After binning 5 bins available\n",
      "Getting top 50 frequencies with nterms=3 for lightcurves=3 with total points=66\n",
      "Getting top 50 frequencies with nterms=3 for lightcurves=3 with total points=38\n",
      "Getting top 50 frequencies with nterms=3 for lightcurves=2 with total points=26\n"
     ]
    },
    {
     "name": "stderr",
     "output_type": "stream",
     "text": [
      " 18%|█▊        | 37/203 [02:34<12:03,  4.36s/it]"
     ]
    },
    {
     "name": "stdout",
     "output_type": "stream",
     "text": [
      "Getting top 50 frequencies with nterms=3 for lightcurves=1 with total points=12\n",
      "--------------------------------------------------\n",
      "\n",
      "Splitting lightcurves for Budrosa with max_hours_diff=24 and min_no_points=10\n",
      "Before splitting: 1 lightcurves\n",
      "After splitting: 7 lightcurves\n",
      "Getting top 4 bins with max_time_diff=45 and min_bin_size=1\n",
      "After binning 3 bins available\n",
      "WARNING - using 3 bins instead of 4\n",
      "Getting top 50 frequencies with nterms=3 for lightcurves=4 with total points=65\n",
      "Getting top 50 frequencies with nterms=3 for lightcurves=1 with total points=15\n",
      "Getting top 50 frequencies with nterms=3 for lightcurves=1 with total points=12\n"
     ]
    },
    {
     "name": "stderr",
     "output_type": "stream",
     "text": [
      " 19%|█▊        | 38/203 [02:36<10:35,  3.85s/it]"
     ]
    },
    {
     "name": "stdout",
     "output_type": "stream",
     "text": [
      "--------------------------------------------------\n",
      "\n",
      "Splitting lightcurves for Burgundia with max_hours_diff=24 and min_no_points=10\n",
      "Before splitting: 25 lightcurves\n",
      "After splitting: 26 lightcurves\n",
      "Getting top 4 bins with max_time_diff=45 and min_bin_size=1\n",
      "After binning 3 bins available\n",
      "WARNING - using 3 bins instead of 4\n",
      "Getting top 50 frequencies with nterms=3 for lightcurves=7 with total points=678\n",
      "Getting top 50 frequencies with nterms=3 for lightcurves=9 with total points=382\n",
      "Getting top 50 frequencies with nterms=3 for lightcurves=2 with total points=84\n"
     ]
    },
    {
     "name": "stderr",
     "output_type": "stream",
     "text": [
      " 19%|█▉        | 39/203 [02:43<12:23,  4.53s/it]"
     ]
    },
    {
     "name": "stdout",
     "output_type": "stream",
     "text": [
      "--------------------------------------------------\n",
      "\n",
      "Splitting lightcurves for Byblis with max_hours_diff=24 and min_no_points=10\n",
      "Before splitting: 4 lightcurves\n",
      "After splitting: 14 lightcurves\n",
      "Getting top 4 bins with max_time_diff=45 and min_bin_size=1\n",
      "After binning 6 bins available\n",
      "Getting top 50 frequencies with nterms=3 for lightcurves=3 with total points=500\n",
      "Getting top 50 frequencies with nterms=3 for lightcurves=1 with total points=207\n",
      "Getting top 50 frequencies with nterms=3 for lightcurves=2 with total points=166\n",
      "Getting top 50 frequencies with nterms=3 for lightcurves=2 with total points=104\n"
     ]
    },
    {
     "name": "stderr",
     "output_type": "stream",
     "text": [
      " 20%|█▉        | 40/203 [02:49<13:55,  5.12s/it]"
     ]
    },
    {
     "name": "stdout",
     "output_type": "stream",
     "text": [
      "--------------------------------------------------\n",
      "\n",
      "Splitting lightcurves for Caecilia with max_hours_diff=24 and min_no_points=10\n",
      "Before splitting: 8 lightcurves\n",
      "After splitting: 13 lightcurves\n",
      "Getting top 4 bins with max_time_diff=45 and min_bin_size=1\n",
      "After binning 4 bins available\n",
      "Getting top 50 frequencies with nterms=3 for lightcurves=2 with total points=241\n",
      "Getting top 50 frequencies with nterms=3 for lightcurves=3 with total points=147\n",
      "Getting top 50 frequencies with nterms=3 for lightcurves=1 with total points=130\n",
      "Getting top 50 frequencies with nterms=3 for lightcurves=3 with total points=119\n"
     ]
    },
    {
     "name": "stderr",
     "output_type": "stream",
     "text": [
      " 20%|██        | 41/203 [02:57<15:24,  5.71s/it]"
     ]
    },
    {
     "name": "stdout",
     "output_type": "stream",
     "text": [
      "--------------------------------------------------\n",
      "\n",
      "Splitting lightcurves for Camilla with max_hours_diff=24 and min_no_points=10\n",
      "Before splitting: 32 lightcurves\n",
      "After splitting: 27 lightcurves\n",
      "Getting top 4 bins with max_time_diff=45 and min_bin_size=1\n",
      "After binning 13 bins available\n",
      "Getting top 50 frequencies with nterms=3 for lightcurves=3 with total points=189\n",
      "Getting top 50 frequencies with nterms=3 for lightcurves=1 with total points=64\n",
      "Getting top 50 frequencies with nterms=3 for lightcurves=2 with total points=58\n",
      "Getting top 50 frequencies with nterms=3 for lightcurves=3 with total points=51\n"
     ]
    },
    {
     "name": "stderr",
     "output_type": "stream",
     "text": [
      " 21%|██        | 42/203 [03:04<16:36,  6.19s/it]"
     ]
    },
    {
     "name": "stdout",
     "output_type": "stream",
     "text": [
      "--------------------------------------------------\n",
      "\n",
      "Splitting lightcurves for Campania with max_hours_diff=24 and min_no_points=10\n",
      "Before splitting: 34 lightcurves\n",
      "After splitting: 30 lightcurves\n",
      "Getting top 4 bins with max_time_diff=45 and min_bin_size=1\n",
      "After binning 9 bins available\n",
      "Getting top 50 frequencies with nterms=3 for lightcurves=4 with total points=242\n",
      "Getting top 50 frequencies with nterms=3 for lightcurves=5 with total points=194\n",
      "Getting top 50 frequencies with nterms=3 for lightcurves=4 with total points=155\n",
      "Getting top 50 frequencies with nterms=3 for lightcurves=5 with total points=105\n"
     ]
    },
    {
     "name": "stderr",
     "output_type": "stream",
     "text": [
      " 22%|██▏       | 44/203 [03:16<14:32,  5.49s/it]"
     ]
    },
    {
     "name": "stdout",
     "output_type": "stream",
     "text": [
      "--------------------------------------------------\n",
      "\n",
      "Splitting lightcurves for Carlova with max_hours_diff=24 and min_no_points=10\n",
      "Before splitting: 9 lightcurves\n",
      "After splitting: 7 lightcurves\n",
      "Getting top 4 bins with max_time_diff=45 and min_bin_size=1\n",
      "After binning 3 bins available\n",
      "WARNING - using 3 bins instead of 4\n",
      "Getting top 50 frequencies with nterms=3 for lightcurves=1 with total points=161\n",
      "Getting top 50 frequencies with nterms=3 for lightcurves=2 with total points=70\n",
      "Getting top 50 frequencies with nterms=3 for lightcurves=1 with total points=11\n",
      "--------------------------------------------------\n",
      "\n",
      "Splitting lightcurves for Ceres with max_hours_diff=24 and min_no_points=10\n",
      "Before splitting: 42 lightcurves\n",
      "After splitting: 42 lightcurves\n",
      "Getting top 4 bins with max_time_diff=45 and min_bin_size=1\n",
      "After binning 10 bins available\n",
      "Getting top 50 frequencies with nterms=3 for lightcurves=8 with total points=874\n",
      "Getting top 50 frequencies with nterms=3 for lightcurves=13 with total points=798\n",
      "Getting top 50 frequencies with nterms=3 for lightcurves=6 with total points=451\n",
      "Getting top 50 frequencies with nterms=3 for lightcurves=4 with total points=241\n"
     ]
    },
    {
     "name": "stderr",
     "output_type": "stream",
     "text": [
      " 22%|██▏       | 45/203 [03:29<20:46,  7.89s/it]"
     ]
    },
    {
     "name": "stdout",
     "output_type": "stream",
     "text": [
      "--------------------------------------------------\n",
      "\n",
      "Splitting lightcurves for Chaldaea with max_hours_diff=24 and min_no_points=10\n",
      "Before splitting: 10 lightcurves\n",
      "After splitting: 10 lightcurves\n",
      "Getting top 4 bins with max_time_diff=45 and min_bin_size=1\n",
      "After binning 3 bins available\n",
      "WARNING - using 3 bins instead of 4\n",
      "Getting top 50 frequencies with nterms=3 for lightcurves=1 with total points=189\n",
      "Getting top 50 frequencies with nterms=3 for lightcurves=5 with total points=189\n",
      "Getting top 50 frequencies with nterms=3 for lightcurves=3 with total points=107\n"
     ]
    },
    {
     "name": "stderr",
     "output_type": "stream",
     "text": [
      " 23%|██▎       | 46/203 [03:31<15:29,  5.92s/it]"
     ]
    },
    {
     "name": "stdout",
     "output_type": "stream",
     "text": [
      "--------------------------------------------------\n",
      "\n",
      "Splitting lightcurves for Charybdis with max_hours_diff=24 and min_no_points=10\n",
      "Before splitting: 2 lightcurves\n",
      "After splitting: 1 lightcurves\n",
      "Getting top 4 bins with max_time_diff=45 and min_bin_size=1\n",
      "After binning 0 bins available\n",
      "WARNING - using 0 bins instead of 4\n",
      "--------------------------------------------------\n",
      "\n",
      "Splitting lightcurves for Chicago with max_hours_diff=24 and min_no_points=10\n",
      "Before splitting: 2 lightcurves\n",
      "After splitting: 2 lightcurves\n",
      "Getting top 4 bins with max_time_diff=45 and min_bin_size=1\n",
      "After binning 0 bins available\n",
      "WARNING - using 0 bins instead of 4\n",
      "--------------------------------------------------\n",
      "\n",
      "Splitting lightcurves for Circe with max_hours_diff=24 and min_no_points=10\n",
      "Before splitting: 16 lightcurves\n",
      "After splitting: 12 lightcurves\n",
      "Getting top 4 bins with max_time_diff=45 and min_bin_size=1\n",
      "After binning 4 bins available\n",
      "Getting top 50 frequencies with nterms=3 for lightcurves=2 with total points=44\n",
      "Getting top 50 frequencies with nterms=3 for lightcurves=2 with total points=26\n"
     ]
    },
    {
     "name": "stderr",
     "output_type": "stream",
     "text": [
      " 24%|██▍       | 49/203 [03:31<06:52,  2.68s/it]"
     ]
    },
    {
     "name": "stdout",
     "output_type": "stream",
     "text": [
      "Getting top 50 frequencies with nterms=3 for lightcurves=1 with total points=20\n",
      "Getting top 50 frequencies with nterms=3 for lightcurves=1 with total points=16\n",
      "--------------------------------------------------\n",
      "\n",
      "Splitting lightcurves for Claudia with max_hours_diff=24 and min_no_points=10\n",
      "Before splitting: 17 lightcurves\n",
      "After splitting: 13 lightcurves\n",
      "Getting top 4 bins with max_time_diff=45 and min_bin_size=1\n",
      "After binning 4 bins available\n",
      "Getting top 50 frequencies with nterms=3 for lightcurves=3 with total points=127\n",
      "Getting top 50 frequencies with nterms=3 for lightcurves=4 with total points=85\n",
      "Getting top 50 frequencies with nterms=3 for lightcurves=4 with total points=70\n"
     ]
    },
    {
     "name": "stderr",
     "output_type": "stream",
     "text": [
      " 25%|██▍       | 50/203 [03:39<09:51,  3.87s/it]"
     ]
    },
    {
     "name": "stdout",
     "output_type": "stream",
     "text": [
      "Getting top 50 frequencies with nterms=3 for lightcurves=1 with total points=15\n",
      "--------------------------------------------------\n",
      "\n",
      "Splitting lightcurves for Clementina with max_hours_diff=24 and min_no_points=10\n",
      "Before splitting: 1 lightcurves\n",
      "After splitting: 2 lightcurves\n",
      "Getting top 4 bins with max_time_diff=45 and min_bin_size=1\n",
      "After binning 1 bins available\n",
      "WARNING - using 1 bins instead of 4\n",
      "Getting top 50 frequencies with nterms=3 for lightcurves=1 with total points=11\n"
     ]
    },
    {
     "name": "stderr",
     "output_type": "stream",
     "text": [
      " 25%|██▌       | 51/203 [03:40<07:43,  3.05s/it]"
     ]
    },
    {
     "name": "stdout",
     "output_type": "stream",
     "text": [
      "--------------------------------------------------\n",
      "\n",
      "Splitting lightcurves for Columbia with max_hours_diff=24 and min_no_points=10\n",
      "Before splitting: 1 lightcurves\n",
      "After splitting: 1 lightcurves\n",
      "Getting top 4 bins with max_time_diff=45 and min_bin_size=1\n",
      "After binning 0 bins available\n",
      "WARNING - using 0 bins instead of 4\n",
      "--------------------------------------------------\n",
      "\n",
      "Splitting lightcurves for Constantia with max_hours_diff=24 and min_no_points=10\n",
      "Before splitting: 4 lightcurves\n",
      "After splitting: 3 lightcurves\n",
      "Getting top 4 bins with max_time_diff=45 and min_bin_size=1\n",
      "After binning 0 bins available\n",
      "WARNING - using 0 bins instead of 4\n",
      "--------------------------------------------------\n",
      "\n",
      "Splitting lightcurves for Corduba with max_hours_diff=24 and min_no_points=10\n",
      "Before splitting: 30 lightcurves\n",
      "After splitting: 38 lightcurves\n",
      "Getting top 4 bins with max_time_diff=45 and min_bin_size=1\n",
      "After binning 8 bins available\n",
      "Getting top 50 frequencies with nterms=3 for lightcurves=12 with total points=707\n",
      "Getting top 50 frequencies with nterms=3 for lightcurves=4 with total points=271\n",
      "Getting top 50 frequencies with nterms=3 for lightcurves=2 with total points=187\n",
      "Getting top 50 frequencies with nterms=3 for lightcurves=4 with total points=105\n"
     ]
    },
    {
     "name": "stderr",
     "output_type": "stream",
     "text": [
      " 27%|██▋       | 54/203 [03:49<07:46,  3.13s/it]"
     ]
    },
    {
     "name": "stdout",
     "output_type": "stream",
     "text": [
      "--------------------------------------------------\n",
      "\n",
      "Splitting lightcurves for Cybele with max_hours_diff=24 and min_no_points=10\n",
      "Before splitting: 48 lightcurves\n",
      "After splitting: 44 lightcurves\n",
      "Getting top 4 bins with max_time_diff=45 and min_bin_size=1\n",
      "After binning 18 bins available\n",
      "Getting top 50 frequencies with nterms=3 for lightcurves=6 with total points=1841\n",
      "Getting top 50 frequencies with nterms=3 for lightcurves=7 with total points=1590\n",
      "Getting top 50 frequencies with nterms=3 for lightcurves=4 with total points=943\n"
     ]
    },
    {
     "name": "stderr",
     "output_type": "stream",
     "text": [
      " 27%|██▋       | 55/203 [03:59<10:45,  4.36s/it]"
     ]
    },
    {
     "name": "stdout",
     "output_type": "stream",
     "text": [
      "Getting top 50 frequencies with nterms=3 for lightcurves=1 with total points=261\n",
      "--------------------------------------------------\n",
      "\n",
      "Splitting lightcurves for Cyrene with max_hours_diff=24 and min_no_points=10\n",
      "Before splitting: 1 lightcurves\n",
      "After splitting: 0 lightcurves\n",
      "Getting top 4 bins with max_time_diff=45 and min_bin_size=1\n",
      "After binning 0 bins available\n",
      "WARNING - using 0 bins instead of 4\n",
      "--------------------------------------------------\n",
      "\n",
      "Splitting lightcurves for Daphne with max_hours_diff=24 and min_no_points=10\n",
      "Before splitting: 47 lightcurves\n",
      "After splitting: 43 lightcurves\n",
      "Getting top 4 bins with max_time_diff=45 and min_bin_size=1\n",
      "After binning 17 bins available\n",
      "Getting top 50 frequencies with nterms=3 for lightcurves=10 with total points=2414\n",
      "Getting top 50 frequencies with nterms=3 for lightcurves=3 with total points=481\n",
      "Getting top 50 frequencies with nterms=3 for lightcurves=4 with total points=399\n",
      "Getting top 50 frequencies with nterms=3 for lightcurves=3 with total points=196\n"
     ]
    },
    {
     "name": "stderr",
     "output_type": "stream",
     "text": [
      " 28%|██▊       | 57/203 [04:09<11:11,  4.60s/it]"
     ]
    },
    {
     "name": "stdout",
     "output_type": "stream",
     "text": [
      "--------------------------------------------------\n",
      "\n",
      "Splitting lightcurves for Dejopeja with max_hours_diff=24 and min_no_points=10\n",
      "Before splitting: 17 lightcurves\n",
      "After splitting: 16 lightcurves\n",
      "Getting top 4 bins with max_time_diff=45 and min_bin_size=1\n",
      "After binning 5 bins available\n",
      "Getting top 50 frequencies with nterms=3 for lightcurves=5 with total points=203\n",
      "Getting top 50 frequencies with nterms=3 for lightcurves=2 with total points=110\n",
      "Getting top 50 frequencies with nterms=3 for lightcurves=2 with total points=80\n",
      "Getting top 50 frequencies with nterms=3 for lightcurves=2 with total points=47\n"
     ]
    },
    {
     "name": "stderr",
     "output_type": "stream",
     "text": [
      " 29%|██▊       | 58/203 [04:13<10:48,  4.47s/it]"
     ]
    },
    {
     "name": "stdout",
     "output_type": "stream",
     "text": [
      "--------------------------------------------------\n",
      "\n",
      "Splitting lightcurves for Dembowska with max_hours_diff=24 and min_no_points=10\n",
      "Before splitting: 40 lightcurves\n",
      "After splitting: 32 lightcurves\n",
      "Getting top 4 bins with max_time_diff=45 and min_bin_size=1\n",
      "After binning 14 bins available\n",
      "Getting top 50 frequencies with nterms=3 for lightcurves=6 with total points=291\n",
      "Getting top 50 frequencies with nterms=3 for lightcurves=3 with total points=151\n",
      "Getting top 50 frequencies with nterms=3 for lightcurves=2 with total points=136\n",
      "Getting top 50 frequencies with nterms=3 for lightcurves=2 with total points=73\n"
     ]
    },
    {
     "name": "stderr",
     "output_type": "stream",
     "text": [
      " 29%|██▉       | 59/203 [04:23<13:59,  5.83s/it]"
     ]
    },
    {
     "name": "stdout",
     "output_type": "stream",
     "text": [
      "--------------------------------------------------\n",
      "\n",
      "Splitting lightcurves for Devosa with max_hours_diff=24 and min_no_points=10\n",
      "Before splitting: 1 lightcurves\n",
      "After splitting: 2 lightcurves\n",
      "Getting top 4 bins with max_time_diff=45 and min_bin_size=1\n",
      "After binning 0 bins available\n",
      "WARNING - using 0 bins instead of 4\n",
      "--------------------------------------------------\n",
      "\n",
      "Splitting lightcurves for Dido with max_hours_diff=24 and min_no_points=10\n",
      "Before splitting: 2 lightcurves\n",
      "After splitting: 0 lightcurves\n",
      "Getting top 4 bins with max_time_diff=45 and min_bin_size=1\n",
      "After binning 0 bins available\n",
      "WARNING - using 0 bins instead of 4\n",
      "--------------------------------------------------\n",
      "\n",
      "Splitting lightcurves for Dodona with max_hours_diff=24 and min_no_points=10\n",
      "Before splitting: 13 lightcurves\n",
      "After splitting: 13 lightcurves\n",
      "Getting top 4 bins with max_time_diff=45 and min_bin_size=1\n",
      "After binning 6 bins available\n",
      "Getting top 50 frequencies with nterms=3 for lightcurves=2 with total points=331\n",
      "Getting top 50 frequencies with nterms=3 for lightcurves=3 with total points=315\n",
      "Getting top 50 frequencies with nterms=3 for lightcurves=2 with total points=69\n"
     ]
    },
    {
     "name": "stderr",
     "output_type": "stream",
     "text": [
      " 31%|███       | 62/203 [04:25<07:29,  3.19s/it]"
     ]
    },
    {
     "name": "stdout",
     "output_type": "stream",
     "text": [
      "Getting top 50 frequencies with nterms=3 for lightcurves=1 with total points=57\n",
      "--------------------------------------------------\n",
      "\n",
      "Splitting lightcurves for Doris with max_hours_diff=24 and min_no_points=10\n",
      "Before splitting: 7 lightcurves\n",
      "After splitting: 19 lightcurves\n",
      "Getting top 4 bins with max_time_diff=45 and min_bin_size=1\n",
      "After binning 5 bins available\n",
      "Getting top 50 frequencies with nterms=3 for lightcurves=4 with total points=659\n",
      "Getting top 50 frequencies with nterms=3 for lightcurves=3 with total points=349\n",
      "Getting top 50 frequencies with nterms=3 for lightcurves=3 with total points=292\n",
      "Getting top 50 frequencies with nterms=3 for lightcurves=3 with total points=129\n"
     ]
    },
    {
     "name": "stderr",
     "output_type": "stream",
     "text": [
      " 31%|███       | 63/203 [04:33<09:54,  4.25s/it]"
     ]
    },
    {
     "name": "stdout",
     "output_type": "stream",
     "text": [
      "--------------------------------------------------\n",
      "\n",
      "Splitting lightcurves for Eduarda with max_hours_diff=24 and min_no_points=10\n",
      "Before splitting: 3 lightcurves\n",
      "After splitting: 2 lightcurves\n",
      "Getting top 4 bins with max_time_diff=45 and min_bin_size=1\n",
      "After binning 0 bins available\n",
      "WARNING - using 0 bins instead of 4\n",
      "--------------------------------------------------\n",
      "\n",
      "Splitting lightcurves for Egeria with max_hours_diff=24 and min_no_points=10\n",
      "Before splitting: 15 lightcurves\n",
      "After splitting: 25 lightcurves\n",
      "Getting top 4 bins with max_time_diff=45 and min_bin_size=1\n",
      "After binning 10 bins available\n",
      "Getting top 50 frequencies with nterms=3 for lightcurves=4 with total points=1406\n",
      "Getting top 50 frequencies with nterms=3 for lightcurves=6 with total points=989\n"
     ]
    },
    {
     "name": "stderr",
     "output_type": "stream",
     "text": [
      " 32%|███▏      | 65/203 [04:42<09:40,  4.20s/it]"
     ]
    },
    {
     "name": "stdout",
     "output_type": "stream",
     "text": [
      "Getting top 50 frequencies with nterms=3 for lightcurves=1 with total points=664\n",
      "Getting top 50 frequencies with nterms=3 for lightcurves=1 with total points=632\n",
      "--------------------------------------------------\n",
      "\n",
      "Splitting lightcurves for Elektra with max_hours_diff=24 and min_no_points=10\n",
      "Before splitting: 55 lightcurves\n",
      "After splitting: 49 lightcurves\n",
      "Getting top 4 bins with max_time_diff=45 and min_bin_size=1\n",
      "After binning 17 bins available\n",
      "Getting top 50 frequencies with nterms=3 for lightcurves=9 with total points=2836\n",
      "Getting top 50 frequencies with nterms=3 for lightcurves=5 with total points=789\n",
      "Getting top 50 frequencies with nterms=3 for lightcurves=6 with total points=170\n"
     ]
    },
    {
     "name": "stderr",
     "output_type": "stream",
     "text": [
      " 33%|███▎      | 66/203 [04:52<12:37,  5.53s/it]"
     ]
    },
    {
     "name": "stdout",
     "output_type": "stream",
     "text": [
      "Getting top 50 frequencies with nterms=3 for lightcurves=1 with total points=144\n",
      "--------------------------------------------------\n",
      "\n",
      "Splitting lightcurves for Eleonora with max_hours_diff=24 and min_no_points=10\n",
      "Before splitting: 150 lightcurves\n",
      "After splitting: 142 lightcurves\n",
      "Getting top 4 bins with max_time_diff=45 and min_bin_size=1\n",
      "After binning 27 bins available\n",
      "Getting top 50 frequencies with nterms=3 for lightcurves=21 with total points=1690\n",
      "Getting top 50 frequencies with nterms=3 for lightcurves=11 with total points=1078\n",
      "Getting top 50 frequencies with nterms=3 for lightcurves=16 with total points=959\n",
      "Getting top 50 frequencies with nterms=3 for lightcurves=10 with total points=929\n"
     ]
    },
    {
     "name": "stderr",
     "output_type": "stream",
     "text": [
      " 33%|███▎      | 67/203 [05:10<18:25,  8.13s/it]"
     ]
    },
    {
     "name": "stdout",
     "output_type": "stream",
     "text": [
      "--------------------------------------------------\n",
      "\n",
      "Splitting lightcurves for Emma with max_hours_diff=24 and min_no_points=10\n",
      "Before splitting: 29 lightcurves\n",
      "After splitting: 28 lightcurves\n",
      "Getting top 4 bins with max_time_diff=45 and min_bin_size=1\n",
      "After binning 9 bins available\n",
      "Getting top 50 frequencies with nterms=3 for lightcurves=5 with total points=849\n",
      "Getting top 50 frequencies with nterms=3 for lightcurves=3 with total points=210\n",
      "Getting top 50 frequencies with nterms=3 for lightcurves=3 with total points=152\n",
      "Getting top 50 frequencies with nterms=3 for lightcurves=3 with total points=113\n"
     ]
    },
    {
     "name": "stderr",
     "output_type": "stream",
     "text": [
      " 33%|███▎      | 68/203 [05:17<18:01,  8.01s/it]"
     ]
    },
    {
     "name": "stdout",
     "output_type": "stream",
     "text": [
      "--------------------------------------------------\n",
      "\n",
      "Splitting lightcurves for Endymion with max_hours_diff=24 and min_no_points=10\n",
      "Before splitting: 1 lightcurves\n",
      "After splitting: 0 lightcurves\n",
      "Getting top 4 bins with max_time_diff=45 and min_bin_size=1\n",
      "After binning 0 bins available\n",
      "WARNING - using 0 bins instead of 4\n",
      "--------------------------------------------------\n",
      "\n",
      "Splitting lightcurves for Eos with max_hours_diff=24 and min_no_points=10\n",
      "Before splitting: 23 lightcurves\n",
      "After splitting: 21 lightcurves\n",
      "Getting top 4 bins with max_time_diff=45 and min_bin_size=1\n",
      "After binning 5 bins available\n",
      "Getting top 50 frequencies with nterms=3 for lightcurves=6 with total points=2099\n",
      "Getting top 50 frequencies with nterms=3 for lightcurves=3 with total points=486\n",
      "Getting top 50 frequencies with nterms=3 for lightcurves=1 with total points=229\n",
      "Getting top 50 frequencies with nterms=3 for lightcurves=6 with total points=80\n"
     ]
    },
    {
     "name": "stderr",
     "output_type": "stream",
     "text": [
      " 34%|███▍      | 70/203 [05:23<13:17,  6.00s/it]"
     ]
    },
    {
     "name": "stdout",
     "output_type": "stream",
     "text": [
      "--------------------------------------------------\n",
      "\n",
      "Splitting lightcurves for Erato with max_hours_diff=24 and min_no_points=10\n",
      "Before splitting: 2 lightcurves\n",
      "After splitting: 0 lightcurves\n",
      "Getting top 4 bins with max_time_diff=45 and min_bin_size=1\n",
      "After binning 0 bins available\n",
      "WARNING - using 0 bins instead of 4\n",
      "--------------------------------------------------\n",
      "\n",
      "Splitting lightcurves for Eros with max_hours_diff=24 and min_no_points=10\n",
      "Before splitting: 112 lightcurves\n",
      "After splitting: 107 lightcurves\n",
      "Getting top 4 bins with max_time_diff=45 and min_bin_size=1\n",
      "After binning 17 bins available\n",
      "Getting top 50 frequencies with nterms=3 for lightcurves=20 with total points=1994\n",
      "Getting top 50 frequencies with nterms=3 for lightcurves=17 with total points=1717\n",
      "Getting top 50 frequencies with nterms=3 for lightcurves=8 with total points=805\n",
      "Getting top 50 frequencies with nterms=3 for lightcurves=8 with total points=382\n"
     ]
    },
    {
     "name": "stderr",
     "output_type": "stream",
     "text": [
      " 35%|███▌      | 72/203 [05:39<14:24,  6.60s/it]"
     ]
    },
    {
     "name": "stdout",
     "output_type": "stream",
     "text": [
      "--------------------------------------------------\n",
      "\n",
      "Splitting lightcurves for Eugenia with max_hours_diff=24 and min_no_points=10\n",
      "Before splitting: 93 lightcurves\n",
      "After splitting: 80 lightcurves\n",
      "Getting top 4 bins with max_time_diff=45 and min_bin_size=1\n",
      "After binning 23 bins available\n",
      "Getting top 50 frequencies with nterms=3 for lightcurves=10 with total points=2922\n",
      "Getting top 50 frequencies with nterms=3 for lightcurves=3 with total points=769\n",
      "Getting top 50 frequencies with nterms=3 for lightcurves=6 with total points=392\n",
      "Getting top 50 frequencies with nterms=3 for lightcurves=6 with total points=249\n"
     ]
    },
    {
     "name": "stderr",
     "output_type": "stream",
     "text": [
      " 36%|███▌      | 73/203 [05:50<16:19,  7.54s/it]"
     ]
    },
    {
     "name": "stdout",
     "output_type": "stream",
     "text": [
      "--------------------------------------------------\n",
      "\n",
      "Splitting lightcurves for Eukrate with max_hours_diff=24 and min_no_points=10\n",
      "Before splitting: 15 lightcurves\n",
      "After splitting: 37 lightcurves\n",
      "Getting top 4 bins with max_time_diff=45 and min_bin_size=1\n",
      "After binning 7 bins available\n",
      "Getting top 50 frequencies with nterms=3 for lightcurves=9 with total points=2943\n",
      "Getting top 50 frequencies with nterms=3 for lightcurves=8 with total points=2706\n",
      "Getting top 50 frequencies with nterms=3 for lightcurves=6 with total points=1658\n",
      "Getting top 50 frequencies with nterms=3 for lightcurves=5 with total points=972\n"
     ]
    },
    {
     "name": "stderr",
     "output_type": "stream",
     "text": [
      " 36%|███▋      | 74/203 [06:06<20:32,  9.56s/it]"
     ]
    },
    {
     "name": "stdout",
     "output_type": "stream",
     "text": [
      "--------------------------------------------------\n",
      "\n",
      "Splitting lightcurves for Eunomia with max_hours_diff=24 and min_no_points=10\n",
      "Before splitting: 107 lightcurves\n",
      "After splitting: 101 lightcurves\n",
      "Getting top 4 bins with max_time_diff=45 and min_bin_size=1\n",
      "After binning 26 bins available\n",
      "Getting top 50 frequencies with nterms=3 for lightcurves=13 with total points=3553\n",
      "Getting top 50 frequencies with nterms=3 for lightcurves=15 with total points=2607\n",
      "Getting top 50 frequencies with nterms=3 for lightcurves=15 with total points=958\n",
      "Getting top 50 frequencies with nterms=3 for lightcurves=9 with total points=486\n"
     ]
    },
    {
     "name": "stderr",
     "output_type": "stream",
     "text": [
      " 37%|███▋      | 75/203 [06:16<20:23,  9.56s/it]"
     ]
    },
    {
     "name": "stdout",
     "output_type": "stream",
     "text": [
      "--------------------------------------------------\n",
      "\n",
      "Splitting lightcurves for Euphrosyne with max_hours_diff=24 and min_no_points=10\n",
      "Before splitting: 19 lightcurves\n",
      "After splitting: 33 lightcurves\n",
      "Getting top 4 bins with max_time_diff=45 and min_bin_size=1\n",
      "After binning 12 bins available\n",
      "Getting top 50 frequencies with nterms=3 for lightcurves=3 with total points=1948\n",
      "Getting top 50 frequencies with nterms=3 for lightcurves=4 with total points=1902\n",
      "Getting top 50 frequencies with nterms=3 for lightcurves=4 with total points=1849\n",
      "Getting top 50 frequencies with nterms=3 for lightcurves=4 with total points=1789\n"
     ]
    },
    {
     "name": "stderr",
     "output_type": "stream",
     "text": [
      " 37%|███▋      | 76/203 [06:27<21:11, 10.01s/it]"
     ]
    },
    {
     "name": "stdout",
     "output_type": "stream",
     "text": [
      "--------------------------------------------------\n",
      "\n",
      "Splitting lightcurves for Europa with max_hours_diff=24 and min_no_points=10\n",
      "Before splitting: 42 lightcurves\n",
      "After splitting: 42 lightcurves\n",
      "Getting top 4 bins with max_time_diff=45 and min_bin_size=1\n",
      "After binning 13 bins available\n",
      "Getting top 50 frequencies with nterms=3 for lightcurves=4 with total points=927\n",
      "Getting top 50 frequencies with nterms=3 for lightcurves=7 with total points=433\n",
      "Getting top 50 frequencies with nterms=3 for lightcurves=1 with total points=409\n",
      "Getting top 50 frequencies with nterms=3 for lightcurves=5 with total points=191\n"
     ]
    },
    {
     "name": "stderr",
     "output_type": "stream",
     "text": [
      " 38%|███▊      | 77/203 [06:37<20:54,  9.96s/it]"
     ]
    },
    {
     "name": "stdout",
     "output_type": "stream",
     "text": [
      "--------------------------------------------------\n",
      "\n",
      "Splitting lightcurves for Eurynome with max_hours_diff=24 and min_no_points=10\n",
      "Before splitting: 35 lightcurves\n",
      "After splitting: 27 lightcurves\n",
      "Getting top 4 bins with max_time_diff=45 and min_bin_size=1\n",
      "After binning 7 bins available\n",
      "Getting top 50 frequencies with nterms=3 for lightcurves=9 with total points=1117\n",
      "Getting top 50 frequencies with nterms=3 for lightcurves=2 with total points=204\n",
      "Getting top 50 frequencies with nterms=3 for lightcurves=3 with total points=195\n"
     ]
    },
    {
     "name": "stderr",
     "output_type": "stream",
     "text": [
      " 38%|███▊      | 78/203 [06:42<18:13,  8.75s/it]"
     ]
    },
    {
     "name": "stdout",
     "output_type": "stream",
     "text": [
      "Getting top 50 frequencies with nterms=3 for lightcurves=1 with total points=174\n",
      "--------------------------------------------------\n",
      "\n",
      "Splitting lightcurves for Euterpe with max_hours_diff=24 and min_no_points=10\n",
      "Before splitting: 32 lightcurves\n",
      "After splitting: 38 lightcurves\n",
      "Getting top 4 bins with max_time_diff=45 and min_bin_size=1\n",
      "After binning 7 bins available\n",
      "Getting top 50 frequencies with nterms=3 for lightcurves=12 with total points=1601\n",
      "Getting top 50 frequencies with nterms=3 for lightcurves=3 with total points=1389\n",
      "Getting top 50 frequencies with nterms=3 for lightcurves=10 with total points=1185\n",
      "Getting top 50 frequencies with nterms=3 for lightcurves=5 with total points=983\n"
     ]
    },
    {
     "name": "stderr",
     "output_type": "stream",
     "text": [
      " 39%|███▉      | 79/203 [06:53<19:06,  9.25s/it]"
     ]
    },
    {
     "name": "stdout",
     "output_type": "stream",
     "text": [
      "--------------------------------------------------\n",
      "\n",
      "Splitting lightcurves for Feronia with max_hours_diff=24 and min_no_points=10\n",
      "Before splitting: 14 lightcurves\n",
      "After splitting: 14 lightcurves\n",
      "Getting top 4 bins with max_time_diff=45 and min_bin_size=1\n",
      "After binning 7 bins available\n",
      "Getting top 50 frequencies with nterms=3 for lightcurves=1 with total points=698\n",
      "Getting top 50 frequencies with nterms=3 for lightcurves=2 with total points=85\n",
      "Getting top 50 frequencies with nterms=3 for lightcurves=1 with total points=62\n",
      "Getting top 50 frequencies with nterms=3 for lightcurves=2 with total points=56\n"
     ]
    },
    {
     "name": "stderr",
     "output_type": "stream",
     "text": [
      " 39%|███▉      | 80/203 [06:55<14:48,  7.22s/it]"
     ]
    },
    {
     "name": "stdout",
     "output_type": "stream",
     "text": [
      "--------------------------------------------------\n",
      "\n",
      "Splitting lightcurves for Fides with max_hours_diff=24 and min_no_points=10\n",
      "Before splitting: 14 lightcurves\n",
      "After splitting: 13 lightcurves\n",
      "Getting top 4 bins with max_time_diff=45 and min_bin_size=1\n",
      "After binning 5 bins available\n",
      "Getting top 50 frequencies with nterms=3 for lightcurves=3 with total points=196\n",
      "Getting top 50 frequencies with nterms=3 for lightcurves=4 with total points=158\n",
      "Getting top 50 frequencies with nterms=3 for lightcurves=2 with total points=108\n"
     ]
    },
    {
     "name": "stderr",
     "output_type": "stream",
     "text": [
      " 40%|███▉      | 81/203 [06:59<12:28,  6.14s/it]"
     ]
    },
    {
     "name": "stdout",
     "output_type": "stream",
     "text": [
      "Getting top 50 frequencies with nterms=3 for lightcurves=1 with total points=74\n",
      "--------------------------------------------------\n",
      "\n",
      "Splitting lightcurves for Flora with max_hours_diff=24 and min_no_points=10\n",
      "Before splitting: 45 lightcurves\n",
      "After splitting: 35 lightcurves\n",
      "Getting top 4 bins with max_time_diff=45 and min_bin_size=1\n",
      "After binning 13 bins available\n",
      "Getting top 50 frequencies with nterms=3 for lightcurves=6 with total points=1553\n",
      "Getting top 50 frequencies with nterms=3 for lightcurves=6 with total points=367\n",
      "Getting top 50 frequencies with nterms=3 for lightcurves=2 with total points=212\n",
      "Getting top 50 frequencies with nterms=3 for lightcurves=4 with total points=148\n"
     ]
    },
    {
     "name": "stderr",
     "output_type": "stream",
     "text": [
      " 40%|████      | 82/203 [07:08<14:27,  7.17s/it]"
     ]
    },
    {
     "name": "stdout",
     "output_type": "stream",
     "text": [
      "--------------------------------------------------\n",
      "\n",
      "Splitting lightcurves for Florentina with max_hours_diff=24 and min_no_points=10\n",
      "Before splitting: 11 lightcurves\n",
      "After splitting: 16 lightcurves\n",
      "Getting top 4 bins with max_time_diff=45 and min_bin_size=1\n",
      "After binning 8 bins available\n",
      "Getting top 50 frequencies with nterms=3 for lightcurves=3 with total points=256\n",
      "Getting top 50 frequencies with nterms=3 for lightcurves=2 with total points=218\n",
      "Getting top 50 frequencies with nterms=3 for lightcurves=1 with total points=208\n",
      "Getting top 50 frequencies with nterms=3 for lightcurves=2 with total points=116\n"
     ]
    },
    {
     "name": "stderr",
     "output_type": "stream",
     "text": [
      " 41%|████      | 83/203 [07:16<14:18,  7.15s/it]"
     ]
    },
    {
     "name": "stdout",
     "output_type": "stream",
     "text": [
      "--------------------------------------------------\n",
      "\n",
      "Splitting lightcurves for Fortuna with max_hours_diff=24 and min_no_points=10\n",
      "Before splitting: 47 lightcurves\n",
      "After splitting: 36 lightcurves\n",
      "Getting top 4 bins with max_time_diff=45 and min_bin_size=1\n",
      "After binning 14 bins available\n",
      "Getting top 50 frequencies with nterms=3 for lightcurves=3 with total points=179\n",
      "Getting top 50 frequencies with nterms=3 for lightcurves=2 with total points=167\n",
      "Getting top 50 frequencies with nterms=3 for lightcurves=2 with total points=127\n",
      "Getting top 50 frequencies with nterms=3 for lightcurves=2 with total points=121\n"
     ]
    },
    {
     "name": "stderr",
     "output_type": "stream",
     "text": [
      " 41%|████▏     | 84/203 [07:18<11:14,  5.67s/it]"
     ]
    },
    {
     "name": "stdout",
     "output_type": "stream",
     "text": [
      "--------------------------------------------------\n",
      "\n",
      "Splitting lightcurves for Freia with max_hours_diff=24 and min_no_points=10\n",
      "Before splitting: 38 lightcurves\n",
      "After splitting: 35 lightcurves\n",
      "Getting top 4 bins with max_time_diff=45 and min_bin_size=1\n",
      "After binning 9 bins available\n",
      "Getting top 50 frequencies with nterms=3 for lightcurves=6 with total points=508\n",
      "Getting top 50 frequencies with nterms=3 for lightcurves=6 with total points=197\n",
      "Getting top 50 frequencies with nterms=3 for lightcurves=3 with total points=182\n",
      "Getting top 50 frequencies with nterms=3 for lightcurves=4 with total points=172\n"
     ]
    },
    {
     "name": "stderr",
     "output_type": "stream",
     "text": [
      " 42%|████▏     | 85/203 [07:30<15:20,  7.80s/it]"
     ]
    },
    {
     "name": "stdout",
     "output_type": "stream",
     "text": [
      "--------------------------------------------------\n",
      "\n",
      "Splitting lightcurves for Gabriella with max_hours_diff=24 and min_no_points=10\n",
      "Before splitting: 16 lightcurves\n",
      "After splitting: 15 lightcurves\n",
      "Getting top 4 bins with max_time_diff=45 and min_bin_size=1\n",
      "After binning 7 bins available\n",
      "Getting top 50 frequencies with nterms=3 for lightcurves=4 with total points=209\n",
      "Getting top 50 frequencies with nterms=3 for lightcurves=2 with total points=94\n",
      "Getting top 50 frequencies with nterms=3 for lightcurves=1 with total points=89\n",
      "Getting top 50 frequencies with nterms=3 for lightcurves=2 with total points=52\n"
     ]
    },
    {
     "name": "stderr",
     "output_type": "stream",
     "text": [
      " 42%|████▏     | 86/203 [07:35<13:27,  6.90s/it]"
     ]
    },
    {
     "name": "stdout",
     "output_type": "stream",
     "text": [
      "--------------------------------------------------\n",
      "\n",
      "Splitting lightcurves for Geometria with max_hours_diff=24 and min_no_points=10\n",
      "Before splitting: 11 lightcurves\n",
      "After splitting: 17 lightcurves\n",
      "Getting top 4 bins with max_time_diff=45 and min_bin_size=1\n",
      "After binning 10 bins available\n",
      "Getting top 50 frequencies with nterms=3 for lightcurves=1 with total points=294\n",
      "Getting top 50 frequencies with nterms=3 for lightcurves=4 with total points=104\n",
      "Getting top 50 frequencies with nterms=3 for lightcurves=1 with total points=88\n",
      "Getting top 50 frequencies with nterms=3 for lightcurves=2 with total points=74\n"
     ]
    },
    {
     "name": "stderr",
     "output_type": "stream",
     "text": [
      " 43%|████▎     | 87/203 [07:40<12:09,  6.29s/it]"
     ]
    },
    {
     "name": "stdout",
     "output_type": "stream",
     "text": [
      "--------------------------------------------------\n",
      "\n",
      "Splitting lightcurves for Gerda with max_hours_diff=24 and min_no_points=10\n",
      "Before splitting: 6 lightcurves\n",
      "After splitting: 16 lightcurves\n",
      "Getting top 4 bins with max_time_diff=45 and min_bin_size=1\n",
      "After binning 9 bins available\n",
      "Getting top 50 frequencies with nterms=3 for lightcurves=1 with total points=668\n",
      "Getting top 50 frequencies with nterms=3 for lightcurves=2 with total points=179\n",
      "Getting top 50 frequencies with nterms=3 for lightcurves=1 with total points=160\n",
      "Getting top 50 frequencies with nterms=3 for lightcurves=5 with total points=115\n"
     ]
    },
    {
     "name": "stderr",
     "output_type": "stream",
     "text": [
      " 43%|████▎     | 88/203 [07:42<09:31,  4.97s/it]"
     ]
    },
    {
     "name": "stdout",
     "output_type": "stream",
     "text": [
      "--------------------------------------------------\n",
      "\n",
      "Splitting lightcurves for Gisela with max_hours_diff=24 and min_no_points=10\n",
      "Before splitting: 2 lightcurves\n",
      "After splitting: 6 lightcurves\n",
      "Getting top 4 bins with max_time_diff=45 and min_bin_size=1\n",
      "After binning 2 bins available\n",
      "WARNING - using 2 bins instead of 4\n",
      "Getting top 50 frequencies with nterms=3 for lightcurves=4 with total points=101\n"
     ]
    },
    {
     "name": "stderr",
     "output_type": "stream",
     "text": [
      " 44%|████▍     | 89/203 [07:46<08:38,  4.55s/it]"
     ]
    },
    {
     "name": "stdout",
     "output_type": "stream",
     "text": [
      "Getting top 50 frequencies with nterms=3 for lightcurves=1 with total points=36\n",
      "--------------------------------------------------\n",
      "\n",
      "Splitting lightcurves for Gordonia with max_hours_diff=24 and min_no_points=10\n",
      "Before splitting: 2 lightcurves\n",
      "After splitting: 2 lightcurves\n",
      "Getting top 4 bins with max_time_diff=45 and min_bin_size=1\n",
      "After binning 0 bins available\n",
      "WARNING - using 0 bins instead of 4\n",
      "--------------------------------------------------\n",
      "\n",
      "Splitting lightcurves for Gudrun with max_hours_diff=24 and min_no_points=10\n",
      "Before splitting: 2 lightcurves\n",
      "After splitting: 15 lightcurves\n",
      "Getting top 4 bins with max_time_diff=45 and min_bin_size=1\n",
      "After binning 7 bins available\n",
      "Getting top 50 frequencies with nterms=3 for lightcurves=3 with total points=135\n",
      "Getting top 50 frequencies with nterms=3 for lightcurves=1 with total points=35\n",
      "Getting top 50 frequencies with nterms=3 for lightcurves=2 with total points=22\n",
      "Getting top 50 frequencies with nterms=3 for lightcurves=2 with total points=20\n"
     ]
    },
    {
     "name": "stderr",
     "output_type": "stream",
     "text": [
      " 45%|████▍     | 91/203 [07:51<07:06,  3.81s/it]"
     ]
    },
    {
     "name": "stdout",
     "output_type": "stream",
     "text": [
      "--------------------------------------------------\n",
      "\n",
      "Splitting lightcurves for Haidea with max_hours_diff=24 and min_no_points=10\n",
      "Before splitting: 1 lightcurves\n",
      "After splitting: 8 lightcurves\n",
      "Getting top 4 bins with max_time_diff=45 and min_bin_size=1\n",
      "After binning 5 bins available\n",
      "Getting top 50 frequencies with nterms=3 for lightcurves=2 with total points=42\n",
      "Getting top 50 frequencies with nterms=3 for lightcurves=1 with total points=12\n",
      "Getting top 50 frequencies with nterms=3 for lightcurves=1 with total points=12\n"
     ]
    },
    {
     "name": "stderr",
     "output_type": "stream",
     "text": [
      " 45%|████▌     | 92/203 [07:52<05:42,  3.09s/it]"
     ]
    },
    {
     "name": "stdout",
     "output_type": "stream",
     "text": [
      "Getting top 50 frequencies with nterms=3 for lightcurves=1 with total points=10\n",
      "--------------------------------------------------\n",
      "\n",
      "Splitting lightcurves for Harmonia with max_hours_diff=24 and min_no_points=10\n",
      "Before splitting: 21 lightcurves\n",
      "After splitting: 21 lightcurves\n",
      "Getting top 4 bins with max_time_diff=45 and min_bin_size=1\n",
      "After binning 7 bins available\n",
      "Getting top 50 frequencies with nterms=3 for lightcurves=5 with total points=1476\n",
      "Getting top 50 frequencies with nterms=3 for lightcurves=2 with total points=172\n",
      "Getting top 50 frequencies with nterms=3 for lightcurves=1 with total points=109\n",
      "Getting top 50 frequencies with nterms=3 for lightcurves=3 with total points=98\n"
     ]
    },
    {
     "name": "stderr",
     "output_type": "stream",
     "text": [
      " 46%|████▌     | 93/203 [07:57<06:14,  3.40s/it]"
     ]
    },
    {
     "name": "stdout",
     "output_type": "stream",
     "text": [
      "--------------------------------------------------\n",
      "\n",
      "Splitting lightcurves for Hebe with max_hours_diff=24 and min_no_points=10\n",
      "Before splitting: 129 lightcurves\n",
      "After splitting: 129 lightcurves\n",
      "Getting top 4 bins with max_time_diff=45 and min_bin_size=1\n",
      "After binning 21 bins available\n",
      "Getting top 50 frequencies with nterms=3 for lightcurves=32 with total points=3406\n",
      "Getting top 50 frequencies with nterms=3 for lightcurves=22 with total points=1649\n",
      "Getting top 50 frequencies with nterms=3 for lightcurves=12 with total points=1043\n",
      "Getting top 50 frequencies with nterms=3 for lightcurves=16 with total points=632\n"
     ]
    },
    {
     "name": "stderr",
     "output_type": "stream",
     "text": [
      " 46%|████▋     | 94/203 [08:10<11:03,  6.09s/it]"
     ]
    },
    {
     "name": "stdout",
     "output_type": "stream",
     "text": [
      "--------------------------------------------------\n",
      "\n",
      "Splitting lightcurves for Henrietta with max_hours_diff=24 and min_no_points=10\n",
      "Before splitting: 1 lightcurves\n",
      "After splitting: 7 lightcurves\n",
      "Getting top 4 bins with max_time_diff=45 and min_bin_size=1\n",
      "After binning 3 bins available\n",
      "WARNING - using 3 bins instead of 4\n",
      "Getting top 50 frequencies with nterms=3 for lightcurves=3 with total points=49\n",
      "Getting top 50 frequencies with nterms=3 for lightcurves=2 with total points=31\n"
     ]
    },
    {
     "name": "stderr",
     "output_type": "stream",
     "text": [
      " 47%|████▋     | 95/203 [08:16<10:53,  6.05s/it]"
     ]
    },
    {
     "name": "stdout",
     "output_type": "stream",
     "text": [
      "Getting top 50 frequencies with nterms=3 for lightcurves=1 with total points=10\n",
      "--------------------------------------------------\n",
      "\n",
      "Splitting lightcurves for Hermione with max_hours_diff=24 and min_no_points=10\n",
      "Before splitting: 47 lightcurves\n",
      "After splitting: 47 lightcurves\n",
      "Getting top 4 bins with max_time_diff=45 and min_bin_size=1\n",
      "After binning 11 bins available\n",
      "Getting top 50 frequencies with nterms=3 for lightcurves=8 with total points=1150\n",
      "Getting top 50 frequencies with nterms=3 for lightcurves=2 with total points=1047\n",
      "Getting top 50 frequencies with nterms=3 for lightcurves=8 with total points=909\n",
      "Getting top 50 frequencies with nterms=3 for lightcurves=5 with total points=858\n"
     ]
    },
    {
     "name": "stderr",
     "output_type": "stream",
     "text": [
      " 47%|████▋     | 96/203 [08:29<14:29,  8.13s/it]"
     ]
    },
    {
     "name": "stdout",
     "output_type": "stream",
     "text": [
      "--------------------------------------------------\n",
      "\n",
      "Splitting lightcurves for Hersilia with max_hours_diff=24 and min_no_points=10\n",
      "Before splitting: 2 lightcurves\n",
      "After splitting: 0 lightcurves\n",
      "Getting top 4 bins with max_time_diff=45 and min_bin_size=1\n",
      "After binning 0 bins available\n",
      "WARNING - using 0 bins instead of 4\n",
      "--------------------------------------------------\n",
      "\n",
      "Splitting lightcurves for Hertha with max_hours_diff=24 and min_no_points=10\n",
      "Before splitting: 38 lightcurves\n",
      "After splitting: 31 lightcurves\n",
      "Getting top 4 bins with max_time_diff=45 and min_bin_size=1\n",
      "After binning 8 bins available\n",
      "Getting top 50 frequencies with nterms=3 for lightcurves=5 with total points=301\n",
      "Getting top 50 frequencies with nterms=3 for lightcurves=3 with total points=187\n",
      "Getting top 50 frequencies with nterms=3 for lightcurves=5 with total points=179\n",
      "Getting top 50 frequencies with nterms=3 for lightcurves=6 with total points=171\n"
     ]
    },
    {
     "name": "stderr",
     "output_type": "stream",
     "text": [
      " 48%|████▊     | 98/203 [08:40<12:07,  6.93s/it]"
     ]
    },
    {
     "name": "stdout",
     "output_type": "stream",
     "text": [
      "--------------------------------------------------\n",
      "\n",
      "Splitting lightcurves for Hesperia with max_hours_diff=24 and min_no_points=10\n",
      "Before splitting: 16 lightcurves\n",
      "After splitting: 14 lightcurves\n",
      "Getting top 4 bins with max_time_diff=45 and min_bin_size=1\n",
      "After binning 7 bins available\n",
      "Getting top 50 frequencies with nterms=3 for lightcurves=3 with total points=407\n",
      "Getting top 50 frequencies with nterms=3 for lightcurves=1 with total points=114\n",
      "Getting top 50 frequencies with nterms=3 for lightcurves=2 with total points=68\n"
     ]
    },
    {
     "name": "stderr",
     "output_type": "stream",
     "text": [
      " 49%|████▉     | 99/203 [08:44<10:34,  6.10s/it]"
     ]
    },
    {
     "name": "stdout",
     "output_type": "stream",
     "text": [
      "Getting top 50 frequencies with nterms=3 for lightcurves=1 with total points=54\n",
      "--------------------------------------------------\n",
      "\n",
      "Splitting lightcurves for Holmia with max_hours_diff=24 and min_no_points=10\n",
      "Before splitting: 13 lightcurves\n",
      "After splitting: 13 lightcurves\n",
      "Getting top 4 bins with max_time_diff=45 and min_bin_size=1\n",
      "After binning 5 bins available\n",
      "Getting top 50 frequencies with nterms=3 for lightcurves=3 with total points=110\n",
      "Getting top 50 frequencies with nterms=3 for lightcurves=2 with total points=107\n",
      "Getting top 50 frequencies with nterms=3 for lightcurves=2 with total points=92\n",
      "Getting top 50 frequencies with nterms=3 for lightcurves=3 with total points=61\n"
     ]
    },
    {
     "name": "stderr",
     "output_type": "stream",
     "text": [
      " 49%|████▉     | 100/203 [08:45<08:17,  4.83s/it]"
     ]
    },
    {
     "name": "stdout",
     "output_type": "stream",
     "text": [
      "--------------------------------------------------\n",
      "\n",
      "Splitting lightcurves for Honoria with max_hours_diff=24 and min_no_points=10\n",
      "Before splitting: 1 lightcurves\n",
      "After splitting: 6 lightcurves\n",
      "Getting top 4 bins with max_time_diff=45 and min_bin_size=1\n",
      "After binning 2 bins available\n",
      "WARNING - using 2 bins instead of 4\n",
      "Getting top 50 frequencies with nterms=3 for lightcurves=2 with total points=28\n",
      "Getting top 50 frequencies with nterms=3 for lightcurves=1 with total points=16\n"
     ]
    },
    {
     "name": "stderr",
     "output_type": "stream",
     "text": [
      " 50%|████▉     | 101/203 [08:49<07:55,  4.66s/it]"
     ]
    },
    {
     "name": "stdout",
     "output_type": "stream",
     "text": [
      "--------------------------------------------------\n",
      "\n",
      "Splitting lightcurves for Huberta with max_hours_diff=24 and min_no_points=10\n",
      "Before splitting: 1 lightcurves\n",
      "After splitting: 4 lightcurves\n",
      "Getting top 4 bins with max_time_diff=45 and min_bin_size=1\n",
      "After binning 1 bins available\n",
      "WARNING - using 1 bins instead of 4\n",
      "Getting top 50 frequencies with nterms=3 for lightcurves=2 with total points=69\n"
     ]
    },
    {
     "name": "stderr",
     "output_type": "stream",
     "text": [
      " 50%|█████     | 102/203 [08:49<05:49,  3.46s/it]"
     ]
    },
    {
     "name": "stdout",
     "output_type": "stream",
     "text": [
      "--------------------------------------------------\n",
      "\n",
      "Splitting lightcurves for Hypatia with max_hours_diff=24 and min_no_points=10\n",
      "Before splitting: 2 lightcurves\n",
      "After splitting: 0 lightcurves\n",
      "Getting top 4 bins with max_time_diff=45 and min_bin_size=1\n",
      "After binning 0 bins available\n",
      "WARNING - using 0 bins instead of 4\n",
      "--------------------------------------------------\n",
      "\n",
      "Splitting lightcurves for Ida with max_hours_diff=24 and min_no_points=10\n",
      "Before splitting: 26 lightcurves\n",
      "After splitting: 35 lightcurves\n",
      "Getting top 4 bins with max_time_diff=45 and min_bin_size=1\n",
      "After binning 12 bins available\n",
      "Getting top 50 frequencies with nterms=3 for lightcurves=7 with total points=483\n",
      "Getting top 50 frequencies with nterms=3 for lightcurves=6 with total points=230\n",
      "Getting top 50 frequencies with nterms=3 for lightcurves=5 with total points=202\n",
      "Getting top 50 frequencies with nterms=3 for lightcurves=2 with total points=160\n"
     ]
    },
    {
     "name": "stderr",
     "output_type": "stream",
     "text": [
      " 51%|█████     | 104/203 [09:01<07:18,  4.43s/it]"
     ]
    },
    {
     "name": "stdout",
     "output_type": "stream",
     "text": [
      "--------------------------------------------------\n",
      "\n",
      "Splitting lightcurves for Iduna with max_hours_diff=24 and min_no_points=10\n",
      "Before splitting: 7 lightcurves\n",
      "After splitting: 8 lightcurves\n",
      "Getting top 4 bins with max_time_diff=45 and min_bin_size=1\n",
      "After binning 2 bins available\n",
      "WARNING - using 2 bins instead of 4\n",
      "Getting top 50 frequencies with nterms=3 for lightcurves=2 with total points=481\n",
      "Getting top 50 frequencies with nterms=3 for lightcurves=5 with total points=345\n"
     ]
    },
    {
     "name": "stderr",
     "output_type": "stream",
     "text": [
      " 52%|█████▏    | 105/203 [09:03<06:35,  4.04s/it]"
     ]
    },
    {
     "name": "stdout",
     "output_type": "stream",
     "text": [
      "--------------------------------------------------\n",
      "\n",
      "Splitting lightcurves for Industria with max_hours_diff=24 and min_no_points=10\n",
      "Before splitting: 10 lightcurves\n",
      "After splitting: 8 lightcurves\n",
      "Getting top 4 bins with max_time_diff=45 and min_bin_size=1\n",
      "After binning 3 bins available\n",
      "WARNING - using 3 bins instead of 4\n",
      "Getting top 50 frequencies with nterms=3 for lightcurves=3 with total points=214\n",
      "Getting top 50 frequencies with nterms=3 for lightcurves=3 with total points=98\n"
     ]
    },
    {
     "name": "stderr",
     "output_type": "stream",
     "text": [
      " 52%|█████▏    | 106/203 [09:04<05:05,  3.15s/it]"
     ]
    },
    {
     "name": "stdout",
     "output_type": "stream",
     "text": [
      "Getting top 50 frequencies with nterms=3 for lightcurves=1 with total points=10\n",
      "--------------------------------------------------\n",
      "\n",
      "Splitting lightcurves for Ino with max_hours_diff=24 and min_no_points=10\n",
      "Before splitting: 60 lightcurves\n",
      "After splitting: 60 lightcurves\n",
      "Getting top 4 bins with max_time_diff=45 and min_bin_size=1\n",
      "After binning 10 bins available\n",
      "Getting top 50 frequencies with nterms=3 for lightcurves=17 with total points=1382\n",
      "Getting top 50 frequencies with nterms=3 for lightcurves=12 with total points=1322\n",
      "Getting top 50 frequencies with nterms=3 for lightcurves=11 with total points=1008\n",
      "Getting top 50 frequencies with nterms=3 for lightcurves=3 with total points=394\n"
     ]
    },
    {
     "name": "stderr",
     "output_type": "stream",
     "text": [
      " 53%|█████▎    | 107/203 [09:20<10:40,  6.68s/it]"
     ]
    },
    {
     "name": "stdout",
     "output_type": "stream",
     "text": [
      "--------------------------------------------------\n",
      "\n",
      "Splitting lightcurves for Interamnia with max_hours_diff=24 and min_no_points=10\n",
      "Before splitting: 155 lightcurves\n",
      "After splitting: 153 lightcurves\n",
      "Getting top 4 bins with max_time_diff=45 and min_bin_size=1\n",
      "After binning 26 bins available\n",
      "Getting top 50 frequencies with nterms=3 for lightcurves=22 with total points=2361\n",
      "Getting top 50 frequencies with nterms=3 for lightcurves=5 with total points=2172\n",
      "Getting top 50 frequencies with nterms=3 for lightcurves=25 with total points=2127\n",
      "Getting top 50 frequencies with nterms=3 for lightcurves=16 with total points=1540\n"
     ]
    },
    {
     "name": "stderr",
     "output_type": "stream",
     "text": [
      " 53%|█████▎    | 108/203 [09:37<14:51,  9.38s/it]"
     ]
    },
    {
     "name": "stdout",
     "output_type": "stream",
     "text": [
      "--------------------------------------------------\n",
      "\n",
      "Splitting lightcurves for Io with max_hours_diff=24 and min_no_points=10\n",
      "Before splitting: 29 lightcurves\n",
      "After splitting: 28 lightcurves\n",
      "Getting top 4 bins with max_time_diff=45 and min_bin_size=1\n",
      "After binning 6 bins available\n",
      "Getting top 50 frequencies with nterms=3 for lightcurves=7 with total points=468\n",
      "Getting top 50 frequencies with nterms=3 for lightcurves=9 with total points=248\n",
      "Getting top 50 frequencies with nterms=3 for lightcurves=4 with total points=117\n",
      "Getting top 50 frequencies with nterms=3 for lightcurves=2 with total points=114\n"
     ]
    },
    {
     "name": "stderr",
     "output_type": "stream",
     "text": [
      " 54%|█████▎    | 109/203 [09:51<16:52, 10.77s/it]"
     ]
    },
    {
     "name": "stdout",
     "output_type": "stream",
     "text": [
      "--------------------------------------------------\n",
      "\n",
      "Splitting lightcurves for Iris with max_hours_diff=24 and min_no_points=10\n",
      "Before splitting: 39 lightcurves\n",
      "After splitting: 36 lightcurves\n",
      "Getting top 4 bins with max_time_diff=45 and min_bin_size=1\n",
      "After binning 18 bins available\n",
      "Getting top 50 frequencies with nterms=3 for lightcurves=2 with total points=1212\n",
      "Getting top 50 frequencies with nterms=3 for lightcurves=2 with total points=556\n",
      "Getting top 50 frequencies with nterms=3 for lightcurves=5 with total points=223\n"
     ]
    },
    {
     "name": "stderr",
     "output_type": "stream",
     "text": [
      " 54%|█████▍    | 110/203 [09:55<13:26,  8.67s/it]"
     ]
    },
    {
     "name": "stdout",
     "output_type": "stream",
     "text": [
      "Getting top 50 frequencies with nterms=3 for lightcurves=2 with total points=162\n",
      "--------------------------------------------------\n",
      "\n",
      "Splitting lightcurves for Isabella with max_hours_diff=24 and min_no_points=10\n",
      "Before splitting: 1 lightcurves\n",
      "After splitting: 0 lightcurves\n",
      "Getting top 4 bins with max_time_diff=45 and min_bin_size=1\n",
      "After binning 0 bins available\n",
      "WARNING - using 0 bins instead of 4\n",
      "--------------------------------------------------\n",
      "\n",
      "Splitting lightcurves for Isara with max_hours_diff=24 and min_no_points=10\n",
      "Before splitting: 2 lightcurves\n",
      "After splitting: 2 lightcurves\n",
      "Getting top 4 bins with max_time_diff=45 and min_bin_size=1\n",
      "After binning 0 bins available\n",
      "WARNING - using 0 bins instead of 4\n",
      "--------------------------------------------------\n",
      "\n",
      "Splitting lightcurves for Istria with max_hours_diff=24 and min_no_points=10\n",
      "Before splitting: 7 lightcurves\n",
      "After splitting: 6 lightcurves\n",
      "Getting top 4 bins with max_time_diff=45 and min_bin_size=1\n",
      "After binning 1 bins available\n",
      "WARNING - using 1 bins instead of 4\n",
      "Getting top 50 frequencies with nterms=3 for lightcurves=5 with total points=92\n"
     ]
    },
    {
     "name": "stderr",
     "output_type": "stream",
     "text": [
      " 56%|█████▌    | 113/203 [09:55<05:59,  4.00s/it]"
     ]
    },
    {
     "name": "stdout",
     "output_type": "stream",
     "text": [
      "--------------------------------------------------\n",
      "\n",
      "Splitting lightcurves for Janina with max_hours_diff=24 and min_no_points=10\n",
      "Before splitting: 1 lightcurves\n",
      "After splitting: 11 lightcurves\n",
      "Getting top 4 bins with max_time_diff=45 and min_bin_size=1\n",
      "After binning 4 bins available\n",
      "Getting top 50 frequencies with nterms=3 for lightcurves=5 with total points=72\n",
      "Getting top 50 frequencies with nterms=3 for lightcurves=2 with total points=26\n",
      "Getting top 50 frequencies with nterms=3 for lightcurves=1 with total points=24\n",
      "Getting top 50 frequencies with nterms=3 for lightcurves=2 with total points=22\n"
     ]
    },
    {
     "name": "stderr",
     "output_type": "stream",
     "text": [
      " 56%|█████▌    | 114/203 [10:03<06:58,  4.70s/it]"
     ]
    },
    {
     "name": "stdout",
     "output_type": "stream",
     "text": [
      "--------------------------------------------------\n",
      "\n",
      "Splitting lightcurves for Johanna with max_hours_diff=24 and min_no_points=10\n",
      "Before splitting: 33 lightcurves\n",
      "After splitting: 33 lightcurves\n",
      "Getting top 4 bins with max_time_diff=45 and min_bin_size=1\n",
      "After binning 11 bins available\n",
      "Getting top 50 frequencies with nterms=3 for lightcurves=7 with total points=507\n",
      "Getting top 50 frequencies with nterms=3 for lightcurves=3 with total points=243\n",
      "Getting top 50 frequencies with nterms=3 for lightcurves=3 with total points=228\n",
      "Getting top 50 frequencies with nterms=3 for lightcurves=4 with total points=207\n"
     ]
    },
    {
     "name": "stderr",
     "output_type": "stream",
     "text": [
      " 57%|█████▋    | 115/203 [10:10<07:50,  5.34s/it]"
     ]
    },
    {
     "name": "stdout",
     "output_type": "stream",
     "text": [
      "--------------------------------------------------\n",
      "\n",
      "Splitting lightcurves for Josephina with max_hours_diff=24 and min_no_points=10\n",
      "Before splitting: 1 lightcurves\n",
      "After splitting: 1 lightcurves\n",
      "Getting top 4 bins with max_time_diff=45 and min_bin_size=1\n",
      "After binning 0 bins available\n",
      "WARNING - using 0 bins instead of 4\n",
      "--------------------------------------------------\n",
      "\n",
      "Splitting lightcurves for Julia with max_hours_diff=24 and min_no_points=10\n",
      "Before splitting: 37 lightcurves\n",
      "After splitting: 37 lightcurves\n",
      "Getting top 4 bins with max_time_diff=45 and min_bin_size=1\n",
      "After binning 5 bins available\n",
      "Getting top 50 frequencies with nterms=3 for lightcurves=4 with total points=2435\n",
      "Getting top 50 frequencies with nterms=3 for lightcurves=7 with total points=1412\n",
      "Getting top 50 frequencies with nterms=3 for lightcurves=9 with total points=1112\n",
      "Getting top 50 frequencies with nterms=3 for lightcurves=8 with total points=474\n"
     ]
    },
    {
     "name": "stderr",
     "output_type": "stream",
     "text": [
      " 58%|█████▊    | 117/203 [10:15<06:06,  4.26s/it]"
     ]
    },
    {
     "name": "stdout",
     "output_type": "stream",
     "text": [
      "--------------------------------------------------\n",
      "\n",
      "Splitting lightcurves for Juno with max_hours_diff=24 and min_no_points=10\n",
      "Before splitting: 22 lightcurves\n",
      "After splitting: 22 lightcurves\n",
      "Getting top 4 bins with max_time_diff=45 and min_bin_size=1\n",
      "After binning 9 bins available\n",
      "Getting top 50 frequencies with nterms=3 for lightcurves=8 with total points=491\n",
      "Getting top 50 frequencies with nterms=3 for lightcurves=1 with total points=243\n",
      "Getting top 50 frequencies with nterms=3 for lightcurves=3 with total points=167\n"
     ]
    },
    {
     "name": "stderr",
     "output_type": "stream",
     "text": [
      " 58%|█████▊    | 118/203 [10:20<06:19,  4.46s/it]"
     ]
    },
    {
     "name": "stdout",
     "output_type": "stream",
     "text": [
      "Getting top 50 frequencies with nterms=3 for lightcurves=2 with total points=153\n",
      "--------------------------------------------------\n",
      "\n",
      "Splitting lightcurves for Kalliope with max_hours_diff=24 and min_no_points=10\n",
      "Before splitting: 139 lightcurves\n",
      "After splitting: 123 lightcurves\n",
      "Getting top 4 bins with max_time_diff=45 and min_bin_size=1\n",
      "After binning 29 bins available\n",
      "Getting top 50 frequencies with nterms=3 for lightcurves=16 with total points=2666\n",
      "Getting top 50 frequencies with nterms=3 for lightcurves=5 with total points=1298\n",
      "Getting top 50 frequencies with nterms=3 for lightcurves=7 with total points=1148\n",
      "Getting top 50 frequencies with nterms=3 for lightcurves=14 with total points=989\n"
     ]
    },
    {
     "name": "stderr",
     "output_type": "stream",
     "text": [
      " 59%|█████▊    | 119/203 [10:34<09:15,  6.62s/it]"
     ]
    },
    {
     "name": "stdout",
     "output_type": "stream",
     "text": [
      "--------------------------------------------------\n",
      "\n",
      "Splitting lightcurves for Kalypso with max_hours_diff=24 and min_no_points=10\n",
      "Before splitting: 5 lightcurves\n",
      "After splitting: 27 lightcurves\n",
      "Getting top 4 bins with max_time_diff=45 and min_bin_size=1\n",
      "After binning 7 bins available\n",
      "Getting top 50 frequencies with nterms=3 for lightcurves=6 with total points=1625\n",
      "Getting top 50 frequencies with nterms=3 for lightcurves=4 with total points=1468\n",
      "Getting top 50 frequencies with nterms=3 for lightcurves=3 with total points=1274\n",
      "Getting top 50 frequencies with nterms=3 for lightcurves=4 with total points=508\n"
     ]
    },
    {
     "name": "stderr",
     "output_type": "stream",
     "text": [
      " 59%|█████▉    | 120/203 [10:45<10:45,  7.78s/it]"
     ]
    },
    {
     "name": "stdout",
     "output_type": "stream",
     "text": [
      "--------------------------------------------------\n",
      "\n",
      "Splitting lightcurves for Kassandra with max_hours_diff=24 and min_no_points=10\n",
      "Before splitting: 14 lightcurves\n",
      "After splitting: 18 lightcurves\n",
      "Getting top 4 bins with max_time_diff=45 and min_bin_size=1\n",
      "After binning 7 bins available\n",
      "Getting top 50 frequencies with nterms=3 for lightcurves=6 with total points=846\n",
      "Getting top 50 frequencies with nterms=3 for lightcurves=4 with total points=201\n"
     ]
    },
    {
     "name": "stderr",
     "output_type": "stream",
     "text": [
      " 60%|█████▉    | 121/203 [10:51<10:05,  7.38s/it]"
     ]
    },
    {
     "name": "stdout",
     "output_type": "stream",
     "text": [
      "Getting top 50 frequencies with nterms=3 for lightcurves=1 with total points=122\n",
      "Getting top 50 frequencies with nterms=3 for lightcurves=1 with total points=102\n",
      "--------------------------------------------------\n",
      "\n",
      "Splitting lightcurves for Katharina with max_hours_diff=24 and min_no_points=10\n",
      "Before splitting: 1 lightcurves\n",
      "After splitting: 4 lightcurves\n",
      "Getting top 4 bins with max_time_diff=45 and min_bin_size=1\n",
      "After binning 3 bins available\n",
      "WARNING - using 3 bins instead of 4\n",
      "Getting top 50 frequencies with nterms=3 for lightcurves=1 with total points=13\n"
     ]
    },
    {
     "name": "stderr",
     "output_type": "stream",
     "text": [
      " 60%|██████    | 122/203 [10:52<07:21,  5.46s/it]"
     ]
    },
    {
     "name": "stdout",
     "output_type": "stream",
     "text": [
      "Getting top 50 frequencies with nterms=3 for lightcurves=1 with total points=12\n",
      "Getting top 50 frequencies with nterms=3 for lightcurves=1 with total points=11\n",
      "--------------------------------------------------\n",
      "\n",
      "Splitting lightcurves for Kleopatra with max_hours_diff=24 and min_no_points=10\n",
      "Before splitting: 52 lightcurves\n",
      "After splitting: 46 lightcurves\n",
      "Getting top 4 bins with max_time_diff=45 and min_bin_size=1\n",
      "After binning 14 bins available\n",
      "Getting top 50 frequencies with nterms=3 for lightcurves=2 with total points=522\n",
      "Getting top 50 frequencies with nterms=3 for lightcurves=16 with total points=477\n",
      "Getting top 50 frequencies with nterms=3 for lightcurves=4 with total points=428\n",
      "Getting top 50 frequencies with nterms=3 for lightcurves=2 with total points=223\n"
     ]
    },
    {
     "name": "stderr",
     "output_type": "stream",
     "text": [
      " 61%|██████    | 123/203 [11:00<08:08,  6.10s/it]"
     ]
    },
    {
     "name": "stdout",
     "output_type": "stream",
     "text": [
      "--------------------------------------------------\n",
      "\n",
      "Splitting lightcurves for Klymene with max_hours_diff=24 and min_no_points=10\n",
      "Before splitting: 8 lightcurves\n",
      "After splitting: 10 lightcurves\n",
      "Getting top 4 bins with max_time_diff=45 and min_bin_size=1\n",
      "After binning 3 bins available\n",
      "WARNING - using 3 bins instead of 4\n",
      "Getting top 50 frequencies with nterms=3 for lightcurves=5 with total points=114\n",
      "Getting top 50 frequencies with nterms=3 for lightcurves=1 with total points=30\n",
      "Getting top 50 frequencies with nterms=3 for lightcurves=2 with total points=24\n"
     ]
    },
    {
     "name": "stderr",
     "output_type": "stream",
     "text": [
      " 61%|██████    | 124/203 [11:05<07:51,  5.97s/it]"
     ]
    },
    {
     "name": "stdout",
     "output_type": "stream",
     "text": [
      "--------------------------------------------------\n",
      "\n",
      "Splitting lightcurves for Klytaemnestra with max_hours_diff=24 and min_no_points=10\n",
      "Before splitting: 4 lightcurves\n",
      "After splitting: 2 lightcurves\n",
      "Getting top 4 bins with max_time_diff=45 and min_bin_size=1\n",
      "After binning 0 bins available\n",
      "WARNING - using 0 bins instead of 4\n",
      "--------------------------------------------------\n",
      "\n",
      "Splitting lightcurves for Klytia with max_hours_diff=24 and min_no_points=10\n",
      "Before splitting: 8 lightcurves\n",
      "After splitting: 16 lightcurves\n",
      "Getting top 4 bins with max_time_diff=45 and min_bin_size=1\n",
      "After binning 7 bins available\n",
      "Getting top 50 frequencies with nterms=3 for lightcurves=2 with total points=158\n",
      "Getting top 50 frequencies with nterms=3 for lightcurves=3 with total points=91\n",
      "Getting top 50 frequencies with nterms=3 for lightcurves=2 with total points=88\n",
      "Getting top 50 frequencies with nterms=3 for lightcurves=2 with total points=75\n"
     ]
    },
    {
     "name": "stderr",
     "output_type": "stream",
     "text": [
      " 62%|██████▏   | 126/203 [11:13<06:26,  5.01s/it]"
     ]
    },
    {
     "name": "stdout",
     "output_type": "stream",
     "text": [
      "--------------------------------------------------\n",
      "\n",
      "Splitting lightcurves for Kriemhild with max_hours_diff=24 and min_no_points=10\n",
      "Before splitting: 7 lightcurves\n",
      "After splitting: 20 lightcurves\n",
      "Getting top 4 bins with max_time_diff=45 and min_bin_size=1\n",
      "After binning 8 bins available\n",
      "Getting top 50 frequencies with nterms=3 for lightcurves=5 with total points=412\n",
      "Getting top 50 frequencies with nterms=3 for lightcurves=3 with total points=326\n",
      "Getting top 50 frequencies with nterms=3 for lightcurves=2 with total points=151\n",
      "Getting top 50 frequencies with nterms=3 for lightcurves=2 with total points=89\n"
     ]
    },
    {
     "name": "stderr",
     "output_type": "stream",
     "text": [
      " 63%|██████▎   | 127/203 [11:19<06:43,  5.31s/it]"
     ]
    },
    {
     "name": "stdout",
     "output_type": "stream",
     "text": [
      "--------------------------------------------------\n",
      "\n",
      "Splitting lightcurves for Laetitia with max_hours_diff=24 and min_no_points=10\n",
      "Before splitting: 68 lightcurves\n",
      "After splitting: 57 lightcurves\n",
      "Getting top 4 bins with max_time_diff=45 and min_bin_size=1\n",
      "After binning 33 bins available\n",
      "Getting top 50 frequencies with nterms=3 for lightcurves=3 with total points=395\n",
      "Getting top 50 frequencies with nterms=3 for lightcurves=2 with total points=279\n",
      "Getting top 50 frequencies with nterms=3 for lightcurves=2 with total points=240\n",
      "Getting top 50 frequencies with nterms=3 for lightcurves=3 with total points=177\n"
     ]
    },
    {
     "name": "stderr",
     "output_type": "stream",
     "text": [
      " 63%|██████▎   | 128/203 [11:23<06:08,  4.91s/it]"
     ]
    },
    {
     "name": "stdout",
     "output_type": "stream",
     "text": [
      "--------------------------------------------------\n",
      "\n",
      "Splitting lightcurves for Lamberta with max_hours_diff=24 and min_no_points=10\n",
      "Before splitting: 52 lightcurves\n",
      "After splitting: 50 lightcurves\n",
      "Getting top 4 bins with max_time_diff=45 and min_bin_size=1\n",
      "After binning 10 bins available\n",
      "Getting top 50 frequencies with nterms=3 for lightcurves=2 with total points=893\n",
      "Getting top 50 frequencies with nterms=3 for lightcurves=10 with total points=866\n",
      "Getting top 50 frequencies with nterms=3 for lightcurves=8 with total points=714\n",
      "Getting top 50 frequencies with nterms=3 for lightcurves=10 with total points=645\n"
     ]
    },
    {
     "name": "stderr",
     "output_type": "stream",
     "text": [
      " 64%|██████▎   | 129/203 [11:35<08:32,  6.93s/it]"
     ]
    },
    {
     "name": "stdout",
     "output_type": "stream",
     "text": [
      "--------------------------------------------------\n",
      "\n",
      "Splitting lightcurves for Lameia with max_hours_diff=24 and min_no_points=10\n",
      "Before splitting: 1 lightcurves\n",
      "After splitting: 0 lightcurves\n",
      "Getting top 4 bins with max_time_diff=45 and min_bin_size=1\n",
      "After binning 0 bins available\n",
      "WARNING - using 0 bins instead of 4\n",
      "--------------------------------------------------\n",
      "\n",
      "Splitting lightcurves for Laurentia with max_hours_diff=24 and min_no_points=10\n",
      "Before splitting: 5 lightcurves\n",
      "After splitting: 3 lightcurves\n",
      "Getting top 4 bins with max_time_diff=45 and min_bin_size=1\n",
      "After binning 1 bins available\n",
      "WARNING - using 1 bins instead of 4\n",
      "Getting top 50 frequencies with nterms=3 for lightcurves=1 with total points=64\n",
      "--------------------------------------------------\n",
      "\n",
      "Splitting lightcurves for Leda with max_hours_diff=24 and min_no_points=10\n",
      "Before splitting: 18 lightcurves\n",
      "After splitting: 26 lightcurves\n",
      "Getting top 4 bins with max_time_diff=45 and min_bin_size=1\n",
      "After binning 7 bins available\n",
      "Getting top 50 frequencies with nterms=3 for lightcurves=5 with total points=1205\n",
      "Getting top 50 frequencies with nterms=3 for lightcurves=4 with total points=874\n",
      "Getting top 50 frequencies with nterms=3 for lightcurves=3 with total points=677\n",
      "Getting top 50 frequencies with nterms=3 for lightcurves=2 with total points=644\n"
     ]
    },
    {
     "name": "stderr",
     "output_type": "stream",
     "text": [
      " 65%|██████▌   | 132/203 [11:44<05:44,  4.85s/it]"
     ]
    },
    {
     "name": "stdout",
     "output_type": "stream",
     "text": [
      "--------------------------------------------------\n",
      "\n",
      "Splitting lightcurves for Liberatrix with max_hours_diff=24 and min_no_points=10\n",
      "Before splitting: 34 lightcurves\n",
      "After splitting: 30 lightcurves\n",
      "Getting top 4 bins with max_time_diff=45 and min_bin_size=1\n",
      "After binning 11 bins available\n",
      "Getting top 50 frequencies with nterms=3 for lightcurves=2 with total points=246\n",
      "Getting top 50 frequencies with nterms=3 for lightcurves=4 with total points=198\n",
      "Getting top 50 frequencies with nterms=3 for lightcurves=8 with total points=171\n",
      "Getting top 50 frequencies with nterms=3 for lightcurves=3 with total points=104\n"
     ]
    },
    {
     "name": "stderr",
     "output_type": "stream",
     "text": [
      " 66%|██████▌   | 133/203 [11:57<07:31,  6.45s/it]"
     ]
    },
    {
     "name": "stdout",
     "output_type": "stream",
     "text": [
      "--------------------------------------------------\n",
      "\n",
      "Splitting lightcurves for Libussa with max_hours_diff=24 and min_no_points=10\n",
      "Before splitting: 9 lightcurves\n",
      "After splitting: 15 lightcurves\n",
      "Getting top 4 bins with max_time_diff=45 and min_bin_size=1\n",
      "After binning 3 bins available\n",
      "WARNING - using 3 bins instead of 4\n",
      "Getting top 50 frequencies with nterms=3 for lightcurves=7 with total points=773\n",
      "Getting top 50 frequencies with nterms=3 for lightcurves=4 with total points=384\n"
     ]
    },
    {
     "name": "stderr",
     "output_type": "stream",
     "text": [
      " 66%|██████▌   | 134/203 [12:03<07:18,  6.36s/it]"
     ]
    },
    {
     "name": "stdout",
     "output_type": "stream",
     "text": [
      "Getting top 50 frequencies with nterms=3 for lightcurves=1 with total points=35\n",
      "--------------------------------------------------\n",
      "\n",
      "Splitting lightcurves for Lilaea with max_hours_diff=24 and min_no_points=10\n",
      "Before splitting: 1 lightcurves\n",
      "After splitting: 3 lightcurves\n",
      "Getting top 4 bins with max_time_diff=45 and min_bin_size=1\n",
      "After binning 2 bins available\n",
      "WARNING - using 2 bins instead of 4\n",
      "Getting top 50 frequencies with nterms=3 for lightcurves=1 with total points=27\n"
     ]
    },
    {
     "name": "stderr",
     "output_type": "stream",
     "text": [
      " 67%|██████▋   | 135/203 [12:04<05:37,  4.96s/it]"
     ]
    },
    {
     "name": "stdout",
     "output_type": "stream",
     "text": [
      "Getting top 50 frequencies with nterms=3 for lightcurves=1 with total points=10\n",
      "--------------------------------------------------\n",
      "\n",
      "Splitting lightcurves for Lomia with max_hours_diff=24 and min_no_points=10\n",
      "Before splitting: 8 lightcurves\n",
      "After splitting: 13 lightcurves\n",
      "Getting top 4 bins with max_time_diff=45 and min_bin_size=1\n",
      "After binning 3 bins available\n",
      "WARNING - using 3 bins instead of 4\n",
      "Getting top 50 frequencies with nterms=3 for lightcurves=2 with total points=203\n",
      "Getting top 50 frequencies with nterms=3 for lightcurves=4 with total points=156\n",
      "Getting top 50 frequencies with nterms=3 for lightcurves=3 with total points=123\n"
     ]
    },
    {
     "name": "stderr",
     "output_type": "stream",
     "text": [
      " 67%|██████▋   | 136/203 [12:06<04:46,  4.28s/it]"
     ]
    },
    {
     "name": "stdout",
     "output_type": "stream",
     "text": [
      "--------------------------------------------------\n",
      "\n",
      "Splitting lightcurves for Loreley with max_hours_diff=24 and min_no_points=10\n",
      "Before splitting: 28 lightcurves\n",
      "After splitting: 22 lightcurves\n",
      "Getting top 4 bins with max_time_diff=45 and min_bin_size=1\n",
      "After binning 5 bins available\n",
      "Getting top 50 frequencies with nterms=3 for lightcurves=8 with total points=896\n",
      "Getting top 50 frequencies with nterms=3 for lightcurves=4 with total points=314\n"
     ]
    },
    {
     "name": "stderr",
     "output_type": "stream",
     "text": [
      " 67%|██████▋   | 137/203 [12:11<05:00,  4.56s/it]"
     ]
    },
    {
     "name": "stdout",
     "output_type": "stream",
     "text": [
      "Getting top 50 frequencies with nterms=3 for lightcurves=1 with total points=71\n",
      "Getting top 50 frequencies with nterms=3 for lightcurves=2 with total points=67\n",
      "--------------------------------------------------\n",
      "\n",
      "Splitting lightcurves for Lucia with max_hours_diff=24 and min_no_points=10\n",
      "Before splitting: 7 lightcurves\n",
      "After splitting: 7 lightcurves\n",
      "Getting top 4 bins with max_time_diff=45 and min_bin_size=1\n",
      "After binning 3 bins available\n",
      "WARNING - using 3 bins instead of 4\n",
      "Getting top 50 frequencies with nterms=3 for lightcurves=1 with total points=357\n"
     ]
    },
    {
     "name": "stderr",
     "output_type": "stream",
     "text": [
      " 68%|██████▊   | 138/203 [12:12<03:37,  3.34s/it]"
     ]
    },
    {
     "name": "stdout",
     "output_type": "stream",
     "text": [
      "Getting top 50 frequencies with nterms=3 for lightcurves=1 with total points=59\n",
      "Getting top 50 frequencies with nterms=3 for lightcurves=1 with total points=22\n",
      "--------------------------------------------------\n",
      "\n",
      "Splitting lightcurves for Lucretia with max_hours_diff=24 and min_no_points=10\n",
      "Before splitting: 9 lightcurves\n",
      "After splitting: 8 lightcurves\n",
      "Getting top 4 bins with max_time_diff=45 and min_bin_size=1\n",
      "After binning 3 bins available\n",
      "WARNING - using 3 bins instead of 4\n",
      "Getting top 50 frequencies with nterms=3 for lightcurves=2 with total points=128\n",
      "Getting top 50 frequencies with nterms=3 for lightcurves=3 with total points=78\n"
     ]
    },
    {
     "name": "stderr",
     "output_type": "stream",
     "text": [
      " 68%|██████▊   | 139/203 [12:14<03:07,  2.93s/it]"
     ]
    },
    {
     "name": "stdout",
     "output_type": "stream",
     "text": [
      "Getting top 50 frequencies with nterms=3 for lightcurves=1 with total points=40\n",
      "--------------------------------------------------\n",
      "\n",
      "Splitting lightcurves for Ludovica with max_hours_diff=24 and min_no_points=10\n",
      "Before splitting: 1 lightcurves\n",
      "After splitting: 4 lightcurves\n",
      "Getting top 4 bins with max_time_diff=45 and min_bin_size=1\n",
      "After binning 1 bins available\n",
      "WARNING - using 1 bins instead of 4\n",
      "Getting top 50 frequencies with nterms=3 for lightcurves=1 with total points=12\n",
      "--------------------------------------------------\n",
      "\n",
      "Splitting lightcurves for Lutetia with max_hours_diff=24 and min_no_points=10\n",
      "Before splitting: 43 lightcurves\n",
      "After splitting: 41 lightcurves\n",
      "Getting top 4 bins with max_time_diff=45 and min_bin_size=1\n",
      "After binning 14 bins available\n",
      "Getting top 50 frequencies with nterms=3 for lightcurves=4 with total points=659\n",
      "Getting top 50 frequencies with nterms=3 for lightcurves=1 with total points=647\n",
      "Getting top 50 frequencies with nterms=3 for lightcurves=3 with total points=335\n",
      "Getting top 50 frequencies with nterms=3 for lightcurves=7 with total points=316\n"
     ]
    },
    {
     "name": "stderr",
     "output_type": "stream",
     "text": [
      " 69%|██████▉   | 141/203 [12:23<03:51,  3.74s/it]"
     ]
    },
    {
     "name": "stdout",
     "output_type": "stream",
     "text": [
      "--------------------------------------------------\n",
      "\n",
      "Splitting lightcurves for Lydia with max_hours_diff=24 and min_no_points=10\n",
      "Before splitting: 25 lightcurves\n",
      "After splitting: 25 lightcurves\n",
      "Getting top 4 bins with max_time_diff=45 and min_bin_size=1\n",
      "After binning 5 bins available\n",
      "Getting top 50 frequencies with nterms=3 for lightcurves=7 with total points=339\n"
     ]
    },
    {
     "name": "stderr",
     "output_type": "stream",
     "text": [
      " 70%|██████▉   | 142/203 [12:28<03:59,  3.93s/it]"
     ]
    },
    {
     "name": "stdout",
     "output_type": "stream",
     "text": [
      "Getting top 50 frequencies with nterms=3 for lightcurves=2 with total points=137\n",
      "Getting top 50 frequencies with nterms=3 for lightcurves=1 with total points=108\n",
      "Getting top 50 frequencies with nterms=3 for lightcurves=1 with total points=60\n",
      "--------------------------------------------------\n",
      "\n",
      "Splitting lightcurves for Maja with max_hours_diff=24 and min_no_points=10\n",
      "Before splitting: 7 lightcurves\n",
      "After splitting: 16 lightcurves\n",
      "Getting top 4 bins with max_time_diff=45 and min_bin_size=1\n",
      "After binning 8 bins available\n",
      "Getting top 50 frequencies with nterms=3 for lightcurves=1 with total points=480\n",
      "Getting top 50 frequencies with nterms=3 for lightcurves=2 with total points=282\n",
      "Getting top 50 frequencies with nterms=3 for lightcurves=4 with total points=194\n",
      "Getting top 50 frequencies with nterms=3 for lightcurves=4 with total points=73\n"
     ]
    },
    {
     "name": "stderr",
     "output_type": "stream",
     "text": [
      " 70%|███████   | 143/203 [12:38<05:34,  5.57s/it]"
     ]
    },
    {
     "name": "stdout",
     "output_type": "stream",
     "text": [
      "--------------------------------------------------\n",
      "\n",
      "Splitting lightcurves for Margarita with max_hours_diff=24 and min_no_points=10\n",
      "Before splitting: 28 lightcurves\n",
      "After splitting: 27 lightcurves\n",
      "Getting top 4 bins with max_time_diff=45 and min_bin_size=1\n",
      "After binning 2 bins available\n",
      "WARNING - using 2 bins instead of 4\n",
      "Getting top 50 frequencies with nterms=3 for lightcurves=19 with total points=893\n",
      "Getting top 50 frequencies with nterms=3 for lightcurves=1 with total points=12\n"
     ]
    },
    {
     "name": "stderr",
     "output_type": "stream",
     "text": [
      " 71%|███████   | 144/203 [12:43<05:17,  5.39s/it]"
     ]
    },
    {
     "name": "stdout",
     "output_type": "stream",
     "text": [
      "--------------------------------------------------\n",
      "\n",
      "Splitting lightcurves for Massalia with max_hours_diff=24 and min_no_points=10\n",
      "Before splitting: 17 lightcurves\n",
      "After splitting: 17 lightcurves\n",
      "Getting top 4 bins with max_time_diff=45 and min_bin_size=1\n",
      "After binning 7 bins available\n",
      "Getting top 50 frequencies with nterms=3 for lightcurves=5 with total points=213\n",
      "Getting top 50 frequencies with nterms=3 for lightcurves=2 with total points=210\n",
      "Getting top 50 frequencies with nterms=3 for lightcurves=3 with total points=206\n"
     ]
    },
    {
     "name": "stderr",
     "output_type": "stream",
     "text": [
      " 71%|███████▏  | 145/203 [12:52<06:18,  6.52s/it]"
     ]
    },
    {
     "name": "stdout",
     "output_type": "stream",
     "text": [
      "Getting top 50 frequencies with nterms=3 for lightcurves=1 with total points=70\n",
      "--------------------------------------------------\n",
      "\n",
      "Splitting lightcurves for Medea with max_hours_diff=24 and min_no_points=10\n",
      "Before splitting: 13 lightcurves\n",
      "After splitting: 32 lightcurves\n",
      "Getting top 4 bins with max_time_diff=45 and min_bin_size=1\n",
      "After binning 10 bins available\n",
      "Getting top 50 frequencies with nterms=3 for lightcurves=5 with total points=1059\n",
      "Getting top 50 frequencies with nterms=3 for lightcurves=6 with total points=800\n",
      "Getting top 50 frequencies with nterms=3 for lightcurves=6 with total points=228\n",
      "Getting top 50 frequencies with nterms=3 for lightcurves=4 with total points=173\n"
     ]
    },
    {
     "name": "stderr",
     "output_type": "stream",
     "text": [
      " 72%|███████▏  | 146/203 [13:04<07:38,  8.04s/it]"
     ]
    },
    {
     "name": "stdout",
     "output_type": "stream",
     "text": [
      "--------------------------------------------------\n",
      "\n",
      "Splitting lightcurves for Melpomene with max_hours_diff=24 and min_no_points=10\n",
      "Before splitting: 157 lightcurves\n",
      "After splitting: 153 lightcurves\n",
      "Getting top 4 bins with max_time_diff=45 and min_bin_size=1\n",
      "After binning 22 bins available\n",
      "Getting top 50 frequencies with nterms=3 for lightcurves=14 with total points=1880\n",
      "Getting top 50 frequencies with nterms=3 for lightcurves=20 with total points=1503\n",
      "Getting top 50 frequencies with nterms=3 for lightcurves=14 with total points=903\n",
      "Getting top 50 frequencies with nterms=3 for lightcurves=2 with total points=858\n"
     ]
    },
    {
     "name": "stderr",
     "output_type": "stream",
     "text": [
      " 72%|███████▏  | 147/203 [13:15<08:17,  8.89s/it]"
     ]
    },
    {
     "name": "stdout",
     "output_type": "stream",
     "text": [
      "--------------------------------------------------\n",
      "\n",
      "Splitting lightcurves for Melusina with max_hours_diff=24 and min_no_points=10\n",
      "Before splitting: 1 lightcurves\n",
      "After splitting: 2 lightcurves\n",
      "Getting top 4 bins with max_time_diff=45 and min_bin_size=1\n",
      "After binning 1 bins available\n",
      "WARNING - using 1 bins instead of 4\n",
      "Getting top 50 frequencies with nterms=3 for lightcurves=1 with total points=22\n"
     ]
    },
    {
     "name": "stderr",
     "output_type": "stream",
     "text": [
      " 73%|███████▎  | 148/203 [13:17<06:10,  6.73s/it]"
     ]
    },
    {
     "name": "stdout",
     "output_type": "stream",
     "text": [
      "--------------------------------------------------\n",
      "\n",
      "Splitting lightcurves for Menippe with max_hours_diff=24 and min_no_points=10\n",
      "Before splitting: 5 lightcurves\n",
      "After splitting: 4 lightcurves\n",
      "Getting top 4 bins with max_time_diff=45 and min_bin_size=1\n",
      "After binning 0 bins available\n",
      "WARNING - using 0 bins instead of 4\n",
      "--------------------------------------------------\n",
      "\n",
      "Splitting lightcurves for Metis with max_hours_diff=24 and min_no_points=10\n",
      "Before splitting: 35 lightcurves\n",
      "After splitting: 30 lightcurves\n",
      "Getting top 4 bins with max_time_diff=45 and min_bin_size=1\n",
      "After binning 16 bins available\n",
      "Getting top 50 frequencies with nterms=3 for lightcurves=4 with total points=201\n",
      "Getting top 50 frequencies with nterms=3 for lightcurves=3 with total points=187\n",
      "Getting top 50 frequencies with nterms=3 for lightcurves=3 with total points=166\n"
     ]
    },
    {
     "name": "stderr",
     "output_type": "stream",
     "text": [
      " 74%|███████▍  | 150/203 [13:23<04:34,  5.18s/it]"
     ]
    },
    {
     "name": "stdout",
     "output_type": "stream",
     "text": [
      "Getting top 50 frequencies with nterms=3 for lightcurves=1 with total points=88\n",
      "--------------------------------------------------\n",
      "\n",
      "Splitting lightcurves for Minerva with max_hours_diff=24 and min_no_points=10\n",
      "Before splitting: 33 lightcurves\n",
      "After splitting: 30 lightcurves\n",
      "Getting top 4 bins with max_time_diff=45 and min_bin_size=1\n",
      "After binning 10 bins available\n",
      "Getting top 50 frequencies with nterms=3 for lightcurves=6 with total points=1347\n",
      "Getting top 50 frequencies with nterms=3 for lightcurves=7 with total points=842\n",
      "Getting top 50 frequencies with nterms=3 for lightcurves=2 with total points=348\n",
      "Getting top 50 frequencies with nterms=3 for lightcurves=2 with total points=274\n"
     ]
    },
    {
     "name": "stderr",
     "output_type": "stream",
     "text": [
      " 74%|███████▍  | 151/203 [13:37<06:14,  7.19s/it]"
     ]
    },
    {
     "name": "stdout",
     "output_type": "stream",
     "text": [
      "--------------------------------------------------\n",
      "\n",
      "Splitting lightcurves for Myrrha with max_hours_diff=24 and min_no_points=10\n",
      "Before splitting: 3 lightcurves\n",
      "After splitting: 9 lightcurves\n",
      "Getting top 4 bins with max_time_diff=45 and min_bin_size=1\n",
      "After binning 4 bins available\n",
      "Getting top 50 frequencies with nterms=3 for lightcurves=4 with total points=370\n",
      "Getting top 50 frequencies with nterms=3 for lightcurves=2 with total points=145\n",
      "Getting top 50 frequencies with nterms=3 for lightcurves=1 with total points=79\n",
      "Getting top 50 frequencies with nterms=3 for lightcurves=1 with total points=10\n"
     ]
    },
    {
     "name": "stderr",
     "output_type": "stream",
     "text": [
      " 75%|███████▍  | 152/203 [13:39<05:09,  6.07s/it]"
     ]
    },
    {
     "name": "stdout",
     "output_type": "stream",
     "text": [
      "--------------------------------------------------\n",
      "\n",
      "Splitting lightcurves for Nemausa with max_hours_diff=24 and min_no_points=10\n",
      "Before splitting: 114 lightcurves\n",
      "After splitting: 114 lightcurves\n",
      "Getting top 4 bins with max_time_diff=45 and min_bin_size=1\n",
      "After binning 21 bins available\n",
      "Getting top 50 frequencies with nterms=3 for lightcurves=17 with total points=1889\n",
      "Getting top 50 frequencies with nterms=3 for lightcurves=21 with total points=1829\n",
      "Getting top 50 frequencies with nterms=3 for lightcurves=3 with total points=1637\n",
      "Getting top 50 frequencies with nterms=3 for lightcurves=21 with total points=1401\n"
     ]
    },
    {
     "name": "stderr",
     "output_type": "stream",
     "text": [
      " 75%|███████▌  | 153/203 [13:54<06:56,  8.33s/it]"
     ]
    },
    {
     "name": "stdout",
     "output_type": "stream",
     "text": [
      "--------------------------------------------------\n",
      "\n",
      "Splitting lightcurves for Nenetta with max_hours_diff=24 and min_no_points=10\n",
      "Before splitting: 1 lightcurves\n",
      "After splitting: 13 lightcurves\n",
      "Getting top 4 bins with max_time_diff=45 and min_bin_size=1\n",
      "After binning 6 bins available\n",
      "Getting top 50 frequencies with nterms=3 for lightcurves=5 with total points=63\n",
      "Getting top 50 frequencies with nterms=3 for lightcurves=2 with total points=23\n",
      "Getting top 50 frequencies with nterms=3 for lightcurves=2 with total points=20\n",
      "Getting top 50 frequencies with nterms=3 for lightcurves=1 with total points=18\n"
     ]
    },
    {
     "name": "stderr",
     "output_type": "stream",
     "text": [
      " 76%|███████▌  | 154/203 [14:02<06:42,  8.21s/it]"
     ]
    },
    {
     "name": "stdout",
     "output_type": "stream",
     "text": [
      "--------------------------------------------------\n",
      "\n",
      "Splitting lightcurves for Nephthys with max_hours_diff=24 and min_no_points=10\n",
      "Before splitting: 9 lightcurves\n",
      "After splitting: 7 lightcurves\n",
      "Getting top 4 bins with max_time_diff=45 and min_bin_size=1\n",
      "After binning 4 bins available\n",
      "Getting top 50 frequencies with nterms=3 for lightcurves=2 with total points=277\n",
      "Getting top 50 frequencies with nterms=3 for lightcurves=2 with total points=30\n",
      "Getting top 50 frequencies with nterms=3 for lightcurves=1 with total points=26\n",
      "Getting top 50 frequencies with nterms=3 for lightcurves=1 with total points=16\n"
     ]
    },
    {
     "name": "stderr",
     "output_type": "stream",
     "text": [
      " 76%|███████▋  | 155/203 [14:05<05:22,  6.73s/it]"
     ]
    },
    {
     "name": "stdout",
     "output_type": "stream",
     "text": [
      "--------------------------------------------------\n",
      "\n",
      "Splitting lightcurves for Nuwa with max_hours_diff=24 and min_no_points=10\n",
      "Before splitting: 2 lightcurves\n",
      "After splitting: 19 lightcurves\n",
      "Getting top 4 bins with max_time_diff=45 and min_bin_size=1\n",
      "After binning 6 bins available\n",
      "Getting top 50 frequencies with nterms=3 for lightcurves=4 with total points=1059\n",
      "Getting top 50 frequencies with nterms=3 for lightcurves=5 with total points=190\n",
      "Getting top 50 frequencies with nterms=3 for lightcurves=1 with total points=143\n",
      "Getting top 50 frequencies with nterms=3 for lightcurves=3 with total points=121\n"
     ]
    },
    {
     "name": "stderr",
     "output_type": "stream",
     "text": [
      " 77%|███████▋  | 156/203 [14:11<05:15,  6.72s/it]"
     ]
    },
    {
     "name": "stdout",
     "output_type": "stream",
     "text": [
      "--------------------------------------------------\n",
      "\n",
      "Splitting lightcurves for Nysa with max_hours_diff=24 and min_no_points=10\n",
      "Before splitting: 67 lightcurves\n",
      "After splitting: 53 lightcurves\n",
      "Getting top 4 bins with max_time_diff=45 and min_bin_size=1\n",
      "After binning 17 bins available\n",
      "Getting top 50 frequencies with nterms=3 for lightcurves=9 with total points=695\n",
      "Getting top 50 frequencies with nterms=3 for lightcurves=7 with total points=689\n",
      "Getting top 50 frequencies with nterms=3 for lightcurves=9 with total points=253\n",
      "Getting top 50 frequencies with nterms=3 for lightcurves=3 with total points=182\n"
     ]
    },
    {
     "name": "stderr",
     "output_type": "stream",
     "text": [
      " 77%|███████▋  | 157/203 [14:23<06:18,  8.23s/it]"
     ]
    },
    {
     "name": "stdout",
     "output_type": "stream",
     "text": [
      "--------------------------------------------------\n",
      "\n",
      "Splitting lightcurves for Ophelia with max_hours_diff=24 and min_no_points=10\n",
      "Before splitting: 2 lightcurves\n",
      "After splitting: 20 lightcurves\n",
      "Getting top 4 bins with max_time_diff=45 and min_bin_size=1\n",
      "After binning 6 bins available\n",
      "Getting top 50 frequencies with nterms=3 for lightcurves=7 with total points=822\n",
      "Getting top 50 frequencies with nterms=3 for lightcurves=2 with total points=542\n",
      "Getting top 50 frequencies with nterms=3 for lightcurves=5 with total points=435\n"
     ]
    },
    {
     "name": "stderr",
     "output_type": "stream",
     "text": [
      " 78%|███████▊  | 158/203 [14:33<06:25,  8.57s/it]"
     ]
    },
    {
     "name": "stdout",
     "output_type": "stream",
     "text": [
      "Getting top 50 frequencies with nterms=3 for lightcurves=1 with total points=53\n",
      "--------------------------------------------------\n",
      "\n",
      "Splitting lightcurves for Ornamenta with max_hours_diff=24 and min_no_points=10\n",
      "Before splitting: 37 lightcurves\n",
      "After splitting: 37 lightcurves\n",
      "Getting top 4 bins with max_time_diff=45 and min_bin_size=1\n",
      "After binning 7 bins available\n",
      "Getting top 50 frequencies with nterms=3 for lightcurves=11 with total points=315\n",
      "Getting top 50 frequencies with nterms=3 for lightcurves=7 with total points=252\n",
      "Getting top 50 frequencies with nterms=3 for lightcurves=7 with total points=239\n",
      "Getting top 50 frequencies with nterms=3 for lightcurves=5 with total points=164\n"
     ]
    },
    {
     "name": "stderr",
     "output_type": "stream",
     "text": [
      " 78%|███████▊  | 159/203 [14:46<07:16,  9.92s/it]"
     ]
    },
    {
     "name": "stdout",
     "output_type": "stream",
     "text": [
      "--------------------------------------------------\n",
      "\n",
      "Splitting lightcurves for Pallas with max_hours_diff=24 and min_no_points=10\n",
      "Before splitting: 58 lightcurves\n",
      "After splitting: 55 lightcurves\n",
      "Getting top 4 bins with max_time_diff=45 and min_bin_size=1\n",
      "After binning 18 bins available\n",
      "Getting top 50 frequencies with nterms=3 for lightcurves=8 with total points=574\n",
      "Getting top 50 frequencies with nterms=3 for lightcurves=6 with total points=299\n",
      "Getting top 50 frequencies with nterms=3 for lightcurves=4 with total points=230\n",
      "Getting top 50 frequencies with nterms=3 for lightcurves=4 with total points=217\n"
     ]
    },
    {
     "name": "stderr",
     "output_type": "stream",
     "text": [
      " 79%|███████▉  | 160/203 [14:59<07:45, 10.83s/it]"
     ]
    },
    {
     "name": "stdout",
     "output_type": "stream",
     "text": [
      "--------------------------------------------------\n",
      "\n",
      "Splitting lightcurves for Palma with max_hours_diff=24 and min_no_points=10\n",
      "Before splitting: 28 lightcurves\n",
      "After splitting: 21 lightcurves\n",
      "Getting top 4 bins with max_time_diff=45 and min_bin_size=1\n",
      "After binning 9 bins available\n",
      "Getting top 50 frequencies with nterms=3 for lightcurves=6 with total points=173\n",
      "Getting top 50 frequencies with nterms=3 for lightcurves=6 with total points=91\n"
     ]
    },
    {
     "name": "stderr",
     "output_type": "stream",
     "text": [
      " 79%|███████▉  | 161/203 [15:06<06:48,  9.72s/it]"
     ]
    },
    {
     "name": "stdout",
     "output_type": "stream",
     "text": [
      "Getting top 50 frequencies with nterms=3 for lightcurves=2 with total points=44\n",
      "Getting top 50 frequencies with nterms=3 for lightcurves=1 with total points=43\n",
      "--------------------------------------------------\n",
      "\n",
      "Splitting lightcurves for Pandora with max_hours_diff=24 and min_no_points=10\n",
      "Before splitting: 35 lightcurves\n",
      "After splitting: 30 lightcurves\n",
      "Getting top 4 bins with max_time_diff=45 and min_bin_size=1\n",
      "After binning 10 bins available\n",
      "Getting top 50 frequencies with nterms=3 for lightcurves=11 with total points=327\n",
      "Getting top 50 frequencies with nterms=3 for lightcurves=3 with total points=214\n",
      "Getting top 50 frequencies with nterms=3 for lightcurves=4 with total points=133\n",
      "Getting top 50 frequencies with nterms=3 for lightcurves=2 with total points=127\n"
     ]
    },
    {
     "name": "stderr",
     "output_type": "stream",
     "text": [
      " 80%|███████▉  | 162/203 [15:17<06:50, 10.02s/it]"
     ]
    },
    {
     "name": "stdout",
     "output_type": "stream",
     "text": [
      "--------------------------------------------------\n",
      "\n",
      "Splitting lightcurves for Pariana with max_hours_diff=24 and min_no_points=10\n",
      "Before splitting: 2 lightcurves\n",
      "After splitting: 1 lightcurves\n",
      "Getting top 4 bins with max_time_diff=45 and min_bin_size=1\n",
      "After binning 0 bins available\n",
      "WARNING - using 0 bins instead of 4\n",
      "--------------------------------------------------\n",
      "\n",
      "Splitting lightcurves for Paulina with max_hours_diff=24 and min_no_points=10\n",
      "Before splitting: 4 lightcurves\n",
      "After splitting: 2 lightcurves\n",
      "Getting top 4 bins with max_time_diff=45 and min_bin_size=1\n",
      "After binning 0 bins available\n",
      "WARNING - using 0 bins instead of 4\n",
      "--------------------------------------------------\n",
      "\n",
      "Splitting lightcurves for Peitho with max_hours_diff=24 and min_no_points=10\n",
      "Before splitting: 1 lightcurves\n",
      "After splitting: 9 lightcurves\n",
      "Getting top 4 bins with max_time_diff=45 and min_bin_size=1\n",
      "After binning 3 bins available\n",
      "WARNING - using 3 bins instead of 4\n",
      "Getting top 50 frequencies with nterms=3 for lightcurves=4 with total points=52\n",
      "Getting top 50 frequencies with nterms=3 for lightcurves=2 with total points=26\n",
      "Getting top 50 frequencies with nterms=3 for lightcurves=2 with total points=22\n"
     ]
    },
    {
     "name": "stderr",
     "output_type": "stream",
     "text": [
      " 81%|████████▏ | 165/203 [15:24<03:40,  5.80s/it]"
     ]
    },
    {
     "name": "stdout",
     "output_type": "stream",
     "text": [
      "--------------------------------------------------\n",
      "\n",
      "Splitting lightcurves for Penelope with max_hours_diff=24 and min_no_points=10\n",
      "Before splitting: 25 lightcurves\n",
      "After splitting: 20 lightcurves\n",
      "Getting top 4 bins with max_time_diff=45 and min_bin_size=1\n",
      "After binning 8 bins available\n",
      "Getting top 50 frequencies with nterms=3 for lightcurves=10 with total points=1180\n",
      "Getting top 50 frequencies with nterms=3 for lightcurves=1 with total points=154\n",
      "Getting top 50 frequencies with nterms=3 for lightcurves=2 with total points=56\n"
     ]
    },
    {
     "name": "stderr",
     "output_type": "stream",
     "text": [
      " 82%|████████▏ | 166/203 [15:31<03:43,  6.04s/it]"
     ]
    },
    {
     "name": "stdout",
     "output_type": "stream",
     "text": [
      "Getting top 50 frequencies with nterms=3 for lightcurves=2 with total points=22\n",
      "--------------------------------------------------\n",
      "\n",
      "Splitting lightcurves for Persephone with max_hours_diff=24 and min_no_points=10\n",
      "Before splitting: 1 lightcurves\n",
      "After splitting: 0 lightcurves\n",
      "Getting top 4 bins with max_time_diff=45 and min_bin_size=1\n",
      "After binning 0 bins available\n",
      "WARNING - using 0 bins instead of 4\n",
      "--------------------------------------------------\n",
      "\n",
      "Splitting lightcurves for Phaedra with max_hours_diff=24 and min_no_points=10\n",
      "Before splitting: 36 lightcurves\n",
      "After splitting: 33 lightcurves\n",
      "Getting top 4 bins with max_time_diff=45 and min_bin_size=1\n",
      "After binning 10 bins available\n",
      "Getting top 50 frequencies with nterms=3 for lightcurves=6 with total points=313\n",
      "Getting top 50 frequencies with nterms=3 for lightcurves=5 with total points=167\n",
      "Getting top 50 frequencies with nterms=3 for lightcurves=4 with total points=165\n",
      "Getting top 50 frequencies with nterms=3 for lightcurves=3 with total points=119\n"
     ]
    },
    {
     "name": "stderr",
     "output_type": "stream",
     "text": [
      " 83%|████████▎ | 168/203 [15:39<03:06,  5.33s/it]"
     ]
    },
    {
     "name": "stdout",
     "output_type": "stream",
     "text": [
      "--------------------------------------------------\n",
      "\n",
      "Splitting lightcurves for Phaetusa with max_hours_diff=24 and min_no_points=10\n",
      "Before splitting: 1 lightcurves\n",
      "After splitting: 5 lightcurves\n",
      "Getting top 4 bins with max_time_diff=45 and min_bin_size=1\n",
      "After binning 0 bins available\n",
      "WARNING - using 0 bins instead of 4\n",
      "--------------------------------------------------\n",
      "\n",
      "Splitting lightcurves for Philomela with max_hours_diff=24 and min_no_points=10\n",
      "Before splitting: 28 lightcurves\n",
      "After splitting: 23 lightcurves\n",
      "Getting top 4 bins with max_time_diff=45 and min_bin_size=1\n",
      "After binning 7 bins available\n",
      "Getting top 50 frequencies with nterms=3 for lightcurves=3 with total points=387\n",
      "Getting top 50 frequencies with nterms=3 for lightcurves=3 with total points=186\n",
      "Getting top 50 frequencies with nterms=3 for lightcurves=3 with total points=166\n",
      "Getting top 50 frequencies with nterms=3 for lightcurves=4 with total points=129\n"
     ]
    },
    {
     "name": "stderr",
     "output_type": "stream",
     "text": [
      " 84%|████████▎ | 170/203 [15:41<02:05,  3.81s/it]"
     ]
    },
    {
     "name": "stdout",
     "output_type": "stream",
     "text": [
      "--------------------------------------------------\n",
      "\n",
      "Splitting lightcurves for Phocaea with max_hours_diff=24 and min_no_points=10\n",
      "Before splitting: 9 lightcurves\n",
      "After splitting: 21 lightcurves\n",
      "Getting top 4 bins with max_time_diff=45 and min_bin_size=1\n",
      "After binning 7 bins available\n",
      "Getting top 50 frequencies with nterms=3 for lightcurves=5 with total points=1451\n",
      "Getting top 50 frequencies with nterms=3 for lightcurves=3 with total points=1020\n",
      "Getting top 50 frequencies with nterms=3 for lightcurves=3 with total points=629\n",
      "Getting top 50 frequencies with nterms=3 for lightcurves=1 with total points=137\n"
     ]
    },
    {
     "name": "stderr",
     "output_type": "stream",
     "text": [
      " 84%|████████▍ | 171/203 [15:49<02:28,  4.64s/it]"
     ]
    },
    {
     "name": "stdout",
     "output_type": "stream",
     "text": [
      "--------------------------------------------------\n",
      "\n",
      "Splitting lightcurves for Pierretta with max_hours_diff=24 and min_no_points=10\n",
      "Before splitting: 5 lightcurves\n",
      "After splitting: 3 lightcurves\n",
      "Getting top 4 bins with max_time_diff=45 and min_bin_size=1\n",
      "After binning 0 bins available\n",
      "WARNING - using 0 bins instead of 4\n",
      "--------------------------------------------------\n",
      "\n",
      "Splitting lightcurves for Pomona with max_hours_diff=24 and min_no_points=10\n",
      "Before splitting: 14 lightcurves\n",
      "After splitting: 14 lightcurves\n",
      "Getting top 4 bins with max_time_diff=45 and min_bin_size=1\n",
      "After binning 5 bins available\n",
      "Getting top 50 frequencies with nterms=3 for lightcurves=3 with total points=575\n",
      "Getting top 50 frequencies with nterms=3 for lightcurves=3 with total points=262\n"
     ]
    },
    {
     "name": "stderr",
     "output_type": "stream",
     "text": [
      " 85%|████████▌ | 173/203 [15:52<01:45,  3.50s/it]"
     ]
    },
    {
     "name": "stdout",
     "output_type": "stream",
     "text": [
      "Getting top 50 frequencies with nterms=3 for lightcurves=1 with total points=184\n",
      "Getting top 50 frequencies with nterms=3 for lightcurves=1 with total points=164\n",
      "--------------------------------------------------\n",
      "\n",
      "Splitting lightcurves for Protogeneia with max_hours_diff=24 and min_no_points=10\n",
      "Before splitting: 2 lightcurves\n",
      "After splitting: 8 lightcurves\n",
      "Getting top 4 bins with max_time_diff=45 and min_bin_size=1\n",
      "After binning 3 bins available\n",
      "WARNING - using 3 bins instead of 4\n",
      "Getting top 50 frequencies with nterms=3 for lightcurves=4 with total points=301\n",
      "Getting top 50 frequencies with nterms=3 for lightcurves=2 with total points=153\n"
     ]
    },
    {
     "name": "stderr",
     "output_type": "stream",
     "text": [
      " 86%|████████▌ | 174/203 [15:57<01:50,  3.79s/it]"
     ]
    },
    {
     "name": "stdout",
     "output_type": "stream",
     "text": [
      "Getting top 50 frequencies with nterms=3 for lightcurves=1 with total points=11\n",
      "--------------------------------------------------\n",
      "\n",
      "Splitting lightcurves for Prymno with max_hours_diff=24 and min_no_points=10\n",
      "Before splitting: 1 lightcurves\n",
      "After splitting: 0 lightcurves\n",
      "Getting top 4 bins with max_time_diff=45 and min_bin_size=1\n",
      "After binning 0 bins available\n",
      "WARNING - using 0 bins instead of 4\n",
      "--------------------------------------------------\n",
      "\n",
      "Splitting lightcurves for Psyche with max_hours_diff=24 and min_no_points=10\n",
      "Before splitting: 187 lightcurves\n",
      "After splitting: 174 lightcurves\n",
      "Getting top 4 bins with max_time_diff=45 and min_bin_size=1\n",
      "After binning 32 bins available\n",
      "Getting top 50 frequencies with nterms=3 for lightcurves=25 with total points=3332\n",
      "Getting top 50 frequencies with nterms=3 for lightcurves=16 with total points=1777\n",
      "Getting top 50 frequencies with nterms=3 for lightcurves=12 with total points=1067\n",
      "Getting top 50 frequencies with nterms=3 for lightcurves=14 with total points=1002\n"
     ]
    },
    {
     "name": "stderr",
     "output_type": "stream",
     "text": [
      " 87%|████████▋ | 176/203 [16:13<02:23,  5.31s/it]"
     ]
    },
    {
     "name": "stdout",
     "output_type": "stream",
     "text": [
      "--------------------------------------------------\n",
      "\n",
      "Splitting lightcurves for Rhodope with max_hours_diff=24 and min_no_points=10\n",
      "Before splitting: 3 lightcurves\n",
      "After splitting: 6 lightcurves\n",
      "Getting top 4 bins with max_time_diff=45 and min_bin_size=1\n",
      "After binning 1 bins available\n",
      "WARNING - using 1 bins instead of 4\n",
      "Getting top 50 frequencies with nterms=3 for lightcurves=1 with total points=12\n",
      "--------------------------------------------------\n",
      "\n",
      "Splitting lightcurves for Roberta with max_hours_diff=24 and min_no_points=10\n",
      "Before splitting: 51 lightcurves\n",
      "After splitting: 38 lightcurves\n",
      "Getting top 4 bins with max_time_diff=45 and min_bin_size=1\n",
      "After binning 11 bins available\n",
      "Getting top 50 frequencies with nterms=3 for lightcurves=9 with total points=460\n",
      "Getting top 50 frequencies with nterms=3 for lightcurves=6 with total points=435\n",
      "Getting top 50 frequencies with nterms=3 for lightcurves=5 with total points=340\n",
      "Getting top 50 frequencies with nterms=3 for lightcurves=3 with total points=177\n"
     ]
    },
    {
     "name": "stderr",
     "output_type": "stream",
     "text": [
      " 88%|████████▊ | 178/203 [16:27<02:26,  5.84s/it]"
     ]
    },
    {
     "name": "stdout",
     "output_type": "stream",
     "text": [
      "--------------------------------------------------\n",
      "\n",
      "Splitting lightcurves for Roxane with max_hours_diff=24 and min_no_points=10\n",
      "Before splitting: 16 lightcurves\n",
      "After splitting: 17 lightcurves\n",
      "Getting top 4 bins with max_time_diff=45 and min_bin_size=1\n",
      "After binning 5 bins available\n",
      "Getting top 50 frequencies with nterms=3 for lightcurves=8 with total points=277\n",
      "Getting top 50 frequencies with nterms=3 for lightcurves=2 with total points=250\n",
      "Getting top 50 frequencies with nterms=3 for lightcurves=1 with total points=12\n"
     ]
    },
    {
     "name": "stderr",
     "output_type": "stream",
     "text": [
      " 88%|████████▊ | 179/203 [16:30<02:07,  5.29s/it]"
     ]
    },
    {
     "name": "stdout",
     "output_type": "stream",
     "text": [
      "Getting top 50 frequencies with nterms=3 for lightcurves=1 with total points=12\n",
      "--------------------------------------------------\n",
      "\n",
      "Splitting lightcurves for Ruperto-Carola with max_hours_diff=24 and min_no_points=10\n",
      "Before splitting: 1 lightcurves\n",
      "After splitting: 3 lightcurves\n",
      "Getting top 4 bins with max_time_diff=45 and min_bin_size=1\n",
      "After binning 0 bins available\n",
      "WARNING - using 0 bins instead of 4\n",
      "--------------------------------------------------\n",
      "\n",
      "Splitting lightcurves for Scylla with max_hours_diff=24 and min_no_points=10\n",
      "Before splitting: 1 lightcurves\n",
      "After splitting: 6 lightcurves\n",
      "Getting top 4 bins with max_time_diff=45 and min_bin_size=1\n",
      "After binning 1 bins available\n",
      "WARNING - using 1 bins instead of 4\n",
      "Getting top 50 frequencies with nterms=3 for lightcurves=5 with total points=1726\n"
     ]
    },
    {
     "name": "stderr",
     "output_type": "stream",
     "text": [
      " 89%|████████▉ | 181/203 [16:34<01:31,  4.16s/it]"
     ]
    },
    {
     "name": "stdout",
     "output_type": "stream",
     "text": [
      "--------------------------------------------------\n",
      "\n",
      "Splitting lightcurves for Siegena with max_hours_diff=24 and min_no_points=10\n",
      "Before splitting: 79 lightcurves\n",
      "After splitting: 74 lightcurves\n",
      "Getting top 4 bins with max_time_diff=45 and min_bin_size=1\n",
      "After binning 16 bins available\n",
      "Getting top 50 frequencies with nterms=3 for lightcurves=10 with total points=1639\n",
      "Getting top 50 frequencies with nterms=3 for lightcurves=9 with total points=885\n",
      "Getting top 50 frequencies with nterms=3 for lightcurves=7 with total points=404\n",
      "Getting top 50 frequencies with nterms=3 for lightcurves=5 with total points=365\n"
     ]
    },
    {
     "name": "stderr",
     "output_type": "stream",
     "text": [
      " 90%|████████▉ | 182/203 [16:48<02:10,  6.21s/it]"
     ]
    },
    {
     "name": "stdout",
     "output_type": "stream",
     "text": [
      "--------------------------------------------------\n",
      "\n",
      "Splitting lightcurves for Siri with max_hours_diff=24 and min_no_points=10\n",
      "Before splitting: 1 lightcurves\n",
      "After splitting: 12 lightcurves\n",
      "Getting top 4 bins with max_time_diff=45 and min_bin_size=1\n",
      "After binning 5 bins available\n",
      "Getting top 50 frequencies with nterms=3 for lightcurves=3 with total points=40\n",
      "Getting top 50 frequencies with nterms=3 for lightcurves=2 with total points=39\n",
      "Getting top 50 frequencies with nterms=3 for lightcurves=3 with total points=35\n",
      "Getting top 50 frequencies with nterms=3 for lightcurves=2 with total points=22\n"
     ]
    },
    {
     "name": "stderr",
     "output_type": "stream",
     "text": [
      " 90%|█████████ | 183/203 [16:57<02:15,  6.76s/it]"
     ]
    },
    {
     "name": "stdout",
     "output_type": "stream",
     "text": [
      "--------------------------------------------------\n",
      "\n",
      "Splitting lightcurves for Sirona with max_hours_diff=24 and min_no_points=10\n",
      "Before splitting: 1 lightcurves\n",
      "After splitting: 0 lightcurves\n",
      "Getting top 4 bins with max_time_diff=45 and min_bin_size=1\n",
      "After binning 0 bins available\n",
      "WARNING - using 0 bins instead of 4\n",
      "--------------------------------------------------\n",
      "\n",
      "Splitting lightcurves for Sylvia with max_hours_diff=24 and min_no_points=10\n",
      "Before splitting: 41 lightcurves\n",
      "After splitting: 28 lightcurves\n",
      "Getting top 4 bins with max_time_diff=45 and min_bin_size=1\n",
      "After binning 9 bins available\n",
      "Getting top 50 frequencies with nterms=3 for lightcurves=5 with total points=115\n",
      "Getting top 50 frequencies with nterms=3 for lightcurves=1 with total points=100\n",
      "Getting top 50 frequencies with nterms=3 for lightcurves=4 with total points=60\n",
      "Getting top 50 frequencies with nterms=3 for lightcurves=2 with total points=39\n"
     ]
    },
    {
     "name": "stderr",
     "output_type": "stream",
     "text": [
      " 91%|█████████ | 185/203 [17:02<01:33,  5.18s/it]"
     ]
    },
    {
     "name": "stdout",
     "output_type": "stream",
     "text": [
      "--------------------------------------------------\n",
      "\n",
      "Splitting lightcurves for Tercidina with max_hours_diff=24 and min_no_points=10\n",
      "Before splitting: 9 lightcurves\n",
      "After splitting: 27 lightcurves\n",
      "Getting top 4 bins with max_time_diff=45 and min_bin_size=1\n",
      "After binning 7 bins available\n",
      "Getting top 50 frequencies with nterms=3 for lightcurves=2 with total points=479\n",
      "Getting top 50 frequencies with nterms=3 for lightcurves=6 with total points=465\n",
      "Getting top 50 frequencies with nterms=3 for lightcurves=4 with total points=229\n",
      "Getting top 50 frequencies with nterms=3 for lightcurves=4 with total points=220\n"
     ]
    },
    {
     "name": "stderr",
     "output_type": "stream",
     "text": [
      " 92%|█████████▏| 186/203 [17:13<01:48,  6.37s/it]"
     ]
    },
    {
     "name": "stdout",
     "output_type": "stream",
     "text": [
      "--------------------------------------------------\n",
      "\n",
      "Splitting lightcurves for Thalia with max_hours_diff=24 and min_no_points=10\n",
      "Before splitting: 50 lightcurves\n",
      "After splitting: 45 lightcurves\n",
      "Getting top 4 bins with max_time_diff=45 and min_bin_size=1\n",
      "After binning 13 bins available\n",
      "Getting top 50 frequencies with nterms=3 for lightcurves=8 with total points=1512\n",
      "Getting top 50 frequencies with nterms=3 for lightcurves=3 with total points=249\n",
      "Getting top 50 frequencies with nterms=3 for lightcurves=4 with total points=195\n",
      "Getting top 50 frequencies with nterms=3 for lightcurves=2 with total points=181\n"
     ]
    },
    {
     "name": "stderr",
     "output_type": "stream",
     "text": [
      " 92%|█████████▏| 187/203 [17:22<01:50,  6.89s/it]"
     ]
    },
    {
     "name": "stdout",
     "output_type": "stream",
     "text": [
      "--------------------------------------------------\n",
      "\n",
      "Splitting lightcurves for Themis with max_hours_diff=24 and min_no_points=10\n",
      "Before splitting: 102 lightcurves\n",
      "After splitting: 91 lightcurves\n",
      "Getting top 4 bins with max_time_diff=45 and min_bin_size=1\n",
      "After binning 19 bins available\n",
      "Getting top 50 frequencies with nterms=3 for lightcurves=3 with total points=2123\n",
      "Getting top 50 frequencies with nterms=3 for lightcurves=10 with total points=1449\n",
      "Getting top 50 frequencies with nterms=3 for lightcurves=4 with total points=1384\n",
      "Getting top 50 frequencies with nterms=3 for lightcurves=4 with total points=1240\n"
     ]
    },
    {
     "name": "stderr",
     "output_type": "stream",
     "text": [
      " 93%|█████████▎| 188/203 [17:33<02:01,  8.08s/it]"
     ]
    },
    {
     "name": "stdout",
     "output_type": "stream",
     "text": [
      "--------------------------------------------------\n",
      "\n",
      "Splitting lightcurves for Theresia with max_hours_diff=24 and min_no_points=10\n",
      "Before splitting: 1 lightcurves\n",
      "After splitting: 0 lightcurves\n",
      "Getting top 4 bins with max_time_diff=45 and min_bin_size=1\n",
      "After binning 0 bins available\n",
      "WARNING - using 0 bins instead of 4\n",
      "--------------------------------------------------\n",
      "\n",
      "Splitting lightcurves for Thetis with max_hours_diff=24 and min_no_points=10\n",
      "Before splitting: 48 lightcurves\n",
      "After splitting: 39 lightcurves\n",
      "Getting top 4 bins with max_time_diff=45 and min_bin_size=1\n",
      "After binning 9 bins available\n",
      "Getting top 50 frequencies with nterms=3 for lightcurves=6 with total points=374\n",
      "Getting top 50 frequencies with nterms=3 for lightcurves=4 with total points=341\n",
      "Getting top 50 frequencies with nterms=3 for lightcurves=11 with total points=340\n",
      "Getting top 50 frequencies with nterms=3 for lightcurves=3 with total points=121\n"
     ]
    },
    {
     "name": "stderr",
     "output_type": "stream",
     "text": [
      " 94%|█████████▎| 190/203 [17:41<01:22,  6.37s/it]"
     ]
    },
    {
     "name": "stdout",
     "output_type": "stream",
     "text": [
      "--------------------------------------------------\n",
      "\n",
      "Splitting lightcurves for Thisbe with max_hours_diff=24 and min_no_points=10\n",
      "Before splitting: 125 lightcurves\n",
      "After splitting: 121 lightcurves\n",
      "Getting top 4 bins with max_time_diff=45 and min_bin_size=1\n",
      "After binning 16 bins available\n",
      "Getting top 50 frequencies with nterms=3 for lightcurves=40 with total points=6692\n",
      "Getting top 50 frequencies with nterms=3 for lightcurves=19 with total points=1517\n",
      "Getting top 50 frequencies with nterms=3 for lightcurves=12 with total points=1375\n",
      "Getting top 50 frequencies with nterms=3 for lightcurves=8 with total points=875\n"
     ]
    },
    {
     "name": "stderr",
     "output_type": "stream",
     "text": [
      " 94%|█████████▍| 191/203 [17:58<01:45,  8.76s/it]"
     ]
    },
    {
     "name": "stdout",
     "output_type": "stream",
     "text": [
      "--------------------------------------------------\n",
      "\n",
      "Splitting lightcurves for Thyra with max_hours_diff=24 and min_no_points=10\n",
      "Before splitting: 32 lightcurves\n",
      "After splitting: 30 lightcurves\n",
      "Getting top 4 bins with max_time_diff=45 and min_bin_size=1\n",
      "After binning 9 bins available\n",
      "Getting top 50 frequencies with nterms=3 for lightcurves=12 with total points=625\n",
      "Getting top 50 frequencies with nterms=3 for lightcurves=2 with total points=300\n",
      "Getting top 50 frequencies with nterms=3 for lightcurves=2 with total points=291\n",
      "Getting top 50 frequencies with nterms=3 for lightcurves=3 with total points=151\n"
     ]
    },
    {
     "name": "stderr",
     "output_type": "stream",
     "text": [
      " 95%|█████████▍| 192/203 [18:07<01:36,  8.80s/it]"
     ]
    },
    {
     "name": "stdout",
     "output_type": "stream",
     "text": [
      "--------------------------------------------------\n",
      "\n",
      "Splitting lightcurves for Tirza with max_hours_diff=24 and min_no_points=10\n",
      "Before splitting: 1 lightcurves\n",
      "After splitting: 6 lightcurves\n",
      "Getting top 4 bins with max_time_diff=45 and min_bin_size=1\n",
      "After binning 4 bins available\n",
      "Getting top 50 frequencies with nterms=3 for lightcurves=2 with total points=20\n",
      "Getting top 50 frequencies with nterms=3 for lightcurves=1 with total points=19\n",
      "Getting top 50 frequencies with nterms=3 for lightcurves=1 with total points=14\n"
     ]
    },
    {
     "name": "stderr",
     "output_type": "stream",
     "text": [
      " 95%|█████████▌| 193/203 [18:08<01:08,  6.81s/it]"
     ]
    },
    {
     "name": "stdout",
     "output_type": "stream",
     "text": [
      "Getting top 50 frequencies with nterms=3 for lightcurves=1 with total points=12\n",
      "--------------------------------------------------\n",
      "\n",
      "Splitting lightcurves for Tolosa with max_hours_diff=24 and min_no_points=10\n",
      "Before splitting: 1 lightcurves\n",
      "After splitting: 0 lightcurves\n",
      "Getting top 4 bins with max_time_diff=45 and min_bin_size=1\n",
      "After binning 0 bins available\n",
      "WARNING - using 0 bins instead of 4\n",
      "--------------------------------------------------\n",
      "\n",
      "Splitting lightcurves for Tyche with max_hours_diff=24 and min_no_points=10\n",
      "Before splitting: 11 lightcurves\n",
      "After splitting: 8 lightcurves\n",
      "Getting top 4 bins with max_time_diff=45 and min_bin_size=1\n",
      "After binning 1 bins available\n",
      "WARNING - using 1 bins instead of 4\n",
      "Getting top 50 frequencies with nterms=3 for lightcurves=3 with total points=35\n"
     ]
    },
    {
     "name": "stderr",
     "output_type": "stream",
     "text": [
      " 96%|█████████▌| 195/203 [18:11<00:36,  4.59s/it]"
     ]
    },
    {
     "name": "stdout",
     "output_type": "stream",
     "text": [
      "--------------------------------------------------\n",
      "\n",
      "Splitting lightcurves for Una with max_hours_diff=24 and min_no_points=10\n",
      "Before splitting: 24 lightcurves\n",
      "After splitting: 20 lightcurves\n",
      "Getting top 4 bins with max_time_diff=45 and min_bin_size=1\n",
      "After binning 6 bins available\n",
      "Getting top 50 frequencies with nterms=3 for lightcurves=3 with total points=144\n",
      "Getting top 50 frequencies with nterms=3 for lightcurves=4 with total points=123\n",
      "Getting top 50 frequencies with nterms=3 for lightcurves=3 with total points=118\n",
      "Getting top 50 frequencies with nterms=3 for lightcurves=2 with total points=77\n"
     ]
    },
    {
     "name": "stderr",
     "output_type": "stream",
     "text": [
      " 97%|█████████▋| 196/203 [18:16<00:33,  4.73s/it]"
     ]
    },
    {
     "name": "stdout",
     "output_type": "stream",
     "text": [
      "--------------------------------------------------\n",
      "\n",
      "Splitting lightcurves for Unitas with max_hours_diff=24 and min_no_points=10\n",
      "Before splitting: 14 lightcurves\n",
      "After splitting: 13 lightcurves\n",
      "Getting top 4 bins with max_time_diff=45 and min_bin_size=1\n",
      "After binning 4 bins available\n",
      "Getting top 50 frequencies with nterms=3 for lightcurves=2 with total points=206\n",
      "Getting top 50 frequencies with nterms=3 for lightcurves=3 with total points=93\n",
      "Getting top 50 frequencies with nterms=3 for lightcurves=3 with total points=41\n"
     ]
    },
    {
     "name": "stderr",
     "output_type": "stream",
     "text": [
      " 97%|█████████▋| 197/203 [18:19<00:25,  4.31s/it]"
     ]
    },
    {
     "name": "stdout",
     "output_type": "stream",
     "text": [
      "Getting top 50 frequencies with nterms=3 for lightcurves=1 with total points=25\n",
      "--------------------------------------------------\n",
      "\n",
      "Splitting lightcurves for Vala with max_hours_diff=24 and min_no_points=10\n",
      "Before splitting: 9 lightcurves\n",
      "After splitting: 18 lightcurves\n",
      "Getting top 4 bins with max_time_diff=45 and min_bin_size=1\n",
      "After binning 4 bins available\n",
      "Getting top 50 frequencies with nterms=3 for lightcurves=5 with total points=1263\n",
      "Getting top 50 frequencies with nterms=3 for lightcurves=4 with total points=949\n",
      "Getting top 50 frequencies with nterms=3 for lightcurves=4 with total points=882\n",
      "Getting top 50 frequencies with nterms=3 for lightcurves=1 with total points=10\n"
     ]
    },
    {
     "name": "stderr",
     "output_type": "stream",
     "text": [
      " 98%|█████████▊| 198/203 [18:30<00:29,  5.98s/it]"
     ]
    },
    {
     "name": "stdout",
     "output_type": "stream",
     "text": [
      "--------------------------------------------------\n",
      "\n",
      "Splitting lightcurves for Vanadis with max_hours_diff=24 and min_no_points=10\n",
      "Before splitting: 1 lightcurves\n",
      "After splitting: 0 lightcurves\n",
      "Getting top 4 bins with max_time_diff=45 and min_bin_size=1\n",
      "After binning 0 bins available\n",
      "WARNING - using 0 bins instead of 4\n",
      "--------------------------------------------------\n",
      "\n",
      "Splitting lightcurves for Velleda with max_hours_diff=24 and min_no_points=10\n",
      "Before splitting: 1 lightcurves\n",
      "After splitting: 0 lightcurves\n",
      "Getting top 4 bins with max_time_diff=45 and min_bin_size=1\n",
      "After binning 0 bins available\n",
      "WARNING - using 0 bins instead of 4\n",
      "--------------------------------------------------\n",
      "\n",
      "Splitting lightcurves for Vesta with max_hours_diff=24 and min_no_points=10\n",
      "Before splitting: 158 lightcurves\n",
      "After splitting: 151 lightcurves\n",
      "Getting top 4 bins with max_time_diff=45 and min_bin_size=1\n",
      "After binning 37 bins available\n",
      "Getting top 50 frequencies with nterms=3 for lightcurves=11 with total points=1929\n",
      "Getting top 50 frequencies with nterms=3 for lightcurves=24 with total points=1443\n",
      "Getting top 50 frequencies with nterms=3 for lightcurves=6 with total points=765\n",
      "Getting top 50 frequencies with nterms=3 for lightcurves=9 with total points=648\n"
     ]
    },
    {
     "name": "stderr",
     "output_type": "stream",
     "text": [
      " 99%|█████████▉| 201/203 [18:45<00:10,  5.50s/it]"
     ]
    },
    {
     "name": "stdout",
     "output_type": "stream",
     "text": [
      "--------------------------------------------------\n",
      "\n",
      "Splitting lightcurves for Victoria with max_hours_diff=24 and min_no_points=10\n",
      "Before splitting: 38 lightcurves\n",
      "After splitting: 44 lightcurves\n",
      "Getting top 4 bins with max_time_diff=45 and min_bin_size=1\n",
      "After binning 9 bins available\n",
      "Getting top 50 frequencies with nterms=3 for lightcurves=4 with total points=1109\n",
      "Getting top 50 frequencies with nterms=3 for lightcurves=6 with total points=925\n",
      "Getting top 50 frequencies with nterms=3 for lightcurves=8 with total points=532\n",
      "Getting top 50 frequencies with nterms=3 for lightcurves=6 with total points=477\n"
     ]
    },
    {
     "name": "stderr",
     "output_type": "stream",
     "text": [
      "100%|█████████▉| 202/203 [18:56<00:06,  6.54s/it]"
     ]
    },
    {
     "name": "stdout",
     "output_type": "stream",
     "text": [
      "--------------------------------------------------\n",
      "\n",
      "Splitting lightcurves for Weringia with max_hours_diff=24 and min_no_points=10\n",
      "Before splitting: 10 lightcurves\n",
      "After splitting: 19 lightcurves\n",
      "Getting top 4 bins with max_time_diff=45 and min_bin_size=1\n",
      "After binning 6 bins available\n",
      "Getting top 50 frequencies with nterms=3 for lightcurves=6 with total points=222\n",
      "Getting top 50 frequencies with nterms=3 for lightcurves=2 with total points=150\n"
     ]
    },
    {
     "name": "stderr",
     "output_type": "stream",
     "text": [
      "100%|██████████| 203/203 [19:01<00:00,  5.62s/it]"
     ]
    },
    {
     "name": "stdout",
     "output_type": "stream",
     "text": [
      "Getting top 50 frequencies with nterms=3 for lightcurves=1 with total points=54\n",
      "Getting top 50 frequencies with nterms=3 for lightcurves=1 with total points=20\n",
      "--------------------------------------------------\n",
      "\n",
      "Failed asteroids: 40 (19.70%)\n",
      "--------------------------------------------------\n"
     ]
    },
    {
     "name": "stderr",
     "output_type": "stream",
     "text": [
      "\n"
     ]
    }
   ],
   "source": [
    "failed_cnt = 0\n",
    "asteroids_data = {}\n",
    "for asteroid in tqdm(asteroids):\n",
    "    start = perf_counter()\n",
    "    freq_features = get_freq_features(asteroid, config, as_list=True, debug=True)\n",
    "    processing_time = perf_counter() - start\n",
    "\n",
    "    asteroids_data[asteroid.name] = {\n",
    "        \"is_failed\": False,\n",
    "        \"period\": asteroid.period,\n",
    "        \"processing_time\": processing_time,\n",
    "        \"freq_features\": [],\n",
    "    }\n",
    "    if freq_features is None:\n",
    "        failed_cnt += 1\n",
    "        asteroids_data[asteroid.name][\"is_failed\"] = True\n",
    "        continue\n",
    "\n",
    "    asteroids_data[asteroid.name][\"freq_features\"] = freq_features\n",
    "\n",
    "print(f\"Failed asteroids: {failed_cnt} ({failed_cnt / len(asteroids) * 100:.2f}%)\")\n",
    "print(f\"{'-'*50}\")\n",
    "\n",
    "\n",
    "with open(ASTEROIDS_FREQ_DATA_PATH, \"w\") as f:\n",
    "    json.dump(asteroids_data, f, indent=4)"
   ]
  },
  {
   "cell_type": "code",
   "execution_count": 9,
   "metadata": {},
   "outputs": [],
   "source": [
    "with open(ASTEROIDS_FREQ_DATA_PATH, \"w\") as f_out:\n",
    "    json.dump(asteroids_data, f_out, indent=4)"
   ]
  },
  {
   "cell_type": "code",
   "execution_count": 12,
   "metadata": {},
   "outputs": [],
   "source": [
    "with open(ASTEROIDS_FREQ_DATA_PATH, \"r\") as f_in:\n",
    "    asteroids_data = json.load(f_in)\n"
   ]
  },
  {
   "cell_type": "code",
   "execution_count": 18,
   "metadata": {},
   "outputs": [
    {
     "data": {
      "text/plain": [
       "163"
      ]
     },
     "execution_count": 18,
     "metadata": {},
     "output_type": "execute_result"
    }
   ],
   "source": [
    "filtered_data = {name: data for name, data in asteroids_data.items() if not data[\"is_failed\"]}\n",
    "len(filtered_data)"
   ]
  },
  {
   "cell_type": "code",
   "execution_count": 23,
   "metadata": {},
   "outputs": [],
   "source": [
    "X = [data[\"freq_features\"] for data in filtered_data.values()]\n",
    "y = np.array([data[\"period\"] for data in filtered_data.values()])\n",
    "\n",
    "X_train, X_test, y_train, y_test = train_test_split(X, y, test_size=0.2, random_state=42)"
   ]
  },
  {
   "cell_type": "code",
   "execution_count": null,
   "metadata": {},
   "outputs": [],
   "source": [
    "space = {\n",
    "    \"max_depth\": hp.quniform(\"max_depth\", 3, 18, 1),\n",
    "    \"gamma\": hp.uniform(\"gamma\", 1, 9),\n",
    "    \"reg_alpha\": hp.quniform(\"reg_alpha\", 1, 100, 1),\n",
    "    \"reg_lambda\": hp.quniform(\"reg_lambda\", 1, 100, 1),\n",
    "    \"colsample_bytree\": hp.uniform(\"colsample_bytree\", 0.5, 1),\n",
    "    \"min_child_weight\": hp.quniform(\"min_child_weight\", 1, 10, 1),\n",
    "    \"n_estimators\": hp.quniform(\"n_estimators\", 100, 2000, 1),\n",
    "    \"eta\": hp.uniform(\"eta\", 0.01, 0.3),\n",
    "    \"tree_method\": hp.choice(\"tree_method\", [\"auto\", \"exact\", \"approx\", \"hist\"]),\n",
    "    \"max_leaves\": hp.quniform(\"max_leaves\", 2, 2**10, 1),\n",
    "    \"max_bin\": hp.quniform(\"max_bin\", 2, 2**10, 1),\n",
    "    \"num_parallel_tree\": hp.quniform(\"num_parallel_tree\", 1, 10, 1),\n",
    "    \"early_stopping_rounds\": hp.quniform(\"early_stopping_rounds\", 10, 100, 1),\n",
    "    \"seed\": 88,\n",
    "}"
   ]
  },
  {
   "cell_type": "code",
   "execution_count": null,
   "metadata": {},
   "outputs": [],
   "source": [
    "def objective(space: dict):\n",
    "    model = XGBRegressor(\n",
    "        max_depth=int(space[\"max_depth\"]),\n",
    "        gamma=space[\"gamma\"],      \n",
    "        reg_alpha=int(space[\"reg_alpha\"]),\n",
    "        reg_lambda=space[\"reg_lambda\"],\n",
    "        colsample_bytree=space[\"colsample_bytree\"],\n",
    "        min_child_weight=int(space[\"min_child_weight\"]),\n",
    "        n_estimators=int(space[\"n_estimators\"]),\n",
    "        eta=space[\"eta\"],\n",
    "        tree_method=space[\"tree_method\"],\n",
    "        max_leaves=int(space[\"max_leaves\"]),\n",
    "        max_bin=int(space[\"max_bin\"]),\n",
    "        num_parallel_tree=int(space[\"num_parallel_tree\"]),\n",
    "        eval_metric=mean_squared_error,\n",
    "        early_stopping_rounds=int(space[\"early_stopping_rounds\"]),\n",
    "        n_jobs=-1,\n",
    "    )\n",
    "\n",
    "    evaluation = [(train_X, train_y), (test_X, test_y)]\n",
    "    model.fit(train_X, train_y, eval_set=evaluation, verbose=False)\n",
    "\n",
    "    pred_y = model.predict(test_X)\n",
    "    mse = mean_squared_error(test_y, pred_y)\n",
    "\n",
    "    return {\"loss\": mse, \"status\": STATUS_OK}"
   ]
  },
  {
   "cell_type": "code",
   "execution_count": null,
   "metadata": {},
   "outputs": [],
   "source": [
    "trials = Trials()\n",
    "\n",
    "best = fmin(\n",
    "    fn=objective,\n",
    "    space=space,\n",
    "    algo=tpe.suggest,\n",
    "    max_evals=1000,\n",
    "    trials=trials,\n",
    ")"
   ]
  },
  {
   "cell_type": "code",
   "execution_count": null,
   "metadata": {},
   "outputs": [],
   "source": [
    "best"
   ]
  },
  {
   "cell_type": "code",
   "execution_count": null,
   "metadata": {},
   "outputs": [],
   "source": [
    "model = XGBRegressor(\n",
    "    max_depth=int(best[\"max_depth\"]),\n",
    "    gamma=best[\"gamma\"],      \n",
    "    reg_alpha=int(best[\"reg_alpha\"]),\n",
    "    reg_lambda=best[\"reg_lambda\"],\n",
    "    colsample_bytree=best[\"colsample_bytree\"],\n",
    "    min_child_weight=int(best[\"min_child_weight\"]),\n",
    "    n_estimators=int(best[\"n_estimators\"]),\n",
    "    eta=best[\"eta\"],\n",
    "    tree_method=\"exact\",\n",
    "    max_leaves=int(best[\"max_leaves\"]),\n",
    "    max_bin=int(best[\"max_bin\"]),\n",
    "    num_parallel_tree=int(best[\"num_parallel_tree\"]),\n",
    "    eval_metric=mean_squared_error,\n",
    "    early_stopping_rounds=int(best[\"early_stopping_rounds\"]),\n",
    "    n_jobs=-1,\n",
    ")\n",
    "\n",
    "evaluation = [(train_X, train_y), (test_X, test_y)]\n",
    "model.fit(train_X, train_y, eval_set=evaluation, verbose=False)\n",
    "\n",
    "pred_y = model.predict(test_X)\n",
    "mse = mean_squared_error(test_y, pred_y)\n",
    "\n",
    "print(f\"Mean Squared Error: {mse}\\n\")\n",
    "\n",
    "for pred, true in zip(pred_y, test_y):\n",
    "    print(f\"Predicted: {pred:.2f}, True: {true:.2f}\")"
   ]
  },
  {
   "cell_type": "code",
   "execution_count": null,
   "metadata": {},
   "outputs": [],
   "source": [
    "[7.51 - 8.33, 9.60 - 9.93, 9.87 - 10.74, 7.61 - 7.28, 11.68 - 11.66, 5.75 - 5.22]"
   ]
  },
  {
   "cell_type": "code",
   "execution_count": null,
   "metadata": {},
   "outputs": [],
   "source": []
  }
 ],
 "metadata": {
  "kernelspec": {
   "display_name": "mgr",
   "language": "python",
   "name": "python3"
  },
  "language_info": {
   "codemirror_mode": {
    "name": "ipython",
    "version": 3
   },
   "file_extension": ".py",
   "mimetype": "text/x-python",
   "name": "python",
   "nbconvert_exporter": "python",
   "pygments_lexer": "ipython3",
   "version": "3.11.9"
  }
 },
 "nbformat": 4,
 "nbformat_minor": 2
}
