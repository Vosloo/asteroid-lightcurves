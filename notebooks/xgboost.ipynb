{
 "cells": [
  {
   "cell_type": "code",
   "execution_count": 1,
   "metadata": {},
   "outputs": [],
   "source": [
    "from time import perf_counter\n",
    "from typing import Literal, TypedDict\n",
    "\n",
    "import numpy as np\n",
    "from astropy.timeseries import LombScargle\n",
    "from constants import DATA_DIR\n",
    "from hyperopt import STATUS_OK, Trials, fmin, hp, tpe\n",
    "from matplotlib import pyplot as plt\n",
    "from sklearn.metrics import mean_squared_error\n",
    "from sklearn.model_selection import train_test_split\n",
    "from tqdm import tqdm\n",
    "from xgboost import XGBRegressor\n",
    "\n",
    "from astrofit.model import Asteroid, Lightcurve, LightcurveBin\n",
    "from astrofit.utils import (\n",
    "    AsteroidLoader,\n",
    "    LightcurveBinner,\n",
    "    LightcurvePlotter,\n",
    "    LightcurveSplitter,\n",
    ")"
   ]
  },
  {
   "cell_type": "code",
   "execution_count": 2,
   "metadata": {},
   "outputs": [],
   "source": [
    "asteroid_loader = AsteroidLoader(DATA_DIR)\n",
    "lightcurve_binner = LightcurveBinner()\n",
    "lightcurve_plotter = LightcurvePlotter()\n",
    "lightcurve_splitter = LightcurveSplitter()"
   ]
  },
  {
   "cell_type": "code",
   "execution_count": 3,
   "metadata": {},
   "outputs": [
    {
     "name": "stderr",
     "output_type": "stream",
     "text": [
      "100%|██████████| 329/329 [00:02<00:00, 114.91it/s]"
     ]
    },
    {
     "name": "stdout",
     "output_type": "stream",
     "text": [
      "Loaded 203 asteroids\n"
     ]
    },
    {
     "name": "stderr",
     "output_type": "stream",
     "text": [
      "\n"
     ]
    }
   ],
   "source": [
    "MAX_PERIOD = 13\n",
    "\n",
    "asteroids: list[Asteroid] = []\n",
    "for asteroid_name in tqdm(asteroid_loader.available_asteroids):\n",
    "    asteroid = asteroid_loader.load_asteroid(asteroid_name)\n",
    "    if asteroid.period > MAX_PERIOD:\n",
    "        continue\n",
    "\n",
    "    asteroids.append(asteroid)\n",
    "\n",
    "print(f\"Loaded {len(asteroids)} asteroids\")"
   ]
  },
  {
   "cell_type": "code",
   "execution_count": 4,
   "metadata": {},
   "outputs": [
    {
     "name": "stdout",
     "output_type": "stream",
     "text": [
      "Train asteroids: 162\n",
      "Test asteroids: 41\n"
     ]
    }
   ],
   "source": [
    "train_asteroids, test_asteroids = train_test_split(\n",
    "    asteroids,\n",
    "    test_size=0.2,\n",
    "    random_state=88,\n",
    ")\n",
    "\n",
    "print(f\"Train asteroids: {len(train_asteroids)}\")\n",
    "print(f\"Test asteroids: {len(test_asteroids)}\")\n",
    "\n",
    "train_asteroids: list[Asteroid]\n",
    "test_asteroids: list[Asteroid]"
   ]
  },
  {
   "cell_type": "code",
   "execution_count": 5,
   "metadata": {},
   "outputs": [],
   "source": [
    "class Config(TypedDict):\n",
    "    max_hours_diff: float\n",
    "    min_no_points: int\n",
    "    top_k_bins: int\n",
    "    select_bins_by: Literal[\"lightcurves\", \"points\"]\n",
    "    max_time_diff: float\n",
    "    min_bin_size: int\n",
    "    top_k_freqs: int\n",
    "    nterms: int\n"
   ]
  },
  {
   "cell_type": "code",
   "execution_count": 6,
   "metadata": {},
   "outputs": [],
   "source": [
    "def _split_lightcurves(asteroid: Asteroid, config: Config, debug: bool) -> list[Lightcurve]:\n",
    "    max_hours_diff = config[\"max_hours_diff\"]\n",
    "    min_no_points = config[\"min_no_points\"]\n",
    "\n",
    "    if debug:\n",
    "        print(\n",
    "            f\"Splitting lightcurves for {asteroid.name} with max_hours_diff={max_hours_diff} and min_no_points={min_no_points}\"\n",
    "        )\n",
    "\n",
    "        print(f\"Before splitting: {len(asteroid.lightcurves)} lightcurves\")\n",
    "\n",
    "    splitted = lightcurve_splitter.split_lightcurves(\n",
    "        asteroid.lightcurves,\n",
    "        max_hours_diff=max_hours_diff,\n",
    "        min_no_points=min_no_points,\n",
    "    )\n",
    "\n",
    "    if debug:\n",
    "        print(f\"After splitting: {len(splitted)} lightcurves\")\n",
    "\n",
    "    return splitted\n",
    "\n",
    "\n",
    "def _get_top_k_bins(lightcurves: list[Lightcurve], config: Config, debug: bool) -> list[LightcurveBin]:\n",
    "    max_time_diff = config[\"max_time_diff\"]\n",
    "    min_bin_size = config[\"min_bin_size\"]\n",
    "    top_k_bins = config[\"top_k_bins\"]\n",
    "\n",
    "    if debug:\n",
    "        print(f\"Getting top {top_k_bins} bins with max_time_diff={max_time_diff} and min_bin_size={min_bin_size}\")\n",
    "\n",
    "    bins = lightcurve_binner.bin_lightcurves(\n",
    "        lightcurves,\n",
    "        max_time_diff=max_time_diff,\n",
    "        min_bin_size=min_bin_size,\n",
    "    )\n",
    "\n",
    "    if debug:\n",
    "        print(f\"Got {len(bins)} bins\")\n",
    "\n",
    "    if config[\"select_bins_by\"] == \"lightcurves\":\n",
    "        return sorted(bins, reverse=True)[:top_k_bins]\n",
    "\n",
    "    elif config[\"select_bins_by\"] == \"points\":\n",
    "        return sorted(bins, key=lambda bin: bin.points_count, reverse=True)[:top_k_bins]\n",
    "    \n",
    "    else:\n",
    "        raise ValueError(\"Invalid value for select_bins_by\")\n",
    "\n",
    "\n",
    "def _get_top_k_freqs(lightcurve_bin: LightcurveBin, config: Config, debug: bool):\n",
    "    nterms = config[\"nterms\"]\n",
    "    top_k_freqs = config[\"top_k_freqs\"]\n",
    "\n",
    "    if debug:\n",
    "        print(\n",
    "            f\"Getting top {top_k_freqs} frequencies with nterms={nterms} for \"\n",
    "            f\"lightcurves={len(lightcurve_bin)} with total points={len(lightcurve_bin.times)}\"\n",
    "        )\n",
    "\n",
    "    frequency, power = LombScargle(\n",
    "        lightcurve_bin.times,\n",
    "        lightcurve_bin.brightnesses,\n",
    "        nterms=nterms,\n",
    "    ).autopower(maximum_frequency=400)\n",
    "\n",
    "    idx = np.argsort(power)[::-1][:top_k_freqs]\n",
    "    top_k_freqs = frequency[idx]\n",
    "\n",
    "    return np.sort(top_k_freqs)\n",
    "\n",
    "\n",
    "def get_freq_features(asteroid: Asteroid, config: Config, debug: bool = False) -> np.ndarray | None:\n",
    "    splitted_lightcurves = _split_lightcurves(asteroid, config, debug)\n",
    "    top_k_bins = _get_top_k_bins(splitted_lightcurves, config, debug)\n",
    "\n",
    "    if not top_k_bins or len(top_k_bins) < config[\"top_k_bins\"]:\n",
    "        if debug:\n",
    "            print(f\"{'-'*50}\\n\")\n",
    "\n",
    "        return\n",
    "\n",
    "    freq_features = []\n",
    "    for _bin in top_k_bins:\n",
    "        top_k_freqs = _get_top_k_freqs(_bin, config, debug)\n",
    "        freq_features.extend(top_k_freqs)\n",
    "\n",
    "    if debug:\n",
    "        print(f\"{'-'*50}\\n\")\n",
    "\n",
    "    return np.array(freq_features)"
   ]
  },
  {
   "cell_type": "code",
   "execution_count": 7,
   "metadata": {},
   "outputs": [],
   "source": [
    "config = Config(\n",
    "    max_hours_diff=24,\n",
    "    min_no_points=10,\n",
    "    top_k_bins=4,\n",
    "    select_bins_by=\"points\",\n",
    "    max_time_diff=45,\n",
    "    min_bin_size=1,\n",
    "    top_k_freqs=50,\n",
    "    nterms=3,\n",
    ")"
   ]
  },
  {
   "cell_type": "code",
   "execution_count": 8,
   "metadata": {},
   "outputs": [
    {
     "name": "stderr",
     "output_type": "stream",
     "text": [
      "  0%|          | 0/162 [00:00<?, ?it/s]"
     ]
    },
    {
     "name": "stdout",
     "output_type": "stream",
     "text": [
      "Splitting lightcurves for Lutetia with max_hours_diff=24 and min_no_points=10\n",
      "Before splitting: 43 lightcurves\n",
      "After splitting: 41 lightcurves\n",
      "Getting top 4 bins with max_time_diff=45 and min_bin_size=1\n",
      "Got 14 bins\n",
      "Getting top 50 frequencies with nterms=3 for lightcurves=4 with total points=659\n",
      "Getting top 50 frequencies with nterms=3 for lightcurves=1 with total points=647\n",
      "Getting top 50 frequencies with nterms=3 for lightcurves=3 with total points=335\n",
      "Getting top 50 frequencies with nterms=3 for lightcurves=7 with total points=316\n"
     ]
    },
    {
     "name": "stderr",
     "output_type": "stream",
     "text": [
      "  1%|          | 1/162 [00:09<25:05,  9.35s/it]"
     ]
    },
    {
     "name": "stdout",
     "output_type": "stream",
     "text": [
      "--------------------------------------------------\n",
      "\n",
      "Splitting lightcurves for Euterpe with max_hours_diff=24 and min_no_points=10\n",
      "Before splitting: 32 lightcurves\n",
      "After splitting: 38 lightcurves\n",
      "Getting top 4 bins with max_time_diff=45 and min_bin_size=1\n",
      "Got 7 bins\n",
      "Getting top 50 frequencies with nterms=3 for lightcurves=12 with total points=1601\n",
      "Getting top 50 frequencies with nterms=3 for lightcurves=3 with total points=1389\n",
      "Getting top 50 frequencies with nterms=3 for lightcurves=10 with total points=1185\n",
      "Getting top 50 frequencies with nterms=3 for lightcurves=5 with total points=983\n"
     ]
    },
    {
     "name": "stderr",
     "output_type": "stream",
     "text": [
      "  1%|          | 2/162 [00:19<26:15,  9.85s/it]"
     ]
    },
    {
     "name": "stdout",
     "output_type": "stream",
     "text": [
      "--------------------------------------------------\n",
      "\n",
      "Splitting lightcurves for Aurora with max_hours_diff=24 and min_no_points=10\n",
      "Before splitting: 22 lightcurves\n",
      "After splitting: 21 lightcurves\n",
      "Getting top 4 bins with max_time_diff=45 and min_bin_size=1\n",
      "Got 9 bins\n",
      "Getting top 50 frequencies with nterms=3 for lightcurves=3 with total points=311\n",
      "Getting top 50 frequencies with nterms=3 for lightcurves=4 with total points=97\n",
      "Getting top 50 frequencies with nterms=3 for lightcurves=2 with total points=97\n",
      "Getting top 50 frequencies with nterms=3 for lightcurves=3 with total points=88\n"
     ]
    },
    {
     "name": "stderr",
     "output_type": "stream",
     "text": [
      "  2%|▏         | 3/162 [00:26<22:56,  8.66s/it]"
     ]
    },
    {
     "name": "stdout",
     "output_type": "stream",
     "text": [
      "--------------------------------------------------\n",
      "\n",
      "Splitting lightcurves for Eos with max_hours_diff=24 and min_no_points=10\n",
      "Before splitting: 23 lightcurves\n",
      "After splitting: 21 lightcurves\n",
      "Getting top 4 bins with max_time_diff=45 and min_bin_size=1\n",
      "Got 5 bins\n",
      "Getting top 50 frequencies with nterms=3 for lightcurves=6 with total points=2099\n",
      "Getting top 50 frequencies with nterms=3 for lightcurves=3 with total points=486\n",
      "Getting top 50 frequencies with nterms=3 for lightcurves=1 with total points=229\n",
      "Getting top 50 frequencies with nterms=3 for lightcurves=6 with total points=80\n"
     ]
    },
    {
     "name": "stderr",
     "output_type": "stream",
     "text": [
      "  2%|▏         | 4/162 [00:32<19:49,  7.53s/it]"
     ]
    },
    {
     "name": "stdout",
     "output_type": "stream",
     "text": [
      "--------------------------------------------------\n",
      "\n",
      "Splitting lightcurves for Europa with max_hours_diff=24 and min_no_points=10\n",
      "Before splitting: 42 lightcurves\n",
      "After splitting: 42 lightcurves\n",
      "Getting top 4 bins with max_time_diff=45 and min_bin_size=1\n",
      "Got 13 bins\n",
      "Getting top 50 frequencies with nterms=3 for lightcurves=4 with total points=927\n",
      "Getting top 50 frequencies with nterms=3 for lightcurves=7 with total points=433\n",
      "Getting top 50 frequencies with nterms=3 for lightcurves=1 with total points=409\n",
      "Getting top 50 frequencies with nterms=3 for lightcurves=5 with total points=191\n"
     ]
    },
    {
     "name": "stderr",
     "output_type": "stream",
     "text": [
      "  3%|▎         | 5/162 [00:42<21:43,  8.30s/it]"
     ]
    },
    {
     "name": "stdout",
     "output_type": "stream",
     "text": [
      "--------------------------------------------------\n",
      "\n",
      "Splitting lightcurves for Peitho with max_hours_diff=24 and min_no_points=10\n",
      "Before splitting: 1 lightcurves\n",
      "After splitting: 9 lightcurves\n",
      "Getting top 4 bins with max_time_diff=45 and min_bin_size=1\n",
      "Got 3 bins\n",
      "Splitting lightcurves for Corduba with max_hours_diff=24 and min_no_points=10\n",
      "Before splitting: 30 lightcurves\n",
      "After splitting: 38 lightcurves\n",
      "Getting top 4 bins with max_time_diff=45 and min_bin_size=1\n",
      "Got 8 bins\n",
      "Getting top 50 frequencies with nterms=3 for lightcurves=12 with total points=707\n",
      "Getting top 50 frequencies with nterms=3 for lightcurves=4 with total points=271\n",
      "Getting top 50 frequencies with nterms=3 for lightcurves=2 with total points=187\n",
      "Getting top 50 frequencies with nterms=3 for lightcurves=4 with total points=105\n"
     ]
    },
    {
     "name": "stderr",
     "output_type": "stream",
     "text": [
      "  4%|▍         | 7/162 [00:51<16:45,  6.48s/it]"
     ]
    },
    {
     "name": "stdout",
     "output_type": "stream",
     "text": [
      "--------------------------------------------------\n",
      "\n",
      "Splitting lightcurves for Camilla with max_hours_diff=24 and min_no_points=10\n",
      "Before splitting: 32 lightcurves\n",
      "After splitting: 27 lightcurves\n",
      "Getting top 4 bins with max_time_diff=45 and min_bin_size=1\n",
      "Got 13 bins\n",
      "Getting top 50 frequencies with nterms=3 for lightcurves=3 with total points=189\n",
      "Getting top 50 frequencies with nterms=3 for lightcurves=1 with total points=64\n",
      "Getting top 50 frequencies with nterms=3 for lightcurves=2 with total points=58\n",
      "Getting top 50 frequencies with nterms=3 for lightcurves=3 with total points=51\n"
     ]
    },
    {
     "name": "stderr",
     "output_type": "stream",
     "text": [
      "  5%|▍         | 8/162 [00:58<17:02,  6.64s/it]"
     ]
    },
    {
     "name": "stdout",
     "output_type": "stream",
     "text": [
      "--------------------------------------------------\n",
      "\n",
      "Splitting lightcurves for Margarita with max_hours_diff=24 and min_no_points=10\n",
      "Before splitting: 28 lightcurves\n",
      "After splitting: 27 lightcurves\n",
      "Getting top 4 bins with max_time_diff=45 and min_bin_size=1\n",
      "Got 2 bins\n",
      "Splitting lightcurves for Pierretta with max_hours_diff=24 and min_no_points=10\n",
      "Before splitting: 5 lightcurves\n",
      "After splitting: 3 lightcurves\n",
      "Getting top 4 bins with max_time_diff=45 and min_bin_size=1\n",
      "Got 0 bins\n",
      "Splitting lightcurves for Libussa with max_hours_diff=24 and min_no_points=10\n",
      "Before splitting: 9 lightcurves\n",
      "After splitting: 15 lightcurves\n",
      "Getting top 4 bins with max_time_diff=45 and min_bin_size=1\n",
      "Got 3 bins\n",
      "Splitting lightcurves for Florentina with max_hours_diff=24 and min_no_points=10\n",
      "Before splitting: 11 lightcurves\n",
      "After splitting: 16 lightcurves\n",
      "Getting top 4 bins with max_time_diff=45 and min_bin_size=1\n",
      "Got 8 bins\n",
      "Getting top 50 frequencies with nterms=3 for lightcurves=3 with total points=256\n",
      "Getting top 50 frequencies with nterms=3 for lightcurves=2 with total points=218\n",
      "Getting top 50 frequencies with nterms=3 for lightcurves=1 with total points=208\n",
      "Getting top 50 frequencies with nterms=3 for lightcurves=2 with total points=116\n"
     ]
    },
    {
     "name": "stderr",
     "output_type": "stream",
     "text": [
      "  7%|▋         | 12/162 [01:05<09:11,  3.68s/it]"
     ]
    },
    {
     "name": "stdout",
     "output_type": "stream",
     "text": [
      "--------------------------------------------------\n",
      "\n",
      "Splitting lightcurves for Aschera with max_hours_diff=24 and min_no_points=10\n",
      "Before splitting: 1 lightcurves\n",
      "After splitting: 0 lightcurves\n",
      "Getting top 4 bins with max_time_diff=45 and min_bin_size=1\n",
      "Got 0 bins\n",
      "Splitting lightcurves for Isara with max_hours_diff=24 and min_no_points=10\n",
      "Before splitting: 2 lightcurves\n",
      "After splitting: 2 lightcurves\n",
      "Getting top 4 bins with max_time_diff=45 and min_bin_size=1\n",
      "Got 0 bins\n",
      "Splitting lightcurves for Psyche with max_hours_diff=24 and min_no_points=10\n",
      "Before splitting: 187 lightcurves\n",
      "After splitting: 174 lightcurves\n",
      "Getting top 4 bins with max_time_diff=45 and min_bin_size=1\n",
      "Got 32 bins\n",
      "Getting top 50 frequencies with nterms=3 for lightcurves=25 with total points=3332\n",
      "Getting top 50 frequencies with nterms=3 for lightcurves=16 with total points=1777\n",
      "Getting top 50 frequencies with nterms=3 for lightcurves=12 with total points=1067\n",
      "Getting top 50 frequencies with nterms=3 for lightcurves=14 with total points=1002\n"
     ]
    },
    {
     "name": "stderr",
     "output_type": "stream",
     "text": [
      "  9%|▉         | 15/162 [01:21<10:29,  4.28s/it]"
     ]
    },
    {
     "name": "stdout",
     "output_type": "stream",
     "text": [
      "--------------------------------------------------\n",
      "\n",
      "Splitting lightcurves for Gerda with max_hours_diff=24 and min_no_points=10\n",
      "Before splitting: 6 lightcurves\n",
      "After splitting: 16 lightcurves\n",
      "Getting top 4 bins with max_time_diff=45 and min_bin_size=1\n",
      "Got 9 bins\n",
      "Getting top 50 frequencies with nterms=3 for lightcurves=1 with total points=668\n",
      "Getting top 50 frequencies with nterms=3 for lightcurves=2 with total points=179\n",
      "Getting top 50 frequencies with nterms=3 for lightcurves=1 with total points=160\n",
      "Getting top 50 frequencies with nterms=3 for lightcurves=5 with total points=115\n"
     ]
    },
    {
     "name": "stderr",
     "output_type": "stream",
     "text": [
      " 10%|▉         | 16/162 [01:23<09:29,  3.90s/it]"
     ]
    },
    {
     "name": "stdout",
     "output_type": "stream",
     "text": [
      "--------------------------------------------------\n",
      "\n",
      "Splitting lightcurves for Althaea with max_hours_diff=24 and min_no_points=10\n",
      "Before splitting: 4 lightcurves\n",
      "After splitting: 4 lightcurves\n",
      "Getting top 4 bins with max_time_diff=45 and min_bin_size=1\n",
      "Got 3 bins\n",
      "Splitting lightcurves for Antigone with max_hours_diff=24 and min_no_points=10\n",
      "Before splitting: 52 lightcurves\n",
      "After splitting: 45 lightcurves\n",
      "Getting top 4 bins with max_time_diff=45 and min_bin_size=1\n",
      "Got 18 bins\n",
      "Getting top 50 frequencies with nterms=3 for lightcurves=8 with total points=1303\n",
      "Getting top 50 frequencies with nterms=3 for lightcurves=3 with total points=508\n",
      "Getting top 50 frequencies with nterms=3 for lightcurves=4 with total points=481\n",
      "Getting top 50 frequencies with nterms=3 for lightcurves=2 with total points=384\n"
     ]
    },
    {
     "name": "stderr",
     "output_type": "stream",
     "text": [
      " 11%|█         | 18/162 [01:33<10:25,  4.34s/it]"
     ]
    },
    {
     "name": "stdout",
     "output_type": "stream",
     "text": [
      "--------------------------------------------------\n",
      "\n",
      "Splitting lightcurves for Endymion with max_hours_diff=24 and min_no_points=10\n",
      "Before splitting: 1 lightcurves\n",
      "After splitting: 0 lightcurves\n",
      "Getting top 4 bins with max_time_diff=45 and min_bin_size=1\n",
      "Got 0 bins\n",
      "Splitting lightcurves for Protogeneia with max_hours_diff=24 and min_no_points=10\n",
      "Before splitting: 2 lightcurves\n",
      "After splitting: 8 lightcurves\n",
      "Getting top 4 bins with max_time_diff=45 and min_bin_size=1\n",
      "Got 3 bins\n",
      "Splitting lightcurves for Tercidina with max_hours_diff=24 and min_no_points=10\n",
      "Before splitting: 9 lightcurves\n",
      "After splitting: 27 lightcurves\n",
      "Getting top 4 bins with max_time_diff=45 and min_bin_size=1\n",
      "Got 7 bins\n",
      "Getting top 50 frequencies with nterms=3 for lightcurves=2 with total points=479\n",
      "Getting top 50 frequencies with nterms=3 for lightcurves=6 with total points=465\n",
      "Getting top 50 frequencies with nterms=3 for lightcurves=4 with total points=229\n",
      "Getting top 50 frequencies with nterms=3 for lightcurves=4 with total points=220\n"
     ]
    },
    {
     "name": "stderr",
     "output_type": "stream",
     "text": [
      " 13%|█▎        | 21/162 [01:44<09:27,  4.03s/it]"
     ]
    },
    {
     "name": "stdout",
     "output_type": "stream",
     "text": [
      "--------------------------------------------------\n",
      "\n",
      "Splitting lightcurves for Melpomene with max_hours_diff=24 and min_no_points=10\n",
      "Before splitting: 157 lightcurves\n",
      "After splitting: 153 lightcurves\n",
      "Getting top 4 bins with max_time_diff=45 and min_bin_size=1\n",
      "Got 22 bins\n",
      "Getting top 50 frequencies with nterms=3 for lightcurves=14 with total points=1880\n",
      "Getting top 50 frequencies with nterms=3 for lightcurves=20 with total points=1503\n",
      "Getting top 50 frequencies with nterms=3 for lightcurves=14 with total points=903\n",
      "Getting top 50 frequencies with nterms=3 for lightcurves=2 with total points=858\n"
     ]
    },
    {
     "name": "stderr",
     "output_type": "stream",
     "text": [
      " 14%|█▎        | 22/162 [01:55<11:56,  5.12s/it]"
     ]
    },
    {
     "name": "stdout",
     "output_type": "stream",
     "text": [
      "--------------------------------------------------\n",
      "\n",
      "Splitting lightcurves for Dejopeja with max_hours_diff=24 and min_no_points=10\n",
      "Before splitting: 17 lightcurves\n",
      "After splitting: 16 lightcurves\n",
      "Getting top 4 bins with max_time_diff=45 and min_bin_size=1\n",
      "Got 5 bins\n",
      "Getting top 50 frequencies with nterms=3 for lightcurves=5 with total points=203\n",
      "Getting top 50 frequencies with nterms=3 for lightcurves=2 with total points=110\n",
      "Getting top 50 frequencies with nterms=3 for lightcurves=2 with total points=80\n",
      "Getting top 50 frequencies with nterms=3 for lightcurves=2 with total points=47\n"
     ]
    },
    {
     "name": "stderr",
     "output_type": "stream",
     "text": [
      " 14%|█▍        | 23/162 [01:59<11:13,  4.85s/it]"
     ]
    },
    {
     "name": "stdout",
     "output_type": "stream",
     "text": [
      "--------------------------------------------------\n",
      "\n",
      "Splitting lightcurves for Devosa with max_hours_diff=24 and min_no_points=10\n",
      "Before splitting: 1 lightcurves\n",
      "After splitting: 2 lightcurves\n",
      "Getting top 4 bins with max_time_diff=45 and min_bin_size=1\n",
      "Got 0 bins\n",
      "Splitting lightcurves for Eduarda with max_hours_diff=24 and min_no_points=10\n",
      "Before splitting: 3 lightcurves\n",
      "After splitting: 2 lightcurves\n",
      "Getting top 4 bins with max_time_diff=45 and min_bin_size=1\n",
      "Got 0 bins\n",
      "Splitting lightcurves for Pariana with max_hours_diff=24 and min_no_points=10\n",
      "Before splitting: 2 lightcurves\n",
      "After splitting: 1 lightcurves\n",
      "Getting top 4 bins with max_time_diff=45 and min_bin_size=1\n",
      "Got 0 bins\n",
      "Splitting lightcurves for Feronia with max_hours_diff=24 and min_no_points=10\n",
      "Before splitting: 14 lightcurves\n",
      "After splitting: 14 lightcurves\n",
      "Getting top 4 bins with max_time_diff=45 and min_bin_size=1\n",
      "Got 7 bins\n",
      "Getting top 50 frequencies with nterms=3 for lightcurves=1 with total points=698\n",
      "Getting top 50 frequencies with nterms=3 for lightcurves=2 with total points=85\n",
      "Getting top 50 frequencies with nterms=3 for lightcurves=1 with total points=62\n",
      "Getting top 50 frequencies with nterms=3 for lightcurves=2 with total points=56\n"
     ]
    },
    {
     "name": "stderr",
     "output_type": "stream",
     "text": [
      " 17%|█▋        | 27/162 [02:01<05:55,  2.63s/it]"
     ]
    },
    {
     "name": "stdout",
     "output_type": "stream",
     "text": [
      "--------------------------------------------------\n",
      "\n",
      "Splitting lightcurves for Arethusa with max_hours_diff=24 and min_no_points=10\n",
      "Before splitting: 5 lightcurves\n",
      "After splitting: 4 lightcurves\n",
      "Getting top 4 bins with max_time_diff=45 and min_bin_size=1\n",
      "Got 0 bins\n",
      "Splitting lightcurves for Medea with max_hours_diff=24 and min_no_points=10\n",
      "Before splitting: 13 lightcurves\n",
      "After splitting: 32 lightcurves\n",
      "Getting top 4 bins with max_time_diff=45 and min_bin_size=1\n",
      "Got 10 bins\n",
      "Getting top 50 frequencies with nterms=3 for lightcurves=5 with total points=1059\n",
      "Getting top 50 frequencies with nterms=3 for lightcurves=6 with total points=800\n",
      "Getting top 50 frequencies with nterms=3 for lightcurves=6 with total points=228\n",
      "Getting top 50 frequencies with nterms=3 for lightcurves=4 with total points=173\n"
     ]
    },
    {
     "name": "stderr",
     "output_type": "stream",
     "text": [
      " 18%|█▊        | 29/162 [02:13<07:47,  3.52s/it]"
     ]
    },
    {
     "name": "stdout",
     "output_type": "stream",
     "text": [
      "--------------------------------------------------\n",
      "\n",
      "Splitting lightcurves for Iris with max_hours_diff=24 and min_no_points=10\n",
      "Before splitting: 39 lightcurves\n",
      "After splitting: 36 lightcurves\n",
      "Getting top 4 bins with max_time_diff=45 and min_bin_size=1\n",
      "Got 18 bins\n",
      "Getting top 50 frequencies with nterms=3 for lightcurves=2 with total points=1212\n",
      "Getting top 50 frequencies with nterms=3 for lightcurves=2 with total points=556\n",
      "Getting top 50 frequencies with nterms=3 for lightcurves=5 with total points=223\n"
     ]
    },
    {
     "name": "stderr",
     "output_type": "stream",
     "text": [
      " 19%|█▊        | 30/162 [02:16<07:40,  3.49s/it]"
     ]
    },
    {
     "name": "stdout",
     "output_type": "stream",
     "text": [
      "Getting top 50 frequencies with nterms=3 for lightcurves=2 with total points=162\n",
      "--------------------------------------------------\n",
      "\n",
      "Splitting lightcurves for Egeria with max_hours_diff=24 and min_no_points=10\n",
      "Before splitting: 15 lightcurves\n",
      "After splitting: 25 lightcurves\n",
      "Getting top 4 bins with max_time_diff=45 and min_bin_size=1\n",
      "Got 10 bins\n",
      "Getting top 50 frequencies with nterms=3 for lightcurves=4 with total points=1406\n",
      "Getting top 50 frequencies with nterms=3 for lightcurves=6 with total points=989\n"
     ]
    },
    {
     "name": "stderr",
     "output_type": "stream",
     "text": [
      " 19%|█▉        | 31/162 [02:24<09:22,  4.29s/it]"
     ]
    },
    {
     "name": "stdout",
     "output_type": "stream",
     "text": [
      "Getting top 50 frequencies with nterms=3 for lightcurves=1 with total points=664\n",
      "Getting top 50 frequencies with nterms=3 for lightcurves=1 with total points=632\n",
      "--------------------------------------------------\n",
      "\n",
      "Splitting lightcurves for Harmonia with max_hours_diff=24 and min_no_points=10\n",
      "Before splitting: 21 lightcurves\n",
      "After splitting: 21 lightcurves\n",
      "Getting top 4 bins with max_time_diff=45 and min_bin_size=1\n",
      "Got 7 bins\n",
      "Getting top 50 frequencies with nterms=3 for lightcurves=5 with total points=1476\n",
      "Getting top 50 frequencies with nterms=3 for lightcurves=2 with total points=172\n",
      "Getting top 50 frequencies with nterms=3 for lightcurves=1 with total points=109\n",
      "Getting top 50 frequencies with nterms=3 for lightcurves=3 with total points=98\n"
     ]
    },
    {
     "name": "stderr",
     "output_type": "stream",
     "text": [
      " 20%|█▉        | 32/162 [02:28<09:15,  4.27s/it]"
     ]
    },
    {
     "name": "stdout",
     "output_type": "stream",
     "text": [
      "--------------------------------------------------\n",
      "\n",
      "Splitting lightcurves for Atala with max_hours_diff=24 and min_no_points=10\n",
      "Before splitting: 3 lightcurves\n",
      "After splitting: 2 lightcurves\n",
      "Getting top 4 bins with max_time_diff=45 and min_bin_size=1\n",
      "Got 0 bins\n",
      "Splitting lightcurves for Pallas with max_hours_diff=24 and min_no_points=10\n",
      "Before splitting: 58 lightcurves\n",
      "After splitting: 55 lightcurves\n",
      "Getting top 4 bins with max_time_diff=45 and min_bin_size=1\n",
      "Got 18 bins\n",
      "Getting top 50 frequencies with nterms=3 for lightcurves=8 with total points=574\n",
      "Getting top 50 frequencies with nterms=3 for lightcurves=6 with total points=299\n",
      "Getting top 50 frequencies with nterms=3 for lightcurves=4 with total points=230\n",
      "Getting top 50 frequencies with nterms=3 for lightcurves=4 with total points=217\n"
     ]
    },
    {
     "name": "stderr",
     "output_type": "stream",
     "text": [
      " 21%|██        | 34/162 [02:41<10:49,  5.07s/it]"
     ]
    },
    {
     "name": "stdout",
     "output_type": "stream",
     "text": [
      "--------------------------------------------------\n",
      "\n",
      "Splitting lightcurves for Ruperto-Carola with max_hours_diff=24 and min_no_points=10\n",
      "Before splitting: 1 lightcurves\n",
      "After splitting: 3 lightcurves\n",
      "Getting top 4 bins with max_time_diff=45 and min_bin_size=1\n",
      "Got 0 bins\n",
      "Splitting lightcurves for Burgundia with max_hours_diff=24 and min_no_points=10\n",
      "Before splitting: 25 lightcurves\n",
      "After splitting: 26 lightcurves\n",
      "Getting top 4 bins with max_time_diff=45 and min_bin_size=1\n",
      "Got 3 bins\n",
      "Splitting lightcurves for Klymene with max_hours_diff=24 and min_no_points=10\n",
      "Before splitting: 8 lightcurves\n",
      "After splitting: 10 lightcurves\n",
      "Getting top 4 bins with max_time_diff=45 and min_bin_size=1\n",
      "Got 3 bins\n",
      "Splitting lightcurves for Lamberta with max_hours_diff=24 and min_no_points=10\n",
      "Before splitting: 52 lightcurves\n",
      "After splitting: 50 lightcurves\n",
      "Getting top 4 bins with max_time_diff=45 and min_bin_size=1\n",
      "Got 10 bins\n",
      "Getting top 50 frequencies with nterms=3 for lightcurves=2 with total points=893\n",
      "Getting top 50 frequencies with nterms=3 for lightcurves=10 with total points=866\n",
      "Getting top 50 frequencies with nterms=3 for lightcurves=8 with total points=714\n",
      "Getting top 50 frequencies with nterms=3 for lightcurves=10 with total points=645\n"
     ]
    },
    {
     "name": "stderr",
     "output_type": "stream",
     "text": [
      " 23%|██▎       | 38/162 [02:53<08:18,  4.02s/it]"
     ]
    },
    {
     "name": "stdout",
     "output_type": "stream",
     "text": [
      "--------------------------------------------------\n",
      "\n",
      "Splitting lightcurves for Honoria with max_hours_diff=24 and min_no_points=10\n",
      "Before splitting: 1 lightcurves\n",
      "After splitting: 6 lightcurves\n",
      "Getting top 4 bins with max_time_diff=45 and min_bin_size=1\n",
      "Got 2 bins\n",
      "Splitting lightcurves for Julia with max_hours_diff=24 and min_no_points=10\n",
      "Before splitting: 37 lightcurves\n",
      "After splitting: 37 lightcurves\n",
      "Getting top 4 bins with max_time_diff=45 and min_bin_size=1\n",
      "Got 5 bins\n",
      "Getting top 50 frequencies with nterms=3 for lightcurves=4 with total points=2435\n",
      "Getting top 50 frequencies with nterms=3 for lightcurves=7 with total points=1412\n",
      "Getting top 50 frequencies with nterms=3 for lightcurves=9 with total points=1112\n",
      "Getting top 50 frequencies with nterms=3 for lightcurves=8 with total points=474\n"
     ]
    },
    {
     "name": "stderr",
     "output_type": "stream",
     "text": [
      " 25%|██▍       | 40/162 [02:58<07:21,  3.62s/it]"
     ]
    },
    {
     "name": "stdout",
     "output_type": "stream",
     "text": [
      "--------------------------------------------------\n",
      "\n",
      "Splitting lightcurves for Bettina with max_hours_diff=24 and min_no_points=10\n",
      "Before splitting: 19 lightcurves\n",
      "After splitting: 15 lightcurves\n",
      "Getting top 4 bins with max_time_diff=45 and min_bin_size=1\n",
      "Got 9 bins\n",
      "Getting top 50 frequencies with nterms=3 for lightcurves=2 with total points=230\n",
      "Getting top 50 frequencies with nterms=3 for lightcurves=1 with total points=114\n",
      "Getting top 50 frequencies with nterms=3 for lightcurves=1 with total points=60\n",
      "Getting top 50 frequencies with nterms=3 for lightcurves=2 with total points=42\n"
     ]
    },
    {
     "name": "stderr",
     "output_type": "stream",
     "text": [
      " 25%|██▌       | 41/162 [03:02<07:28,  3.71s/it]"
     ]
    },
    {
     "name": "stdout",
     "output_type": "stream",
     "text": [
      "--------------------------------------------------\n",
      "\n",
      "Splitting lightcurves for Ida with max_hours_diff=24 and min_no_points=10\n",
      "Before splitting: 26 lightcurves\n",
      "After splitting: 35 lightcurves\n",
      "Getting top 4 bins with max_time_diff=45 and min_bin_size=1\n",
      "Got 12 bins\n",
      "Getting top 50 frequencies with nterms=3 for lightcurves=7 with total points=483\n",
      "Getting top 50 frequencies with nterms=3 for lightcurves=6 with total points=230\n",
      "Getting top 50 frequencies with nterms=3 for lightcurves=5 with total points=202\n",
      "Getting top 50 frequencies with nterms=3 for lightcurves=2 with total points=160\n"
     ]
    },
    {
     "name": "stderr",
     "output_type": "stream",
     "text": [
      " 26%|██▌       | 42/162 [03:13<10:09,  5.08s/it]"
     ]
    },
    {
     "name": "stdout",
     "output_type": "stream",
     "text": [
      "--------------------------------------------------\n",
      "\n",
      "Splitting lightcurves for Cyrene with max_hours_diff=24 and min_no_points=10\n",
      "Before splitting: 1 lightcurves\n",
      "After splitting: 0 lightcurves\n",
      "Getting top 4 bins with max_time_diff=45 and min_bin_size=1\n",
      "Got 0 bins\n",
      "Splitting lightcurves for Laurentia with max_hours_diff=24 and min_no_points=10\n",
      "Before splitting: 5 lightcurves\n",
      "After splitting: 3 lightcurves\n",
      "Getting top 4 bins with max_time_diff=45 and min_bin_size=1\n",
      "Got 1 bins\n",
      "Splitting lightcurves for Beatrix with max_hours_diff=24 and min_no_points=10\n",
      "Before splitting: 1 lightcurves\n",
      "After splitting: 0 lightcurves\n",
      "Getting top 4 bins with max_time_diff=45 and min_bin_size=1\n",
      "Got 0 bins\n",
      "Splitting lightcurves for Janina with max_hours_diff=24 and min_no_points=10\n",
      "Before splitting: 1 lightcurves\n",
      "After splitting: 11 lightcurves\n",
      "Getting top 4 bins with max_time_diff=45 and min_bin_size=1\n",
      "Got 4 bins\n",
      "Getting top 50 frequencies with nterms=3 for lightcurves=5 with total points=72\n",
      "Getting top 50 frequencies with nterms=3 for lightcurves=2 with total points=26\n",
      "Getting top 50 frequencies with nterms=3 for lightcurves=1 with total points=24\n",
      "Getting top 50 frequencies with nterms=3 for lightcurves=2 with total points=22\n"
     ]
    },
    {
     "name": "stderr",
     "output_type": "stream",
     "text": [
      " 28%|██▊       | 46/162 [03:20<06:32,  3.38s/it]"
     ]
    },
    {
     "name": "stdout",
     "output_type": "stream",
     "text": [
      "--------------------------------------------------\n",
      "\n",
      "Splitting lightcurves for Loreley with max_hours_diff=24 and min_no_points=10\n",
      "Before splitting: 28 lightcurves\n",
      "After splitting: 22 lightcurves\n",
      "Getting top 4 bins with max_time_diff=45 and min_bin_size=1\n",
      "Got 5 bins\n",
      "Getting top 50 frequencies with nterms=3 for lightcurves=8 with total points=896\n",
      "Getting top 50 frequencies with nterms=3 for lightcurves=4 with total points=314\n"
     ]
    },
    {
     "name": "stderr",
     "output_type": "stream",
     "text": [
      " 29%|██▉       | 47/162 [03:26<07:02,  3.68s/it]"
     ]
    },
    {
     "name": "stdout",
     "output_type": "stream",
     "text": [
      "Getting top 50 frequencies with nterms=3 for lightcurves=1 with total points=71\n",
      "Getting top 50 frequencies with nterms=3 for lightcurves=2 with total points=67\n",
      "--------------------------------------------------\n",
      "\n",
      "Splitting lightcurves for Amphitrite with max_hours_diff=24 and min_no_points=10\n",
      "Before splitting: 60 lightcurves\n",
      "After splitting: 45 lightcurves\n",
      "Getting top 4 bins with max_time_diff=45 and min_bin_size=1\n",
      "Got 17 bins\n",
      "Getting top 50 frequencies with nterms=3 for lightcurves=2 with total points=756\n",
      "Getting top 50 frequencies with nterms=3 for lightcurves=5 with total points=596\n",
      "Getting top 50 frequencies with nterms=3 for lightcurves=9 with total points=543\n",
      "Getting top 50 frequencies with nterms=3 for lightcurves=2 with total points=227\n"
     ]
    },
    {
     "name": "stderr",
     "output_type": "stream",
     "text": [
      " 30%|██▉       | 48/162 [03:30<07:25,  3.90s/it]"
     ]
    },
    {
     "name": "stdout",
     "output_type": "stream",
     "text": [
      "--------------------------------------------------\n",
      "\n",
      "Splitting lightcurves for Victoria with max_hours_diff=24 and min_no_points=10\n",
      "Before splitting: 38 lightcurves\n",
      "After splitting: 44 lightcurves\n",
      "Getting top 4 bins with max_time_diff=45 and min_bin_size=1\n",
      "Got 9 bins\n",
      "Getting top 50 frequencies with nterms=3 for lightcurves=4 with total points=1109\n",
      "Getting top 50 frequencies with nterms=3 for lightcurves=6 with total points=925\n",
      "Getting top 50 frequencies with nterms=3 for lightcurves=8 with total points=532\n",
      "Getting top 50 frequencies with nterms=3 for lightcurves=6 with total points=477\n"
     ]
    },
    {
     "name": "stderr",
     "output_type": "stream",
     "text": [
      " 30%|███       | 49/162 [03:41<09:53,  5.26s/it]"
     ]
    },
    {
     "name": "stdout",
     "output_type": "stream",
     "text": [
      "--------------------------------------------------\n",
      "\n",
      "Splitting lightcurves for Hermione with max_hours_diff=24 and min_no_points=10\n",
      "Before splitting: 47 lightcurves\n",
      "After splitting: 47 lightcurves\n",
      "Getting top 4 bins with max_time_diff=45 and min_bin_size=1\n",
      "Got 11 bins\n",
      "Getting top 50 frequencies with nterms=3 for lightcurves=8 with total points=1150\n",
      "Getting top 50 frequencies with nterms=3 for lightcurves=2 with total points=1047\n",
      "Getting top 50 frequencies with nterms=3 for lightcurves=8 with total points=909\n",
      "Getting top 50 frequencies with nterms=3 for lightcurves=5 with total points=858\n"
     ]
    },
    {
     "name": "stderr",
     "output_type": "stream",
     "text": [
      " 31%|███       | 50/162 [03:54<13:05,  7.02s/it]"
     ]
    },
    {
     "name": "stdout",
     "output_type": "stream",
     "text": [
      "--------------------------------------------------\n",
      "\n",
      "Splitting lightcurves for Nuwa with max_hours_diff=24 and min_no_points=10\n",
      "Before splitting: 2 lightcurves\n",
      "After splitting: 19 lightcurves\n",
      "Getting top 4 bins with max_time_diff=45 and min_bin_size=1\n",
      "Got 6 bins\n",
      "Getting top 50 frequencies with nterms=3 for lightcurves=4 with total points=1059\n",
      "Getting top 50 frequencies with nterms=3 for lightcurves=5 with total points=190\n",
      "Getting top 50 frequencies with nterms=3 for lightcurves=1 with total points=143\n",
      "Getting top 50 frequencies with nterms=3 for lightcurves=3 with total points=121\n"
     ]
    },
    {
     "name": "stderr",
     "output_type": "stream",
     "text": [
      " 31%|███▏      | 51/162 [04:01<12:47,  6.92s/it]"
     ]
    },
    {
     "name": "stdout",
     "output_type": "stream",
     "text": [
      "--------------------------------------------------\n",
      "\n",
      "Splitting lightcurves for Prymno with max_hours_diff=24 and min_no_points=10\n",
      "Before splitting: 1 lightcurves\n",
      "After splitting: 0 lightcurves\n",
      "Getting top 4 bins with max_time_diff=45 and min_bin_size=1\n",
      "Got 0 bins\n",
      "Splitting lightcurves for Ausonia with max_hours_diff=24 and min_no_points=10\n",
      "Before splitting: 16 lightcurves\n",
      "After splitting: 16 lightcurves\n",
      "Getting top 4 bins with max_time_diff=45 and min_bin_size=1\n",
      "Got 7 bins\n",
      "Getting top 50 frequencies with nterms=3 for lightcurves=6 with total points=1207\n",
      "Getting top 50 frequencies with nterms=3 for lightcurves=2 with total points=235\n"
     ]
    },
    {
     "name": "stderr",
     "output_type": "stream",
     "text": [
      " 33%|███▎      | 53/162 [04:06<09:29,  5.23s/it]"
     ]
    },
    {
     "name": "stdout",
     "output_type": "stream",
     "text": [
      "Getting top 50 frequencies with nterms=3 for lightcurves=1 with total points=123\n",
      "Getting top 50 frequencies with nterms=3 for lightcurves=1 with total points=96\n",
      "--------------------------------------------------\n",
      "\n",
      "Splitting lightcurves for Nemausa with max_hours_diff=24 and min_no_points=10\n",
      "Before splitting: 114 lightcurves\n",
      "After splitting: 114 lightcurves\n",
      "Getting top 4 bins with max_time_diff=45 and min_bin_size=1\n",
      "Got 21 bins\n",
      "Getting top 50 frequencies with nterms=3 for lightcurves=17 with total points=1889\n",
      "Getting top 50 frequencies with nterms=3 for lightcurves=21 with total points=1829\n",
      "Getting top 50 frequencies with nterms=3 for lightcurves=3 with total points=1637\n",
      "Getting top 50 frequencies with nterms=3 for lightcurves=21 with total points=1401\n"
     ]
    },
    {
     "name": "stderr",
     "output_type": "stream",
     "text": [
      " 33%|███▎      | 54/162 [04:21<13:08,  7.30s/it]"
     ]
    },
    {
     "name": "stdout",
     "output_type": "stream",
     "text": [
      "--------------------------------------------------\n",
      "\n",
      "Splitting lightcurves for Alexandra with max_hours_diff=24 and min_no_points=10\n",
      "Before splitting: 37 lightcurves\n",
      "After splitting: 37 lightcurves\n",
      "Getting top 4 bins with max_time_diff=45 and min_bin_size=1\n",
      "Got 7 bins\n",
      "Getting top 50 frequencies with nterms=3 for lightcurves=7 with total points=789\n",
      "Getting top 50 frequencies with nterms=3 for lightcurves=5 with total points=787\n",
      "Getting top 50 frequencies with nterms=3 for lightcurves=5 with total points=422\n",
      "Getting top 50 frequencies with nterms=3 for lightcurves=5 with total points=223\n"
     ]
    },
    {
     "name": "stderr",
     "output_type": "stream",
     "text": [
      " 34%|███▍      | 55/162 [04:27<12:38,  7.09s/it]"
     ]
    },
    {
     "name": "stdout",
     "output_type": "stream",
     "text": [
      "--------------------------------------------------\n",
      "\n",
      "Splitting lightcurves for Brunhild with max_hours_diff=24 and min_no_points=10\n",
      "Before splitting: 1 lightcurves\n",
      "After splitting: 12 lightcurves\n",
      "Getting top 4 bins with max_time_diff=45 and min_bin_size=1\n",
      "Got 5 bins\n",
      "Getting top 50 frequencies with nterms=3 for lightcurves=3 with total points=66\n",
      "Getting top 50 frequencies with nterms=3 for lightcurves=3 with total points=38\n",
      "Getting top 50 frequencies with nterms=3 for lightcurves=2 with total points=26\n"
     ]
    },
    {
     "name": "stderr",
     "output_type": "stream",
     "text": [
      " 35%|███▍      | 56/162 [04:32<11:36,  6.57s/it]"
     ]
    },
    {
     "name": "stdout",
     "output_type": "stream",
     "text": [
      "Getting top 50 frequencies with nterms=3 for lightcurves=1 with total points=12\n",
      "--------------------------------------------------\n",
      "\n",
      "Splitting lightcurves for Myrrha with max_hours_diff=24 and min_no_points=10\n",
      "Before splitting: 3 lightcurves\n",
      "After splitting: 9 lightcurves\n",
      "Getting top 4 bins with max_time_diff=45 and min_bin_size=1\n",
      "Got 4 bins\n",
      "Getting top 50 frequencies with nterms=3 for lightcurves=4 with total points=370\n",
      "Getting top 50 frequencies with nterms=3 for lightcurves=2 with total points=145\n",
      "Getting top 50 frequencies with nterms=3 for lightcurves=1 with total points=79\n",
      "Getting top 50 frequencies with nterms=3 for lightcurves=1 with total points=10\n"
     ]
    },
    {
     "name": "stderr",
     "output_type": "stream",
     "text": [
      " 35%|███▌      | 57/162 [04:35<09:44,  5.56s/it]"
     ]
    },
    {
     "name": "stdout",
     "output_type": "stream",
     "text": [
      "--------------------------------------------------\n",
      "\n",
      "Splitting lightcurves for Ambrosia with max_hours_diff=24 and min_no_points=10\n",
      "Before splitting: 9 lightcurves\n",
      "After splitting: 15 lightcurves\n",
      "Getting top 4 bins with max_time_diff=45 and min_bin_size=1\n",
      "Got 4 bins\n",
      "Getting top 50 frequencies with nterms=3 for lightcurves=9 with total points=727\n",
      "Getting top 50 frequencies with nterms=3 for lightcurves=3 with total points=186\n"
     ]
    },
    {
     "name": "stderr",
     "output_type": "stream",
     "text": [
      " 36%|███▌      | 58/162 [04:41<09:49,  5.67s/it]"
     ]
    },
    {
     "name": "stdout",
     "output_type": "stream",
     "text": [
      "Getting top 50 frequencies with nterms=3 for lightcurves=1 with total points=106\n",
      "Getting top 50 frequencies with nterms=3 for lightcurves=1 with total points=14\n",
      "--------------------------------------------------\n",
      "\n",
      "Splitting lightcurves for Eugenia with max_hours_diff=24 and min_no_points=10\n",
      "Before splitting: 93 lightcurves\n",
      "After splitting: 80 lightcurves\n",
      "Getting top 4 bins with max_time_diff=45 and min_bin_size=1\n",
      "Got 23 bins\n",
      "Getting top 50 frequencies with nterms=3 for lightcurves=10 with total points=2922\n",
      "Getting top 50 frequencies with nterms=3 for lightcurves=3 with total points=769\n",
      "Getting top 50 frequencies with nterms=3 for lightcurves=6 with total points=392\n",
      "Getting top 50 frequencies with nterms=3 for lightcurves=6 with total points=249\n"
     ]
    },
    {
     "name": "stderr",
     "output_type": "stream",
     "text": [
      " 36%|███▋      | 59/162 [04:52<12:17,  7.16s/it]"
     ]
    },
    {
     "name": "stdout",
     "output_type": "stream",
     "text": [
      "--------------------------------------------------\n",
      "\n",
      "Splitting lightcurves for Antonia with max_hours_diff=24 and min_no_points=10\n",
      "Before splitting: 3 lightcurves\n",
      "After splitting: 7 lightcurves\n",
      "Getting top 4 bins with max_time_diff=45 and min_bin_size=1\n",
      "Got 1 bins\n",
      "Splitting lightcurves for Daphne with max_hours_diff=24 and min_no_points=10\n",
      "Before splitting: 47 lightcurves\n",
      "After splitting: 43 lightcurves\n",
      "Getting top 4 bins with max_time_diff=45 and min_bin_size=1\n",
      "Got 17 bins\n",
      "Getting top 50 frequencies with nterms=3 for lightcurves=10 with total points=2414\n",
      "Getting top 50 frequencies with nterms=3 for lightcurves=3 with total points=481\n",
      "Getting top 50 frequencies with nterms=3 for lightcurves=4 with total points=399\n",
      "Getting top 50 frequencies with nterms=3 for lightcurves=3 with total points=196\n"
     ]
    },
    {
     "name": "stderr",
     "output_type": "stream",
     "text": [
      " 38%|███▊      | 61/162 [05:01<10:13,  6.08s/it]"
     ]
    },
    {
     "name": "stdout",
     "output_type": "stream",
     "text": [
      "--------------------------------------------------\n",
      "\n",
      "Splitting lightcurves for Andromache with max_hours_diff=24 and min_no_points=10\n",
      "Before splitting: 1 lightcurves\n",
      "After splitting: 7 lightcurves\n",
      "Getting top 4 bins with max_time_diff=45 and min_bin_size=1\n",
      "Got 2 bins\n",
      "Splitting lightcurves for Persephone with max_hours_diff=24 and min_no_points=10\n",
      "Before splitting: 1 lightcurves\n",
      "After splitting: 0 lightcurves\n",
      "Getting top 4 bins with max_time_diff=45 and min_bin_size=1\n",
      "Got 0 bins\n",
      "Splitting lightcurves for Brucia with max_hours_diff=24 and min_no_points=10\n",
      "Before splitting: 1 lightcurves\n",
      "After splitting: 0 lightcurves\n",
      "Getting top 4 bins with max_time_diff=45 and min_bin_size=1\n",
      "Got 0 bins\n",
      "Splitting lightcurves for Austria with max_hours_diff=24 and min_no_points=10\n",
      "Before splitting: 2 lightcurves\n",
      "After splitting: 2 lightcurves\n",
      "Getting top 4 bins with max_time_diff=45 and min_bin_size=1\n",
      "Got 1 bins\n",
      "Splitting lightcurves for Eukrate with max_hours_diff=24 and min_no_points=10\n",
      "Before splitting: 15 lightcurves\n",
      "After splitting: 37 lightcurves\n",
      "Getting top 4 bins with max_time_diff=45 and min_bin_size=1\n",
      "Got 7 bins\n",
      "Getting top 50 frequencies with nterms=3 for lightcurves=9 with total points=2943\n",
      "Getting top 50 frequencies with nterms=3 for lightcurves=8 with total points=2706\n",
      "Getting top 50 frequencies with nterms=3 for lightcurves=6 with total points=1658\n",
      "Getting top 50 frequencies with nterms=3 for lightcurves=5 with total points=972\n"
     ]
    },
    {
     "name": "stderr",
     "output_type": "stream",
     "text": [
      " 41%|████      | 66/162 [05:17<06:51,  4.29s/it]"
     ]
    },
    {
     "name": "stdout",
     "output_type": "stream",
     "text": [
      "--------------------------------------------------\n",
      "\n",
      "Splitting lightcurves for Phocaea with max_hours_diff=24 and min_no_points=10\n",
      "Before splitting: 9 lightcurves\n",
      "After splitting: 21 lightcurves\n",
      "Getting top 4 bins with max_time_diff=45 and min_bin_size=1\n",
      "Got 7 bins\n",
      "Getting top 50 frequencies with nterms=3 for lightcurves=5 with total points=1451\n",
      "Getting top 50 frequencies with nterms=3 for lightcurves=3 with total points=1020\n",
      "Getting top 50 frequencies with nterms=3 for lightcurves=3 with total points=629\n",
      "Getting top 50 frequencies with nterms=3 for lightcurves=1 with total points=137\n"
     ]
    },
    {
     "name": "stderr",
     "output_type": "stream",
     "text": [
      " 41%|████▏     | 67/162 [05:25<07:36,  4.81s/it]"
     ]
    },
    {
     "name": "stdout",
     "output_type": "stream",
     "text": [
      "--------------------------------------------------\n",
      "\n",
      "Splitting lightcurves for Lucia with max_hours_diff=24 and min_no_points=10\n",
      "Before splitting: 7 lightcurves\n",
      "After splitting: 7 lightcurves\n",
      "Getting top 4 bins with max_time_diff=45 and min_bin_size=1\n",
      "Got 3 bins\n",
      "Splitting lightcurves for Ornamenta with max_hours_diff=24 and min_no_points=10\n",
      "Before splitting: 37 lightcurves\n",
      "After splitting: 37 lightcurves\n",
      "Getting top 4 bins with max_time_diff=45 and min_bin_size=1\n",
      "Got 7 bins\n",
      "Getting top 50 frequencies with nterms=3 for lightcurves=11 with total points=315\n",
      "Getting top 50 frequencies with nterms=3 for lightcurves=7 with total points=252\n",
      "Getting top 50 frequencies with nterms=3 for lightcurves=7 with total points=239\n",
      "Getting top 50 frequencies with nterms=3 for lightcurves=5 with total points=164\n"
     ]
    },
    {
     "name": "stderr",
     "output_type": "stream",
     "text": [
      " 43%|████▎     | 69/162 [05:38<08:12,  5.30s/it]"
     ]
    },
    {
     "name": "stdout",
     "output_type": "stream",
     "text": [
      "--------------------------------------------------\n",
      "\n",
      "Splitting lightcurves for Melusina with max_hours_diff=24 and min_no_points=10\n",
      "Before splitting: 1 lightcurves\n",
      "After splitting: 2 lightcurves\n",
      "Getting top 4 bins with max_time_diff=45 and min_bin_size=1\n",
      "Got 1 bins\n",
      "Splitting lightcurves for Thetis with max_hours_diff=24 and min_no_points=10\n",
      "Before splitting: 48 lightcurves\n",
      "After splitting: 39 lightcurves\n",
      "Getting top 4 bins with max_time_diff=45 and min_bin_size=1\n",
      "Got 9 bins\n",
      "Getting top 50 frequencies with nterms=3 for lightcurves=6 with total points=374\n",
      "Getting top 50 frequencies with nterms=3 for lightcurves=4 with total points=341\n",
      "Getting top 50 frequencies with nterms=3 for lightcurves=11 with total points=340\n",
      "Getting top 50 frequencies with nterms=3 for lightcurves=3 with total points=121\n"
     ]
    },
    {
     "name": "stderr",
     "output_type": "stream",
     "text": [
      " 44%|████▍     | 71/162 [05:46<07:28,  4.92s/it]"
     ]
    },
    {
     "name": "stdout",
     "output_type": "stream",
     "text": [
      "--------------------------------------------------\n",
      "\n",
      "Splitting lightcurves for Eleonora with max_hours_diff=24 and min_no_points=10\n",
      "Before splitting: 150 lightcurves\n",
      "After splitting: 142 lightcurves\n",
      "Getting top 4 bins with max_time_diff=45 and min_bin_size=1\n",
      "Got 27 bins\n",
      "Getting top 50 frequencies with nterms=3 for lightcurves=21 with total points=1690\n",
      "Getting top 50 frequencies with nterms=3 for lightcurves=11 with total points=1078\n",
      "Getting top 50 frequencies with nterms=3 for lightcurves=16 with total points=959\n",
      "Getting top 50 frequencies with nterms=3 for lightcurves=10 with total points=929\n"
     ]
    },
    {
     "name": "stderr",
     "output_type": "stream",
     "text": [
      " 44%|████▍     | 72/162 [06:03<10:33,  7.04s/it]"
     ]
    },
    {
     "name": "stdout",
     "output_type": "stream",
     "text": [
      "--------------------------------------------------\n",
      "\n",
      "Splitting lightcurves for Vala with max_hours_diff=24 and min_no_points=10\n",
      "Before splitting: 9 lightcurves\n",
      "After splitting: 18 lightcurves\n",
      "Getting top 4 bins with max_time_diff=45 and min_bin_size=1\n",
      "Got 4 bins\n",
      "Getting top 50 frequencies with nterms=3 for lightcurves=5 with total points=1263\n",
      "Getting top 50 frequencies with nterms=3 for lightcurves=4 with total points=949\n",
      "Getting top 50 frequencies with nterms=3 for lightcurves=4 with total points=882\n",
      "Getting top 50 frequencies with nterms=3 for lightcurves=1 with total points=10\n"
     ]
    },
    {
     "name": "stderr",
     "output_type": "stream",
     "text": [
      " 45%|████▌     | 73/162 [06:13<11:26,  7.72s/it]"
     ]
    },
    {
     "name": "stdout",
     "output_type": "stream",
     "text": [
      "--------------------------------------------------\n",
      "\n",
      "Splitting lightcurves for Dembowska with max_hours_diff=24 and min_no_points=10\n",
      "Before splitting: 40 lightcurves\n",
      "After splitting: 32 lightcurves\n",
      "Getting top 4 bins with max_time_diff=45 and min_bin_size=1\n",
      "Got 14 bins\n",
      "Getting top 50 frequencies with nterms=3 for lightcurves=6 with total points=291\n",
      "Getting top 50 frequencies with nterms=3 for lightcurves=3 with total points=151\n",
      "Getting top 50 frequencies with nterms=3 for lightcurves=2 with total points=136\n",
      "Getting top 50 frequencies with nterms=3 for lightcurves=2 with total points=73\n"
     ]
    },
    {
     "name": "stderr",
     "output_type": "stream",
     "text": [
      " 46%|████▌     | 74/162 [06:23<12:02,  8.22s/it]"
     ]
    },
    {
     "name": "stdout",
     "output_type": "stream",
     "text": [
      "--------------------------------------------------\n",
      "\n",
      "Splitting lightcurves for Penelope with max_hours_diff=24 and min_no_points=10\n",
      "Before splitting: 25 lightcurves\n",
      "After splitting: 20 lightcurves\n",
      "Getting top 4 bins with max_time_diff=45 and min_bin_size=1\n",
      "Got 8 bins\n",
      "Getting top 50 frequencies with nterms=3 for lightcurves=10 with total points=1180\n",
      "Getting top 50 frequencies with nterms=3 for lightcurves=1 with total points=154\n",
      "Getting top 50 frequencies with nterms=3 for lightcurves=2 with total points=56\n"
     ]
    },
    {
     "name": "stderr",
     "output_type": "stream",
     "text": [
      " 46%|████▋     | 75/162 [06:30<11:25,  7.88s/it]"
     ]
    },
    {
     "name": "stdout",
     "output_type": "stream",
     "text": [
      "Getting top 50 frequencies with nterms=3 for lightcurves=2 with total points=22\n",
      "--------------------------------------------------\n",
      "\n",
      "Splitting lightcurves for Josephina with max_hours_diff=24 and min_no_points=10\n",
      "Before splitting: 1 lightcurves\n",
      "After splitting: 1 lightcurves\n",
      "Getting top 4 bins with max_time_diff=45 and min_bin_size=1\n",
      "Got 0 bins\n",
      "Splitting lightcurves for Kriemhild with max_hours_diff=24 and min_no_points=10\n",
      "Before splitting: 7 lightcurves\n",
      "After splitting: 20 lightcurves\n",
      "Getting top 4 bins with max_time_diff=45 and min_bin_size=1\n",
      "Got 8 bins\n",
      "Getting top 50 frequencies with nterms=3 for lightcurves=5 with total points=412\n",
      "Getting top 50 frequencies with nterms=3 for lightcurves=3 with total points=326\n",
      "Getting top 50 frequencies with nterms=3 for lightcurves=2 with total points=151\n",
      "Getting top 50 frequencies with nterms=3 for lightcurves=2 with total points=89\n"
     ]
    },
    {
     "name": "stderr",
     "output_type": "stream",
     "text": [
      " 48%|████▊     | 77/162 [06:36<08:22,  5.91s/it]"
     ]
    },
    {
     "name": "stdout",
     "output_type": "stream",
     "text": [
      "--------------------------------------------------\n",
      "\n",
      "Splitting lightcurves for Freia with max_hours_diff=24 and min_no_points=10\n",
      "Before splitting: 38 lightcurves\n",
      "After splitting: 35 lightcurves\n",
      "Getting top 4 bins with max_time_diff=45 and min_bin_size=1\n",
      "Got 9 bins\n",
      "Getting top 50 frequencies with nterms=3 for lightcurves=6 with total points=508\n",
      "Getting top 50 frequencies with nterms=3 for lightcurves=6 with total points=197\n",
      "Getting top 50 frequencies with nterms=3 for lightcurves=3 with total points=182\n",
      "Getting top 50 frequencies with nterms=3 for lightcurves=4 with total points=172\n"
     ]
    },
    {
     "name": "stderr",
     "output_type": "stream",
     "text": [
      " 48%|████▊     | 78/162 [06:48<10:19,  7.37s/it]"
     ]
    },
    {
     "name": "stdout",
     "output_type": "stream",
     "text": [
      "--------------------------------------------------\n",
      "\n",
      "Splitting lightcurves for Laetitia with max_hours_diff=24 and min_no_points=10\n",
      "Before splitting: 68 lightcurves\n",
      "After splitting: 57 lightcurves\n",
      "Getting top 4 bins with max_time_diff=45 and min_bin_size=1\n",
      "Got 33 bins\n",
      "Getting top 50 frequencies with nterms=3 for lightcurves=3 with total points=395\n",
      "Getting top 50 frequencies with nterms=3 for lightcurves=2 with total points=279\n",
      "Getting top 50 frequencies with nterms=3 for lightcurves=2 with total points=240\n",
      "Getting top 50 frequencies with nterms=3 for lightcurves=3 with total points=177\n"
     ]
    },
    {
     "name": "stderr",
     "output_type": "stream",
     "text": [
      " 49%|████▉     | 79/162 [06:52<08:55,  6.46s/it]"
     ]
    },
    {
     "name": "stdout",
     "output_type": "stream",
     "text": [
      "--------------------------------------------------\n",
      "\n",
      "Splitting lightcurves for Lameia with max_hours_diff=24 and min_no_points=10\n",
      "Before splitting: 1 lightcurves\n",
      "After splitting: 0 lightcurves\n",
      "Getting top 4 bins with max_time_diff=45 and min_bin_size=1\n",
      "Got 0 bins\n",
      "Splitting lightcurves for Lilaea with max_hours_diff=24 and min_no_points=10\n",
      "Before splitting: 1 lightcurves\n",
      "After splitting: 3 lightcurves\n",
      "Getting top 4 bins with max_time_diff=45 and min_bin_size=1\n",
      "Got 2 bins\n",
      "Splitting lightcurves for Interamnia with max_hours_diff=24 and min_no_points=10\n",
      "Before splitting: 155 lightcurves\n",
      "After splitting: 153 lightcurves\n",
      "Getting top 4 bins with max_time_diff=45 and min_bin_size=1\n",
      "Got 26 bins\n",
      "Getting top 50 frequencies with nterms=3 for lightcurves=22 with total points=2361\n",
      "Getting top 50 frequencies with nterms=3 for lightcurves=5 with total points=2172\n",
      "Getting top 50 frequencies with nterms=3 for lightcurves=25 with total points=2127\n",
      "Getting top 50 frequencies with nterms=3 for lightcurves=16 with total points=1540\n"
     ]
    },
    {
     "name": "stderr",
     "output_type": "stream",
     "text": [
      " 51%|█████     | 82/162 [07:08<07:50,  5.88s/it]"
     ]
    },
    {
     "name": "stdout",
     "output_type": "stream",
     "text": [
      "--------------------------------------------------\n",
      "\n",
      "Splitting lightcurves for Fortuna with max_hours_diff=24 and min_no_points=10\n",
      "Before splitting: 47 lightcurves\n",
      "After splitting: 36 lightcurves\n",
      "Getting top 4 bins with max_time_diff=45 and min_bin_size=1\n",
      "Got 14 bins\n",
      "Getting top 50 frequencies with nterms=3 for lightcurves=3 with total points=179\n",
      "Getting top 50 frequencies with nterms=3 for lightcurves=2 with total points=167\n",
      "Getting top 50 frequencies with nterms=3 for lightcurves=2 with total points=127\n",
      "Getting top 50 frequencies with nterms=3 for lightcurves=2 with total points=121\n"
     ]
    },
    {
     "name": "stderr",
     "output_type": "stream",
     "text": [
      " 51%|█████     | 83/162 [07:10<06:45,  5.13s/it]"
     ]
    },
    {
     "name": "stdout",
     "output_type": "stream",
     "text": [
      "--------------------------------------------------\n",
      "\n",
      "Splitting lightcurves for Hebe with max_hours_diff=24 and min_no_points=10\n",
      "Before splitting: 129 lightcurves\n",
      "After splitting: 129 lightcurves\n",
      "Getting top 4 bins with max_time_diff=45 and min_bin_size=1\n",
      "Got 21 bins\n",
      "Getting top 50 frequencies with nterms=3 for lightcurves=32 with total points=3406\n",
      "Getting top 50 frequencies with nterms=3 for lightcurves=22 with total points=1649\n",
      "Getting top 50 frequencies with nterms=3 for lightcurves=12 with total points=1043\n",
      "Getting top 50 frequencies with nterms=3 for lightcurves=16 with total points=632\n"
     ]
    },
    {
     "name": "stderr",
     "output_type": "stream",
     "text": [
      " 52%|█████▏    | 84/162 [07:23<08:48,  6.77s/it]"
     ]
    },
    {
     "name": "stdout",
     "output_type": "stream",
     "text": [
      "--------------------------------------------------\n",
      "\n",
      "Splitting lightcurves for Ceres with max_hours_diff=24 and min_no_points=10\n",
      "Before splitting: 42 lightcurves\n",
      "After splitting: 42 lightcurves\n",
      "Getting top 4 bins with max_time_diff=45 and min_bin_size=1\n",
      "Got 10 bins\n",
      "Getting top 50 frequencies with nterms=3 for lightcurves=8 with total points=874\n",
      "Getting top 50 frequencies with nterms=3 for lightcurves=13 with total points=798\n",
      "Getting top 50 frequencies with nterms=3 for lightcurves=6 with total points=451\n",
      "Getting top 50 frequencies with nterms=3 for lightcurves=4 with total points=241\n"
     ]
    },
    {
     "name": "stderr",
     "output_type": "stream",
     "text": [
      " 52%|█████▏    | 85/162 [07:36<10:32,  8.21s/it]"
     ]
    },
    {
     "name": "stdout",
     "output_type": "stream",
     "text": [
      "--------------------------------------------------\n",
      "\n",
      "Splitting lightcurves for Carlova with max_hours_diff=24 and min_no_points=10\n",
      "Before splitting: 9 lightcurves\n",
      "After splitting: 7 lightcurves\n",
      "Getting top 4 bins with max_time_diff=45 and min_bin_size=1\n",
      "Got 3 bins\n",
      "Splitting lightcurves for Alkeste with max_hours_diff=24 and min_no_points=10\n",
      "Before splitting: 1 lightcurves\n",
      "After splitting: 6 lightcurves\n",
      "Getting top 4 bins with max_time_diff=45 and min_bin_size=1\n",
      "Got 3 bins\n",
      "Splitting lightcurves for Lucretia with max_hours_diff=24 and min_no_points=10\n",
      "Before splitting: 9 lightcurves\n",
      "After splitting: 8 lightcurves\n",
      "Getting top 4 bins with max_time_diff=45 and min_bin_size=1\n",
      "Got 3 bins\n",
      "Splitting lightcurves for Iduna with max_hours_diff=24 and min_no_points=10\n",
      "Before splitting: 7 lightcurves\n",
      "After splitting: 8 lightcurves\n",
      "Getting top 4 bins with max_time_diff=45 and min_bin_size=1\n",
      "Got 2 bins\n",
      "Splitting lightcurves for Leda with max_hours_diff=24 and min_no_points=10\n",
      "Before splitting: 18 lightcurves\n",
      "After splitting: 26 lightcurves\n",
      "Getting top 4 bins with max_time_diff=45 and min_bin_size=1\n",
      "Got 7 bins\n",
      "Getting top 50 frequencies with nterms=3 for lightcurves=5 with total points=1205\n",
      "Getting top 50 frequencies with nterms=3 for lightcurves=4 with total points=874\n",
      "Getting top 50 frequencies with nterms=3 for lightcurves=3 with total points=677\n",
      "Getting top 50 frequencies with nterms=3 for lightcurves=2 with total points=644\n"
     ]
    },
    {
     "name": "stderr",
     "output_type": "stream",
     "text": [
      " 56%|█████▌    | 90/162 [07:45<05:00,  4.18s/it]"
     ]
    },
    {
     "name": "stdout",
     "output_type": "stream",
     "text": [
      "--------------------------------------------------\n",
      "\n",
      "Splitting lightcurves for Circe with max_hours_diff=24 and min_no_points=10\n",
      "Before splitting: 16 lightcurves\n",
      "After splitting: 12 lightcurves\n",
      "Getting top 4 bins with max_time_diff=45 and min_bin_size=1\n",
      "Got 4 bins\n",
      "Getting top 50 frequencies with nterms=3 for lightcurves=2 with total points=44\n",
      "Getting top 50 frequencies with nterms=3 for lightcurves=2 with total points=26\n"
     ]
    },
    {
     "name": "stderr",
     "output_type": "stream",
     "text": [
      " 56%|█████▌    | 91/162 [07:45<04:14,  3.58s/it]"
     ]
    },
    {
     "name": "stdout",
     "output_type": "stream",
     "text": [
      "Getting top 50 frequencies with nterms=3 for lightcurves=1 with total points=20\n",
      "Getting top 50 frequencies with nterms=3 for lightcurves=1 with total points=16\n",
      "--------------------------------------------------\n",
      "\n",
      "Splitting lightcurves for Klytia with max_hours_diff=24 and min_no_points=10\n",
      "Before splitting: 8 lightcurves\n",
      "After splitting: 16 lightcurves\n",
      "Getting top 4 bins with max_time_diff=45 and min_bin_size=1\n",
      "Got 7 bins\n",
      "Getting top 50 frequencies with nterms=3 for lightcurves=2 with total points=158\n",
      "Getting top 50 frequencies with nterms=3 for lightcurves=3 with total points=91\n",
      "Getting top 50 frequencies with nterms=3 for lightcurves=2 with total points=88\n",
      "Getting top 50 frequencies with nterms=3 for lightcurves=2 with total points=75\n"
     ]
    },
    {
     "name": "stderr",
     "output_type": "stream",
     "text": [
      " 57%|█████▋    | 92/162 [07:52<05:00,  4.30s/it]"
     ]
    },
    {
     "name": "stdout",
     "output_type": "stream",
     "text": [
      "--------------------------------------------------\n",
      "\n",
      "Splitting lightcurves for Sylvia with max_hours_diff=24 and min_no_points=10\n",
      "Before splitting: 41 lightcurves\n",
      "After splitting: 28 lightcurves\n",
      "Getting top 4 bins with max_time_diff=45 and min_bin_size=1\n",
      "Got 9 bins\n",
      "Getting top 50 frequencies with nterms=3 for lightcurves=5 with total points=115\n",
      "Getting top 50 frequencies with nterms=3 for lightcurves=1 with total points=100\n",
      "Getting top 50 frequencies with nterms=3 for lightcurves=4 with total points=60\n",
      "Getting top 50 frequencies with nterms=3 for lightcurves=2 with total points=39\n"
     ]
    },
    {
     "name": "stderr",
     "output_type": "stream",
     "text": [
      " 57%|█████▋    | 93/162 [07:58<05:12,  4.53s/it]"
     ]
    },
    {
     "name": "stdout",
     "output_type": "stream",
     "text": [
      "--------------------------------------------------\n",
      "\n",
      "Splitting lightcurves for Maja with max_hours_diff=24 and min_no_points=10\n",
      "Before splitting: 7 lightcurves\n",
      "After splitting: 16 lightcurves\n",
      "Getting top 4 bins with max_time_diff=45 and min_bin_size=1\n",
      "Got 8 bins\n",
      "Getting top 50 frequencies with nterms=3 for lightcurves=1 with total points=480\n",
      "Getting top 50 frequencies with nterms=3 for lightcurves=2 with total points=282\n",
      "Getting top 50 frequencies with nterms=3 for lightcurves=4 with total points=194\n",
      "Getting top 50 frequencies with nterms=3 for lightcurves=4 with total points=73\n"
     ]
    },
    {
     "name": "stderr",
     "output_type": "stream",
     "text": [
      " 58%|█████▊    | 94/162 [08:08<06:35,  5.82s/it]"
     ]
    },
    {
     "name": "stdout",
     "output_type": "stream",
     "text": [
      "--------------------------------------------------\n",
      "\n",
      "Splitting lightcurves for Thisbe with max_hours_diff=24 and min_no_points=10\n",
      "Before splitting: 125 lightcurves\n",
      "After splitting: 121 lightcurves\n",
      "Getting top 4 bins with max_time_diff=45 and min_bin_size=1\n",
      "Got 16 bins\n",
      "Getting top 50 frequencies with nterms=3 for lightcurves=40 with total points=6692\n",
      "Getting top 50 frequencies with nterms=3 for lightcurves=19 with total points=1517\n",
      "Getting top 50 frequencies with nterms=3 for lightcurves=12 with total points=1375\n",
      "Getting top 50 frequencies with nterms=3 for lightcurves=8 with total points=875\n"
     ]
    },
    {
     "name": "stderr",
     "output_type": "stream",
     "text": [
      " 59%|█████▊    | 95/162 [08:25<09:26,  8.46s/it]"
     ]
    },
    {
     "name": "stdout",
     "output_type": "stream",
     "text": [
      "--------------------------------------------------\n",
      "\n",
      "Splitting lightcurves for Thalia with max_hours_diff=24 and min_no_points=10\n",
      "Before splitting: 50 lightcurves\n",
      "After splitting: 45 lightcurves\n",
      "Getting top 4 bins with max_time_diff=45 and min_bin_size=1\n",
      "Got 13 bins\n",
      "Getting top 50 frequencies with nterms=3 for lightcurves=8 with total points=1512\n",
      "Getting top 50 frequencies with nterms=3 for lightcurves=3 with total points=249\n",
      "Getting top 50 frequencies with nterms=3 for lightcurves=4 with total points=195\n",
      "Getting top 50 frequencies with nterms=3 for lightcurves=2 with total points=181\n"
     ]
    },
    {
     "name": "stderr",
     "output_type": "stream",
     "text": [
      " 59%|█████▉    | 96/162 [08:33<09:16,  8.44s/it]"
     ]
    },
    {
     "name": "stdout",
     "output_type": "stream",
     "text": [
      "--------------------------------------------------\n",
      "\n",
      "Splitting lightcurves for Claudia with max_hours_diff=24 and min_no_points=10\n",
      "Before splitting: 17 lightcurves\n",
      "After splitting: 13 lightcurves\n",
      "Getting top 4 bins with max_time_diff=45 and min_bin_size=1\n",
      "Got 4 bins\n",
      "Getting top 50 frequencies with nterms=3 for lightcurves=3 with total points=127\n",
      "Getting top 50 frequencies with nterms=3 for lightcurves=4 with total points=85\n",
      "Getting top 50 frequencies with nterms=3 for lightcurves=4 with total points=70\n"
     ]
    },
    {
     "name": "stderr",
     "output_type": "stream",
     "text": [
      " 60%|█████▉    | 97/162 [08:41<09:01,  8.32s/it]"
     ]
    },
    {
     "name": "stdout",
     "output_type": "stream",
     "text": [
      "Getting top 50 frequencies with nterms=3 for lightcurves=1 with total points=15\n",
      "--------------------------------------------------\n",
      "\n",
      "Splitting lightcurves for Johanna with max_hours_diff=24 and min_no_points=10\n",
      "Before splitting: 33 lightcurves\n",
      "After splitting: 33 lightcurves\n",
      "Getting top 4 bins with max_time_diff=45 and min_bin_size=1\n",
      "Got 11 bins\n",
      "Getting top 50 frequencies with nterms=3 for lightcurves=7 with total points=507\n",
      "Getting top 50 frequencies with nterms=3 for lightcurves=3 with total points=243\n",
      "Getting top 50 frequencies with nterms=3 for lightcurves=3 with total points=228\n",
      "Getting top 50 frequencies with nterms=3 for lightcurves=4 with total points=207\n"
     ]
    },
    {
     "name": "stderr",
     "output_type": "stream",
     "text": [
      " 60%|██████    | 98/162 [08:48<08:32,  8.00s/it]"
     ]
    },
    {
     "name": "stdout",
     "output_type": "stream",
     "text": [
      "--------------------------------------------------\n",
      "\n",
      "Splitting lightcurves for Badenia with max_hours_diff=24 and min_no_points=10\n",
      "Before splitting: 2 lightcurves\n",
      "After splitting: 0 lightcurves\n",
      "Getting top 4 bins with max_time_diff=45 and min_bin_size=1\n",
      "Got 0 bins\n",
      "Splitting lightcurves for Flora with max_hours_diff=24 and min_no_points=10\n",
      "Before splitting: 45 lightcurves\n",
      "After splitting: 35 lightcurves\n",
      "Getting top 4 bins with max_time_diff=45 and min_bin_size=1\n",
      "Got 13 bins\n",
      "Getting top 50 frequencies with nterms=3 for lightcurves=6 with total points=1553\n",
      "Getting top 50 frequencies with nterms=3 for lightcurves=6 with total points=367\n",
      "Getting top 50 frequencies with nterms=3 for lightcurves=2 with total points=212\n",
      "Getting top 50 frequencies with nterms=3 for lightcurves=4 with total points=148\n"
     ]
    },
    {
     "name": "stderr",
     "output_type": "stream",
     "text": [
      " 62%|██████▏   | 100/162 [08:58<06:47,  6.57s/it]"
     ]
    },
    {
     "name": "stdout",
     "output_type": "stream",
     "text": [
      "--------------------------------------------------\n",
      "\n",
      "Splitting lightcurves for Dodona with max_hours_diff=24 and min_no_points=10\n",
      "Before splitting: 13 lightcurves\n",
      "After splitting: 13 lightcurves\n",
      "Getting top 4 bins with max_time_diff=45 and min_bin_size=1\n",
      "Got 6 bins\n",
      "Getting top 50 frequencies with nterms=3 for lightcurves=2 with total points=331\n",
      "Getting top 50 frequencies with nterms=3 for lightcurves=3 with total points=315\n",
      "Getting top 50 frequencies with nterms=3 for lightcurves=2 with total points=69\n",
      "Getting top 50 frequencies with nterms=3 for lightcurves=1 with total points=57\n"
     ]
    },
    {
     "name": "stderr",
     "output_type": "stream",
     "text": [
      " 62%|██████▏   | 101/162 [08:59<05:21,  5.28s/it]"
     ]
    },
    {
     "name": "stdout",
     "output_type": "stream",
     "text": [
      "--------------------------------------------------\n",
      "\n",
      "Splitting lightcurves for Siri with max_hours_diff=24 and min_no_points=10\n",
      "Before splitting: 1 lightcurves\n",
      "After splitting: 12 lightcurves\n",
      "Getting top 4 bins with max_time_diff=45 and min_bin_size=1\n",
      "Got 5 bins\n",
      "Getting top 50 frequencies with nterms=3 for lightcurves=3 with total points=40\n",
      "Getting top 50 frequencies with nterms=3 for lightcurves=2 with total points=39\n",
      "Getting top 50 frequencies with nterms=3 for lightcurves=3 with total points=35\n",
      "Getting top 50 frequencies with nterms=3 for lightcurves=2 with total points=22\n"
     ]
    },
    {
     "name": "stderr",
     "output_type": "stream",
     "text": [
      " 63%|██████▎   | 102/162 [09:07<06:04,  6.08s/it]"
     ]
    },
    {
     "name": "stdout",
     "output_type": "stream",
     "text": [
      "--------------------------------------------------\n",
      "\n",
      "Splitting lightcurves for Cybele with max_hours_diff=24 and min_no_points=10\n",
      "Before splitting: 48 lightcurves\n",
      "After splitting: 44 lightcurves\n",
      "Getting top 4 bins with max_time_diff=45 and min_bin_size=1\n",
      "Got 18 bins\n",
      "Getting top 50 frequencies with nterms=3 for lightcurves=6 with total points=1841\n",
      "Getting top 50 frequencies with nterms=3 for lightcurves=7 with total points=1590\n",
      "Getting top 50 frequencies with nterms=3 for lightcurves=4 with total points=943\n"
     ]
    },
    {
     "name": "stderr",
     "output_type": "stream",
     "text": [
      " 64%|██████▎   | 103/162 [09:16<06:42,  6.82s/it]"
     ]
    },
    {
     "name": "stdout",
     "output_type": "stream",
     "text": [
      "Getting top 50 frequencies with nterms=3 for lightcurves=1 with total points=261\n",
      "--------------------------------------------------\n",
      "\n",
      "Splitting lightcurves for Budrosa with max_hours_diff=24 and min_no_points=10\n",
      "Before splitting: 1 lightcurves\n",
      "After splitting: 7 lightcurves\n",
      "Getting top 4 bins with max_time_diff=45 and min_bin_size=1\n",
      "Got 3 bins\n",
      "Splitting lightcurves for Clementina with max_hours_diff=24 and min_no_points=10\n",
      "Before splitting: 1 lightcurves\n",
      "After splitting: 2 lightcurves\n",
      "Getting top 4 bins with max_time_diff=45 and min_bin_size=1\n",
      "Got 1 bins\n",
      "Splitting lightcurves for Kleopatra with max_hours_diff=24 and min_no_points=10\n",
      "Before splitting: 52 lightcurves\n",
      "After splitting: 46 lightcurves\n",
      "Getting top 4 bins with max_time_diff=45 and min_bin_size=1\n",
      "Got 14 bins\n",
      "Getting top 50 frequencies with nterms=3 for lightcurves=2 with total points=522\n",
      "Getting top 50 frequencies with nterms=3 for lightcurves=16 with total points=477\n",
      "Getting top 50 frequencies with nterms=3 for lightcurves=4 with total points=428\n",
      "Getting top 50 frequencies with nterms=3 for lightcurves=2 with total points=223\n"
     ]
    },
    {
     "name": "stderr",
     "output_type": "stream",
     "text": [
      " 65%|██████▌   | 106/162 [09:24<04:14,  4.55s/it]"
     ]
    },
    {
     "name": "stdout",
     "output_type": "stream",
     "text": [
      "--------------------------------------------------\n",
      "\n",
      "Splitting lightcurves for Nenetta with max_hours_diff=24 and min_no_points=10\n",
      "Before splitting: 1 lightcurves\n",
      "After splitting: 13 lightcurves\n",
      "Getting top 4 bins with max_time_diff=45 and min_bin_size=1\n",
      "Got 6 bins\n",
      "Getting top 50 frequencies with nterms=3 for lightcurves=5 with total points=63\n",
      "Getting top 50 frequencies with nterms=3 for lightcurves=2 with total points=23\n",
      "Getting top 50 frequencies with nterms=3 for lightcurves=2 with total points=20\n",
      "Getting top 50 frequencies with nterms=3 for lightcurves=1 with total points=18\n"
     ]
    },
    {
     "name": "stderr",
     "output_type": "stream",
     "text": [
      " 66%|██████▌   | 107/162 [09:32<04:46,  5.22s/it]"
     ]
    },
    {
     "name": "stdout",
     "output_type": "stream",
     "text": [
      "--------------------------------------------------\n",
      "\n",
      "Splitting lightcurves for Minerva with max_hours_diff=24 and min_no_points=10\n",
      "Before splitting: 33 lightcurves\n",
      "After splitting: 30 lightcurves\n",
      "Getting top 4 bins with max_time_diff=45 and min_bin_size=1\n",
      "Got 10 bins\n",
      "Getting top 50 frequencies with nterms=3 for lightcurves=6 with total points=1347\n",
      "Getting top 50 frequencies with nterms=3 for lightcurves=7 with total points=842\n",
      "Getting top 50 frequencies with nterms=3 for lightcurves=2 with total points=348\n",
      "Getting top 50 frequencies with nterms=3 for lightcurves=2 with total points=274\n"
     ]
    },
    {
     "name": "stderr",
     "output_type": "stream",
     "text": [
      " 67%|██████▋   | 108/162 [09:45<06:17,  6.99s/it]"
     ]
    },
    {
     "name": "stdout",
     "output_type": "stream",
     "text": [
      "--------------------------------------------------\n",
      "\n",
      "Splitting lightcurves for Thyra with max_hours_diff=24 and min_no_points=10\n",
      "Before splitting: 32 lightcurves\n",
      "After splitting: 30 lightcurves\n",
      "Getting top 4 bins with max_time_diff=45 and min_bin_size=1\n",
      "Got 9 bins\n",
      "Getting top 50 frequencies with nterms=3 for lightcurves=12 with total points=625\n",
      "Getting top 50 frequencies with nterms=3 for lightcurves=2 with total points=300\n",
      "Getting top 50 frequencies with nterms=3 for lightcurves=2 with total points=291\n",
      "Getting top 50 frequencies with nterms=3 for lightcurves=3 with total points=151\n"
     ]
    },
    {
     "name": "stderr",
     "output_type": "stream",
     "text": [
      " 67%|██████▋   | 109/162 [09:54<06:34,  7.44s/it]"
     ]
    },
    {
     "name": "stdout",
     "output_type": "stream",
     "text": [
      "--------------------------------------------------\n",
      "\n",
      "Splitting lightcurves for Tirza with max_hours_diff=24 and min_no_points=10\n",
      "Before splitting: 1 lightcurves\n",
      "After splitting: 6 lightcurves\n",
      "Getting top 4 bins with max_time_diff=45 and min_bin_size=1\n",
      "Got 4 bins\n",
      "Getting top 50 frequencies with nterms=3 for lightcurves=2 with total points=20\n",
      "Getting top 50 frequencies with nterms=3 for lightcurves=1 with total points=19\n",
      "Getting top 50 frequencies with nterms=3 for lightcurves=1 with total points=14\n"
     ]
    },
    {
     "name": "stderr",
     "output_type": "stream",
     "text": [
      " 68%|██████▊   | 110/162 [09:55<05:02,  5.82s/it]"
     ]
    },
    {
     "name": "stdout",
     "output_type": "stream",
     "text": [
      "Getting top 50 frequencies with nterms=3 for lightcurves=1 with total points=12\n",
      "--------------------------------------------------\n",
      "\n",
      "Splitting lightcurves for Abundantia with max_hours_diff=24 and min_no_points=10\n",
      "Before splitting: 1 lightcurves\n",
      "After splitting: 5 lightcurves\n",
      "Getting top 4 bins with max_time_diff=45 and min_bin_size=1\n",
      "Got 2 bins\n",
      "Splitting lightcurves for Fides with max_hours_diff=24 and min_no_points=10\n",
      "Before splitting: 14 lightcurves\n",
      "After splitting: 13 lightcurves\n",
      "Getting top 4 bins with max_time_diff=45 and min_bin_size=1\n",
      "Got 5 bins\n",
      "Getting top 50 frequencies with nterms=3 for lightcurves=3 with total points=196\n",
      "Getting top 50 frequencies with nterms=3 for lightcurves=4 with total points=158\n",
      "Getting top 50 frequencies with nterms=3 for lightcurves=2 with total points=108\n"
     ]
    },
    {
     "name": "stderr",
     "output_type": "stream",
     "text": [
      " 69%|██████▉   | 112/162 [09:58<03:23,  4.07s/it]"
     ]
    },
    {
     "name": "stdout",
     "output_type": "stream",
     "text": [
      "Getting top 50 frequencies with nterms=3 for lightcurves=1 with total points=74\n",
      "--------------------------------------------------\n",
      "\n",
      "Splitting lightcurves for Phaetusa with max_hours_diff=24 and min_no_points=10\n",
      "Before splitting: 1 lightcurves\n",
      "After splitting: 5 lightcurves\n",
      "Getting top 4 bins with max_time_diff=45 and min_bin_size=1\n",
      "Got 0 bins\n",
      "Splitting lightcurves for Gisela with max_hours_diff=24 and min_no_points=10\n",
      "Before splitting: 2 lightcurves\n",
      "After splitting: 6 lightcurves\n",
      "Getting top 4 bins with max_time_diff=45 and min_bin_size=1\n",
      "Got 2 bins\n",
      "Splitting lightcurves for Siegena with max_hours_diff=24 and min_no_points=10\n",
      "Before splitting: 79 lightcurves\n",
      "After splitting: 74 lightcurves\n",
      "Getting top 4 bins with max_time_diff=45 and min_bin_size=1\n",
      "Got 16 bins\n",
      "Getting top 50 frequencies with nterms=3 for lightcurves=10 with total points=1639\n",
      "Getting top 50 frequencies with nterms=3 for lightcurves=9 with total points=885\n",
      "Getting top 50 frequencies with nterms=3 for lightcurves=7 with total points=404\n",
      "Getting top 50 frequencies with nterms=3 for lightcurves=5 with total points=365\n"
     ]
    },
    {
     "name": "stderr",
     "output_type": "stream",
     "text": [
      " 71%|███████   | 115/162 [10:12<03:25,  4.36s/it]"
     ]
    },
    {
     "name": "stdout",
     "output_type": "stream",
     "text": [
      "--------------------------------------------------\n",
      "\n",
      "Splitting lightcurves for Isabella with max_hours_diff=24 and min_no_points=10\n",
      "Before splitting: 1 lightcurves\n",
      "After splitting: 0 lightcurves\n",
      "Getting top 4 bins with max_time_diff=45 and min_bin_size=1\n",
      "Got 0 bins\n",
      "Splitting lightcurves for Klytaemnestra with max_hours_diff=24 and min_no_points=10\n",
      "Before splitting: 4 lightcurves\n",
      "After splitting: 2 lightcurves\n",
      "Getting top 4 bins with max_time_diff=45 and min_bin_size=1\n",
      "Got 0 bins\n",
      "Splitting lightcurves for Bavaria with max_hours_diff=24 and min_no_points=10\n",
      "Before splitting: 29 lightcurves\n",
      "After splitting: 25 lightcurves\n",
      "Getting top 4 bins with max_time_diff=45 and min_bin_size=1\n",
      "Got 8 bins\n",
      "Getting top 50 frequencies with nterms=3 for lightcurves=5 with total points=619\n",
      "Getting top 50 frequencies with nterms=3 for lightcurves=6 with total points=334\n",
      "Getting top 50 frequencies with nterms=3 for lightcurves=2 with total points=186\n",
      "Getting top 50 frequencies with nterms=3 for lightcurves=3 with total points=160\n"
     ]
    },
    {
     "name": "stderr",
     "output_type": "stream",
     "text": [
      " 73%|███████▎  | 118/162 [10:25<03:08,  4.28s/it]"
     ]
    },
    {
     "name": "stdout",
     "output_type": "stream",
     "text": [
      "--------------------------------------------------\n",
      "\n",
      "Splitting lightcurves for Columbia with max_hours_diff=24 and min_no_points=10\n",
      "Before splitting: 1 lightcurves\n",
      "After splitting: 1 lightcurves\n",
      "Getting top 4 bins with max_time_diff=45 and min_bin_size=1\n",
      "Got 0 bins\n",
      "Splitting lightcurves for Roxane with max_hours_diff=24 and min_no_points=10\n",
      "Before splitting: 16 lightcurves\n",
      "After splitting: 17 lightcurves\n",
      "Getting top 4 bins with max_time_diff=45 and min_bin_size=1\n",
      "Got 5 bins\n",
      "Getting top 50 frequencies with nterms=3 for lightcurves=8 with total points=277\n",
      "Getting top 50 frequencies with nterms=3 for lightcurves=2 with total points=250\n",
      "Getting top 50 frequencies with nterms=3 for lightcurves=1 with total points=12\n"
     ]
    },
    {
     "name": "stderr",
     "output_type": "stream",
     "text": [
      " 74%|███████▍  | 120/162 [10:28<02:27,  3.51s/it]"
     ]
    },
    {
     "name": "stdout",
     "output_type": "stream",
     "text": [
      "Getting top 50 frequencies with nterms=3 for lightcurves=1 with total points=12\n",
      "--------------------------------------------------\n",
      "\n",
      "Splitting lightcurves for Augusta with max_hours_diff=24 and min_no_points=10\n",
      "Before splitting: 7 lightcurves\n",
      "After splitting: 6 lightcurves\n",
      "Getting top 4 bins with max_time_diff=45 and min_bin_size=1\n",
      "Got 1 bins\n",
      "Splitting lightcurves for Emma with max_hours_diff=24 and min_no_points=10\n",
      "Before splitting: 29 lightcurves\n",
      "After splitting: 28 lightcurves\n",
      "Getting top 4 bins with max_time_diff=45 and min_bin_size=1\n",
      "Got 9 bins\n",
      "Getting top 50 frequencies with nterms=3 for lightcurves=5 with total points=849\n",
      "Getting top 50 frequencies with nterms=3 for lightcurves=3 with total points=210\n",
      "Getting top 50 frequencies with nterms=3 for lightcurves=3 with total points=152\n"
     ]
    },
    {
     "name": "stderr",
     "output_type": "stream",
     "text": [
      " 75%|███████▌  | 122/162 [10:35<02:21,  3.54s/it]"
     ]
    },
    {
     "name": "stdout",
     "output_type": "stream",
     "text": [
      "Getting top 50 frequencies with nterms=3 for lightcurves=3 with total points=113\n",
      "--------------------------------------------------\n",
      "\n",
      "Splitting lightcurves for Chicago with max_hours_diff=24 and min_no_points=10\n",
      "Before splitting: 2 lightcurves\n",
      "After splitting: 2 lightcurves\n",
      "Getting top 4 bins with max_time_diff=45 and min_bin_size=1\n",
      "Got 0 bins\n",
      "Splitting lightcurves for Vesta with max_hours_diff=24 and min_no_points=10\n",
      "Before splitting: 158 lightcurves\n",
      "After splitting: 151 lightcurves\n",
      "Getting top 4 bins with max_time_diff=45 and min_bin_size=1\n",
      "Got 37 bins\n",
      "Getting top 50 frequencies with nterms=3 for lightcurves=11 with total points=1929\n",
      "Getting top 50 frequencies with nterms=3 for lightcurves=24 with total points=1443\n",
      "Getting top 50 frequencies with nterms=3 for lightcurves=6 with total points=765\n",
      "Getting top 50 frequencies with nterms=3 for lightcurves=9 with total points=648\n"
     ]
    },
    {
     "name": "stderr",
     "output_type": "stream",
     "text": [
      " 77%|███████▋  | 124/162 [10:50<02:57,  4.68s/it]"
     ]
    },
    {
     "name": "stdout",
     "output_type": "stream",
     "text": [
      "--------------------------------------------------\n",
      "\n",
      "Splitting lightcurves for Scylla with max_hours_diff=24 and min_no_points=10\n",
      "Before splitting: 1 lightcurves\n",
      "After splitting: 6 lightcurves\n",
      "Getting top 4 bins with max_time_diff=45 and min_bin_size=1\n",
      "Got 1 bins\n",
      "Splitting lightcurves for Themis with max_hours_diff=24 and min_no_points=10\n",
      "Before splitting: 102 lightcurves\n",
      "After splitting: 91 lightcurves\n",
      "Getting top 4 bins with max_time_diff=45 and min_bin_size=1\n",
      "Got 19 bins\n",
      "Getting top 50 frequencies with nterms=3 for lightcurves=3 with total points=2123\n",
      "Getting top 50 frequencies with nterms=3 for lightcurves=10 with total points=1449\n",
      "Getting top 50 frequencies with nterms=3 for lightcurves=4 with total points=1384\n",
      "Getting top 50 frequencies with nterms=3 for lightcurves=4 with total points=1240\n"
     ]
    },
    {
     "name": "stderr",
     "output_type": "stream",
     "text": [
      " 78%|███████▊  | 126/162 [11:02<02:59,  4.98s/it]"
     ]
    },
    {
     "name": "stdout",
     "output_type": "stream",
     "text": [
      "--------------------------------------------------\n",
      "\n",
      "Splitting lightcurves for Aethra with max_hours_diff=24 and min_no_points=10\n",
      "Before splitting: 5 lightcurves\n",
      "After splitting: 3 lightcurves\n",
      "Getting top 4 bins with max_time_diff=45 and min_bin_size=1\n",
      "Got 0 bins\n",
      "Splitting lightcurves for Metis with max_hours_diff=24 and min_no_points=10\n",
      "Before splitting: 35 lightcurves\n",
      "After splitting: 30 lightcurves\n",
      "Getting top 4 bins with max_time_diff=45 and min_bin_size=1\n",
      "Got 16 bins\n",
      "Getting top 50 frequencies with nterms=3 for lightcurves=4 with total points=201\n",
      "Getting top 50 frequencies with nterms=3 for lightcurves=3 with total points=187\n",
      "Getting top 50 frequencies with nterms=3 for lightcurves=3 with total points=166\n"
     ]
    },
    {
     "name": "stderr",
     "output_type": "stream",
     "text": [
      " 79%|███████▉  | 128/162 [11:08<02:31,  4.47s/it]"
     ]
    },
    {
     "name": "stdout",
     "output_type": "stream",
     "text": [
      "Getting top 50 frequencies with nterms=3 for lightcurves=1 with total points=88\n",
      "--------------------------------------------------\n",
      "\n",
      "Splitting lightcurves for Alice with max_hours_diff=24 and min_no_points=10\n",
      "Before splitting: 9 lightcurves\n",
      "After splitting: 5 lightcurves\n",
      "Getting top 4 bins with max_time_diff=45 and min_bin_size=1\n",
      "Got 3 bins\n",
      "Splitting lightcurves for Palma with max_hours_diff=24 and min_no_points=10\n",
      "Before splitting: 28 lightcurves\n",
      "After splitting: 21 lightcurves\n",
      "Getting top 4 bins with max_time_diff=45 and min_bin_size=1\n",
      "Got 9 bins\n",
      "Getting top 50 frequencies with nterms=3 for lightcurves=6 with total points=173\n",
      "Getting top 50 frequencies with nterms=3 for lightcurves=6 with total points=91\n"
     ]
    },
    {
     "name": "stderr",
     "output_type": "stream",
     "text": [
      " 80%|████████  | 130/162 [11:15<02:13,  4.17s/it]"
     ]
    },
    {
     "name": "stdout",
     "output_type": "stream",
     "text": [
      "Getting top 50 frequencies with nterms=3 for lightcurves=2 with total points=44\n",
      "Getting top 50 frequencies with nterms=3 for lightcurves=1 with total points=43\n",
      "--------------------------------------------------\n",
      "\n",
      "Splitting lightcurves for Massalia with max_hours_diff=24 and min_no_points=10\n",
      "Before splitting: 17 lightcurves\n",
      "After splitting: 17 lightcurves\n",
      "Getting top 4 bins with max_time_diff=45 and min_bin_size=1\n",
      "Got 7 bins\n",
      "Getting top 50 frequencies with nterms=3 for lightcurves=5 with total points=213\n",
      "Getting top 50 frequencies with nterms=3 for lightcurves=2 with total points=210\n",
      "Getting top 50 frequencies with nterms=3 for lightcurves=3 with total points=206\n"
     ]
    },
    {
     "name": "stderr",
     "output_type": "stream",
     "text": [
      " 81%|████████  | 131/162 [11:24<02:36,  5.05s/it]"
     ]
    },
    {
     "name": "stdout",
     "output_type": "stream",
     "text": [
      "Getting top 50 frequencies with nterms=3 for lightcurves=1 with total points=70\n",
      "--------------------------------------------------\n",
      "\n",
      "Splitting lightcurves for Hypatia with max_hours_diff=24 and min_no_points=10\n",
      "Before splitting: 2 lightcurves\n",
      "After splitting: 0 lightcurves\n",
      "Getting top 4 bins with max_time_diff=45 and min_bin_size=1\n",
      "Got 0 bins\n",
      "Splitting lightcurves for Ludovica with max_hours_diff=24 and min_no_points=10\n",
      "Before splitting: 1 lightcurves\n",
      "After splitting: 4 lightcurves\n",
      "Getting top 4 bins with max_time_diff=45 and min_bin_size=1\n",
      "Got 1 bins\n",
      "Splitting lightcurves for Tyche with max_hours_diff=24 and min_no_points=10\n",
      "Before splitting: 11 lightcurves\n",
      "After splitting: 8 lightcurves\n",
      "Getting top 4 bins with max_time_diff=45 and min_bin_size=1\n",
      "Got 1 bins\n",
      "Splitting lightcurves for Caecilia with max_hours_diff=24 and min_no_points=10\n",
      "Before splitting: 8 lightcurves\n",
      "After splitting: 13 lightcurves\n",
      "Getting top 4 bins with max_time_diff=45 and min_bin_size=1\n",
      "Got 4 bins\n",
      "Getting top 50 frequencies with nterms=3 for lightcurves=2 with total points=241\n",
      "Getting top 50 frequencies with nterms=3 for lightcurves=3 with total points=147\n",
      "Getting top 50 frequencies with nterms=3 for lightcurves=1 with total points=130\n",
      "Getting top 50 frequencies with nterms=3 for lightcurves=3 with total points=119\n"
     ]
    },
    {
     "name": "stderr",
     "output_type": "stream",
     "text": [
      " 83%|████████▎ | 135/162 [11:31<01:31,  3.39s/it]"
     ]
    },
    {
     "name": "stdout",
     "output_type": "stream",
     "text": [
      "--------------------------------------------------\n",
      "\n",
      "Splitting lightcurves for Una with max_hours_diff=24 and min_no_points=10\n",
      "Before splitting: 24 lightcurves\n",
      "After splitting: 20 lightcurves\n",
      "Getting top 4 bins with max_time_diff=45 and min_bin_size=1\n",
      "Got 6 bins\n",
      "Getting top 50 frequencies with nterms=3 for lightcurves=3 with total points=144\n",
      "Getting top 50 frequencies with nterms=3 for lightcurves=4 with total points=123\n",
      "Getting top 50 frequencies with nterms=3 for lightcurves=3 with total points=118\n",
      "Getting top 50 frequencies with nterms=3 for lightcurves=2 with total points=77\n"
     ]
    },
    {
     "name": "stderr",
     "output_type": "stream",
     "text": [
      " 84%|████████▍ | 136/162 [11:36<01:35,  3.66s/it]"
     ]
    },
    {
     "name": "stdout",
     "output_type": "stream",
     "text": [
      "--------------------------------------------------\n",
      "\n",
      "Splitting lightcurves for Adelheid with max_hours_diff=24 and min_no_points=10\n",
      "Before splitting: 31 lightcurves\n",
      "After splitting: 31 lightcurves\n",
      "Getting top 4 bins with max_time_diff=45 and min_bin_size=1\n",
      "Got 7 bins\n",
      "Getting top 50 frequencies with nterms=3 for lightcurves=8 with total points=377\n",
      "Getting top 50 frequencies with nterms=3 for lightcurves=5 with total points=167\n",
      "Getting top 50 frequencies with nterms=3 for lightcurves=4 with total points=130\n",
      "Getting top 50 frequencies with nterms=3 for lightcurves=4 with total points=126\n"
     ]
    },
    {
     "name": "stderr",
     "output_type": "stream",
     "text": [
      " 85%|████████▍ | 137/162 [11:46<02:00,  4.81s/it]"
     ]
    },
    {
     "name": "stdout",
     "output_type": "stream",
     "text": [
      "--------------------------------------------------\n",
      "\n",
      "Splitting lightcurves for Eurynome with max_hours_diff=24 and min_no_points=10\n",
      "Before splitting: 35 lightcurves\n",
      "After splitting: 27 lightcurves\n",
      "Getting top 4 bins with max_time_diff=45 and min_bin_size=1\n",
      "Got 7 bins\n",
      "Getting top 50 frequencies with nterms=3 for lightcurves=9 with total points=1117\n",
      "Getting top 50 frequencies with nterms=3 for lightcurves=2 with total points=204\n",
      "Getting top 50 frequencies with nterms=3 for lightcurves=3 with total points=195\n"
     ]
    },
    {
     "name": "stderr",
     "output_type": "stream",
     "text": [
      " 85%|████████▌ | 138/162 [11:52<01:58,  4.92s/it]"
     ]
    },
    {
     "name": "stdout",
     "output_type": "stream",
     "text": [
      "Getting top 50 frequencies with nterms=3 for lightcurves=1 with total points=174\n",
      "--------------------------------------------------\n",
      "\n",
      "Splitting lightcurves for Holmia with max_hours_diff=24 and min_no_points=10\n",
      "Before splitting: 13 lightcurves\n",
      "After splitting: 13 lightcurves\n",
      "Getting top 4 bins with max_time_diff=45 and min_bin_size=1\n",
      "Got 5 bins\n",
      "Getting top 50 frequencies with nterms=3 for lightcurves=3 with total points=110\n",
      "Getting top 50 frequencies with nterms=3 for lightcurves=2 with total points=107\n",
      "Getting top 50 frequencies with nterms=3 for lightcurves=2 with total points=92\n",
      "Getting top 50 frequencies with nterms=3 for lightcurves=3 with total points=61\n"
     ]
    },
    {
     "name": "stderr",
     "output_type": "stream",
     "text": [
      " 86%|████████▌ | 139/162 [11:53<01:33,  4.07s/it]"
     ]
    },
    {
     "name": "stdout",
     "output_type": "stream",
     "text": [
      "--------------------------------------------------\n",
      "\n",
      "Splitting lightcurves for Lydia with max_hours_diff=24 and min_no_points=10\n",
      "Before splitting: 25 lightcurves\n",
      "After splitting: 25 lightcurves\n",
      "Getting top 4 bins with max_time_diff=45 and min_bin_size=1\n",
      "Got 5 bins\n",
      "Getting top 50 frequencies with nterms=3 for lightcurves=7 with total points=339\n"
     ]
    },
    {
     "name": "stderr",
     "output_type": "stream",
     "text": [
      " 86%|████████▋ | 140/162 [11:57<01:31,  4.17s/it]"
     ]
    },
    {
     "name": "stdout",
     "output_type": "stream",
     "text": [
      "Getting top 50 frequencies with nterms=3 for lightcurves=2 with total points=137\n",
      "Getting top 50 frequencies with nterms=3 for lightcurves=1 with total points=108\n",
      "Getting top 50 frequencies with nterms=3 for lightcurves=1 with total points=60\n",
      "--------------------------------------------------\n",
      "\n",
      "Splitting lightcurves for Ophelia with max_hours_diff=24 and min_no_points=10\n",
      "Before splitting: 2 lightcurves\n",
      "After splitting: 20 lightcurves\n",
      "Getting top 4 bins with max_time_diff=45 and min_bin_size=1\n",
      "Got 6 bins\n",
      "Getting top 50 frequencies with nterms=3 for lightcurves=7 with total points=822\n",
      "Getting top 50 frequencies with nterms=3 for lightcurves=2 with total points=542\n",
      "Getting top 50 frequencies with nterms=3 for lightcurves=5 with total points=435\n"
     ]
    },
    {
     "name": "stderr",
     "output_type": "stream",
     "text": [
      " 87%|████████▋ | 141/162 [12:07<01:54,  5.47s/it]"
     ]
    },
    {
     "name": "stdout",
     "output_type": "stream",
     "text": [
      "Getting top 50 frequencies with nterms=3 for lightcurves=1 with total points=53\n",
      "--------------------------------------------------\n",
      "\n",
      "Splitting lightcurves for Geometria with max_hours_diff=24 and min_no_points=10\n",
      "Before splitting: 11 lightcurves\n",
      "After splitting: 17 lightcurves\n",
      "Getting top 4 bins with max_time_diff=45 and min_bin_size=1\n",
      "Got 10 bins\n",
      "Getting top 50 frequencies with nterms=3 for lightcurves=1 with total points=294\n",
      "Getting top 50 frequencies with nterms=3 for lightcurves=4 with total points=104\n",
      "Getting top 50 frequencies with nterms=3 for lightcurves=1 with total points=88\n",
      "Getting top 50 frequencies with nterms=3 for lightcurves=2 with total points=74\n"
     ]
    },
    {
     "name": "stderr",
     "output_type": "stream",
     "text": [
      " 88%|████████▊ | 142/162 [12:11<01:45,  5.25s/it]"
     ]
    },
    {
     "name": "stdout",
     "output_type": "stream",
     "text": [
      "--------------------------------------------------\n",
      "\n",
      "Splitting lightcurves for Amicitia with max_hours_diff=24 and min_no_points=10\n",
      "Before splitting: 3 lightcurves\n",
      "After splitting: 2 lightcurves\n",
      "Getting top 4 bins with max_time_diff=45 and min_bin_size=1\n",
      "Got 0 bins\n",
      "Splitting lightcurves for Erato with max_hours_diff=24 and min_no_points=10\n",
      "Before splitting: 2 lightcurves\n",
      "After splitting: 0 lightcurves\n",
      "Getting top 4 bins with max_time_diff=45 and min_bin_size=1\n",
      "Got 0 bins\n",
      "Splitting lightcurves for Phaedra with max_hours_diff=24 and min_no_points=10\n",
      "Before splitting: 36 lightcurves\n",
      "After splitting: 33 lightcurves\n",
      "Getting top 4 bins with max_time_diff=45 and min_bin_size=1\n",
      "Got 10 bins\n",
      "Getting top 50 frequencies with nterms=3 for lightcurves=6 with total points=313\n",
      "Getting top 50 frequencies with nterms=3 for lightcurves=5 with total points=167\n",
      "Getting top 50 frequencies with nterms=3 for lightcurves=4 with total points=165\n",
      "Getting top 50 frequencies with nterms=3 for lightcurves=3 with total points=119\n"
     ]
    },
    {
     "name": "stderr",
     "output_type": "stream",
     "text": [
      " 90%|████████▉ | 145/162 [12:19<01:06,  3.90s/it]"
     ]
    },
    {
     "name": "stdout",
     "output_type": "stream",
     "text": [
      "--------------------------------------------------\n",
      "\n",
      "Splitting lightcurves for Alma with max_hours_diff=24 and min_no_points=10\n",
      "Before splitting: 1 lightcurves\n",
      "After splitting: 4 lightcurves\n",
      "Getting top 4 bins with max_time_diff=45 and min_bin_size=1\n",
      "Got 2 bins\n",
      "Splitting lightcurves for Gordonia with max_hours_diff=24 and min_no_points=10\n",
      "Before splitting: 2 lightcurves\n",
      "After splitting: 2 lightcurves\n",
      "Getting top 4 bins with max_time_diff=45 and min_bin_size=1\n",
      "Got 0 bins\n",
      "Splitting lightcurves for Gudrun with max_hours_diff=24 and min_no_points=10\n",
      "Before splitting: 2 lightcurves\n",
      "After splitting: 15 lightcurves\n",
      "Getting top 4 bins with max_time_diff=45 and min_bin_size=1\n",
      "Got 7 bins\n",
      "Getting top 50 frequencies with nterms=3 for lightcurves=3 with total points=135\n",
      "Getting top 50 frequencies with nterms=3 for lightcurves=1 with total points=35\n",
      "Getting top 50 frequencies with nterms=3 for lightcurves=2 with total points=22\n",
      "Getting top 50 frequencies with nterms=3 for lightcurves=2 with total points=20\n"
     ]
    },
    {
     "name": "stderr",
     "output_type": "stream",
     "text": [
      " 91%|█████████▏| 148/162 [12:25<00:42,  3.01s/it]"
     ]
    },
    {
     "name": "stdout",
     "output_type": "stream",
     "text": [
      "--------------------------------------------------\n",
      "\n",
      "Splitting lightcurves for Eros with max_hours_diff=24 and min_no_points=10\n",
      "Before splitting: 112 lightcurves\n",
      "After splitting: 107 lightcurves\n",
      "Getting top 4 bins with max_time_diff=45 and min_bin_size=1\n",
      "Got 17 bins\n",
      "Getting top 50 frequencies with nterms=3 for lightcurves=20 with total points=1994\n",
      "Getting top 50 frequencies with nterms=3 for lightcurves=17 with total points=1717\n",
      "Getting top 50 frequencies with nterms=3 for lightcurves=8 with total points=805\n",
      "Getting top 50 frequencies with nterms=3 for lightcurves=8 with total points=382\n"
     ]
    },
    {
     "name": "stderr",
     "output_type": "stream",
     "text": [
      " 92%|█████████▏| 149/162 [12:39<01:04,  4.96s/it]"
     ]
    },
    {
     "name": "stdout",
     "output_type": "stream",
     "text": [
      "--------------------------------------------------\n",
      "\n",
      "Splitting lightcurves for Liberatrix with max_hours_diff=24 and min_no_points=10\n",
      "Before splitting: 34 lightcurves\n",
      "After splitting: 30 lightcurves\n",
      "Getting top 4 bins with max_time_diff=45 and min_bin_size=1\n",
      "Got 11 bins\n",
      "Getting top 50 frequencies with nterms=3 for lightcurves=2 with total points=246\n",
      "Getting top 50 frequencies with nterms=3 for lightcurves=4 with total points=198\n",
      "Getting top 50 frequencies with nterms=3 for lightcurves=8 with total points=171\n",
      "Getting top 50 frequencies with nterms=3 for lightcurves=3 with total points=104\n"
     ]
    },
    {
     "name": "stderr",
     "output_type": "stream",
     "text": [
      " 93%|█████████▎| 150/162 [12:52<01:17,  6.42s/it]"
     ]
    },
    {
     "name": "stdout",
     "output_type": "stream",
     "text": [
      "--------------------------------------------------\n",
      "\n",
      "Splitting lightcurves for Euphrosyne with max_hours_diff=24 and min_no_points=10\n",
      "Before splitting: 19 lightcurves\n",
      "After splitting: 33 lightcurves\n",
      "Getting top 4 bins with max_time_diff=45 and min_bin_size=1\n",
      "Got 12 bins\n",
      "Getting top 50 frequencies with nterms=3 for lightcurves=3 with total points=1948\n",
      "Getting top 50 frequencies with nterms=3 for lightcurves=4 with total points=1902\n",
      "Getting top 50 frequencies with nterms=3 for lightcurves=4 with total points=1849\n",
      "Getting top 50 frequencies with nterms=3 for lightcurves=4 with total points=1789\n"
     ]
    },
    {
     "name": "stderr",
     "output_type": "stream",
     "text": [
      " 93%|█████████▎| 151/162 [13:03<01:21,  7.42s/it]"
     ]
    },
    {
     "name": "stdout",
     "output_type": "stream",
     "text": [
      "--------------------------------------------------\n",
      "\n",
      "Splitting lightcurves for Brasilia with max_hours_diff=24 and min_no_points=10\n",
      "Before splitting: 1 lightcurves\n",
      "After splitting: 3 lightcurves\n",
      "Getting top 4 bins with max_time_diff=45 and min_bin_size=1\n",
      "Got 1 bins\n",
      "Splitting lightcurves for Rhodope with max_hours_diff=24 and min_no_points=10\n",
      "Before splitting: 3 lightcurves\n",
      "After splitting: 6 lightcurves\n",
      "Getting top 4 bins with max_time_diff=45 and min_bin_size=1\n",
      "Got 1 bins\n",
      "Splitting lightcurves for Io with max_hours_diff=24 and min_no_points=10\n",
      "Before splitting: 29 lightcurves\n",
      "After splitting: 28 lightcurves\n",
      "Getting top 4 bins with max_time_diff=45 and min_bin_size=1\n",
      "Got 6 bins\n",
      "Getting top 50 frequencies with nterms=3 for lightcurves=7 with total points=468\n",
      "Getting top 50 frequencies with nterms=3 for lightcurves=9 with total points=248\n",
      "Getting top 50 frequencies with nterms=3 for lightcurves=4 with total points=117\n",
      "Getting top 50 frequencies with nterms=3 for lightcurves=2 with total points=114\n"
     ]
    },
    {
     "name": "stderr",
     "output_type": "stream",
     "text": [
      " 95%|█████████▌| 154/162 [13:17<00:48,  6.06s/it]"
     ]
    },
    {
     "name": "stdout",
     "output_type": "stream",
     "text": [
      "--------------------------------------------------\n",
      "\n",
      "Splitting lightcurves for Istria with max_hours_diff=24 and min_no_points=10\n",
      "Before splitting: 7 lightcurves\n",
      "After splitting: 6 lightcurves\n",
      "Getting top 4 bins with max_time_diff=45 and min_bin_size=1\n",
      "Got 1 bins\n",
      "Splitting lightcurves for Hertha with max_hours_diff=24 and min_no_points=10\n",
      "Before splitting: 38 lightcurves\n",
      "After splitting: 31 lightcurves\n",
      "Getting top 4 bins with max_time_diff=45 and min_bin_size=1\n",
      "Got 8 bins\n",
      "Getting top 50 frequencies with nterms=3 for lightcurves=5 with total points=301\n",
      "Getting top 50 frequencies with nterms=3 for lightcurves=3 with total points=187\n",
      "Getting top 50 frequencies with nterms=3 for lightcurves=5 with total points=179\n",
      "Getting top 50 frequencies with nterms=3 for lightcurves=6 with total points=171\n"
     ]
    },
    {
     "name": "stderr",
     "output_type": "stream",
     "text": [
      " 96%|█████████▋| 156/162 [13:27<00:34,  5.83s/it]"
     ]
    },
    {
     "name": "stdout",
     "output_type": "stream",
     "text": [
      "--------------------------------------------------\n",
      "\n",
      "Splitting lightcurves for Doris with max_hours_diff=24 and min_no_points=10\n",
      "Before splitting: 7 lightcurves\n",
      "After splitting: 19 lightcurves\n",
      "Getting top 4 bins with max_time_diff=45 and min_bin_size=1\n",
      "Got 5 bins\n",
      "Getting top 50 frequencies with nterms=3 for lightcurves=4 with total points=659\n",
      "Getting top 50 frequencies with nterms=3 for lightcurves=3 with total points=349\n",
      "Getting top 50 frequencies with nterms=3 for lightcurves=3 with total points=292\n",
      "Getting top 50 frequencies with nterms=3 for lightcurves=3 with total points=129\n"
     ]
    },
    {
     "name": "stderr",
     "output_type": "stream",
     "text": [
      " 97%|█████████▋| 157/162 [13:36<00:31,  6.29s/it]"
     ]
    },
    {
     "name": "stdout",
     "output_type": "stream",
     "text": [
      "--------------------------------------------------\n",
      "\n",
      "Splitting lightcurves for Huberta with max_hours_diff=24 and min_no_points=10\n",
      "Before splitting: 1 lightcurves\n",
      "After splitting: 4 lightcurves\n",
      "Getting top 4 bins with max_time_diff=45 and min_bin_size=1\n",
      "Got 1 bins\n",
      "Splitting lightcurves for Menippe with max_hours_diff=24 and min_no_points=10\n",
      "Before splitting: 5 lightcurves\n",
      "After splitting: 4 lightcurves\n",
      "Getting top 4 bins with max_time_diff=45 and min_bin_size=1\n",
      "Got 0 bins\n",
      "Splitting lightcurves for Ino with max_hours_diff=24 and min_no_points=10\n",
      "Before splitting: 60 lightcurves\n",
      "After splitting: 60 lightcurves\n",
      "Getting top 4 bins with max_time_diff=45 and min_bin_size=1\n",
      "Got 10 bins\n",
      "Getting top 50 frequencies with nterms=3 for lightcurves=17 with total points=1382\n",
      "Getting top 50 frequencies with nterms=3 for lightcurves=12 with total points=1322\n",
      "Getting top 50 frequencies with nterms=3 for lightcurves=11 with total points=1008\n",
      "Getting top 50 frequencies with nterms=3 for lightcurves=3 with total points=394\n"
     ]
    },
    {
     "name": "stderr",
     "output_type": "stream",
     "text": [
      " 99%|█████████▉| 160/162 [13:52<00:11,  5.91s/it]"
     ]
    },
    {
     "name": "stdout",
     "output_type": "stream",
     "text": [
      "--------------------------------------------------\n",
      "\n",
      "Splitting lightcurves for Roberta with max_hours_diff=24 and min_no_points=10\n",
      "Before splitting: 51 lightcurves\n",
      "After splitting: 38 lightcurves\n",
      "Getting top 4 bins with max_time_diff=45 and min_bin_size=1\n",
      "Got 11 bins\n",
      "Getting top 50 frequencies with nterms=3 for lightcurves=9 with total points=460\n",
      "Getting top 50 frequencies with nterms=3 for lightcurves=6 with total points=435\n",
      "Getting top 50 frequencies with nterms=3 for lightcurves=5 with total points=340\n",
      "Getting top 50 frequencies with nterms=3 for lightcurves=3 with total points=177\n"
     ]
    },
    {
     "name": "stderr",
     "output_type": "stream",
     "text": [
      " 99%|█████████▉| 161/162 [14:05<00:07,  7.24s/it]"
     ]
    },
    {
     "name": "stdout",
     "output_type": "stream",
     "text": [
      "--------------------------------------------------\n",
      "\n",
      "Splitting lightcurves for Bianca with max_hours_diff=24 and min_no_points=10\n",
      "Before splitting: 49 lightcurves\n",
      "After splitting: 45 lightcurves\n",
      "Getting top 4 bins with max_time_diff=45 and min_bin_size=1\n",
      "Got 10 bins\n",
      "Getting top 50 frequencies with nterms=3 for lightcurves=8 with total points=430\n",
      "Getting top 50 frequencies with nterms=3 for lightcurves=6 with total points=363\n",
      "Getting top 50 frequencies with nterms=3 for lightcurves=6 with total points=360\n",
      "Getting top 50 frequencies with nterms=3 for lightcurves=5 with total points=162\n"
     ]
    },
    {
     "name": "stderr",
     "output_type": "stream",
     "text": [
      "100%|██████████| 162/162 [14:17<00:00,  5.29s/it]"
     ]
    },
    {
     "name": "stdout",
     "output_type": "stream",
     "text": [
      "--------------------------------------------------\n",
      "\n",
      "Failed asteroids: 62 (38.27%)\n",
      "Eleonora: 16.92s\n",
      "Thisbe: 16.64s\n",
      "Ino: 16.28s\n",
      "Interamnia: 15.96s\n",
      "Eukrate: 15.85s\n",
      "Psyche: 15.64s\n",
      "Vesta: 14.97s\n",
      "Eros: 14.37s\n",
      "Nemausa: 14.36s\n",
      "Siegena: 14.07s\n"
     ]
    },
    {
     "name": "stderr",
     "output_type": "stream",
     "text": [
      "\n"
     ]
    }
   ],
   "source": [
    "failed_cnt = 0\n",
    "\n",
    "train_X = []\n",
    "train_y = []\n",
    "train_processing_times = {}\n",
    "for asteroid in tqdm(train_asteroids):\n",
    "    start = perf_counter()\n",
    "    freq_features = get_freq_features(asteroid, config, debug=True)\n",
    "    train_processing_times[asteroid.name] = perf_counter() - start\n",
    "\n",
    "    if freq_features is None:\n",
    "        failed_cnt += 1\n",
    "        continue\n",
    "\n",
    "    train_X.append(freq_features)\n",
    "    train_y.append(asteroid.period)\n",
    "\n",
    "train_X = np.vstack(train_X)\n",
    "train_y = np.array(train_y)\n",
    "\n",
    "print(f\"Failed asteroids: {failed_cnt} ({failed_cnt / len(train_asteroids) * 100:.2f}%)\")\n",
    "\n",
    "train_processing_times = sorted(train_processing_times.items(), key=lambda x: x[1], reverse=True)\n",
    "for asteroid_name, time in train_processing_times[:10]:\n",
    "    print(f\"{asteroid_name}: {time:.2f}s\")"
   ]
  },
  {
   "cell_type": "code",
   "execution_count": 9,
   "metadata": {},
   "outputs": [
    {
     "name": "stderr",
     "output_type": "stream",
     "text": [
      "  0%|          | 0/41 [00:00<?, ?it/s]"
     ]
    },
    {
     "name": "stdout",
     "output_type": "stream",
     "text": [
      "Splitting lightcurves for Philomela with max_hours_diff=24 and min_no_points=10\n",
      "Before splitting: 28 lightcurves\n",
      "After splitting: 23 lightcurves\n",
      "Getting top 4 bins with max_time_diff=45 and min_bin_size=1\n",
      "Got 7 bins\n",
      "Getting top 50 frequencies with nterms=3 for lightcurves=3 with total points=387\n",
      "Getting top 50 frequencies with nterms=3 for lightcurves=3 with total points=186\n",
      "Getting top 50 frequencies with nterms=3 for lightcurves=3 with total points=166\n",
      "Getting top 50 frequencies with nterms=3 for lightcurves=4 with total points=129\n"
     ]
    },
    {
     "name": "stderr",
     "output_type": "stream",
     "text": [
      "  2%|▏         | 1/41 [00:01<01:18,  1.96s/it]"
     ]
    },
    {
     "name": "stdout",
     "output_type": "stream",
     "text": [
      "--------------------------------------------------\n",
      "\n",
      "Splitting lightcurves for Atalante with max_hours_diff=24 and min_no_points=10\n",
      "Before splitting: 6 lightcurves\n",
      "After splitting: 18 lightcurves\n",
      "Getting top 4 bins with max_time_diff=45 and min_bin_size=1\n",
      "Got 6 bins\n",
      "Getting top 50 frequencies with nterms=3 for lightcurves=5 with total points=1540\n",
      "Getting top 50 frequencies with nterms=3 for lightcurves=3 with total points=622\n",
      "Getting top 50 frequencies with nterms=3 for lightcurves=2 with total points=153\n",
      "Getting top 50 frequencies with nterms=3 for lightcurves=3 with total points=131\n"
     ]
    },
    {
     "name": "stderr",
     "output_type": "stream",
     "text": [
      "  5%|▍         | 2/41 [00:09<03:31,  5.42s/it]"
     ]
    },
    {
     "name": "stdout",
     "output_type": "stream",
     "text": [
      "--------------------------------------------------\n",
      "\n",
      "Splitting lightcurves for Bohemia with max_hours_diff=24 and min_no_points=10\n",
      "Before splitting: 8 lightcurves\n",
      "After splitting: 21 lightcurves\n",
      "Getting top 4 bins with max_time_diff=45 and min_bin_size=1\n",
      "Got 8 bins\n",
      "Getting top 50 frequencies with nterms=3 for lightcurves=5 with total points=430\n",
      "Getting top 50 frequencies with nterms=3 for lightcurves=3 with total points=209\n",
      "Getting top 50 frequencies with nterms=3 for lightcurves=1 with total points=152\n",
      "Getting top 50 frequencies with nterms=3 for lightcurves=4 with total points=130\n"
     ]
    },
    {
     "name": "stderr",
     "output_type": "stream",
     "text": [
      "  7%|▋         | 3/41 [00:20<04:53,  7.72s/it]"
     ]
    },
    {
     "name": "stdout",
     "output_type": "stream",
     "text": [
      "--------------------------------------------------\n",
      "\n",
      "Splitting lightcurves for Sirona with max_hours_diff=24 and min_no_points=10\n",
      "Before splitting: 1 lightcurves\n",
      "After splitting: 0 lightcurves\n",
      "Getting top 4 bins with max_time_diff=45 and min_bin_size=1\n",
      "Got 0 bins\n",
      "Splitting lightcurves for Paulina with max_hours_diff=24 and min_no_points=10\n",
      "Before splitting: 4 lightcurves\n",
      "After splitting: 2 lightcurves\n",
      "Getting top 4 bins with max_time_diff=45 and min_bin_size=1\n",
      "Got 0 bins\n",
      "Splitting lightcurves for Industria with max_hours_diff=24 and min_no_points=10\n",
      "Before splitting: 10 lightcurves\n",
      "After splitting: 8 lightcurves\n",
      "Getting top 4 bins with max_time_diff=45 and min_bin_size=1\n",
      "Got 3 bins\n",
      "Splitting lightcurves for Aegina with max_hours_diff=24 and min_no_points=10\n",
      "Before splitting: 1 lightcurves\n",
      "After splitting: 2 lightcurves\n",
      "Getting top 4 bins with max_time_diff=45 and min_bin_size=1\n",
      "Got 1 bins\n",
      "Splitting lightcurves for Athor with max_hours_diff=24 and min_no_points=10\n",
      "Before splitting: 9 lightcurves\n",
      "After splitting: 22 lightcurves\n",
      "Getting top 4 bins with max_time_diff=45 and min_bin_size=1\n",
      "Got 5 bins\n",
      "Getting top 50 frequencies with nterms=3 for lightcurves=9 with total points=1757\n",
      "Getting top 50 frequencies with nterms=3 for lightcurves=3 with total points=1049\n",
      "Getting top 50 frequencies with nterms=3 for lightcurves=3 with total points=714\n",
      "Getting top 50 frequencies with nterms=3 for lightcurves=4 with total points=148\n"
     ]
    },
    {
     "name": "stderr",
     "output_type": "stream",
     "text": [
      " 20%|█▉        | 8/41 [00:30<01:50,  3.34s/it]"
     ]
    },
    {
     "name": "stdout",
     "output_type": "stream",
     "text": [
      "--------------------------------------------------\n",
      "\n",
      "Splitting lightcurves for Weringia with max_hours_diff=24 and min_no_points=10\n",
      "Before splitting: 10 lightcurves\n",
      "After splitting: 19 lightcurves\n",
      "Getting top 4 bins with max_time_diff=45 and min_bin_size=1\n",
      "Got 6 bins\n",
      "Getting top 50 frequencies with nterms=3 for lightcurves=6 with total points=222\n",
      "Getting top 50 frequencies with nterms=3 for lightcurves=2 with total points=150\n"
     ]
    },
    {
     "name": "stderr",
     "output_type": "stream",
     "text": [
      " 22%|██▏       | 9/41 [00:34<01:53,  3.54s/it]"
     ]
    },
    {
     "name": "stdout",
     "output_type": "stream",
     "text": [
      "Getting top 50 frequencies with nterms=3 for lightcurves=1 with total points=54\n",
      "Getting top 50 frequencies with nterms=3 for lightcurves=1 with total points=20\n",
      "--------------------------------------------------\n",
      "\n",
      "Splitting lightcurves for Eunomia with max_hours_diff=24 and min_no_points=10\n",
      "Before splitting: 107 lightcurves\n",
      "After splitting: 101 lightcurves\n",
      "Getting top 4 bins with max_time_diff=45 and min_bin_size=1\n",
      "Got 26 bins\n",
      "Getting top 50 frequencies with nterms=3 for lightcurves=13 with total points=3553\n",
      "Getting top 50 frequencies with nterms=3 for lightcurves=15 with total points=2607\n",
      "Getting top 50 frequencies with nterms=3 for lightcurves=15 with total points=958\n",
      "Getting top 50 frequencies with nterms=3 for lightcurves=9 with total points=486\n"
     ]
    },
    {
     "name": "stderr",
     "output_type": "stream",
     "text": [
      " 24%|██▍       | 10/41 [00:44<02:26,  4.72s/it]"
     ]
    },
    {
     "name": "stdout",
     "output_type": "stream",
     "text": [
      "--------------------------------------------------\n",
      "\n",
      "Splitting lightcurves for Unitas with max_hours_diff=24 and min_no_points=10\n",
      "Before splitting: 14 lightcurves\n",
      "After splitting: 13 lightcurves\n",
      "Getting top 4 bins with max_time_diff=45 and min_bin_size=1\n",
      "Got 4 bins\n",
      "Getting top 50 frequencies with nterms=3 for lightcurves=2 with total points=206\n",
      "Getting top 50 frequencies with nterms=3 for lightcurves=3 with total points=93\n",
      "Getting top 50 frequencies with nterms=3 for lightcurves=3 with total points=41\n"
     ]
    },
    {
     "name": "stderr",
     "output_type": "stream",
     "text": [
      " 27%|██▋       | 11/41 [00:46<02:09,  4.32s/it]"
     ]
    },
    {
     "name": "stdout",
     "output_type": "stream",
     "text": [
      "Getting top 50 frequencies with nterms=3 for lightcurves=1 with total points=25\n",
      "--------------------------------------------------\n",
      "\n",
      "Splitting lightcurves for Campania with max_hours_diff=24 and min_no_points=10\n",
      "Before splitting: 34 lightcurves\n",
      "After splitting: 30 lightcurves\n",
      "Getting top 4 bins with max_time_diff=45 and min_bin_size=1\n",
      "Got 9 bins\n",
      "Getting top 50 frequencies with nterms=3 for lightcurves=4 with total points=242\n",
      "Getting top 50 frequencies with nterms=3 for lightcurves=5 with total points=194\n",
      "Getting top 50 frequencies with nterms=3 for lightcurves=4 with total points=155\n",
      "Getting top 50 frequencies with nterms=3 for lightcurves=5 with total points=105\n"
     ]
    },
    {
     "name": "stderr",
     "output_type": "stream",
     "text": [
      " 29%|██▉       | 12/41 [00:57<02:50,  5.87s/it]"
     ]
    },
    {
     "name": "stdout",
     "output_type": "stream",
     "text": [
      "--------------------------------------------------\n",
      "\n",
      "Splitting lightcurves for Lomia with max_hours_diff=24 and min_no_points=10\n",
      "Before splitting: 8 lightcurves\n",
      "After splitting: 13 lightcurves\n",
      "Getting top 4 bins with max_time_diff=45 and min_bin_size=1\n",
      "Got 3 bins\n",
      "Splitting lightcurves for Haidea with max_hours_diff=24 and min_no_points=10\n",
      "Before splitting: 1 lightcurves\n",
      "After splitting: 8 lightcurves\n",
      "Getting top 4 bins with max_time_diff=45 and min_bin_size=1\n",
      "Got 5 bins\n",
      "Getting top 50 frequencies with nterms=3 for lightcurves=2 with total points=42\n",
      "Getting top 50 frequencies with nterms=3 for lightcurves=1 with total points=12\n",
      "Getting top 50 frequencies with nterms=3 for lightcurves=1 with total points=12\n"
     ]
    },
    {
     "name": "stderr",
     "output_type": "stream",
     "text": [
      " 34%|███▍      | 14/41 [00:58<01:38,  3.64s/it]"
     ]
    },
    {
     "name": "stdout",
     "output_type": "stream",
     "text": [
      "Getting top 50 frequencies with nterms=3 for lightcurves=1 with total points=10\n",
      "--------------------------------------------------\n",
      "\n",
      "Splitting lightcurves for Velleda with max_hours_diff=24 and min_no_points=10\n",
      "Before splitting: 1 lightcurves\n",
      "After splitting: 0 lightcurves\n",
      "Getting top 4 bins with max_time_diff=45 and min_bin_size=1\n",
      "Got 0 bins\n",
      "Splitting lightcurves for Angelina with max_hours_diff=24 and min_no_points=10\n",
      "Before splitting: 22 lightcurves\n",
      "After splitting: 12 lightcurves\n",
      "Getting top 4 bins with max_time_diff=45 and min_bin_size=1\n",
      "Got 3 bins\n",
      "Splitting lightcurves for Hersilia with max_hours_diff=24 and min_no_points=10\n",
      "Before splitting: 2 lightcurves\n",
      "After splitting: 0 lightcurves\n",
      "Getting top 4 bins with max_time_diff=45 and min_bin_size=1\n",
      "Got 0 bins\n",
      "Splitting lightcurves for Belisana with max_hours_diff=24 and min_no_points=10\n",
      "Before splitting: 3 lightcurves\n",
      "After splitting: 16 lightcurves\n",
      "Getting top 4 bins with max_time_diff=45 and min_bin_size=1\n",
      "Got 3 bins\n",
      "Splitting lightcurves for Byblis with max_hours_diff=24 and min_no_points=10\n",
      "Before splitting: 4 lightcurves\n",
      "After splitting: 14 lightcurves\n",
      "Getting top 4 bins with max_time_diff=45 and min_bin_size=1\n",
      "Got 6 bins\n",
      "Getting top 50 frequencies with nterms=3 for lightcurves=3 with total points=500\n",
      "Getting top 50 frequencies with nterms=3 for lightcurves=1 with total points=207\n",
      "Getting top 50 frequencies with nterms=3 for lightcurves=2 with total points=166\n",
      "Getting top 50 frequencies with nterms=3 for lightcurves=2 with total points=104\n"
     ]
    },
    {
     "name": "stderr",
     "output_type": "stream",
     "text": [
      " 46%|████▋     | 19/41 [01:05<00:49,  2.25s/it]"
     ]
    },
    {
     "name": "stdout",
     "output_type": "stream",
     "text": [
      "--------------------------------------------------\n",
      "\n",
      "Splitting lightcurves for Nysa with max_hours_diff=24 and min_no_points=10\n",
      "Before splitting: 67 lightcurves\n",
      "After splitting: 53 lightcurves\n",
      "Getting top 4 bins with max_time_diff=45 and min_bin_size=1\n",
      "Got 17 bins\n",
      "Getting top 50 frequencies with nterms=3 for lightcurves=9 with total points=695\n",
      "Getting top 50 frequencies with nterms=3 for lightcurves=7 with total points=689\n",
      "Getting top 50 frequencies with nterms=3 for lightcurves=9 with total points=253\n",
      "Getting top 50 frequencies with nterms=3 for lightcurves=3 with total points=182\n"
     ]
    },
    {
     "name": "stderr",
     "output_type": "stream",
     "text": [
      " 49%|████▉     | 20/41 [01:16<01:15,  3.62s/it]"
     ]
    },
    {
     "name": "stdout",
     "output_type": "stream",
     "text": [
      "--------------------------------------------------\n",
      "\n",
      "Splitting lightcurves for Hesperia with max_hours_diff=24 and min_no_points=10\n",
      "Before splitting: 16 lightcurves\n",
      "After splitting: 14 lightcurves\n",
      "Getting top 4 bins with max_time_diff=45 and min_bin_size=1\n",
      "Got 7 bins\n",
      "Getting top 50 frequencies with nterms=3 for lightcurves=3 with total points=407\n",
      "Getting top 50 frequencies with nterms=3 for lightcurves=1 with total points=114\n",
      "Getting top 50 frequencies with nterms=3 for lightcurves=2 with total points=68\n"
     ]
    },
    {
     "name": "stderr",
     "output_type": "stream",
     "text": [
      " 51%|█████     | 21/41 [01:20<01:11,  3.59s/it]"
     ]
    },
    {
     "name": "stdout",
     "output_type": "stream",
     "text": [
      "Getting top 50 frequencies with nterms=3 for lightcurves=1 with total points=54\n",
      "--------------------------------------------------\n",
      "\n",
      "Splitting lightcurves for Tolosa with max_hours_diff=24 and min_no_points=10\n",
      "Before splitting: 1 lightcurves\n",
      "After splitting: 0 lightcurves\n",
      "Getting top 4 bins with max_time_diff=45 and min_bin_size=1\n",
      "Got 0 bins\n",
      "Splitting lightcurves for Gabriella with max_hours_diff=24 and min_no_points=10\n",
      "Before splitting: 16 lightcurves\n",
      "After splitting: 15 lightcurves\n",
      "Getting top 4 bins with max_time_diff=45 and min_bin_size=1\n",
      "Got 7 bins\n",
      "Getting top 50 frequencies with nterms=3 for lightcurves=4 with total points=209\n",
      "Getting top 50 frequencies with nterms=3 for lightcurves=2 with total points=94\n",
      "Getting top 50 frequencies with nterms=3 for lightcurves=1 with total points=89\n",
      "Getting top 50 frequencies with nterms=3 for lightcurves=2 with total points=52\n"
     ]
    },
    {
     "name": "stderr",
     "output_type": "stream",
     "text": [
      " 56%|█████▌    | 23/41 [01:24<00:57,  3.17s/it]"
     ]
    },
    {
     "name": "stdout",
     "output_type": "stream",
     "text": [
      "--------------------------------------------------\n",
      "\n",
      "Splitting lightcurves for Kalypso with max_hours_diff=24 and min_no_points=10\n",
      "Before splitting: 5 lightcurves\n",
      "After splitting: 27 lightcurves\n",
      "Getting top 4 bins with max_time_diff=45 and min_bin_size=1\n",
      "Got 7 bins\n",
      "Getting top 50 frequencies with nterms=3 for lightcurves=6 with total points=1625\n",
      "Getting top 50 frequencies with nterms=3 for lightcurves=4 with total points=1468\n",
      "Getting top 50 frequencies with nterms=3 for lightcurves=3 with total points=1274\n",
      "Getting top 50 frequencies with nterms=3 for lightcurves=4 with total points=508\n"
     ]
    },
    {
     "name": "stderr",
     "output_type": "stream",
     "text": [
      " 59%|█████▊    | 24/41 [01:36<01:19,  4.71s/it]"
     ]
    },
    {
     "name": "stdout",
     "output_type": "stream",
     "text": [
      "--------------------------------------------------\n",
      "\n",
      "Splitting lightcurves for Constantia with max_hours_diff=24 and min_no_points=10\n",
      "Before splitting: 4 lightcurves\n",
      "After splitting: 3 lightcurves\n",
      "Getting top 4 bins with max_time_diff=45 and min_bin_size=1\n",
      "Got 0 bins\n",
      "Splitting lightcurves for Pandora with max_hours_diff=24 and min_no_points=10\n",
      "Before splitting: 35 lightcurves\n",
      "After splitting: 30 lightcurves\n",
      "Getting top 4 bins with max_time_diff=45 and min_bin_size=1\n",
      "Got 10 bins\n",
      "Getting top 50 frequencies with nterms=3 for lightcurves=11 with total points=327\n",
      "Getting top 50 frequencies with nterms=3 for lightcurves=3 with total points=214\n",
      "Getting top 50 frequencies with nterms=3 for lightcurves=4 with total points=133\n",
      "Getting top 50 frequencies with nterms=3 for lightcurves=2 with total points=127\n"
     ]
    },
    {
     "name": "stderr",
     "output_type": "stream",
     "text": [
      " 63%|██████▎   | 26/41 [01:46<01:13,  4.92s/it]"
     ]
    },
    {
     "name": "stdout",
     "output_type": "stream",
     "text": [
      "--------------------------------------------------\n",
      "\n",
      "Splitting lightcurves for Vanadis with max_hours_diff=24 and min_no_points=10\n",
      "Before splitting: 1 lightcurves\n",
      "After splitting: 0 lightcurves\n",
      "Getting top 4 bins with max_time_diff=45 and min_bin_size=1\n",
      "Got 0 bins\n",
      "Splitting lightcurves for Nephthys with max_hours_diff=24 and min_no_points=10\n",
      "Before splitting: 9 lightcurves\n",
      "After splitting: 7 lightcurves\n",
      "Getting top 4 bins with max_time_diff=45 and min_bin_size=1\n",
      "Got 4 bins\n",
      "Getting top 50 frequencies with nterms=3 for lightcurves=2 with total points=277\n",
      "Getting top 50 frequencies with nterms=3 for lightcurves=2 with total points=30\n",
      "Getting top 50 frequencies with nterms=3 for lightcurves=1 with total points=26\n",
      "Getting top 50 frequencies with nterms=3 for lightcurves=1 with total points=16\n"
     ]
    },
    {
     "name": "stderr",
     "output_type": "stream",
     "text": [
      " 68%|██████▊   | 28/41 [01:49<00:48,  3.77s/it]"
     ]
    },
    {
     "name": "stdout",
     "output_type": "stream",
     "text": [
      "--------------------------------------------------\n",
      "\n",
      "Splitting lightcurves for Ariadne with max_hours_diff=24 and min_no_points=10\n",
      "Before splitting: 35 lightcurves\n",
      "After splitting: 32 lightcurves\n",
      "Getting top 4 bins with max_time_diff=45 and min_bin_size=1\n",
      "Got 11 bins\n",
      "Getting top 50 frequencies with nterms=3 for lightcurves=9 with total points=512\n",
      "Getting top 50 frequencies with nterms=3 for lightcurves=6 with total points=486\n",
      "Getting top 50 frequencies with nterms=3 for lightcurves=2 with total points=172\n",
      "Getting top 50 frequencies with nterms=3 for lightcurves=3 with total points=146\n"
     ]
    },
    {
     "name": "stderr",
     "output_type": "stream",
     "text": [
      " 71%|███████   | 29/41 [01:57<00:55,  4.59s/it]"
     ]
    },
    {
     "name": "stdout",
     "output_type": "stream",
     "text": [
      "--------------------------------------------------\n",
      "\n",
      "Splitting lightcurves for Pomona with max_hours_diff=24 and min_no_points=10\n",
      "Before splitting: 14 lightcurves\n",
      "After splitting: 14 lightcurves\n",
      "Getting top 4 bins with max_time_diff=45 and min_bin_size=1\n",
      "Got 5 bins\n",
      "Getting top 50 frequencies with nterms=3 for lightcurves=3 with total points=575\n",
      "Getting top 50 frequencies with nterms=3 for lightcurves=3 with total points=262\n"
     ]
    },
    {
     "name": "stderr",
     "output_type": "stream",
     "text": [
      " 73%|███████▎  | 30/41 [02:00<00:46,  4.23s/it]"
     ]
    },
    {
     "name": "stdout",
     "output_type": "stream",
     "text": [
      "Getting top 50 frequencies with nterms=3 for lightcurves=1 with total points=184\n",
      "Getting top 50 frequencies with nterms=3 for lightcurves=1 with total points=164\n",
      "--------------------------------------------------\n",
      "\n",
      "Splitting lightcurves for Kalliope with max_hours_diff=24 and min_no_points=10\n",
      "Before splitting: 139 lightcurves\n",
      "After splitting: 123 lightcurves\n",
      "Getting top 4 bins with max_time_diff=45 and min_bin_size=1\n",
      "Got 29 bins\n",
      "Getting top 50 frequencies with nterms=3 for lightcurves=16 with total points=2666\n",
      "Getting top 50 frequencies with nterms=3 for lightcurves=5 with total points=1298\n",
      "Getting top 50 frequencies with nterms=3 for lightcurves=7 with total points=1148\n",
      "Getting top 50 frequencies with nterms=3 for lightcurves=14 with total points=989\n"
     ]
    },
    {
     "name": "stderr",
     "output_type": "stream",
     "text": [
      " 76%|███████▌  | 31/41 [02:13<01:03,  6.35s/it]"
     ]
    },
    {
     "name": "stdout",
     "output_type": "stream",
     "text": [
      "--------------------------------------------------\n",
      "\n",
      "Splitting lightcurves for Chaldaea with max_hours_diff=24 and min_no_points=10\n",
      "Before splitting: 10 lightcurves\n",
      "After splitting: 10 lightcurves\n",
      "Getting top 4 bins with max_time_diff=45 and min_bin_size=1\n",
      "Got 3 bins\n",
      "Splitting lightcurves for Henrietta with max_hours_diff=24 and min_no_points=10\n",
      "Before splitting: 1 lightcurves\n",
      "After splitting: 7 lightcurves\n",
      "Getting top 4 bins with max_time_diff=45 and min_bin_size=1\n",
      "Got 3 bins\n",
      "Splitting lightcurves for Elektra with max_hours_diff=24 and min_no_points=10\n",
      "Before splitting: 55 lightcurves\n",
      "After splitting: 49 lightcurves\n",
      "Getting top 4 bins with max_time_diff=45 and min_bin_size=1\n",
      "Got 17 bins\n",
      "Getting top 50 frequencies with nterms=3 for lightcurves=9 with total points=2836\n",
      "Getting top 50 frequencies with nterms=3 for lightcurves=5 with total points=789\n",
      "Getting top 50 frequencies with nterms=3 for lightcurves=6 with total points=170\n"
     ]
    },
    {
     "name": "stderr",
     "output_type": "stream",
     "text": [
      " 83%|████████▎ | 34/41 [02:24<00:34,  4.93s/it]"
     ]
    },
    {
     "name": "stdout",
     "output_type": "stream",
     "text": [
      "Getting top 50 frequencies with nterms=3 for lightcurves=1 with total points=144\n",
      "--------------------------------------------------\n",
      "\n",
      "Splitting lightcurves for Kassandra with max_hours_diff=24 and min_no_points=10\n",
      "Before splitting: 14 lightcurves\n",
      "After splitting: 18 lightcurves\n",
      "Getting top 4 bins with max_time_diff=45 and min_bin_size=1\n",
      "Got 7 bins\n",
      "Getting top 50 frequencies with nterms=3 for lightcurves=6 with total points=846\n",
      "Getting top 50 frequencies with nterms=3 for lightcurves=4 with total points=201\n"
     ]
    },
    {
     "name": "stderr",
     "output_type": "stream",
     "text": [
      " 85%|████████▌ | 35/41 [02:30<00:31,  5.21s/it]"
     ]
    },
    {
     "name": "stdout",
     "output_type": "stream",
     "text": [
      "Getting top 50 frequencies with nterms=3 for lightcurves=1 with total points=122\n",
      "Getting top 50 frequencies with nterms=3 for lightcurves=1 with total points=102\n",
      "--------------------------------------------------\n",
      "\n",
      "Splitting lightcurves for Katharina with max_hours_diff=24 and min_no_points=10\n",
      "Before splitting: 1 lightcurves\n",
      "After splitting: 4 lightcurves\n",
      "Getting top 4 bins with max_time_diff=45 and min_bin_size=1\n",
      "Got 3 bins\n",
      "Splitting lightcurves for Anna with max_hours_diff=24 and min_no_points=10\n",
      "Before splitting: 1 lightcurves\n",
      "After splitting: 0 lightcurves\n",
      "Getting top 4 bins with max_time_diff=45 and min_bin_size=1\n",
      "Got 0 bins\n",
      "Splitting lightcurves for Theresia with max_hours_diff=24 and min_no_points=10\n",
      "Before splitting: 1 lightcurves\n",
      "After splitting: 0 lightcurves\n",
      "Getting top 4 bins with max_time_diff=45 and min_bin_size=1\n",
      "Got 0 bins\n",
      "Splitting lightcurves for Dido with max_hours_diff=24 and min_no_points=10\n",
      "Before splitting: 2 lightcurves\n",
      "After splitting: 0 lightcurves\n",
      "Getting top 4 bins with max_time_diff=45 and min_bin_size=1\n",
      "Got 0 bins\n",
      "Splitting lightcurves for Charybdis with max_hours_diff=24 and min_no_points=10\n",
      "Before splitting: 2 lightcurves\n",
      "After splitting: 1 lightcurves\n",
      "Getting top 4 bins with max_time_diff=45 and min_bin_size=1\n",
      "Got 0 bins\n",
      "Splitting lightcurves for Juno with max_hours_diff=24 and min_no_points=10\n",
      "Before splitting: 22 lightcurves\n",
      "After splitting: 22 lightcurves\n",
      "Getting top 4 bins with max_time_diff=45 and min_bin_size=1\n",
      "Got 9 bins\n",
      "Getting top 50 frequencies with nterms=3 for lightcurves=8 with total points=491\n",
      "Getting top 50 frequencies with nterms=3 for lightcurves=1 with total points=243\n",
      "Getting top 50 frequencies with nterms=3 for lightcurves=3 with total points=167\n"
     ]
    },
    {
     "name": "stderr",
     "output_type": "stream",
     "text": [
      "100%|██████████| 41/41 [02:35<00:00,  3.80s/it]"
     ]
    },
    {
     "name": "stdout",
     "output_type": "stream",
     "text": [
      "Getting top 50 frequencies with nterms=3 for lightcurves=2 with total points=153\n",
      "--------------------------------------------------\n",
      "\n",
      "Failed asteroids: 19 (46.34%)\n",
      "Kalliope: 13.19s\n",
      "Nysa: 11.66s\n",
      "Kalypso: 11.24s\n",
      "Campania: 10.67s\n",
      "Pandora: 10.62s\n",
      "Elektra: 10.57s\n",
      "Bohemia: 10.46s\n",
      "Athor: 9.97s\n",
      "Eunomia: 9.31s\n",
      "Ariadne: 8.05s\n"
     ]
    },
    {
     "name": "stderr",
     "output_type": "stream",
     "text": [
      "\n"
     ]
    }
   ],
   "source": [
    "failed_cnt = 0\n",
    "\n",
    "test_X = []\n",
    "test_y = []\n",
    "test_processing_times = {}\n",
    "for asteroid in tqdm(test_asteroids):\n",
    "    start = perf_counter()\n",
    "    freq_features = get_freq_features(asteroid, config, debug=True)\n",
    "    test_processing_times[asteroid.name] = perf_counter() - start\n",
    "\n",
    "    if freq_features is None:\n",
    "        failed_cnt += 1\n",
    "        continue\n",
    "\n",
    "    test_X.append(freq_features)\n",
    "    test_y.append(asteroid.period)\n",
    "\n",
    "test_X = np.vstack(test_X)\n",
    "test_y = np.array(test_y)\n",
    "\n",
    "print(f\"Failed asteroids: {failed_cnt} ({failed_cnt / len(test_asteroids) * 100:.2f}%)\")\n",
    "\n",
    "test_processing_times = sorted(test_processing_times.items(), key=lambda x: x[1], reverse=True)\n",
    "for asteroid_name, time in test_processing_times[:10]:\n",
    "    print(f\"{asteroid_name}: {time:.2f}s\")"
   ]
  },
  {
   "cell_type": "code",
   "execution_count": 14,
   "metadata": {},
   "outputs": [
    {
     "data": {
      "text/plain": [
       "((100, 200), (100,), (22, 200), (22,))"
      ]
     },
     "execution_count": 14,
     "metadata": {},
     "output_type": "execute_result"
    }
   ],
   "source": [
    "train_X.shape, train_y.shape, test_X.shape, test_y.shape"
   ]
  },
  {
   "cell_type": "code",
   "execution_count": 24,
   "metadata": {},
   "outputs": [],
   "source": [
    "space = {\n",
    "    \"max_depth\": hp.quniform(\"max_depth\", 3, 18, 1),\n",
    "    \"gamma\": hp.uniform(\"gamma\", 1, 9),\n",
    "    \"reg_alpha\": hp.quniform(\"reg_alpha\", 1, 100, 1),\n",
    "    \"reg_lambda\": hp.quniform(\"reg_lambda\", 1, 100, 1),\n",
    "    \"colsample_bytree\": hp.uniform(\"colsample_bytree\", 0.5, 1),\n",
    "    \"min_child_weight\": hp.quniform(\"min_child_weight\", 1, 10, 1),\n",
    "    \"n_estimators\": hp.quniform(\"n_estimators\", 100, 2000, 1),\n",
    "    \"eta\": hp.uniform(\"eta\", 0.01, 0.3),\n",
    "    \"tree_method\": hp.choice(\"tree_method\", [\"auto\", \"exact\", \"approx\", \"hist\"]),\n",
    "    \"max_leaves\": hp.quniform(\"max_leaves\", 2, 2**10, 1),\n",
    "    \"max_bin\": hp.quniform(\"max_bin\", 2, 2**10, 1),\n",
    "    \"num_parallel_tree\": hp.quniform(\"num_parallel_tree\", 1, 10, 1),\n",
    "    \"early_stopping_rounds\": hp.quniform(\"early_stopping_rounds\", 10, 100, 1),\n",
    "    \"seed\": 88,\n",
    "}"
   ]
  },
  {
   "cell_type": "code",
   "execution_count": 25,
   "metadata": {},
   "outputs": [],
   "source": [
    "def objective(space: dict):\n",
    "    model = XGBRegressor(\n",
    "        max_depth=int(space[\"max_depth\"]),\n",
    "        gamma=space[\"gamma\"],      \n",
    "        reg_alpha=int(space[\"reg_alpha\"]),\n",
    "        reg_lambda=space[\"reg_lambda\"],\n",
    "        colsample_bytree=space[\"colsample_bytree\"],\n",
    "        min_child_weight=int(space[\"min_child_weight\"]),\n",
    "        n_estimators=int(space[\"n_estimators\"]),\n",
    "        eta=space[\"eta\"],\n",
    "        tree_method=space[\"tree_method\"],\n",
    "        max_leaves=int(space[\"max_leaves\"]),\n",
    "        max_bin=int(space[\"max_bin\"]),\n",
    "        num_parallel_tree=int(space[\"num_parallel_tree\"]),\n",
    "        eval_metric=mean_squared_error,\n",
    "        early_stopping_rounds=int(space[\"early_stopping_rounds\"]),\n",
    "        n_jobs=-1,\n",
    "    )\n",
    "\n",
    "    evaluation = [(train_X, train_y), (test_X, test_y)]\n",
    "    model.fit(train_X, train_y, eval_set=evaluation, verbose=False)\n",
    "\n",
    "    pred_y = model.predict(test_X)\n",
    "    mse = mean_squared_error(test_y, pred_y)\n",
    "\n",
    "    return {\"loss\": mse, \"status\": STATUS_OK}"
   ]
  },
  {
   "cell_type": "code",
   "execution_count": 26,
   "metadata": {},
   "outputs": [
    {
     "name": "stdout",
     "output_type": "stream",
     "text": [
      "100%|██████████| 1000/1000 [07:06<00:00,  2.35trial/s, best loss: 1.7138331219191718]\n"
     ]
    }
   ],
   "source": [
    "trials = Trials()\n",
    "\n",
    "best = fmin(\n",
    "    fn=objective,\n",
    "    space=space,\n",
    "    algo=tpe.suggest,\n",
    "    max_evals=1000,\n",
    "    trials=trials,\n",
    ")"
   ]
  },
  {
   "cell_type": "code",
   "execution_count": 32,
   "metadata": {},
   "outputs": [
    {
     "data": {
      "text/plain": [
       "{'colsample_bytree': 0.7879339013503472,\n",
       " 'early_stopping_rounds': 26.0,\n",
       " 'eta': 0.1415680546588169,\n",
       " 'gamma': 1.7615108476807284,\n",
       " 'max_bin': 89.0,\n",
       " 'max_depth': 15.0,\n",
       " 'max_leaves': 822.0,\n",
       " 'min_child_weight': 2.0,\n",
       " 'n_estimators': 291.0,\n",
       " 'num_parallel_tree': 4.0,\n",
       " 'reg_alpha': 3.0,\n",
       " 'reg_lambda': 1.0,\n",
       " 'tree_method': 2}"
      ]
     },
     "execution_count": 32,
     "metadata": {},
     "output_type": "execute_result"
    }
   ],
   "source": [
    "best"
   ]
  },
  {
   "cell_type": "code",
   "execution_count": 34,
   "metadata": {},
   "outputs": [
    {
     "name": "stdout",
     "output_type": "stream",
     "text": [
      "Mean Squared Error: 2.140780228546522\n",
      "\n",
      "Predicted: 7.51, True: 8.33\n",
      "Predicted: 9.60, True: 9.93\n",
      "Predicted: 9.87, True: 10.74\n",
      "Predicted: 7.61, True: 7.28\n",
      "Predicted: 8.51, True: 11.15\n",
      "Predicted: 5.62, True: 6.08\n",
      "Predicted: 7.98, True: 8.74\n",
      "Predicted: 11.68, True: 11.66\n",
      "Predicted: 7.76, True: 9.82\n",
      "Predicted: 6.35, True: 5.22\n",
      "Predicted: 7.30, True: 6.42\n",
      "Predicted: 6.53, True: 5.66\n",
      "Predicted: 7.22, True: 4.83\n",
      "Predicted: 10.61, True: 9.04\n",
      "Predicted: 7.39, True: 4.80\n",
      "Predicted: 9.52, True: 7.60\n",
      "Predicted: 6.82, True: 5.76\n",
      "Predicted: 7.79, True: 9.45\n",
      "Predicted: 5.51, True: 4.15\n",
      "Predicted: 5.75, True: 5.22\n",
      "Predicted: 8.30, True: 10.74\n",
      "Predicted: 7.56, True: 7.21\n"
     ]
    }
   ],
   "source": [
    "model = XGBRegressor(\n",
    "    max_depth=int(best[\"max_depth\"]),\n",
    "    gamma=best[\"gamma\"],      \n",
    "    reg_alpha=int(best[\"reg_alpha\"]),\n",
    "    reg_lambda=best[\"reg_lambda\"],\n",
    "    colsample_bytree=best[\"colsample_bytree\"],\n",
    "    min_child_weight=int(best[\"min_child_weight\"]),\n",
    "    n_estimators=int(best[\"n_estimators\"]),\n",
    "    eta=best[\"eta\"],\n",
    "    tree_method=\"exact\",\n",
    "    max_leaves=int(best[\"max_leaves\"]),\n",
    "    max_bin=int(best[\"max_bin\"]),\n",
    "    num_parallel_tree=int(best[\"num_parallel_tree\"]),\n",
    "    eval_metric=mean_squared_error,\n",
    "    early_stopping_rounds=int(best[\"early_stopping_rounds\"]),\n",
    "    n_jobs=-1,\n",
    ")\n",
    "\n",
    "evaluation = [(train_X, train_y), (test_X, test_y)]\n",
    "model.fit(train_X, train_y, eval_set=evaluation, verbose=False)\n",
    "\n",
    "pred_y = model.predict(test_X)\n",
    "mse = mean_squared_error(test_y, pred_y)\n",
    "\n",
    "print(f\"Mean Squared Error: {mse}\\n\")\n",
    "\n",
    "for pred, true in zip(pred_y, test_y):\n",
    "    print(f\"Predicted: {pred:.2f}, True: {true:.2f}\")"
   ]
  },
  {
   "cell_type": "code",
   "execution_count": null,
   "metadata": {},
   "outputs": [],
   "source": []
  },
  {
   "cell_type": "code",
   "execution_count": null,
   "metadata": {},
   "outputs": [],
   "source": []
  }
 ],
 "metadata": {
  "kernelspec": {
   "display_name": "mgr",
   "language": "python",
   "name": "python3"
  },
  "language_info": {
   "codemirror_mode": {
    "name": "ipython",
    "version": 3
   },
   "file_extension": ".py",
   "mimetype": "text/x-python",
   "name": "python",
   "nbconvert_exporter": "python",
   "pygments_lexer": "ipython3",
   "version": "3.11.9"
  }
 },
 "nbformat": 4,
 "nbformat_minor": 2
}
