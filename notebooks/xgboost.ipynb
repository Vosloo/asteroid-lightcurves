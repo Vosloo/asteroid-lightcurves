{
 "cells": [
  {
   "cell_type": "code",
   "execution_count": 1,
   "metadata": {},
   "outputs": [],
   "source": [
    "import json\n",
    "from typing import TypedDict\n",
    "\n",
    "import numpy as np\n",
    "from constants import DATA_DIR\n",
    "from hyperopt import STATUS_OK, Trials, fmin, hp, tpe\n",
    "from hyperopt.early_stop import no_progress_loss\n",
    "from hyperopt.pyll.base import scope\n",
    "from sklearn.metrics import mean_squared_error\n",
    "from sklearn.model_selection import cross_val_score, train_test_split\n",
    "from sklearn.preprocessing import StandardScaler\n",
    "from xgboost import XGBRegressor\n",
    "\n",
    "from astrofit.utils import AsteroidLoader"
   ]
  },
  {
   "cell_type": "code",
   "execution_count": 2,
   "metadata": {},
   "outputs": [],
   "source": [
    "asteroid_loader = AsteroidLoader(DATA_DIR)\n",
    "\n",
    "ASTEROIDS_FREQ_DATA_PATH = DATA_DIR / \"asteroids_freq_data.json\""
   ]
  },
  {
   "cell_type": "code",
   "execution_count": 3,
   "metadata": {},
   "outputs": [],
   "source": [
    "with open(ASTEROIDS_FREQ_DATA_PATH, \"r\") as f:\n",
    "    asteroids_freq_data = json.load(f)"
   ]
  },
  {
   "cell_type": "code",
   "execution_count": 4,
   "metadata": {},
   "outputs": [],
   "source": [
    "config, asteroids_data = asteroids_freq_data[\"config\"], asteroids_freq_data[\"asteroids\"]"
   ]
  },
  {
   "cell_type": "code",
   "execution_count": 5,
   "metadata": {},
   "outputs": [
    {
     "name": "stdout",
     "output_type": "stream",
     "text": [
      "Filtered 2662 asteroids (40.41% failed)\n"
     ]
    }
   ],
   "source": [
    "filtered_data = {name: data for name, data in asteroids_data.items() if not data[\"is_failed\"]}\n",
    "print(f\"Filtered {len(filtered_data)} asteroids ({100*(len(asteroids_data) - len(filtered_data)) / len(asteroids_data):.2f}% failed)\")"
   ]
  },
  {
   "cell_type": "code",
   "execution_count": 6,
   "metadata": {},
   "outputs": [],
   "source": [
    "class AsteroidData(TypedDict):\n",
    "    is_failed: bool\n",
    "    reason: str | None\n",
    "    period: float\n",
    "    processing_time: float\n",
    "    freq_features: list[list]  # 1 - 4 sequences of 50 floats (freqs) from 0 to 12\n",
    "    pow_features: list[list]  # 1 - 4 sequences of 50 floats (pows) from 0 to 1 (the same shape as freq_features)"
   ]
  },
  {
   "cell_type": "code",
   "execution_count": 7,
   "metadata": {},
   "outputs": [],
   "source": [
    "filtered_data = {name: AsteroidData(**data) for name, data in filtered_data.items()}"
   ]
  },
  {
   "cell_type": "code",
   "execution_count": 8,
   "metadata": {},
   "outputs": [
    {
     "data": {
      "text/plain": [
       "array([ 2.134122 ,  3.5124675,  5.3783405,  8.004365 , 12.93966  ,\n",
       "       25.9748   , 39.8999   ])"
      ]
     },
     "execution_count": 8,
     "metadata": {},
     "output_type": "execute_result"
    }
   ],
   "source": [
    "np.percentile([data[\"period\"] for data in filtered_data.values()], [0, 5, 25, 50, 75, 95, 100])"
   ]
  },
  {
   "cell_type": "code",
   "execution_count": 9,
   "metadata": {},
   "outputs": [
    {
     "name": "stdout",
     "output_type": "stream",
     "text": [
      "Train: 2129 asteroids (79.98)\n",
      "Validation: 357 asteroids (13.41)\n",
      "Test: 176 asteroids (6.61)\n"
     ]
    }
   ],
   "source": [
    "train_keys, val_test_keys = train_test_split(list(filtered_data.keys()), test_size=0.2, random_state=884288)\n",
    "val_keys, test_keys = train_test_split(val_test_keys, test_size=0.33, random_state=884288)\n",
    "\n",
    "print(f\"Train: {len(train_keys)} asteroids ({100 * len(train_keys) / len(filtered_data):.2f})\")\n",
    "print(f\"Validation: {len(val_keys)} asteroids ({100*len(val_keys) / len(filtered_data):.2f})\")\n",
    "print(f\"Test: {len(test_keys)} asteroids ({100 * len(test_keys) / len(filtered_data):.2f})\")"
   ]
  },
  {
   "cell_type": "code",
   "execution_count": 10,
   "metadata": {},
   "outputs": [],
   "source": [
    "train_set, val_set, test_set = (\n",
    "    {key: filtered_data[key] for key in train_keys},\n",
    "    {key: filtered_data[key] for key in val_keys},\n",
    "    {key: filtered_data[key] for key in test_keys},\n",
    ")"
   ]
  },
  {
   "cell_type": "code",
   "execution_count": 11,
   "metadata": {},
   "outputs": [
    {
     "name": "stdout",
     "output_type": "stream",
     "text": [
      "Train periods:\n",
      "[ 2.134122  3.54028   5.385282  8.04945  13.0339   26.0133   39.8999  ]\n",
      "\n",
      "Validation periods:\n",
      "[ 2.68212    3.4877328  5.363025   7.81773   12.68499   25.74368\n",
      " 38.7804   ]\n",
      "\n",
      "Test periods:\n",
      "[ 2.738963    3.70729275  5.432665    7.776705   12.583375   25.9855\n",
      " 39.848     ]\n"
     ]
    }
   ],
   "source": [
    "print(\"Train periods:\")\n",
    "print(np.percentile([data[\"period\"] for data in train_set.values()], [0, 5, 25, 50, 75, 95, 100]))\n",
    "\n",
    "print(\"\\nValidation periods:\")\n",
    "print(np.percentile([data[\"period\"] for data in val_set.values()], [0, 5, 25, 50, 75, 95, 100]))\n",
    "\n",
    "print(\"\\nTest periods:\")\n",
    "print(np.percentile([data[\"period\"] for data in test_set.values()], [0, 5, 25, 50, 75, 95, 100]))"
   ]
  },
  {
   "cell_type": "code",
   "execution_count": 12,
   "metadata": {},
   "outputs": [],
   "source": [
    "def _extract_features(data_set: dict[str, AsteroidData]) -> tuple[list[np.ndarray], list[np.ndarray]]:\n",
    "    freq_features = [np.array(sample[\"freq_features\"]) for sample in data_set.values()]\n",
    "    pow_features = [np.array(sample[\"pow_features\"]) for sample in data_set.values()]\n",
    "    return freq_features, pow_features\n",
    "\n",
    "\n",
    "def _standardize_features(features: list[np.ndarray], scaler: StandardScaler) -> list[np.ndarray]:\n",
    "    flattend = np.concatenate(features)\n",
    "    transformed = scaler.transform(flattend)\n",
    "\n",
    "    result = []\n",
    "    start = 0\n",
    "    for seq in features:\n",
    "        end = start + len(seq)\n",
    "        result.append(transformed[start:end])  # type: ignore\n",
    "        start = end\n",
    "    \n",
    "    return result\n",
    "\n",
    "\n",
    "# Combine freq and pow features\n",
    "def _combine_features(freq: list[np.ndarray], pow: list[np.ndarray]) -> list[np.ndarray]:\n",
    "    return [np.stack((f, p), axis=-1) for f, p in zip(freq, pow)]\n",
    "\n",
    "\n",
    "def standardize_asteroid_data(\n",
    "    train_set: dict[str, AsteroidData], val_set: dict[str, AsteroidData], test_set: dict[str, AsteroidData]\n",
    ") -> tuple[list[np.ndarray], list[np.ndarray], list[np.ndarray], StandardScaler, StandardScaler]:\n",
    "    train_freq, train_pow = _extract_features(train_set)\n",
    "    val_freq, val_pow = _extract_features(val_set)\n",
    "    test_freq, test_pow = _extract_features(test_set)\n",
    "\n",
    "    # Flatten the features for fitting the scalers\n",
    "    train_freq_flat = np.concatenate(train_freq)\n",
    "    train_pow_flat = np.concatenate(train_pow)\n",
    "\n",
    "    # Create and fit scalers\n",
    "    freq_scaler = StandardScaler()\n",
    "    pow_scaler = StandardScaler()\n",
    "\n",
    "    freq_scaler.fit(train_freq_flat)\n",
    "    pow_scaler.fit(train_pow_flat)\n",
    "\n",
    "    # Standardize all sets\n",
    "    train_freq_std = _standardize_features(train_freq, freq_scaler)\n",
    "    train_pow_std = _standardize_features(train_pow, pow_scaler)\n",
    "    val_freq_std = _standardize_features(val_freq, freq_scaler)\n",
    "    val_pow_std = _standardize_features(val_pow, pow_scaler)\n",
    "    test_freq_std = _standardize_features(test_freq, freq_scaler)\n",
    "    test_pow_std = _standardize_features(test_pow, pow_scaler)\n",
    "\n",
    "    train_std = _combine_features(train_freq_std, train_pow_std)\n",
    "    val_std = _combine_features(val_freq_std, val_pow_std)\n",
    "    test_std = _combine_features(test_freq_std, test_pow_std)\n",
    "\n",
    "    return train_std, val_std, test_std, freq_scaler, pow_scaler\n",
    "\n",
    "\n",
    "def prepare_for_xgboost(data: list[np.ndarray], max_len: int = 4) -> np.ndarray:\n",
    "    # padded_data = np.full((len(data), max_len * 100), np.nan)\n",
    "\n",
    "    # OLD IMPLEMENTATION\n",
    "    \n",
    "    concatenated = [sample.reshape(-1, 100) for sample in data]\n",
    "    padded = [np.pad(seq, ((0, max_len - len(seq)), (0, 0)), mode=\"constant\", constant_values=np.nan) for seq in concatenated]\n",
    "\n",
    "    return np.stack(padded).reshape(-1, 400)"
   ]
  },
  {
   "cell_type": "code",
   "execution_count": 13,
   "metadata": {},
   "outputs": [],
   "source": [
    "train_std, val_std, test_std, freq_scaler, pow_scaler = standardize_asteroid_data(train_set, val_set, test_set)\n",
    "\n",
    "X_train = prepare_for_xgboost(train_std)\n",
    "X_val = prepare_for_xgboost(val_std)\n",
    "X_test = prepare_for_xgboost(test_std)\n",
    "\n",
    "y_train = np.array([asteroid[\"period\"] for asteroid in train_set.values()])\n",
    "y_val = np.array([asteroid[\"period\"] for asteroid in val_set.values()])\n",
    "y_test = np.array([asteroid[\"period\"] for asteroid in test_set.values()])"
   ]
  },
  {
   "cell_type": "code",
   "execution_count": 14,
   "metadata": {},
   "outputs": [
    {
     "name": "stdout",
     "output_type": "stream",
     "text": [
      "[0]\tvalidation_0-rmse:7.07857\n",
      "[1]\tvalidation_0-rmse:6.98654\n",
      "[2]\tvalidation_0-rmse:6.96357\n",
      "[3]\tvalidation_0-rmse:7.05208\n",
      "[4]\tvalidation_0-rmse:6.99748\n",
      "[5]\tvalidation_0-rmse:7.00773\n",
      "[6]\tvalidation_0-rmse:7.00307\n",
      "[7]\tvalidation_0-rmse:6.98369\n",
      "[8]\tvalidation_0-rmse:6.96335\n",
      "[9]\tvalidation_0-rmse:6.96571\n",
      "[10]\tvalidation_0-rmse:6.97979\n",
      "[11]\tvalidation_0-rmse:6.98959\n",
      "[12]\tvalidation_0-rmse:7.02614\n",
      "[13]\tvalidation_0-rmse:7.01322\n",
      "[14]\tvalidation_0-rmse:7.00392\n",
      "[15]\tvalidation_0-rmse:7.04181\n",
      "[16]\tvalidation_0-rmse:7.03805\n",
      "[17]\tvalidation_0-rmse:7.02167\n",
      "[18]\tvalidation_0-rmse:7.00932\n",
      "[19]\tvalidation_0-rmse:7.02791\n",
      "[20]\tvalidation_0-rmse:7.01104\n",
      "[21]\tvalidation_0-rmse:7.01789\n",
      "[22]\tvalidation_0-rmse:7.01972\n",
      "[23]\tvalidation_0-rmse:7.01291\n",
      "[24]\tvalidation_0-rmse:6.99187\n",
      "[25]\tvalidation_0-rmse:6.98453\n",
      "[26]\tvalidation_0-rmse:6.99433\n",
      "[27]\tvalidation_0-rmse:7.00461\n",
      "[28]\tvalidation_0-rmse:7.00834\n",
      "[29]\tvalidation_0-rmse:7.04024\n",
      "[30]\tvalidation_0-rmse:7.03474\n",
      "[31]\tvalidation_0-rmse:7.01991\n",
      "[32]\tvalidation_0-rmse:7.01602\n",
      "[33]\tvalidation_0-rmse:7.02313\n",
      "[34]\tvalidation_0-rmse:7.03862\n",
      "[35]\tvalidation_0-rmse:7.03588\n",
      "[36]\tvalidation_0-rmse:7.05229\n",
      "[37]\tvalidation_0-rmse:7.04679\n",
      "[38]\tvalidation_0-rmse:7.05609\n",
      "[39]\tvalidation_0-rmse:7.05427\n",
      "[40]\tvalidation_0-rmse:7.05504\n",
      "[41]\tvalidation_0-rmse:7.06301\n",
      "[42]\tvalidation_0-rmse:7.07256\n",
      "[43]\tvalidation_0-rmse:7.07267\n",
      "[44]\tvalidation_0-rmse:7.08024\n",
      "[45]\tvalidation_0-rmse:7.08032\n",
      "[46]\tvalidation_0-rmse:7.08043\n",
      "[47]\tvalidation_0-rmse:7.07966\n",
      "[48]\tvalidation_0-rmse:7.07774\n",
      "[49]\tvalidation_0-rmse:7.06815\n",
      "[50]\tvalidation_0-rmse:7.07032\n",
      "[51]\tvalidation_0-rmse:7.07491\n",
      "[52]\tvalidation_0-rmse:7.08744\n",
      "[53]\tvalidation_0-rmse:7.10099\n",
      "[54]\tvalidation_0-rmse:7.10246\n",
      "[55]\tvalidation_0-rmse:7.09398\n",
      "[56]\tvalidation_0-rmse:7.10237\n",
      "[57]\tvalidation_0-rmse:7.09818\n",
      "[58]\tvalidation_0-rmse:7.09655\n",
      "[59]\tvalidation_0-rmse:7.10606\n",
      "[60]\tvalidation_0-rmse:7.10951\n",
      "[61]\tvalidation_0-rmse:7.11943\n",
      "[62]\tvalidation_0-rmse:7.12548\n",
      "[63]\tvalidation_0-rmse:7.12450\n",
      "[64]\tvalidation_0-rmse:7.12952\n",
      "[65]\tvalidation_0-rmse:7.12301\n",
      "[66]\tvalidation_0-rmse:7.12469\n",
      "[67]\tvalidation_0-rmse:7.12474\n",
      "[68]\tvalidation_0-rmse:7.12597\n",
      "[69]\tvalidation_0-rmse:7.12321\n",
      "[70]\tvalidation_0-rmse:7.12726\n",
      "[71]\tvalidation_0-rmse:7.13204\n",
      "[72]\tvalidation_0-rmse:7.13139\n",
      "[73]\tvalidation_0-rmse:7.13477\n",
      "[74]\tvalidation_0-rmse:7.13301\n",
      "[75]\tvalidation_0-rmse:7.13454\n",
      "[76]\tvalidation_0-rmse:7.13788\n",
      "[77]\tvalidation_0-rmse:7.13781\n",
      "[78]\tvalidation_0-rmse:7.14133\n",
      "[79]\tvalidation_0-rmse:7.14187\n",
      "[80]\tvalidation_0-rmse:7.14307\n",
      "[81]\tvalidation_0-rmse:7.13866\n",
      "[82]\tvalidation_0-rmse:7.13874\n",
      "[83]\tvalidation_0-rmse:7.13780\n",
      "[84]\tvalidation_0-rmse:7.14513\n",
      "[85]\tvalidation_0-rmse:7.14176\n",
      "[86]\tvalidation_0-rmse:7.13994\n",
      "[87]\tvalidation_0-rmse:7.14563\n",
      "[88]\tvalidation_0-rmse:7.14735\n",
      "[89]\tvalidation_0-rmse:7.14807\n",
      "[90]\tvalidation_0-rmse:7.14966\n",
      "[91]\tvalidation_0-rmse:7.14773\n",
      "[92]\tvalidation_0-rmse:7.14798\n",
      "[93]\tvalidation_0-rmse:7.14740\n",
      "[94]\tvalidation_0-rmse:7.14913\n",
      "[95]\tvalidation_0-rmse:7.14795\n",
      "[96]\tvalidation_0-rmse:7.14836\n",
      "[97]\tvalidation_0-rmse:7.14860\n",
      "[98]\tvalidation_0-rmse:7.14679\n",
      "[99]\tvalidation_0-rmse:7.14895\n"
     ]
    }
   ],
   "source": [
    "model = XGBRegressor(\n",
    "    early_stopping_rounds=100,\n",
    "    n_estimators=100,\n",
    "    objective=\"reg:squarederror\",\n",
    "    missing=np.nan,\n",
    ")\n",
    "model.fit(\n",
    "    X_train,\n",
    "    y_train,\n",
    "    eval_set=[(X_val, y_val)],\n",
    "    verbose=True,\n",
    ")\n",
    "\n",
    "# # Make predictions\n",
    "predictions = model.predict(X_test)"
   ]
  },
  {
   "cell_type": "code",
   "execution_count": 15,
   "metadata": {},
   "outputs": [],
   "source": [
    "space = {\n",
    "    \"max_depth\": scope.int(hp.quniform(\"max_depth\", 3, 18, 1)),\n",
    "    \"gamma\": hp.uniform(\"gamma\", 1, 9),\n",
    "    \"reg_alpha\": hp.quniform(\"reg_alpha\", 1, 100, 1),\n",
    "    \"reg_lambda\": hp.quniform(\"reg_lambda\", 1, 100, 1),\n",
    "    \"colsample_bytree\": hp.uniform(\"colsample_bytree\", 0.5, 1),\n",
    "    \"min_child_weight\": hp.quniform(\"min_child_weight\", 1, 10, 1),\n",
    "    \"n_estimators\": scope.int(hp.quniform(\"n_estimators\", 100, 2000, 1)),\n",
    "    \"eta\": hp.uniform(\"eta\", 0.01, 0.3),\n",
    "    \"tree_method\": hp.choice(\"tree_method\", [\"auto\", \"exact\", \"approx\", \"hist\"]),\n",
    "    \"max_leaves\": scope.int(hp.uniform(\"max_leaves\", 2, 2**10)),\n",
    "    \"max_bin\": scope.int(hp.uniform(\"max_bin\", 2, 2**10)),\n",
    "    \"num_parallel_tree\": scope.int(hp.quniform(\"num_parallel_tree\", 1, 10, 1)),\n",
    "    \"early_stopping_rounds\": scope.int(hp.uniform(\"early_stopping_rounds\", 10, 100)),\n",
    "}"
   ]
  },
  {
   "cell_type": "code",
   "execution_count": 16,
   "metadata": {},
   "outputs": [],
   "source": [
    "train_std, val_std, test_std, freq_scaler, pow_scaler = standardize_asteroid_data(train_set, val_set, test_set)\n",
    "\n",
    "X_train = prepare_for_xgboost(train_std)\n",
    "X_val = prepare_for_xgboost(val_std)\n",
    "X_test = prepare_for_xgboost(test_std)\n",
    "\n",
    "y_train = np.array([asteroid[\"period\"] for asteroid in train_set.values()])\n",
    "y_val = np.array([asteroid[\"period\"] for asteroid in val_set.values()])\n",
    "y_test = np.array([asteroid[\"period\"] for asteroid in test_set.values()])"
   ]
  },
  {
   "cell_type": "code",
   "execution_count": 17,
   "metadata": {},
   "outputs": [],
   "source": [
    "import logging\n",
    "\n",
    "logging.basicConfig(level=logging.DEBUG, format=\"%(asctime)s - %(name)s - %(levelname)s - %(message)s\")\n",
    "\n",
    "logger = logging.getLogger(__name__)"
   ]
  },
  {
   "cell_type": "code",
   "execution_count": 18,
   "metadata": {},
   "outputs": [
    {
     "name": "stdout",
     "output_type": "stream",
     "text": [
      "  0%|          | 0/50 [00:00<?, ?trial/s, best loss=?]"
     ]
    },
    {
     "name": "stderr",
     "output_type": "stream",
     "text": [
      "2024-07-06 18:49:36,453 - hyperopt.tpe - INFO - build_posterior_wrapper took 0.002295 seconds\n",
      "2024-07-06 18:49:36,454 - hyperopt.tpe - INFO - TPE using 0 trials\n",
      "2024-07-06 18:49:36,457 - __main__ - DEBUG - Training with hyperparameters: {'colsample_bytree': 0.9969476235882737, 'early_stopping_rounds': 41, 'eta': 0.0120250101497338, 'gamma': 4.061833904618148, 'max_bin': 754, 'max_depth': 14, 'max_leaves': 414, 'min_child_weight': 6.0, 'n_estimators': 351, 'num_parallel_tree': 8, 'reg_alpha': 57.0, 'reg_lambda': 13.0, 'tree_method': 'auto'}\n",
      "2024-07-06 18:58:20,661 - __main__ - DEBUG - Predicting on validation set\n",
      "2024-07-06 18:58:20,678 - __main__ - DEBUG - Predicted: 10.95658016204834, True: 34.029\n",
      "2024-07-06 18:58:20,678 - __main__ - DEBUG - Predicted: 12.948179244995117, True: 7.92812\n",
      "2024-07-06 18:58:20,679 - __main__ - DEBUG - Predicted: 8.761702537536621, True: 21.3639\n",
      "2024-07-06 18:58:20,679 - __main__ - DEBUG - Predicted: 8.950424194335938, True: 5.06904\n",
      "2024-07-06 18:58:20,680 - __main__ - DEBUG - Predicted: 8.916105270385742, True: 4.889866\n",
      "2024-07-06 18:58:20,681 - __main__ - DEBUG - Predicted: 9.490302085876465, True: 3.66329\n",
      "2024-07-06 18:58:20,681 - __main__ - DEBUG - Predicted: 8.202138900756836, True: 9.7279\n",
      "2024-07-06 18:58:20,681 - __main__ - DEBUG - Predicted: 9.229784965515137, True: 6.71991\n",
      "2024-07-06 18:58:20,682 - __main__ - DEBUG - Predicted: 7.976448059082031, True: 3.20602\n",
      "2024-07-06 18:58:20,682 - __main__ - DEBUG - Predicted: 10.791478157043457, True: 3.76288\n",
      "2024-07-06 18:58:20,683 - __main__ - DEBUG - Validation MSE: 47.61745548559845\n"
     ]
    },
    {
     "name": "stdout",
     "output_type": "stream",
     "text": [
      "  2%|▏         | 1/50 [08:44<7:08:07, 524.23s/trial, best loss: 47.61745548559845]"
     ]
    },
    {
     "name": "stderr",
     "output_type": "stream",
     "text": [
      "2024-07-06 18:58:20,687 - hyperopt.tpe - INFO - build_posterior_wrapper took 0.001878 seconds\n",
      "2024-07-06 18:58:20,688 - hyperopt.tpe - INFO - TPE using 1/1 trials with best loss 47.617455\n",
      "2024-07-06 18:58:20,690 - __main__ - DEBUG - Training with hyperparameters: {'colsample_bytree': 0.6360137106428702, 'early_stopping_rounds': 16, 'eta': 0.01840765817836673, 'gamma': 8.17609301515002, 'max_bin': 964, 'max_depth': 15, 'max_leaves': 249, 'min_child_weight': 10.0, 'n_estimators': 1916, 'num_parallel_tree': 1, 'reg_alpha': 65.0, 'reg_lambda': 76.0, 'tree_method': 'hist'}\n",
      "2024-07-06 18:58:40,735 - __main__ - DEBUG - Predicting on validation set\n",
      "2024-07-06 18:58:40,740 - __main__ - DEBUG - Predicted: 12.145458221435547, True: 34.029\n",
      "2024-07-06 18:58:40,741 - __main__ - DEBUG - Predicted: 12.869976997375488, True: 7.92812\n",
      "2024-07-06 18:58:40,741 - __main__ - DEBUG - Predicted: 8.34727668762207, True: 21.3639\n",
      "2024-07-06 18:58:40,742 - __main__ - DEBUG - Predicted: 10.15438461303711, True: 5.06904\n",
      "2024-07-06 18:58:40,742 - __main__ - DEBUG - Predicted: 8.853900909423828, True: 4.889866\n",
      "2024-07-06 18:58:40,742 - __main__ - DEBUG - Predicted: 9.7625732421875, True: 3.66329\n",
      "2024-07-06 18:58:40,743 - __main__ - DEBUG - Predicted: 8.870145797729492, True: 9.7279\n",
      "2024-07-06 18:58:40,743 - __main__ - DEBUG - Predicted: 9.258742332458496, True: 6.71991\n",
      "2024-07-06 18:58:40,744 - __main__ - DEBUG - Predicted: 8.888528823852539, True: 3.20602\n",
      "2024-07-06 18:58:40,744 - __main__ - DEBUG - Predicted: 9.991385459899902, True: 3.76288\n",
      "2024-07-06 18:58:40,745 - __main__ - DEBUG - Validation MSE: 47.13529947301507\n"
     ]
    },
    {
     "name": "stdout",
     "output_type": "stream",
     "text": [
      "  4%|▍         | 2/50 [09:04<3:02:07, 227.66s/trial, best loss: 47.13529947301507]"
     ]
    },
    {
     "name": "stderr",
     "output_type": "stream",
     "text": [
      "2024-07-06 18:58:40,749 - hyperopt.tpe - INFO - build_posterior_wrapper took 0.001855 seconds\n",
      "2024-07-06 18:58:40,750 - hyperopt.tpe - INFO - TPE using 2/2 trials with best loss 47.135299\n",
      "2024-07-06 18:58:40,752 - __main__ - DEBUG - Training with hyperparameters: {'colsample_bytree': 0.9658521061331651, 'early_stopping_rounds': 56, 'eta': 0.055856187463705194, 'gamma': 3.265929062146064, 'max_bin': 497, 'max_depth': 3, 'max_leaves': 775, 'min_child_weight': 9.0, 'n_estimators': 1957, 'num_parallel_tree': 6, 'reg_alpha': 91.0, 'reg_lambda': 31.0, 'tree_method': 'exact'}\n",
      "2024-07-06 18:58:48,443 - __main__ - DEBUG - Predicting on validation set\n",
      "2024-07-06 18:58:48,446 - __main__ - DEBUG - Predicted: 13.519274711608887, True: 34.029\n",
      "2024-07-06 18:58:48,446 - __main__ - DEBUG - Predicted: 13.103837966918945, True: 7.92812\n",
      "2024-07-06 18:58:48,447 - __main__ - DEBUG - Predicted: 7.489204406738281, True: 21.3639\n",
      "2024-07-06 18:58:48,447 - __main__ - DEBUG - Predicted: 9.904970169067383, True: 5.06904\n",
      "2024-07-06 18:58:48,448 - __main__ - DEBUG - Predicted: 8.995604515075684, True: 4.889866\n",
      "2024-07-06 18:58:48,448 - __main__ - DEBUG - Predicted: 8.304155349731445, True: 3.66329\n",
      "2024-07-06 18:58:48,448 - __main__ - DEBUG - Predicted: 8.776960372924805, True: 9.7279\n",
      "2024-07-06 18:58:48,449 - __main__ - DEBUG - Predicted: 8.692163467407227, True: 6.71991\n",
      "2024-07-06 18:58:48,449 - __main__ - DEBUG - Predicted: 8.869393348693848, True: 3.20602\n",
      "2024-07-06 18:58:48,450 - __main__ - DEBUG - Predicted: 9.849175453186035, True: 3.76288\n",
      "2024-07-06 18:58:48,450 - __main__ - DEBUG - Validation MSE: 45.553592384306135\n"
     ]
    },
    {
     "name": "stdout",
     "output_type": "stream",
     "text": [
      "  6%|▌         | 3/50 [09:12<1:39:39, 127.22s/trial, best loss: 45.553592384306135]"
     ]
    },
    {
     "name": "stderr",
     "output_type": "stream",
     "text": [
      "2024-07-06 18:58:48,454 - hyperopt.tpe - INFO - build_posterior_wrapper took 0.001809 seconds\n",
      "2024-07-06 18:58:48,454 - hyperopt.tpe - INFO - TPE using 3/3 trials with best loss 45.553592\n",
      "2024-07-06 18:58:48,455 - __main__ - DEBUG - Training with hyperparameters: {'colsample_bytree': 0.6470489595285575, 'early_stopping_rounds': 91, 'eta': 0.14559911848524212, 'gamma': 7.81222563000287, 'max_bin': 196, 'max_depth': 5, 'max_leaves': 912, 'min_child_weight': 2.0, 'n_estimators': 118, 'num_parallel_tree': 1, 'reg_alpha': 4.0, 'reg_lambda': 73.0, 'tree_method': 'approx'}\n",
      "2024-07-06 18:58:51,004 - __main__ - DEBUG - Predicting on validation set\n",
      "2024-07-06 18:58:51,005 - __main__ - DEBUG - Predicted: 15.032711029052734, True: 34.029\n",
      "2024-07-06 18:58:51,006 - __main__ - DEBUG - Predicted: 13.616734504699707, True: 7.92812\n",
      "2024-07-06 18:58:51,006 - __main__ - DEBUG - Predicted: 8.94454288482666, True: 21.3639\n",
      "2024-07-06 18:58:51,006 - __main__ - DEBUG - Predicted: 9.697351455688477, True: 5.06904\n",
      "2024-07-06 18:58:51,006 - __main__ - DEBUG - Predicted: 10.145880699157715, True: 4.889866\n",
      "2024-07-06 18:58:51,007 - __main__ - DEBUG - Predicted: 7.220677375793457, True: 3.66329\n",
      "2024-07-06 18:58:51,007 - __main__ - DEBUG - Predicted: 9.097887992858887, True: 9.7279\n",
      "2024-07-06 18:58:51,007 - __main__ - DEBUG - Predicted: 7.103160858154297, True: 6.71991\n",
      "2024-07-06 18:58:51,007 - __main__ - DEBUG - Predicted: 10.570199966430664, True: 3.20602\n",
      "2024-07-06 18:58:51,008 - __main__ - DEBUG - Predicted: 9.787666320800781, True: 3.76288\n",
      "2024-07-06 18:58:51,008 - __main__ - DEBUG - Validation MSE: 45.61206262006305\n"
     ]
    },
    {
     "name": "stdout",
     "output_type": "stream",
     "text": [
      "  8%|▊         | 4/50 [09:14<59:48, 78.01s/trial, best loss: 45.553592384306135]   "
     ]
    },
    {
     "name": "stderr",
     "output_type": "stream",
     "text": [
      "2024-07-06 18:58:51,012 - hyperopt.tpe - INFO - build_posterior_wrapper took 0.003184 seconds\n",
      "2024-07-06 18:58:51,013 - hyperopt.tpe - INFO - TPE using 4/4 trials with best loss 45.553592\n",
      "2024-07-06 18:58:51,014 - __main__ - DEBUG - Training with hyperparameters: {'colsample_bytree': 0.6329877481220064, 'early_stopping_rounds': 79, 'eta': 0.04819746309211795, 'gamma': 8.784725342629265, 'max_bin': 697, 'max_depth': 17, 'max_leaves': 34, 'min_child_weight': 8.0, 'n_estimators': 116, 'num_parallel_tree': 10, 'reg_alpha': 84.0, 'reg_lambda': 61.0, 'tree_method': 'exact'}\n",
      "2024-07-06 18:59:18,318 - __main__ - DEBUG - Predicting on validation set\n",
      "2024-07-06 18:59:18,326 - __main__ - DEBUG - Predicted: 12.72854995727539, True: 34.029\n",
      "2024-07-06 18:59:18,326 - __main__ - DEBUG - Predicted: 13.25553035736084, True: 7.92812\n",
      "2024-07-06 18:59:18,327 - __main__ - DEBUG - Predicted: 8.929966926574707, True: 21.3639\n",
      "2024-07-06 18:59:18,327 - __main__ - DEBUG - Predicted: 9.472864151000977, True: 5.06904\n",
      "2024-07-06 18:59:18,328 - __main__ - DEBUG - Predicted: 9.355052947998047, True: 4.889866\n",
      "2024-07-06 18:59:18,328 - __main__ - DEBUG - Predicted: 8.085365295410156, True: 3.66329\n",
      "2024-07-06 18:59:18,328 - __main__ - DEBUG - Predicted: 8.938616752624512, True: 9.7279\n",
      "2024-07-06 18:59:18,329 - __main__ - DEBUG - Predicted: 8.493471145629883, True: 6.71991\n",
      "2024-07-06 18:59:18,330 - __main__ - DEBUG - Predicted: 9.692217826843262, True: 3.20602\n",
      "2024-07-06 18:59:18,330 - __main__ - DEBUG - Predicted: 9.857912063598633, True: 3.76288\n",
      "2024-07-06 18:59:18,331 - __main__ - DEBUG - Validation MSE: 46.6168650686945\n"
     ]
    },
    {
     "name": "stdout",
     "output_type": "stream",
     "text": [
      " 10%|█         | 5/50 [09:41<44:47, 59.73s/trial, best loss: 45.553592384306135]"
     ]
    },
    {
     "name": "stderr",
     "output_type": "stream",
     "text": [
      "2024-07-06 18:59:18,338 - hyperopt.tpe - INFO - build_posterior_wrapper took 0.001886 seconds\n",
      "2024-07-06 18:59:18,338 - hyperopt.tpe - INFO - TPE using 5/5 trials with best loss 45.553592\n",
      "2024-07-06 18:59:18,340 - __main__ - DEBUG - Training with hyperparameters: {'colsample_bytree': 0.6770516316416352, 'early_stopping_rounds': 14, 'eta': 0.11915769100073777, 'gamma': 5.011148998382636, 'max_bin': 427, 'max_depth': 7, 'max_leaves': 423, 'min_child_weight': 6.0, 'n_estimators': 1296, 'num_parallel_tree': 3, 'reg_alpha': 44.0, 'reg_lambda': 16.0, 'tree_method': 'approx'}\n",
      "2024-07-06 18:59:37,056 - __main__ - DEBUG - Predicting on validation set\n",
      "2024-07-06 18:59:37,058 - __main__ - DEBUG - Predicted: 13.196070671081543, True: 34.029\n",
      "2024-07-06 18:59:37,059 - __main__ - DEBUG - Predicted: 14.440710067749023, True: 7.92812\n",
      "2024-07-06 18:59:37,059 - __main__ - DEBUG - Predicted: 8.313318252563477, True: 21.3639\n",
      "2024-07-06 18:59:37,060 - __main__ - DEBUG - Predicted: 10.339505195617676, True: 5.06904\n",
      "2024-07-06 18:59:37,060 - __main__ - DEBUG - Predicted: 8.850757598876953, True: 4.889866\n",
      "2024-07-06 18:59:37,062 - __main__ - DEBUG - Predicted: 8.875247955322266, True: 3.66329\n",
      "2024-07-06 18:59:37,062 - __main__ - DEBUG - Predicted: 8.331406593322754, True: 9.7279\n",
      "2024-07-06 18:59:37,063 - __main__ - DEBUG - Predicted: 7.173952579498291, True: 6.71991\n",
      "2024-07-06 18:59:37,064 - __main__ - DEBUG - Predicted: 8.32386589050293, True: 3.20602\n",
      "2024-07-06 18:59:37,064 - __main__ - DEBUG - Predicted: 10.631134986877441, True: 3.76288\n",
      "2024-07-06 18:59:37,064 - __main__ - DEBUG - Validation MSE: 45.46566692451301\n"
     ]
    },
    {
     "name": "stdout",
     "output_type": "stream",
     "text": [
      " 12%|█▏        | 6/50 [10:00<33:34, 45.79s/trial, best loss: 45.46566692451301] "
     ]
    },
    {
     "name": "stderr",
     "output_type": "stream",
     "text": [
      "2024-07-06 18:59:37,069 - hyperopt.tpe - INFO - build_posterior_wrapper took 0.003819 seconds\n",
      "2024-07-06 18:59:37,071 - hyperopt.tpe - INFO - TPE using 6/6 trials with best loss 45.465667\n",
      "2024-07-06 18:59:37,073 - __main__ - DEBUG - Training with hyperparameters: {'colsample_bytree': 0.8251456796129497, 'early_stopping_rounds': 63, 'eta': 0.11495237770589141, 'gamma': 2.5765077879235436, 'max_bin': 614, 'max_depth': 12, 'max_leaves': 706, 'min_child_weight': 9.0, 'n_estimators': 551, 'num_parallel_tree': 1, 'reg_alpha': 53.0, 'reg_lambda': 68.0, 'tree_method': 'approx'}\n",
      "2024-07-06 19:00:21,835 - __main__ - DEBUG - Predicting on validation set\n",
      "2024-07-06 19:00:21,838 - __main__ - DEBUG - Predicted: 12.71875286102295, True: 34.029\n",
      "2024-07-06 19:00:21,839 - __main__ - DEBUG - Predicted: 12.233691215515137, True: 7.92812\n",
      "2024-07-06 19:00:21,840 - __main__ - DEBUG - Predicted: 10.170912742614746, True: 21.3639\n",
      "2024-07-06 19:00:21,840 - __main__ - DEBUG - Predicted: 7.825685024261475, True: 5.06904\n",
      "2024-07-06 19:00:21,841 - __main__ - DEBUG - Predicted: 8.783506393432617, True: 4.889866\n",
      "2024-07-06 19:00:21,842 - __main__ - DEBUG - Predicted: 7.957021236419678, True: 3.66329\n",
      "2024-07-06 19:00:21,842 - __main__ - DEBUG - Predicted: 8.192864418029785, True: 9.7279\n",
      "2024-07-06 19:00:21,843 - __main__ - DEBUG - Predicted: 8.577874183654785, True: 6.71991\n",
      "2024-07-06 19:00:21,843 - __main__ - DEBUG - Predicted: 8.455514907836914, True: 3.20602\n",
      "2024-07-06 19:00:21,843 - __main__ - DEBUG - Predicted: 8.471816062927246, True: 3.76288\n",
      "2024-07-06 19:00:21,844 - __main__ - DEBUG - Validation MSE: 45.72055495350533\n"
     ]
    },
    {
     "name": "stdout",
     "output_type": "stream",
     "text": [
      " 14%|█▍        | 7/50 [10:45<32:34, 45.46s/trial, best loss: 45.46566692451301]"
     ]
    },
    {
     "name": "stderr",
     "output_type": "stream",
     "text": [
      "2024-07-06 19:00:21,851 - hyperopt.tpe - INFO - build_posterior_wrapper took 0.005632 seconds\n",
      "2024-07-06 19:00:21,852 - hyperopt.tpe - INFO - TPE using 7/7 trials with best loss 45.465667\n",
      "2024-07-06 19:00:21,853 - __main__ - DEBUG - Training with hyperparameters: {'colsample_bytree': 0.6884052951831312, 'early_stopping_rounds': 29, 'eta': 0.27316436685369216, 'gamma': 7.928489638887376, 'max_bin': 718, 'max_depth': 13, 'max_leaves': 493, 'min_child_weight': 2.0, 'n_estimators': 231, 'num_parallel_tree': 8, 'reg_alpha': 15.0, 'reg_lambda': 42.0, 'tree_method': 'exact'}\n",
      "2024-07-06 19:00:35,218 - __main__ - DEBUG - Predicting on validation set\n",
      "2024-07-06 19:00:35,223 - __main__ - DEBUG - Predicted: 12.1338529586792, True: 34.029\n",
      "2024-07-06 19:00:35,224 - __main__ - DEBUG - Predicted: 13.343242645263672, True: 7.92812\n",
      "2024-07-06 19:00:35,224 - __main__ - DEBUG - Predicted: 8.661596298217773, True: 21.3639\n",
      "2024-07-06 19:00:35,226 - __main__ - DEBUG - Predicted: 9.305744171142578, True: 5.06904\n",
      "2024-07-06 19:00:35,226 - __main__ - DEBUG - Predicted: 7.9281206130981445, True: 4.889866\n",
      "2024-07-06 19:00:35,227 - __main__ - DEBUG - Predicted: 8.726407051086426, True: 3.66329\n",
      "2024-07-06 19:00:35,227 - __main__ - DEBUG - Predicted: 8.552990913391113, True: 9.7279\n",
      "2024-07-06 19:00:35,227 - __main__ - DEBUG - Predicted: 9.481904983520508, True: 6.71991\n",
      "2024-07-06 19:00:35,227 - __main__ - DEBUG - Predicted: 9.95206069946289, True: 3.20602\n",
      "2024-07-06 19:00:35,228 - __main__ - DEBUG - Predicted: 9.486966133117676, True: 3.76288\n",
      "2024-07-06 19:00:35,228 - __main__ - DEBUG - Validation MSE: 46.310394415917834\n"
     ]
    },
    {
     "name": "stdout",
     "output_type": "stream",
     "text": [
      " 16%|█▌        | 8/50 [10:58<24:40, 35.25s/trial, best loss: 45.46566692451301]"
     ]
    },
    {
     "name": "stderr",
     "output_type": "stream",
     "text": [
      "2024-07-06 19:00:35,231 - hyperopt.tpe - INFO - build_posterior_wrapper took 0.002220 seconds\n",
      "2024-07-06 19:00:35,232 - hyperopt.tpe - INFO - TPE using 8/8 trials with best loss 45.465667\n",
      "2024-07-06 19:00:35,234 - __main__ - DEBUG - Training with hyperparameters: {'colsample_bytree': 0.6916055213544094, 'early_stopping_rounds': 79, 'eta': 0.18914221470122716, 'gamma': 1.7408225972104514, 'max_bin': 434, 'max_depth': 15, 'max_leaves': 144, 'min_child_weight': 6.0, 'n_estimators': 1873, 'num_parallel_tree': 6, 'reg_alpha': 84.0, 'reg_lambda': 91.0, 'tree_method': 'hist'}\n",
      "2024-07-06 19:01:19,595 - __main__ - DEBUG - Predicting on validation set\n",
      "2024-07-06 19:01:19,598 - __main__ - DEBUG - Predicted: 11.856409072875977, True: 34.029\n",
      "2024-07-06 19:01:19,598 - __main__ - DEBUG - Predicted: 14.21479606628418, True: 7.92812\n",
      "2024-07-06 19:01:19,599 - __main__ - DEBUG - Predicted: 9.473685264587402, True: 21.3639\n",
      "2024-07-06 19:01:19,600 - __main__ - DEBUG - Predicted: 9.556832313537598, True: 5.06904\n",
      "2024-07-06 19:01:19,601 - __main__ - DEBUG - Predicted: 9.995806694030762, True: 4.889866\n",
      "2024-07-06 19:01:19,601 - __main__ - DEBUG - Predicted: 8.47681999206543, True: 3.66329\n",
      "2024-07-06 19:01:19,601 - __main__ - DEBUG - Predicted: 8.52581787109375, True: 9.7279\n",
      "2024-07-06 19:01:19,602 - __main__ - DEBUG - Predicted: 8.727947235107422, True: 6.71991\n",
      "2024-07-06 19:01:19,602 - __main__ - DEBUG - Predicted: 9.810371398925781, True: 3.20602\n",
      "2024-07-06 19:01:19,602 - __main__ - DEBUG - Predicted: 9.662614822387695, True: 3.76288\n",
      "2024-07-06 19:01:19,603 - __main__ - DEBUG - Validation MSE: 45.994491045644246\n"
     ]
    },
    {
     "name": "stdout",
     "output_type": "stream",
     "text": [
      " 18%|█▊        | 9/50 [11:43<26:02, 38.10s/trial, best loss: 45.46566692451301]"
     ]
    },
    {
     "name": "stderr",
     "output_type": "stream",
     "text": [
      "2024-07-06 19:01:19,606 - hyperopt.tpe - INFO - build_posterior_wrapper took 0.001848 seconds\n",
      "2024-07-06 19:01:19,606 - hyperopt.tpe - INFO - TPE using 9/9 trials with best loss 45.465667\n",
      "2024-07-06 19:01:19,611 - __main__ - DEBUG - Training with hyperparameters: {'colsample_bytree': 0.5711004456793691, 'early_stopping_rounds': 21, 'eta': 0.16719059708481046, 'gamma': 1.917245204307302, 'max_bin': 964, 'max_depth': 15, 'max_leaves': 55, 'min_child_weight': 7.0, 'n_estimators': 1381, 'num_parallel_tree': 7, 'reg_alpha': 80.0, 'reg_lambda': 83.0, 'tree_method': 'auto'}\n",
      "2024-07-06 19:02:19,961 - __main__ - DEBUG - Predicting on validation set\n",
      "2024-07-06 19:02:19,963 - __main__ - DEBUG - Predicted: 13.332496643066406, True: 34.029\n",
      "2024-07-06 19:02:19,964 - __main__ - DEBUG - Predicted: 13.99500846862793, True: 7.92812\n",
      "2024-07-06 19:02:19,964 - __main__ - DEBUG - Predicted: 8.68707275390625, True: 21.3639\n",
      "2024-07-06 19:02:19,964 - __main__ - DEBUG - Predicted: 9.277021408081055, True: 5.06904\n",
      "2024-07-06 19:02:19,964 - __main__ - DEBUG - Predicted: 8.879265785217285, True: 4.889866\n",
      "2024-07-06 19:02:19,965 - __main__ - DEBUG - Predicted: 8.125137329101562, True: 3.66329\n",
      "2024-07-06 19:02:19,965 - __main__ - DEBUG - Predicted: 8.77851676940918, True: 9.7279\n",
      "2024-07-06 19:02:19,965 - __main__ - DEBUG - Predicted: 8.690390586853027, True: 6.71991\n",
      "2024-07-06 19:02:19,966 - __main__ - DEBUG - Predicted: 9.40063762664795, True: 3.20602\n",
      "2024-07-06 19:02:19,966 - __main__ - DEBUG - Predicted: 9.24372386932373, True: 3.76288\n",
      "2024-07-06 19:02:19,966 - __main__ - DEBUG - Validation MSE: 46.01642942616659\n"
     ]
    },
    {
     "name": "stdout",
     "output_type": "stream",
     "text": [
      " 20%|██        | 10/50 [12:43<29:58, 44.97s/trial, best loss: 45.46566692451301]"
     ]
    },
    {
     "name": "stderr",
     "output_type": "stream",
     "text": [
      "2024-07-06 19:02:19,969 - hyperopt.tpe - INFO - build_posterior_wrapper took 0.001863 seconds\n",
      "2024-07-06 19:02:19,969 - hyperopt.tpe - INFO - TPE using 10/10 trials with best loss 45.465667\n",
      "2024-07-06 19:02:19,971 - __main__ - DEBUG - Training with hyperparameters: {'colsample_bytree': 0.8385936485124722, 'early_stopping_rounds': 41, 'eta': 0.1381008479059368, 'gamma': 6.276707667332613, 'max_bin': 340, 'max_depth': 13, 'max_leaves': 502, 'min_child_weight': 9.0, 'n_estimators': 106, 'num_parallel_tree': 4, 'reg_alpha': 37.0, 'reg_lambda': 14.0, 'tree_method': 'auto'}\n",
      "2024-07-06 19:02:37,692 - __main__ - DEBUG - Predicting on validation set\n",
      "2024-07-06 19:02:37,694 - __main__ - DEBUG - Predicted: 13.557281494140625, True: 34.029\n",
      "2024-07-06 19:02:37,694 - __main__ - DEBUG - Predicted: 13.445009231567383, True: 7.92812\n",
      "2024-07-06 19:02:37,695 - __main__ - DEBUG - Predicted: 8.652843475341797, True: 21.3639\n",
      "2024-07-06 19:02:37,696 - __main__ - DEBUG - Predicted: 8.917999267578125, True: 5.06904\n",
      "2024-07-06 19:02:37,696 - __main__ - DEBUG - Predicted: 8.366473197937012, True: 4.889866\n",
      "2024-07-06 19:02:37,697 - __main__ - DEBUG - Predicted: 8.557465553283691, True: 3.66329\n",
      "2024-07-06 19:02:37,697 - __main__ - DEBUG - Predicted: 8.889180183410645, True: 9.7279\n",
      "2024-07-06 19:02:37,698 - __main__ - DEBUG - Predicted: 9.23227310180664, True: 6.71991\n",
      "2024-07-06 19:02:37,698 - __main__ - DEBUG - Predicted: 8.05125617980957, True: 3.20602\n",
      "2024-07-06 19:02:37,699 - __main__ - DEBUG - Predicted: 8.672786712646484, True: 3.76288\n",
      "2024-07-06 19:02:37,699 - __main__ - DEBUG - Validation MSE: 46.07852718053025\n"
     ]
    },
    {
     "name": "stdout",
     "output_type": "stream",
     "text": [
      " 22%|██▏       | 11/50 [13:01<23:48, 36.64s/trial, best loss: 45.46566692451301]"
     ]
    },
    {
     "name": "stderr",
     "output_type": "stream",
     "text": [
      "2024-07-06 19:02:37,702 - hyperopt.tpe - INFO - build_posterior_wrapper took 0.001854 seconds\n",
      "2024-07-06 19:02:37,702 - hyperopt.tpe - INFO - TPE using 11/11 trials with best loss 45.465667\n",
      "2024-07-06 19:02:37,704 - __main__ - DEBUG - Training with hyperparameters: {'colsample_bytree': 0.810905275706768, 'early_stopping_rounds': 29, 'eta': 0.18876601556730263, 'gamma': 4.152571799246409, 'max_bin': 156, 'max_depth': 14, 'max_leaves': 571, 'min_child_weight': 9.0, 'n_estimators': 1684, 'num_parallel_tree': 6, 'reg_alpha': 97.0, 'reg_lambda': 90.0, 'tree_method': 'exact'}\n",
      "2024-07-06 19:02:46,245 - __main__ - DEBUG - Predicting on validation set\n",
      "2024-07-06 19:02:46,247 - __main__ - DEBUG - Predicted: 13.355138778686523, True: 34.029\n",
      "2024-07-06 19:02:46,248 - __main__ - DEBUG - Predicted: 13.41165828704834, True: 7.92812\n",
      "2024-07-06 19:02:46,248 - __main__ - DEBUG - Predicted: 8.69568920135498, True: 21.3639\n",
      "2024-07-06 19:02:46,249 - __main__ - DEBUG - Predicted: 10.025318145751953, True: 5.06904\n",
      "2024-07-06 19:02:46,249 - __main__ - DEBUG - Predicted: 8.639867782592773, True: 4.889866\n",
      "2024-07-06 19:02:46,250 - __main__ - DEBUG - Predicted: 8.849688529968262, True: 3.66329\n",
      "2024-07-06 19:02:46,250 - __main__ - DEBUG - Predicted: 9.791338920593262, True: 9.7279\n",
      "2024-07-06 19:02:46,251 - __main__ - DEBUG - Predicted: 8.356422424316406, True: 6.71991\n",
      "2024-07-06 19:02:46,251 - __main__ - DEBUG - Predicted: 9.159141540527344, True: 3.20602\n",
      "2024-07-06 19:02:46,252 - __main__ - DEBUG - Predicted: 9.681925773620605, True: 3.76288\n",
      "2024-07-06 19:02:46,252 - __main__ - DEBUG - Validation MSE: 45.96522602158304\n"
     ]
    },
    {
     "name": "stdout",
     "output_type": "stream",
     "text": [
      " 24%|██▍       | 12/50 [13:09<17:47, 28.09s/trial, best loss: 45.46566692451301]"
     ]
    },
    {
     "name": "stderr",
     "output_type": "stream",
     "text": [
      "2024-07-06 19:02:46,256 - hyperopt.tpe - INFO - build_posterior_wrapper took 0.001909 seconds\n",
      "2024-07-06 19:02:46,257 - hyperopt.tpe - INFO - TPE using 12/12 trials with best loss 45.465667\n",
      "2024-07-06 19:02:46,258 - __main__ - DEBUG - Training with hyperparameters: {'colsample_bytree': 0.7125440285441298, 'early_stopping_rounds': 98, 'eta': 0.014181463617898576, 'gamma': 3.6875493763048155, 'max_bin': 233, 'max_depth': 17, 'max_leaves': 754, 'min_child_weight': 2.0, 'n_estimators': 1609, 'num_parallel_tree': 2, 'reg_alpha': 74.0, 'reg_lambda': 36.0, 'tree_method': 'approx'}\n",
      "2024-07-06 19:05:23,228 - __main__ - DEBUG - Predicting on validation set\n",
      "2024-07-06 19:05:23,234 - __main__ - DEBUG - Predicted: 11.954802513122559, True: 34.029\n",
      "2024-07-06 19:05:23,234 - __main__ - DEBUG - Predicted: 14.904922485351562, True: 7.92812\n",
      "2024-07-06 19:05:23,234 - __main__ - DEBUG - Predicted: 9.266274452209473, True: 21.3639\n",
      "2024-07-06 19:05:23,235 - __main__ - DEBUG - Predicted: 9.190056800842285, True: 5.06904\n",
      "2024-07-06 19:05:23,235 - __main__ - DEBUG - Predicted: 9.905396461486816, True: 4.889866\n",
      "2024-07-06 19:05:23,235 - __main__ - DEBUG - Predicted: 8.148783683776855, True: 3.66329\n",
      "2024-07-06 19:05:23,236 - __main__ - DEBUG - Predicted: 8.68470287322998, True: 9.7279\n",
      "2024-07-06 19:05:23,236 - __main__ - DEBUG - Predicted: 9.487950325012207, True: 6.71991\n",
      "2024-07-06 19:05:23,236 - __main__ - DEBUG - Predicted: 9.56029987335205, True: 3.20602\n",
      "2024-07-06 19:05:23,237 - __main__ - DEBUG - Predicted: 10.25761890411377, True: 3.76288\n",
      "2024-07-06 19:05:23,237 - __main__ - DEBUG - Validation MSE: 46.863590965188955\n"
     ]
    },
    {
     "name": "stdout",
     "output_type": "stream",
     "text": [
      " 26%|██▌       | 13/50 [15:46<41:24, 67.14s/trial, best loss: 45.46566692451301]"
     ]
    },
    {
     "name": "stderr",
     "output_type": "stream",
     "text": [
      "2024-07-06 19:05:23,241 - hyperopt.tpe - INFO - build_posterior_wrapper took 0.001854 seconds\n",
      "2024-07-06 19:05:23,241 - hyperopt.tpe - INFO - TPE using 13/13 trials with best loss 45.465667\n",
      "2024-07-06 19:05:23,242 - __main__ - DEBUG - Training with hyperparameters: {'colsample_bytree': 0.5947716712540506, 'early_stopping_rounds': 38, 'eta': 0.1401691052931357, 'gamma': 2.6360633873898305, 'max_bin': 375, 'max_depth': 12, 'max_leaves': 945, 'min_child_weight': 10.0, 'n_estimators': 869, 'num_parallel_tree': 6, 'reg_alpha': 37.0, 'reg_lambda': 65.0, 'tree_method': 'approx'}\n",
      "2024-07-06 19:06:03,022 - __main__ - DEBUG - Predicting on validation set\n",
      "2024-07-06 19:06:03,024 - __main__ - DEBUG - Predicted: 14.698079109191895, True: 34.029\n",
      "2024-07-06 19:06:03,025 - __main__ - DEBUG - Predicted: 11.832717895507812, True: 7.92812\n",
      "2024-07-06 19:06:03,025 - __main__ - DEBUG - Predicted: 8.52967357635498, True: 21.3639\n",
      "2024-07-06 19:06:03,025 - __main__ - DEBUG - Predicted: 10.619519233703613, True: 5.06904\n",
      "2024-07-06 19:06:03,025 - __main__ - DEBUG - Predicted: 8.78455638885498, True: 4.889866\n",
      "2024-07-06 19:06:03,026 - __main__ - DEBUG - Predicted: 7.55738639831543, True: 3.66329\n",
      "2024-07-06 19:06:03,026 - __main__ - DEBUG - Predicted: 8.212248802185059, True: 9.7279\n",
      "2024-07-06 19:06:03,026 - __main__ - DEBUG - Predicted: 8.144238471984863, True: 6.71991\n",
      "2024-07-06 19:06:03,027 - __main__ - DEBUG - Predicted: 9.085055351257324, True: 3.20602\n",
      "2024-07-06 19:06:03,027 - __main__ - DEBUG - Predicted: 9.454957008361816, True: 3.76288\n",
      "2024-07-06 19:06:03,027 - __main__ - DEBUG - Validation MSE: 46.62823543839223\n"
     ]
    },
    {
     "name": "stdout",
     "output_type": "stream",
     "text": [
      " 28%|██▊       | 14/50 [16:26<35:19, 58.88s/trial, best loss: 45.46566692451301]"
     ]
    },
    {
     "name": "stderr",
     "output_type": "stream",
     "text": [
      "2024-07-06 19:06:03,030 - hyperopt.tpe - INFO - build_posterior_wrapper took 0.001825 seconds\n",
      "2024-07-06 19:06:03,030 - hyperopt.tpe - INFO - TPE using 14/14 trials with best loss 45.465667\n",
      "2024-07-06 19:06:03,032 - __main__ - DEBUG - Training with hyperparameters: {'colsample_bytree': 0.9810847593780387, 'early_stopping_rounds': 15, 'eta': 0.0794796164103781, 'gamma': 1.6963973235162007, 'max_bin': 21, 'max_depth': 7, 'max_leaves': 9, 'min_child_weight': 4.0, 'n_estimators': 1798, 'num_parallel_tree': 3, 'reg_alpha': 12.0, 'reg_lambda': 65.0, 'tree_method': 'exact'}\n",
      "2024-07-06 19:06:07,265 - __main__ - DEBUG - Predicting on validation set\n",
      "2024-07-06 19:06:07,267 - __main__ - DEBUG - Predicted: 13.617244720458984, True: 34.029\n",
      "2024-07-06 19:06:07,267 - __main__ - DEBUG - Predicted: 12.522762298583984, True: 7.92812\n",
      "2024-07-06 19:06:07,268 - __main__ - DEBUG - Predicted: 8.259292602539062, True: 21.3639\n",
      "2024-07-06 19:06:07,268 - __main__ - DEBUG - Predicted: 8.430542945861816, True: 5.06904\n",
      "2024-07-06 19:06:07,268 - __main__ - DEBUG - Predicted: 8.841073989868164, True: 4.889866\n",
      "2024-07-06 19:06:07,268 - __main__ - DEBUG - Predicted: 8.343936920166016, True: 3.66329\n",
      "2024-07-06 19:06:07,269 - __main__ - DEBUG - Predicted: 8.720802307128906, True: 9.7279\n",
      "2024-07-06 19:06:07,269 - __main__ - DEBUG - Predicted: 8.619508743286133, True: 6.71991\n",
      "2024-07-06 19:06:07,269 - __main__ - DEBUG - Predicted: 9.13054084777832, True: 3.20602\n",
      "2024-07-06 19:06:07,269 - __main__ - DEBUG - Predicted: 8.794634819030762, True: 3.76288\n",
      "2024-07-06 19:06:07,270 - __main__ - DEBUG - Validation MSE: 46.08152691235781\n"
     ]
    },
    {
     "name": "stdout",
     "output_type": "stream",
     "text": [
      " 30%|███       | 15/50 [16:30<24:44, 42.41s/trial, best loss: 45.46566692451301]"
     ]
    },
    {
     "name": "stderr",
     "output_type": "stream",
     "text": [
      "2024-07-06 19:06:07,273 - hyperopt.tpe - INFO - build_posterior_wrapper took 0.001841 seconds\n",
      "2024-07-06 19:06:07,273 - hyperopt.tpe - INFO - TPE using 15/15 trials with best loss 45.465667\n",
      "2024-07-06 19:06:07,274 - __main__ - DEBUG - Training with hyperparameters: {'colsample_bytree': 0.9828959471118461, 'early_stopping_rounds': 69, 'eta': 0.11152211489084837, 'gamma': 4.29593524566216, 'max_bin': 46, 'max_depth': 8, 'max_leaves': 603, 'min_child_weight': 1.0, 'n_estimators': 1398, 'num_parallel_tree': 3, 'reg_alpha': 63.0, 'reg_lambda': 18.0, 'tree_method': 'hist'}\n",
      "2024-07-06 19:06:09,717 - __main__ - DEBUG - Predicting on validation set\n",
      "2024-07-06 19:06:09,718 - __main__ - DEBUG - Predicted: 14.251519203186035, True: 34.029\n",
      "2024-07-06 19:06:09,718 - __main__ - DEBUG - Predicted: 14.24848461151123, True: 7.92812\n",
      "2024-07-06 19:06:09,719 - __main__ - DEBUG - Predicted: 6.819026947021484, True: 21.3639\n",
      "2024-07-06 19:06:09,719 - __main__ - DEBUG - Predicted: 9.853157043457031, True: 5.06904\n",
      "2024-07-06 19:06:09,719 - __main__ - DEBUG - Predicted: 8.648872375488281, True: 4.889866\n",
      "2024-07-06 19:06:09,720 - __main__ - DEBUG - Predicted: 9.262558937072754, True: 3.66329\n",
      "2024-07-06 19:06:09,720 - __main__ - DEBUG - Predicted: 9.823236465454102, True: 9.7279\n",
      "2024-07-06 19:06:09,720 - __main__ - DEBUG - Predicted: 9.243934631347656, True: 6.71991\n",
      "2024-07-06 19:06:09,720 - __main__ - DEBUG - Predicted: 9.96240234375, True: 3.20602\n",
      "2024-07-06 19:06:09,721 - __main__ - DEBUG - Predicted: 8.692782402038574, True: 3.76288\n",
      "2024-07-06 19:06:09,721 - __main__ - DEBUG - Validation MSE: 46.01971283178183\n"
     ]
    },
    {
     "name": "stdout",
     "output_type": "stream",
     "text": [
      " 32%|███▏      | 16/50 [16:33<17:12, 30.38s/trial, best loss: 45.46566692451301]"
     ]
    },
    {
     "name": "stderr",
     "output_type": "stream",
     "text": [
      "2024-07-06 19:06:09,724 - hyperopt.tpe - INFO - build_posterior_wrapper took 0.001923 seconds\n",
      "2024-07-06 19:06:09,724 - hyperopt.tpe - INFO - TPE using 16/16 trials with best loss 45.465667\n",
      "2024-07-06 19:06:09,725 - __main__ - DEBUG - Training with hyperparameters: {'colsample_bytree': 0.642211390072627, 'early_stopping_rounds': 88, 'eta': 0.22670402672050752, 'gamma': 5.322695715798973, 'max_bin': 588, 'max_depth': 10, 'max_leaves': 355, 'min_child_weight': 5.0, 'n_estimators': 1759, 'num_parallel_tree': 4, 'reg_alpha': 87.0, 'reg_lambda': 6.0, 'tree_method': 'approx'}\n",
      "2024-07-06 19:06:24,978 - __main__ - DEBUG - Predicting on validation set\n",
      "2024-07-06 19:06:24,980 - __main__ - DEBUG - Predicted: 14.679614067077637, True: 34.029\n",
      "2024-07-06 19:06:24,980 - __main__ - DEBUG - Predicted: 13.654402732849121, True: 7.92812\n",
      "2024-07-06 19:06:24,980 - __main__ - DEBUG - Predicted: 9.299552917480469, True: 21.3639\n",
      "2024-07-06 19:06:24,981 - __main__ - DEBUG - Predicted: 12.460803031921387, True: 5.06904\n",
      "2024-07-06 19:06:24,981 - __main__ - DEBUG - Predicted: 9.94229793548584, True: 4.889866\n",
      "2024-07-06 19:06:24,981 - __main__ - DEBUG - Predicted: 9.268436431884766, True: 3.66329\n",
      "2024-07-06 19:06:24,981 - __main__ - DEBUG - Predicted: 7.901279449462891, True: 9.7279\n",
      "2024-07-06 19:06:24,982 - __main__ - DEBUG - Predicted: 8.2503080368042, True: 6.71991\n",
      "2024-07-06 19:06:24,982 - __main__ - DEBUG - Predicted: 10.033804893493652, True: 3.20602\n",
      "2024-07-06 19:06:24,982 - __main__ - DEBUG - Predicted: 11.649310111999512, True: 3.76288\n",
      "2024-07-06 19:06:24,982 - __main__ - DEBUG - Validation MSE: 47.73234838414332\n"
     ]
    },
    {
     "name": "stdout",
     "output_type": "stream",
     "text": [
      " 34%|███▍      | 17/50 [16:48<14:12, 25.84s/trial, best loss: 45.46566692451301]"
     ]
    },
    {
     "name": "stderr",
     "output_type": "stream",
     "text": [
      "2024-07-06 19:06:24,986 - hyperopt.tpe - INFO - build_posterior_wrapper took 0.001822 seconds\n",
      "2024-07-06 19:06:24,986 - hyperopt.tpe - INFO - TPE using 17/17 trials with best loss 45.465667\n",
      "2024-07-06 19:06:24,987 - __main__ - DEBUG - Training with hyperparameters: {'colsample_bytree': 0.9534185887506597, 'early_stopping_rounds': 50, 'eta': 0.031992515781441626, 'gamma': 2.7657730130159424, 'max_bin': 214, 'max_depth': 10, 'max_leaves': 797, 'min_child_weight': 7.0, 'n_estimators': 998, 'num_parallel_tree': 8, 'reg_alpha': 23.0, 'reg_lambda': 16.0, 'tree_method': 'exact'}\n",
      "2024-07-06 19:06:48,190 - __main__ - DEBUG - Predicting on validation set\n",
      "2024-07-06 19:06:48,194 - __main__ - DEBUG - Predicted: 12.658024787902832, True: 34.029\n",
      "2024-07-06 19:06:48,195 - __main__ - DEBUG - Predicted: 12.293152809143066, True: 7.92812\n",
      "2024-07-06 19:06:48,195 - __main__ - DEBUG - Predicted: 8.892012596130371, True: 21.3639\n",
      "2024-07-06 19:06:48,195 - __main__ - DEBUG - Predicted: 9.255659103393555, True: 5.06904\n",
      "2024-07-06 19:06:48,196 - __main__ - DEBUG - Predicted: 8.800664901733398, True: 4.889866\n",
      "2024-07-06 19:06:48,196 - __main__ - DEBUG - Predicted: 9.823616981506348, True: 3.66329\n",
      "2024-07-06 19:06:48,196 - __main__ - DEBUG - Predicted: 8.007837295532227, True: 9.7279\n",
      "2024-07-06 19:06:48,197 - __main__ - DEBUG - Predicted: 9.591970443725586, True: 6.71991\n",
      "2024-07-06 19:06:48,197 - __main__ - DEBUG - Predicted: 8.705535888671875, True: 3.20602\n",
      "2024-07-06 19:06:48,197 - __main__ - DEBUG - Predicted: 9.296148300170898, True: 3.76288\n",
      "2024-07-06 19:06:48,197 - __main__ - DEBUG - Validation MSE: 46.06123078611829\n"
     ]
    },
    {
     "name": "stdout",
     "output_type": "stream",
     "text": [
      " 36%|███▌      | 18/50 [17:11<13:21, 25.05s/trial, best loss: 45.46566692451301]"
     ]
    },
    {
     "name": "stderr",
     "output_type": "stream",
     "text": [
      "2024-07-06 19:06:48,200 - hyperopt.tpe - INFO - build_posterior_wrapper took 0.001819 seconds\n",
      "2024-07-06 19:06:48,201 - hyperopt.tpe - INFO - TPE using 18/18 trials with best loss 45.465667\n",
      "2024-07-06 19:06:48,202 - __main__ - DEBUG - Training with hyperparameters: {'colsample_bytree': 0.6704060592761238, 'early_stopping_rounds': 17, 'eta': 0.06567046868714295, 'gamma': 6.573691515374302, 'max_bin': 967, 'max_depth': 11, 'max_leaves': 674, 'min_child_weight': 9.0, 'n_estimators': 853, 'num_parallel_tree': 10, 'reg_alpha': 14.0, 'reg_lambda': 90.0, 'tree_method': 'hist'}\n",
      "2024-07-06 19:10:46,699 - __main__ - DEBUG - Predicting on validation set\n",
      "2024-07-06 19:10:46,765 - __main__ - DEBUG - Predicted: 13.875163078308105, True: 34.029\n",
      "2024-07-06 19:10:46,765 - __main__ - DEBUG - Predicted: 13.5359525680542, True: 7.92812\n",
      "2024-07-06 19:10:46,766 - __main__ - DEBUG - Predicted: 9.249380111694336, True: 21.3639\n",
      "2024-07-06 19:10:46,766 - __main__ - DEBUG - Predicted: 9.309045791625977, True: 5.06904\n",
      "2024-07-06 19:10:46,766 - __main__ - DEBUG - Predicted: 9.078804969787598, True: 4.889866\n",
      "2024-07-06 19:10:46,767 - __main__ - DEBUG - Predicted: 8.327757835388184, True: 3.66329\n",
      "2024-07-06 19:10:46,767 - __main__ - DEBUG - Predicted: 8.847617149353027, True: 9.7279\n",
      "2024-07-06 19:10:46,767 - __main__ - DEBUG - Predicted: 9.00516414642334, True: 6.71991\n",
      "2024-07-06 19:10:46,768 - __main__ - DEBUG - Predicted: 9.49824047088623, True: 3.20602\n",
      "2024-07-06 19:10:46,768 - __main__ - DEBUG - Predicted: 9.503704071044922, True: 3.76288\n",
      "2024-07-06 19:10:46,768 - __main__ - DEBUG - Validation MSE: 46.10768951689466\n"
     ]
    },
    {
     "name": "stdout",
     "output_type": "stream",
     "text": [
      " 38%|███▊      | 19/50 [21:10<46:04, 89.18s/trial, best loss: 45.46566692451301]"
     ]
    },
    {
     "name": "stderr",
     "output_type": "stream",
     "text": [
      "2024-07-06 19:10:46,776 - hyperopt.tpe - INFO - build_posterior_wrapper took 0.001926 seconds\n",
      "2024-07-06 19:10:46,776 - hyperopt.tpe - INFO - TPE using 19/19 trials with best loss 45.465667\n",
      "2024-07-06 19:10:46,777 - __main__ - DEBUG - Training with hyperparameters: {'colsample_bytree': 0.6781218973023233, 'early_stopping_rounds': 95, 'eta': 0.16625357918809447, 'gamma': 2.5190690703704854, 'max_bin': 19, 'max_depth': 13, 'max_leaves': 649, 'min_child_weight': 5.0, 'n_estimators': 690, 'num_parallel_tree': 5, 'reg_alpha': 7.0, 'reg_lambda': 4.0, 'tree_method': 'hist'}\n",
      "2024-07-06 19:10:49,949 - __main__ - DEBUG - Predicting on validation set\n",
      "2024-07-06 19:10:49,951 - __main__ - DEBUG - Predicted: 13.526080131530762, True: 34.029\n",
      "2024-07-06 19:10:49,951 - __main__ - DEBUG - Predicted: 13.325998306274414, True: 7.92812\n",
      "2024-07-06 19:10:49,951 - __main__ - DEBUG - Predicted: 6.955358505249023, True: 21.3639\n",
      "2024-07-06 19:10:49,952 - __main__ - DEBUG - Predicted: 8.245622634887695, True: 5.06904\n",
      "2024-07-06 19:10:49,953 - __main__ - DEBUG - Predicted: 9.007854461669922, True: 4.889866\n",
      "2024-07-06 19:10:49,953 - __main__ - DEBUG - Predicted: 8.648638725280762, True: 3.66329\n",
      "2024-07-06 19:10:49,954 - __main__ - DEBUG - Predicted: 9.391021728515625, True: 9.7279\n",
      "2024-07-06 19:10:49,954 - __main__ - DEBUG - Predicted: 8.643257141113281, True: 6.71991\n",
      "2024-07-06 19:10:49,955 - __main__ - DEBUG - Predicted: 9.563007354736328, True: 3.20602\n",
      "2024-07-06 19:10:49,955 - __main__ - DEBUG - Predicted: 8.463668823242188, True: 3.76288\n",
      "2024-07-06 19:10:49,956 - __main__ - DEBUG - Validation MSE: 45.39321255883661\n"
     ]
    },
    {
     "name": "stdout",
     "output_type": "stream",
     "text": [
      " 40%|████      | 20/50 [21:13<31:40, 63.36s/trial, best loss: 45.39321255883661]"
     ]
    },
    {
     "name": "stderr",
     "output_type": "stream",
     "text": [
      "2024-07-06 19:10:49,960 - hyperopt.tpe - INFO - build_posterior_wrapper took 0.001914 seconds\n",
      "2024-07-06 19:10:49,961 - hyperopt.tpe - INFO - TPE using 20/20 trials with best loss 45.393213\n",
      "2024-07-06 19:10:49,975 - __main__ - DEBUG - Training with hyperparameters: {'colsample_bytree': 0.5073304858660542, 'early_stopping_rounds': 99, 'eta': 0.24178784646942494, 'gamma': 5.248545846912372, 'max_bin': 89, 'max_depth': 8, 'max_leaves': 310, 'min_child_weight': 4.0, 'n_estimators': 1210, 'num_parallel_tree': 4, 'reg_alpha': 39.0, 'reg_lambda': 3.0, 'tree_method': 'hist'}\n",
      "2024-07-06 19:10:53,251 - __main__ - DEBUG - Predicting on validation set\n",
      "2024-07-06 19:10:53,253 - __main__ - DEBUG - Predicted: 13.931130409240723, True: 34.029\n",
      "2024-07-06 19:10:53,253 - __main__ - DEBUG - Predicted: 13.301044464111328, True: 7.92812\n",
      "2024-07-06 19:10:53,254 - __main__ - DEBUG - Predicted: 8.233084678649902, True: 21.3639\n",
      "2024-07-06 19:10:53,254 - __main__ - DEBUG - Predicted: 9.133147239685059, True: 5.06904\n",
      "2024-07-06 19:10:53,254 - __main__ - DEBUG - Predicted: 9.595000267028809, True: 4.889866\n",
      "2024-07-06 19:10:53,254 - __main__ - DEBUG - Predicted: 8.20058822631836, True: 3.66329\n",
      "2024-07-06 19:10:53,255 - __main__ - DEBUG - Predicted: 7.0772480964660645, True: 9.7279\n",
      "2024-07-06 19:10:53,255 - __main__ - DEBUG - Predicted: 9.08415412902832, True: 6.71991\n",
      "2024-07-06 19:10:53,255 - __main__ - DEBUG - Predicted: 9.147533416748047, True: 3.20602\n",
      "2024-07-06 19:10:53,256 - __main__ - DEBUG - Predicted: 7.490016937255859, True: 3.76288\n",
      "2024-07-06 19:10:53,256 - __main__ - DEBUG - Validation MSE: 45.706063202275715\n"
     ]
    },
    {
     "name": "stdout",
     "output_type": "stream",
     "text": [
      " 42%|████▏     | 21/50 [21:16<21:54, 45.33s/trial, best loss: 45.39321255883661]"
     ]
    },
    {
     "name": "stderr",
     "output_type": "stream",
     "text": [
      "2024-07-06 19:10:53,259 - hyperopt.tpe - INFO - build_posterior_wrapper took 0.001852 seconds\n",
      "2024-07-06 19:10:53,259 - hyperopt.tpe - INFO - TPE using 21/21 trials with best loss 45.393213\n",
      "2024-07-06 19:10:53,276 - __main__ - DEBUG - Training with hyperparameters: {'colsample_bytree': 0.7580082058135169, 'early_stopping_rounds': 72, 'eta': 0.10043760471009, 'gamma': 6.71874255339172, 'max_bin': 841, 'max_depth': 5, 'max_leaves': 213, 'min_child_weight': 4.0, 'n_estimators': 677, 'num_parallel_tree': 5, 'reg_alpha': 28.0, 'reg_lambda': 25.0, 'tree_method': 'hist'}\n",
      "2024-07-06 19:11:40,511 - __main__ - DEBUG - Predicting on validation set\n",
      "2024-07-06 19:11:40,514 - __main__ - DEBUG - Predicted: 14.514705657958984, True: 34.029\n",
      "2024-07-06 19:11:40,515 - __main__ - DEBUG - Predicted: 13.946259498596191, True: 7.92812\n",
      "2024-07-06 19:11:40,515 - __main__ - DEBUG - Predicted: 9.542401313781738, True: 21.3639\n",
      "2024-07-06 19:11:40,516 - __main__ - DEBUG - Predicted: 8.323452949523926, True: 5.06904\n",
      "2024-07-06 19:11:40,516 - __main__ - DEBUG - Predicted: 10.447063446044922, True: 4.889866\n",
      "2024-07-06 19:11:40,517 - __main__ - DEBUG - Predicted: 8.446253776550293, True: 3.66329\n",
      "2024-07-06 19:11:40,517 - __main__ - DEBUG - Predicted: 9.133935928344727, True: 9.7279\n",
      "2024-07-06 19:11:40,518 - __main__ - DEBUG - Predicted: 8.393479347229004, True: 6.71991\n",
      "2024-07-06 19:11:40,518 - __main__ - DEBUG - Predicted: 10.371919631958008, True: 3.20602\n",
      "2024-07-06 19:11:40,519 - __main__ - DEBUG - Predicted: 9.670857429504395, True: 3.76288\n",
      "2024-07-06 19:11:40,519 - __main__ - DEBUG - Validation MSE: 45.219764907164524\n"
     ]
    },
    {
     "name": "stdout",
     "output_type": "stream",
     "text": [
      " 44%|████▍     | 22/50 [22:04<21:25, 45.91s/trial, best loss: 45.219764907164524]"
     ]
    },
    {
     "name": "stderr",
     "output_type": "stream",
     "text": [
      "2024-07-06 19:11:40,524 - hyperopt.tpe - INFO - build_posterior_wrapper took 0.003111 seconds\n",
      "2024-07-06 19:11:40,526 - hyperopt.tpe - INFO - TPE using 22/22 trials with best loss 45.219765\n",
      "2024-07-06 19:11:40,545 - __main__ - DEBUG - Training with hyperparameters: {'colsample_bytree': 0.7642067595325838, 'early_stopping_rounds': 75, 'eta': 0.20075958881866546, 'gamma': 6.704361866652684, 'max_bin': 824, 'max_depth': 3, 'max_leaves': 201, 'min_child_weight': 4.0, 'n_estimators': 619, 'num_parallel_tree': 5, 'reg_alpha': 27.0, 'reg_lambda': 27.0, 'tree_method': 'hist'}\n",
      "2024-07-06 19:11:53,832 - __main__ - DEBUG - Predicting on validation set\n",
      "2024-07-06 19:11:53,838 - __main__ - DEBUG - Predicted: 13.170001983642578, True: 34.029\n",
      "2024-07-06 19:11:53,839 - __main__ - DEBUG - Predicted: 13.263715744018555, True: 7.92812\n",
      "2024-07-06 19:11:53,839 - __main__ - DEBUG - Predicted: 8.21387767791748, True: 21.3639\n",
      "2024-07-06 19:11:53,840 - __main__ - DEBUG - Predicted: 9.223236083984375, True: 5.06904\n",
      "2024-07-06 19:11:53,840 - __main__ - DEBUG - Predicted: 9.384973526000977, True: 4.889866\n",
      "2024-07-06 19:11:53,841 - __main__ - DEBUG - Predicted: 8.198482513427734, True: 3.66329\n",
      "2024-07-06 19:11:53,841 - __main__ - DEBUG - Predicted: 8.60938835144043, True: 9.7279\n",
      "2024-07-06 19:11:53,842 - __main__ - DEBUG - Predicted: 9.090912818908691, True: 6.71991\n",
      "2024-07-06 19:11:53,842 - __main__ - DEBUG - Predicted: 8.73276138305664, True: 3.20602\n",
      "2024-07-06 19:11:53,843 - __main__ - DEBUG - Predicted: 9.937662124633789, True: 3.76288\n",
      "2024-07-06 19:11:53,843 - __main__ - DEBUG - Validation MSE: 45.538551195958625\n"
     ]
    },
    {
     "name": "stdout",
     "output_type": "stream",
     "text": [
      " 46%|████▌     | 23/50 [22:17<16:15, 36.13s/trial, best loss: 45.219764907164524]"
     ]
    },
    {
     "name": "stderr",
     "output_type": "stream",
     "text": [
      "2024-07-06 19:11:53,849 - hyperopt.tpe - INFO - build_posterior_wrapper took 0.003355 seconds\n",
      "2024-07-06 19:11:53,850 - hyperopt.tpe - INFO - TPE using 23/23 trials with best loss 45.219765\n",
      "2024-07-06 19:11:53,864 - __main__ - DEBUG - Training with hyperparameters: {'colsample_bytree': 0.7634165125648185, 'early_stopping_rounds': 88, 'eta': 0.0875936104336164, 'gamma': 5.973657162464473, 'max_bin': 833, 'max_depth': 4, 'max_leaves': 866, 'min_child_weight': 3.0, 'n_estimators': 588, 'num_parallel_tree': 5, 'reg_alpha': 6.0, 'reg_lambda': 48.0, 'tree_method': 'hist'}\n",
      "2024-07-06 19:12:27,243 - __main__ - DEBUG - Predicting on validation set\n",
      "2024-07-06 19:12:27,245 - __main__ - DEBUG - Predicted: 14.568062782287598, True: 34.029\n",
      "2024-07-06 19:12:27,246 - __main__ - DEBUG - Predicted: 13.460611343383789, True: 7.92812\n",
      "2024-07-06 19:12:27,246 - __main__ - DEBUG - Predicted: 9.329089164733887, True: 21.3639\n",
      "2024-07-06 19:12:27,246 - __main__ - DEBUG - Predicted: 8.686179161071777, True: 5.06904\n",
      "2024-07-06 19:12:27,246 - __main__ - DEBUG - Predicted: 9.304166793823242, True: 4.889866\n",
      "2024-07-06 19:12:27,247 - __main__ - DEBUG - Predicted: 8.44340991973877, True: 3.66329\n",
      "2024-07-06 19:12:27,247 - __main__ - DEBUG - Predicted: 9.664266586303711, True: 9.7279\n",
      "2024-07-06 19:12:27,247 - __main__ - DEBUG - Predicted: 8.766571044921875, True: 6.71991\n",
      "2024-07-06 19:12:27,247 - __main__ - DEBUG - Predicted: 9.25273609161377, True: 3.20602\n",
      "2024-07-06 19:12:27,248 - __main__ - DEBUG - Predicted: 9.05661678314209, True: 3.76288\n",
      "2024-07-06 19:12:27,248 - __main__ - DEBUG - Validation MSE: 45.45094566483774\n"
     ]
    },
    {
     "name": "stdout",
     "output_type": "stream",
     "text": [
      " 48%|████▊     | 24/50 [22:50<15:18, 35.31s/trial, best loss: 45.219764907164524]"
     ]
    },
    {
     "name": "stderr",
     "output_type": "stream",
     "text": [
      "2024-07-06 19:12:27,251 - hyperopt.tpe - INFO - build_posterior_wrapper took 0.001874 seconds\n",
      "2024-07-06 19:12:27,252 - hyperopt.tpe - INFO - TPE using 24/24 trials with best loss 45.219765\n",
      "2024-07-06 19:12:27,262 - __main__ - DEBUG - Training with hyperparameters: {'colsample_bytree': 0.9015505216624664, 'early_stopping_rounds': 68, 'eta': 0.16453603218688503, 'gamma': 7.214530663729615, 'max_bin': 899, 'max_depth': 5, 'max_leaves': 140, 'min_child_weight': 5.0, 'n_estimators': 758, 'num_parallel_tree': 7, 'reg_alpha': 26.0, 'reg_lambda': 24.0, 'tree_method': 'hist'}\n",
      "2024-07-06 19:13:19,593 - __main__ - DEBUG - Predicting on validation set\n",
      "2024-07-06 19:13:19,598 - __main__ - DEBUG - Predicted: 14.778807640075684, True: 34.029\n",
      "2024-07-06 19:13:19,598 - __main__ - DEBUG - Predicted: 13.738945960998535, True: 7.92812\n",
      "2024-07-06 19:13:19,599 - __main__ - DEBUG - Predicted: 8.970857620239258, True: 21.3639\n",
      "2024-07-06 19:13:19,599 - __main__ - DEBUG - Predicted: 9.872247695922852, True: 5.06904\n",
      "2024-07-06 19:13:19,599 - __main__ - DEBUG - Predicted: 8.143646240234375, True: 4.889866\n",
      "2024-07-06 19:13:19,600 - __main__ - DEBUG - Predicted: 8.512154579162598, True: 3.66329\n",
      "2024-07-06 19:13:19,600 - __main__ - DEBUG - Predicted: 8.342206001281738, True: 9.7279\n",
      "2024-07-06 19:13:19,600 - __main__ - DEBUG - Predicted: 8.257680892944336, True: 6.71991\n",
      "2024-07-06 19:13:19,600 - __main__ - DEBUG - Predicted: 9.199685096740723, True: 3.20602\n",
      "2024-07-06 19:13:19,601 - __main__ - DEBUG - Predicted: 8.953524589538574, True: 3.76288\n",
      "2024-07-06 19:13:19,601 - __main__ - DEBUG - Validation MSE: 45.25891214354608\n"
     ]
    },
    {
     "name": "stdout",
     "output_type": "stream",
     "text": [
      " 50%|█████     | 25/50 [23:43<16:50, 40.43s/trial, best loss: 45.219764907164524]"
     ]
    },
    {
     "name": "stderr",
     "output_type": "stream",
     "text": [
      "2024-07-06 19:13:19,604 - hyperopt.tpe - INFO - build_posterior_wrapper took 0.001906 seconds\n",
      "2024-07-06 19:13:19,604 - hyperopt.tpe - INFO - TPE using 25/25 trials with best loss 45.219765\n",
      "2024-07-06 19:13:19,620 - __main__ - DEBUG - Training with hyperparameters: {'colsample_bytree': 0.9059491926661292, 'early_stopping_rounds': 61, 'eta': 0.09521666051691245, 'gamma': 6.964586504082723, 'max_bin': 877, 'max_depth': 5, 'max_leaves': 213, 'min_child_weight': 3.0, 'n_estimators': 396, 'num_parallel_tree': 9, 'reg_alpha': 26.0, 'reg_lambda': 54.0, 'tree_method': 'hist'}\n",
      "2024-07-06 19:15:31,697 - __main__ - DEBUG - Predicting on validation set\n",
      "2024-07-06 19:15:31,701 - __main__ - DEBUG - Predicted: 15.338054656982422, True: 34.029\n",
      "2024-07-06 19:15:31,701 - __main__ - DEBUG - Predicted: 15.004312515258789, True: 7.92812\n",
      "2024-07-06 19:15:31,701 - __main__ - DEBUG - Predicted: 10.284995079040527, True: 21.3639\n",
      "2024-07-06 19:15:31,702 - __main__ - DEBUG - Predicted: 8.754481315612793, True: 5.06904\n",
      "2024-07-06 19:15:31,702 - __main__ - DEBUG - Predicted: 9.323572158813477, True: 4.889866\n",
      "2024-07-06 19:15:31,702 - __main__ - DEBUG - Predicted: 9.379057884216309, True: 3.66329\n",
      "2024-07-06 19:15:31,703 - __main__ - DEBUG - Predicted: 9.793357849121094, True: 9.7279\n",
      "2024-07-06 19:15:31,703 - __main__ - DEBUG - Predicted: 7.498363494873047, True: 6.71991\n",
      "2024-07-06 19:15:31,703 - __main__ - DEBUG - Predicted: 10.736312866210938, True: 3.20602\n",
      "2024-07-06 19:15:31,703 - __main__ - DEBUG - Predicted: 8.209856986999512, True: 3.76288\n",
      "2024-07-06 19:15:31,704 - __main__ - DEBUG - Validation MSE: 44.98504367675202\n"
     ]
    },
    {
     "name": "stdout",
     "output_type": "stream",
     "text": [
      " 52%|█████▏    | 26/50 [25:55<27:10, 67.93s/trial, best loss: 44.98504367675202] "
     ]
    },
    {
     "name": "stderr",
     "output_type": "stream",
     "text": [
      "2024-07-06 19:15:31,707 - hyperopt.tpe - INFO - build_posterior_wrapper took 0.001914 seconds\n",
      "2024-07-06 19:15:31,708 - hyperopt.tpe - INFO - TPE using 26/26 trials with best loss 44.985044\n",
      "2024-07-06 19:15:31,736 - __main__ - DEBUG - Training with hyperparameters: {'colsample_bytree': 0.8990260694064123, 'early_stopping_rounds': 54, 'eta': 0.0955176693541196, 'gamma': 8.778244675173939, 'max_bin': 858, 'max_depth': 6, 'max_leaves': 112, 'min_child_weight': 3.0, 'n_estimators': 439, 'num_parallel_tree': 9, 'reg_alpha': 31.0, 'reg_lambda': 55.0, 'tree_method': 'hist'}\n",
      "2024-07-06 19:17:37,097 - __main__ - DEBUG - Predicting on validation set\n",
      "2024-07-06 19:17:37,101 - __main__ - DEBUG - Predicted: 14.555344581604004, True: 34.029\n",
      "2024-07-06 19:17:37,101 - __main__ - DEBUG - Predicted: 14.55608081817627, True: 7.92812\n",
      "2024-07-06 19:17:37,101 - __main__ - DEBUG - Predicted: 8.488070487976074, True: 21.3639\n",
      "2024-07-06 19:17:37,102 - __main__ - DEBUG - Predicted: 8.370915412902832, True: 5.06904\n",
      "2024-07-06 19:17:37,102 - __main__ - DEBUG - Predicted: 9.995820999145508, True: 4.889866\n",
      "2024-07-06 19:17:37,102 - __main__ - DEBUG - Predicted: 8.811485290527344, True: 3.66329\n",
      "2024-07-06 19:17:37,103 - __main__ - DEBUG - Predicted: 7.814879894256592, True: 9.7279\n",
      "2024-07-06 19:17:37,103 - __main__ - DEBUG - Predicted: 7.379724025726318, True: 6.71991\n",
      "2024-07-06 19:17:37,103 - __main__ - DEBUG - Predicted: 9.705705642700195, True: 3.20602\n",
      "2024-07-06 19:17:37,104 - __main__ - DEBUG - Predicted: 9.610304832458496, True: 3.76288\n",
      "2024-07-06 19:17:37,104 - __main__ - DEBUG - Validation MSE: 45.64840463012679\n"
     ]
    },
    {
     "name": "stdout",
     "output_type": "stream",
     "text": [
      " 54%|█████▍    | 27/50 [28:00<32:38, 85.17s/trial, best loss: 44.98504367675202]"
     ]
    },
    {
     "name": "stderr",
     "output_type": "stream",
     "text": [
      "2024-07-06 19:17:37,108 - hyperopt.tpe - INFO - build_posterior_wrapper took 0.001868 seconds\n",
      "2024-07-06 19:17:37,109 - hyperopt.tpe - INFO - TPE using 27/27 trials with best loss 44.985044\n",
      "2024-07-06 19:17:37,120 - __main__ - DEBUG - Training with hyperparameters: {'colsample_bytree': 0.8986329449200815, 'early_stopping_rounds': 63, 'eta': 0.03756209181529159, 'gamma': 7.432963485471372, 'max_bin': 1022, 'max_depth': 9, 'max_leaves': 253, 'min_child_weight': 1.0, 'n_estimators': 342, 'num_parallel_tree': 9, 'reg_alpha': 47.0, 'reg_lambda': 48.0, 'tree_method': 'hist'}\n",
      "2024-07-06 19:25:26,297 - __main__ - DEBUG - Predicting on validation set\n",
      "2024-07-06 19:25:26,306 - __main__ - DEBUG - Predicted: 12.927937507629395, True: 34.029\n",
      "2024-07-06 19:25:26,307 - __main__ - DEBUG - Predicted: 13.651555061340332, True: 7.92812\n",
      "2024-07-06 19:25:26,307 - __main__ - DEBUG - Predicted: 8.63252067565918, True: 21.3639\n",
      "2024-07-06 19:25:26,307 - __main__ - DEBUG - Predicted: 9.441346168518066, True: 5.06904\n",
      "2024-07-06 19:25:26,308 - __main__ - DEBUG - Predicted: 8.539078712463379, True: 4.889866\n",
      "2024-07-06 19:25:26,308 - __main__ - DEBUG - Predicted: 8.429980278015137, True: 3.66329\n",
      "2024-07-06 19:25:26,308 - __main__ - DEBUG - Predicted: 8.757429122924805, True: 9.7279\n",
      "2024-07-06 19:25:26,309 - __main__ - DEBUG - Predicted: 8.490030288696289, True: 6.71991\n",
      "2024-07-06 19:25:26,309 - __main__ - DEBUG - Predicted: 9.235209465026855, True: 3.20602\n",
      "2024-07-06 19:25:26,309 - __main__ - DEBUG - Predicted: 9.508431434631348, True: 3.76288\n",
      "2024-07-06 19:25:26,309 - __main__ - DEBUG - Validation MSE: 45.87771476172983\n"
     ]
    },
    {
     "name": "stdout",
     "output_type": "stream",
     "text": [
      " 56%|█████▌    | 28/50 [35:49<1:13:28, 200.39s/trial, best loss: 44.98504367675202]"
     ]
    },
    {
     "name": "stderr",
     "output_type": "stream",
     "text": [
      "2024-07-06 19:25:26,313 - hyperopt.tpe - INFO - build_posterior_wrapper took 0.001917 seconds\n",
      "2024-07-06 19:25:26,313 - hyperopt.tpe - INFO - TPE using 28/28 trials with best loss 44.985044\n",
      "2024-07-06 19:25:26,324 - __main__ - DEBUG - Training with hyperparameters: {'colsample_bytree': 0.8668320849883626, 'early_stopping_rounds': 44, 'eta': 0.06604508163709744, 'gamma': 5.87578663584723, 'max_bin': 649, 'max_depth': 4, 'max_leaves': 390, 'min_child_weight': 3.0, 'n_estimators': 432, 'num_parallel_tree': 7, 'reg_alpha': 20.0, 'reg_lambda': 38.0, 'tree_method': 'auto'}\n",
      "2024-07-06 19:25:56,707 - __main__ - DEBUG - Predicting on validation set\n",
      "2024-07-06 19:25:56,710 - __main__ - DEBUG - Predicted: 12.91309928894043, True: 34.029\n",
      "2024-07-06 19:25:56,710 - __main__ - DEBUG - Predicted: 12.708732604980469, True: 7.92812\n",
      "2024-07-06 19:25:56,710 - __main__ - DEBUG - Predicted: 8.011947631835938, True: 21.3639\n",
      "2024-07-06 19:25:56,711 - __main__ - DEBUG - Predicted: 10.189475059509277, True: 5.06904\n",
      "2024-07-06 19:25:56,711 - __main__ - DEBUG - Predicted: 8.644540786743164, True: 4.889866\n",
      "2024-07-06 19:25:56,711 - __main__ - DEBUG - Predicted: 9.697888374328613, True: 3.66329\n",
      "2024-07-06 19:25:56,711 - __main__ - DEBUG - Predicted: 8.44396686553955, True: 9.7279\n",
      "2024-07-06 19:25:56,712 - __main__ - DEBUG - Predicted: 9.415510177612305, True: 6.71991\n",
      "2024-07-06 19:25:56,712 - __main__ - DEBUG - Predicted: 9.0681734085083, True: 3.20602\n",
      "2024-07-06 19:25:56,712 - __main__ - DEBUG - Predicted: 9.710013389587402, True: 3.76288\n",
      "2024-07-06 19:25:56,713 - __main__ - DEBUG - Validation MSE: 45.838993123452795\n"
     ]
    },
    {
     "name": "stdout",
     "output_type": "stream",
     "text": [
      " 58%|█████▊    | 29/50 [36:20<52:17, 149.39s/trial, best loss: 44.98504367675202]  "
     ]
    },
    {
     "name": "stderr",
     "output_type": "stream",
     "text": [
      "2024-07-06 19:25:56,716 - hyperopt.tpe - INFO - build_posterior_wrapper took 0.001931 seconds\n",
      "2024-07-06 19:25:56,716 - hyperopt.tpe - INFO - TPE using 29/29 trials with best loss 44.985044\n",
      "2024-07-06 19:25:56,731 - __main__ - DEBUG - Training with hyperparameters: {'colsample_bytree': 0.7855821846539596, 'early_stopping_rounds': 73, 'eta': 0.10046687905227349, 'gamma': 7.099750336902128, 'max_bin': 770, 'max_depth': 6, 'max_leaves': 305, 'min_child_weight': 4.0, 'n_estimators': 1045, 'num_parallel_tree': 9, 'reg_alpha': 59.0, 'reg_lambda': 55.0, 'tree_method': 'hist'}\n",
      "2024-07-06 19:27:38,905 - __main__ - DEBUG - Predicting on validation set\n",
      "2024-07-06 19:27:38,911 - __main__ - DEBUG - Predicted: 14.001314163208008, True: 34.029\n",
      "2024-07-06 19:27:38,912 - __main__ - DEBUG - Predicted: 14.301902770996094, True: 7.92812\n",
      "2024-07-06 19:27:38,912 - __main__ - DEBUG - Predicted: 8.206669807434082, True: 21.3639\n",
      "2024-07-06 19:27:38,913 - __main__ - DEBUG - Predicted: 9.215266227722168, True: 5.06904\n",
      "2024-07-06 19:27:38,913 - __main__ - DEBUG - Predicted: 9.292708396911621, True: 4.889866\n",
      "2024-07-06 19:27:38,914 - __main__ - DEBUG - Predicted: 7.832392692565918, True: 3.66329\n",
      "2024-07-06 19:27:38,914 - __main__ - DEBUG - Predicted: 8.839938163757324, True: 9.7279\n",
      "2024-07-06 19:27:38,915 - __main__ - DEBUG - Predicted: 7.7673163414001465, True: 6.71991\n",
      "2024-07-06 19:27:38,915 - __main__ - DEBUG - Predicted: 9.651015281677246, True: 3.20602\n",
      "2024-07-06 19:27:38,916 - __main__ - DEBUG - Predicted: 8.993640899658203, True: 3.76288\n",
      "2024-07-06 19:27:38,917 - __main__ - DEBUG - Validation MSE: 45.58468097225719\n"
     ]
    },
    {
     "name": "stdout",
     "output_type": "stream",
     "text": [
      " 60%|██████    | 30/50 [38:02<45:04, 135.24s/trial, best loss: 44.98504367675202]"
     ]
    },
    {
     "name": "stderr",
     "output_type": "stream",
     "text": [
      "2024-07-06 19:27:38,923 - hyperopt.tpe - INFO - build_posterior_wrapper took 0.002075 seconds\n",
      "2024-07-06 19:27:38,924 - hyperopt.tpe - INFO - TPE using 30/30 trials with best loss 44.985044\n",
      "2024-07-06 19:27:38,937 - __main__ - DEBUG - Training with hyperparameters: {'colsample_bytree': 0.9254756279437912, 'early_stopping_rounds': 81, 'eta': 0.12194935535607448, 'gamma': 8.429139819910556, 'max_bin': 775, 'max_depth': 4, 'max_leaves': 217, 'min_child_weight': 3.0, 'n_estimators': 273, 'num_parallel_tree': 7, 'reg_alpha': 1.0, 'reg_lambda': 44.0, 'tree_method': 'auto'}\n",
      "2024-07-06 19:28:23,502 - __main__ - DEBUG - Predicting on validation set\n",
      "2024-07-06 19:28:23,504 - __main__ - DEBUG - Predicted: 14.935113906860352, True: 34.029\n",
      "2024-07-06 19:28:23,505 - __main__ - DEBUG - Predicted: 13.369657516479492, True: 7.92812\n",
      "2024-07-06 19:28:23,505 - __main__ - DEBUG - Predicted: 8.990153312683105, True: 21.3639\n",
      "2024-07-06 19:28:23,505 - __main__ - DEBUG - Predicted: 9.775354385375977, True: 5.06904\n",
      "2024-07-06 19:28:23,506 - __main__ - DEBUG - Predicted: 8.047855377197266, True: 4.889866\n",
      "2024-07-06 19:28:23,506 - __main__ - DEBUG - Predicted: 8.521812438964844, True: 3.66329\n",
      "2024-07-06 19:28:23,507 - __main__ - DEBUG - Predicted: 8.698179244995117, True: 9.7279\n",
      "2024-07-06 19:28:23,508 - __main__ - DEBUG - Predicted: 8.821409225463867, True: 6.71991\n",
      "2024-07-06 19:28:23,508 - __main__ - DEBUG - Predicted: 8.978219985961914, True: 3.20602\n",
      "2024-07-06 19:28:23,508 - __main__ - DEBUG - Predicted: 9.130536079406738, True: 3.76288\n",
      "2024-07-06 19:28:23,509 - __main__ - DEBUG - Validation MSE: 45.88869926063871\n"
     ]
    },
    {
     "name": "stdout",
     "output_type": "stream",
     "text": [
      " 62%|██████▏   | 31/50 [38:47<34:12, 108.04s/trial, best loss: 44.98504367675202]"
     ]
    },
    {
     "name": "stderr",
     "output_type": "stream",
     "text": [
      "2024-07-06 19:28:23,513 - hyperopt.tpe - INFO - build_posterior_wrapper took 0.001947 seconds\n",
      "2024-07-06 19:28:23,514 - hyperopt.tpe - INFO - TPE using 31/31 trials with best loss 44.985044\n",
      "2024-07-06 19:28:23,533 - __main__ - DEBUG - Training with hyperparameters: {'colsample_bytree': 0.7433653587387938, 'early_stopping_rounds': 59, 'eta': 0.07617572001579975, 'gamma': 5.775703845362503, 'max_bin': 544, 'max_depth': 6, 'max_leaves': 81, 'min_child_weight': 2.0, 'n_estimators': 477, 'num_parallel_tree': 8, 'reg_alpha': 31.0, 'reg_lambda': 31.0, 'tree_method': 'hist'}\n",
      "2024-07-06 19:30:18,031 - __main__ - DEBUG - Predicting on validation set\n",
      "2024-07-06 19:30:18,034 - __main__ - DEBUG - Predicted: 14.658373832702637, True: 34.029\n",
      "2024-07-06 19:30:18,035 - __main__ - DEBUG - Predicted: 13.178139686584473, True: 7.92812\n",
      "2024-07-06 19:30:18,035 - __main__ - DEBUG - Predicted: 8.552674293518066, True: 21.3639\n",
      "2024-07-06 19:30:18,036 - __main__ - DEBUG - Predicted: 9.282176971435547, True: 5.06904\n",
      "2024-07-06 19:30:18,036 - __main__ - DEBUG - Predicted: 9.223185539245605, True: 4.889866\n",
      "2024-07-06 19:30:18,037 - __main__ - DEBUG - Predicted: 8.544286727905273, True: 3.66329\n",
      "2024-07-06 19:30:18,037 - __main__ - DEBUG - Predicted: 8.486048698425293, True: 9.7279\n",
      "2024-07-06 19:30:18,038 - __main__ - DEBUG - Predicted: 8.392098426818848, True: 6.71991\n",
      "2024-07-06 19:30:18,038 - __main__ - DEBUG - Predicted: 9.770194053649902, True: 3.20602\n",
      "2024-07-06 19:30:18,039 - __main__ - DEBUG - Predicted: 8.37236213684082, True: 3.76288\n",
      "2024-07-06 19:30:18,039 - __main__ - DEBUG - Validation MSE: 45.05730502621004\n"
     ]
    },
    {
     "name": "stdout",
     "output_type": "stream",
     "text": [
      " 64%|██████▍   | 32/50 [40:41<32:59, 109.99s/trial, best loss: 44.98504367675202]"
     ]
    },
    {
     "name": "stderr",
     "output_type": "stream",
     "text": [
      "2024-07-06 19:30:18,044 - hyperopt.tpe - INFO - build_posterior_wrapper took 0.002024 seconds\n",
      "2024-07-06 19:30:18,044 - hyperopt.tpe - INFO - TPE using 32/32 trials with best loss 44.985044\n",
      "2024-07-06 19:30:18,059 - __main__ - DEBUG - Training with hyperparameters: {'colsample_bytree': 0.7283058491112318, 'early_stopping_rounds': 48, 'eta': 0.07155237980553594, 'gamma': 4.410511021431575, 'max_bin': 514, 'max_depth': 8, 'max_leaves': 86, 'min_child_weight': 1.0, 'n_estimators': 436, 'num_parallel_tree': 10, 'reg_alpha': 53.0, 'reg_lambda': 98.0, 'tree_method': 'hist'}\n",
      "2024-07-06 19:34:04,882 - __main__ - DEBUG - Predicting on validation set\n",
      "2024-07-06 19:34:04,888 - __main__ - DEBUG - Predicted: 13.168232917785645, True: 34.029\n",
      "2024-07-06 19:34:04,888 - __main__ - DEBUG - Predicted: 14.638116836547852, True: 7.92812\n",
      "2024-07-06 19:34:04,888 - __main__ - DEBUG - Predicted: 8.65982437133789, True: 21.3639\n",
      "2024-07-06 19:34:04,889 - __main__ - DEBUG - Predicted: 8.690938949584961, True: 5.06904\n",
      "2024-07-06 19:34:04,889 - __main__ - DEBUG - Predicted: 9.038277626037598, True: 4.889866\n",
      "2024-07-06 19:34:04,889 - __main__ - DEBUG - Predicted: 8.249894142150879, True: 3.66329\n",
      "2024-07-06 19:34:04,889 - __main__ - DEBUG - Predicted: 8.95865535736084, True: 9.7279\n",
      "2024-07-06 19:34:04,890 - __main__ - DEBUG - Predicted: 8.070960998535156, True: 6.71991\n",
      "2024-07-06 19:34:04,890 - __main__ - DEBUG - Predicted: 9.544270515441895, True: 3.20602\n",
      "2024-07-06 19:34:04,890 - __main__ - DEBUG - Predicted: 9.050297737121582, True: 3.76288\n",
      "2024-07-06 19:34:04,891 - __main__ - DEBUG - Validation MSE: 45.63169036022752\n"
     ]
    },
    {
     "name": "stdout",
     "output_type": "stream",
     "text": [
      " 66%|██████▌   | 33/50 [44:28<41:05, 145.05s/trial, best loss: 44.98504367675202]"
     ]
    },
    {
     "name": "stderr",
     "output_type": "stream",
     "text": [
      "2024-07-06 19:34:04,894 - hyperopt.tpe - INFO - build_posterior_wrapper took 0.001916 seconds\n",
      "2024-07-06 19:34:04,895 - hyperopt.tpe - INFO - TPE using 33/33 trials with best loss 44.985044\n",
      "2024-07-06 19:34:04,906 - __main__ - DEBUG - Training with hyperparameters: {'colsample_bytree': 0.8536670721217622, 'early_stopping_rounds': 58, 'eta': 0.019376705001226957, 'gamma': 5.754165630930004, 'max_bin': 526, 'max_depth': 3, 'max_leaves': 1015, 'min_child_weight': 2.0, 'n_estimators': 207, 'num_parallel_tree': 9, 'reg_alpha': 19.0, 'reg_lambda': 31.0, 'tree_method': 'hist'}\n",
      "2024-07-06 19:34:38,398 - __main__ - DEBUG - Predicting on validation set\n",
      "2024-07-06 19:34:38,403 - __main__ - DEBUG - Predicted: 12.290215492248535, True: 34.029\n",
      "2024-07-06 19:34:38,404 - __main__ - DEBUG - Predicted: 12.92422103881836, True: 7.92812\n",
      "2024-07-06 19:34:38,404 - __main__ - DEBUG - Predicted: 8.146265983581543, True: 21.3639\n",
      "2024-07-06 19:34:38,405 - __main__ - DEBUG - Predicted: 10.241162300109863, True: 5.06904\n",
      "2024-07-06 19:34:38,405 - __main__ - DEBUG - Predicted: 9.10596752166748, True: 4.889866\n",
      "2024-07-06 19:34:38,406 - __main__ - DEBUG - Predicted: 9.33007526397705, True: 3.66329\n",
      "2024-07-06 19:34:38,406 - __main__ - DEBUG - Predicted: 8.840328216552734, True: 9.7279\n",
      "2024-07-06 19:34:38,407 - __main__ - DEBUG - Predicted: 9.30412769317627, True: 6.71991\n",
      "2024-07-06 19:34:38,407 - __main__ - DEBUG - Predicted: 8.79917049407959, True: 3.20602\n",
      "2024-07-06 19:34:38,408 - __main__ - DEBUG - Predicted: 10.02971076965332, True: 3.76288\n",
      "2024-07-06 19:34:38,408 - __main__ - DEBUG - Validation MSE: 45.7732755566608\n"
     ]
    },
    {
     "name": "stdout",
     "output_type": "stream",
     "text": [
      " 68%|██████▊   | 34/50 [45:01<29:45, 111.59s/trial, best loss: 44.98504367675202]"
     ]
    },
    {
     "name": "stderr",
     "output_type": "stream",
     "text": [
      "2024-07-06 19:34:38,415 - hyperopt.tpe - INFO - build_posterior_wrapper took 0.003050 seconds\n",
      "2024-07-06 19:34:38,416 - hyperopt.tpe - INFO - TPE using 34/34 trials with best loss 44.985044\n",
      "2024-07-06 19:34:38,437 - __main__ - DEBUG - Training with hyperparameters: {'colsample_bytree': 0.7913115278403485, 'early_stopping_rounds': 34, 'eta': 0.04998293148261599, 'gamma': 4.698839928806099, 'max_bin': 579, 'max_depth': 6, 'max_leaves': 452, 'min_child_weight': 1.0, 'n_estimators': 895, 'num_parallel_tree': 8, 'reg_alpha': 70.0, 'reg_lambda': 55.0, 'tree_method': 'auto'}\n",
      "2024-07-06 19:36:21,037 - __main__ - DEBUG - Predicting on validation set\n",
      "2024-07-06 19:36:21,044 - __main__ - DEBUG - Predicted: 13.583037376403809, True: 34.029\n",
      "2024-07-06 19:36:21,045 - __main__ - DEBUG - Predicted: 14.032561302185059, True: 7.92812\n",
      "2024-07-06 19:36:21,046 - __main__ - DEBUG - Predicted: 8.088390350341797, True: 21.3639\n",
      "2024-07-06 19:36:21,046 - __main__ - DEBUG - Predicted: 9.047125816345215, True: 5.06904\n",
      "2024-07-06 19:36:21,047 - __main__ - DEBUG - Predicted: 8.936344146728516, True: 4.889866\n",
      "2024-07-06 19:36:21,047 - __main__ - DEBUG - Predicted: 8.161903381347656, True: 3.66329\n",
      "2024-07-06 19:36:21,048 - __main__ - DEBUG - Predicted: 8.574629783630371, True: 9.7279\n",
      "2024-07-06 19:36:21,049 - __main__ - DEBUG - Predicted: 8.55408763885498, True: 6.71991\n",
      "2024-07-06 19:36:21,049 - __main__ - DEBUG - Predicted: 9.540568351745605, True: 3.20602\n",
      "2024-07-06 19:36:21,050 - __main__ - DEBUG - Predicted: 8.59731674194336, True: 3.76288\n",
      "2024-07-06 19:36:21,050 - __main__ - DEBUG - Validation MSE: 45.66017055816699\n"
     ]
    },
    {
     "name": "stdout",
     "output_type": "stream",
     "text": [
      " 70%|███████   | 35/50 [46:44<27:13, 108.90s/trial, best loss: 44.98504367675202]"
     ]
    },
    {
     "name": "stderr",
     "output_type": "stream",
     "text": [
      "2024-07-06 19:36:21,053 - hyperopt.tpe - INFO - build_posterior_wrapper took 0.002038 seconds\n",
      "2024-07-06 19:36:21,054 - hyperopt.tpe - INFO - TPE using 35/35 trials with best loss 44.985044\n",
      "2024-07-06 19:36:21,068 - __main__ - DEBUG - Training with hyperparameters: {'colsample_bytree': 0.5092553333248795, 'early_stopping_rounds': 61, 'eta': 0.035260260584336865, 'gamma': 5.41702444681407, 'max_bin': 667, 'max_depth': 9, 'max_leaves': 5, 'min_child_weight': 2.0, 'n_estimators': 518, 'num_parallel_tree': 10, 'reg_alpha': 33.0, 'reg_lambda': 73.0, 'tree_method': 'hist'}\n",
      "2024-07-06 19:37:06,238 - __main__ - DEBUG - Predicting on validation set\n",
      "2024-07-06 19:37:06,241 - __main__ - DEBUG - Predicted: 13.383566856384277, True: 34.029\n",
      "2024-07-06 19:37:06,241 - __main__ - DEBUG - Predicted: 13.294913291931152, True: 7.92812\n",
      "2024-07-06 19:37:06,241 - __main__ - DEBUG - Predicted: 7.583540916442871, True: 21.3639\n",
      "2024-07-06 19:37:06,242 - __main__ - DEBUG - Predicted: 9.246957778930664, True: 5.06904\n",
      "2024-07-06 19:37:06,242 - __main__ - DEBUG - Predicted: 9.64332389831543, True: 4.889866\n",
      "2024-07-06 19:37:06,242 - __main__ - DEBUG - Predicted: 7.84061336517334, True: 3.66329\n",
      "2024-07-06 19:37:06,243 - __main__ - DEBUG - Predicted: 9.211295127868652, True: 9.7279\n",
      "2024-07-06 19:37:06,243 - __main__ - DEBUG - Predicted: 8.615939140319824, True: 6.71991\n",
      "2024-07-06 19:37:06,243 - __main__ - DEBUG - Predicted: 8.98913860321045, True: 3.20602\n",
      "2024-07-06 19:37:06,243 - __main__ - DEBUG - Predicted: 9.394716262817383, True: 3.76288\n",
      "2024-07-06 19:37:06,244 - __main__ - DEBUG - Validation MSE: 46.07833591376561\n"
     ]
    },
    {
     "name": "stdout",
     "output_type": "stream",
     "text": [
      " 72%|███████▏  | 36/50 [47:29<20:57, 89.79s/trial, best loss: 44.98504367675202] "
     ]
    },
    {
     "name": "stderr",
     "output_type": "stream",
     "text": [
      "2024-07-06 19:37:06,249 - hyperopt.tpe - INFO - build_posterior_wrapper took 0.001952 seconds\n",
      "2024-07-06 19:37:06,250 - hyperopt.tpe - INFO - TPE using 36/36 trials with best loss 44.985044\n",
      "2024-07-06 19:37:06,264 - __main__ - DEBUG - Training with hyperparameters: {'colsample_bytree': 0.5954218847648391, 'early_stopping_rounds': 48, 'eta': 0.1351440999729186, 'gamma': 3.539551423803458, 'max_bin': 262, 'max_depth': 7, 'max_leaves': 290, 'min_child_weight': 2.0, 'n_estimators': 1163, 'num_parallel_tree': 9, 'reg_alpha': 46.0, 'reg_lambda': 79.0, 'tree_method': 'hist'}\n",
      "2024-07-06 19:37:51,984 - __main__ - DEBUG - Predicting on validation set\n",
      "2024-07-06 19:37:51,988 - __main__ - DEBUG - Predicted: 14.008718490600586, True: 34.029\n",
      "2024-07-06 19:37:51,989 - __main__ - DEBUG - Predicted: 13.75561237335205, True: 7.92812\n",
      "2024-07-06 19:37:51,989 - __main__ - DEBUG - Predicted: 8.691250801086426, True: 21.3639\n",
      "2024-07-06 19:37:51,989 - __main__ - DEBUG - Predicted: 9.090106964111328, True: 5.06904\n",
      "2024-07-06 19:37:51,990 - __main__ - DEBUG - Predicted: 9.422642707824707, True: 4.889866\n",
      "2024-07-06 19:37:51,990 - __main__ - DEBUG - Predicted: 7.951057434082031, True: 3.66329\n",
      "2024-07-06 19:37:51,990 - __main__ - DEBUG - Predicted: 9.147144317626953, True: 9.7279\n",
      "2024-07-06 19:37:51,990 - __main__ - DEBUG - Predicted: 7.942668437957764, True: 6.71991\n",
      "2024-07-06 19:37:51,991 - __main__ - DEBUG - Predicted: 9.736395835876465, True: 3.20602\n",
      "2024-07-06 19:37:51,991 - __main__ - DEBUG - Predicted: 8.934475898742676, True: 3.76288\n",
      "2024-07-06 19:37:51,991 - __main__ - DEBUG - Validation MSE: 45.24773749428103\n"
     ]
    },
    {
     "name": "stdout",
     "output_type": "stream",
     "text": [
      " 74%|███████▍  | 37/50 [48:15<16:35, 76.58s/trial, best loss: 44.98504367675202]"
     ]
    },
    {
     "name": "stderr",
     "output_type": "stream",
     "text": [
      "2024-07-06 19:37:51,995 - hyperopt.tpe - INFO - build_posterior_wrapper took 0.001861 seconds\n",
      "2024-07-06 19:37:51,995 - hyperopt.tpe - INFO - TPE using 37/37 trials with best loss 44.985044\n",
      "2024-07-06 19:37:52,007 - __main__ - DEBUG - Training with hyperparameters: {'colsample_bytree': 0.9323311054437471, 'early_stopping_rounds': 67, 'eta': 0.05772685168746848, 'gamma': 7.689479390547697, 'max_bin': 449, 'max_depth': 5, 'max_leaves': 360, 'min_child_weight': 3.0, 'n_estimators': 176, 'num_parallel_tree': 8, 'reg_alpha': 43.0, 'reg_lambda': 37.0, 'tree_method': 'exact'}\n",
      "2024-07-06 19:38:13,275 - __main__ - DEBUG - Predicting on validation set\n",
      "2024-07-06 19:38:13,277 - __main__ - DEBUG - Predicted: 14.960013389587402, True: 34.029\n",
      "2024-07-06 19:38:13,278 - __main__ - DEBUG - Predicted: 14.46539306640625, True: 7.92812\n",
      "2024-07-06 19:38:13,278 - __main__ - DEBUG - Predicted: 8.051600456237793, True: 21.3639\n",
      "2024-07-06 19:38:13,278 - __main__ - DEBUG - Predicted: 8.863446235656738, True: 5.06904\n",
      "2024-07-06 19:38:13,279 - __main__ - DEBUG - Predicted: 9.894400596618652, True: 4.889866\n",
      "2024-07-06 19:38:13,279 - __main__ - DEBUG - Predicted: 8.286434173583984, True: 3.66329\n",
      "2024-07-06 19:38:13,279 - __main__ - DEBUG - Predicted: 8.513863563537598, True: 9.7279\n",
      "2024-07-06 19:38:13,280 - __main__ - DEBUG - Predicted: 7.7450995445251465, True: 6.71991\n",
      "2024-07-06 19:38:13,280 - __main__ - DEBUG - Predicted: 9.752543449401855, True: 3.20602\n",
      "2024-07-06 19:38:13,280 - __main__ - DEBUG - Predicted: 8.918581008911133, True: 3.76288\n",
      "2024-07-06 19:38:13,280 - __main__ - DEBUG - Validation MSE: 45.25138995905692\n"
     ]
    },
    {
     "name": "stdout",
     "output_type": "stream",
     "text": [
      " 76%|███████▌  | 38/50 [48:36<11:59, 59.99s/trial, best loss: 44.98504367675202]"
     ]
    },
    {
     "name": "stderr",
     "output_type": "stream",
     "text": [
      "2024-07-06 19:38:13,283 - hyperopt.tpe - INFO - build_posterior_wrapper took 0.001892 seconds\n",
      "2024-07-06 19:38:13,284 - hyperopt.tpe - INFO - TPE using 38/38 trials with best loss 44.985044\n",
      "2024-07-06 19:38:13,296 - __main__ - DEBUG - Training with hyperparameters: {'colsample_bytree': 0.7312949451341217, 'early_stopping_rounds': 54, 'eta': 0.08320078385716652, 'gamma': 8.324396356016774, 'max_bin': 306, 'max_depth': 3, 'max_leaves': 168, 'min_child_weight': 6.0, 'n_estimators': 341, 'num_parallel_tree': 10, 'reg_alpha': 50.0, 'reg_lambda': 31.0, 'tree_method': 'approx'}\n",
      "2024-07-06 19:38:22,149 - __main__ - DEBUG - Predicting on validation set\n",
      "2024-07-06 19:38:22,151 - __main__ - DEBUG - Predicted: 13.504572868347168, True: 34.029\n",
      "2024-07-06 19:38:22,152 - __main__ - DEBUG - Predicted: 12.706557273864746, True: 7.92812\n",
      "2024-07-06 19:38:22,152 - __main__ - DEBUG - Predicted: 7.443228721618652, True: 21.3639\n",
      "2024-07-06 19:38:22,152 - __main__ - DEBUG - Predicted: 10.02315616607666, True: 5.06904\n",
      "2024-07-06 19:38:22,153 - __main__ - DEBUG - Predicted: 8.779297828674316, True: 4.889866\n",
      "2024-07-06 19:38:22,153 - __main__ - DEBUG - Predicted: 7.283116340637207, True: 3.66329\n",
      "2024-07-06 19:38:22,153 - __main__ - DEBUG - Predicted: 9.177390098571777, True: 9.7279\n",
      "2024-07-06 19:38:22,154 - __main__ - DEBUG - Predicted: 8.678227424621582, True: 6.71991\n",
      "2024-07-06 19:38:22,154 - __main__ - DEBUG - Predicted: 9.011250495910645, True: 3.20602\n",
      "2024-07-06 19:38:22,154 - __main__ - DEBUG - Predicted: 9.422436714172363, True: 3.76288\n",
      "2024-07-06 19:38:22,154 - __main__ - DEBUG - Validation MSE: 45.97587716587272\n"
     ]
    },
    {
     "name": "stdout",
     "output_type": "stream",
     "text": [
      " 78%|███████▊  | 39/50 [48:45<08:11, 44.66s/trial, best loss: 44.98504367675202]"
     ]
    },
    {
     "name": "stderr",
     "output_type": "stream",
     "text": [
      "2024-07-06 19:38:22,158 - hyperopt.tpe - INFO - build_posterior_wrapper took 0.001972 seconds\n",
      "2024-07-06 19:38:22,159 - hyperopt.tpe - INFO - TPE using 39/39 trials with best loss 44.985044\n",
      "2024-07-06 19:38:22,175 - __main__ - DEBUG - Training with hyperparameters: {'colsample_bytree': 0.873123038004822, 'early_stopping_rounds': 10, 'eta': 0.15263492748790813, 'gamma': 1.068354934840133, 'max_bin': 729, 'max_depth': 9, 'max_leaves': 44, 'min_child_weight': 1.0, 'n_estimators': 102, 'num_parallel_tree': 7, 'reg_alpha': 11.0, 'reg_lambda': 21.0, 'tree_method': 'hist'}\n",
      "2024-07-06 19:38:51,735 - __main__ - DEBUG - Predicting on validation set\n",
      "2024-07-06 19:38:51,737 - __main__ - DEBUG - Predicted: 14.362009048461914, True: 34.029\n",
      "2024-07-06 19:38:51,738 - __main__ - DEBUG - Predicted: 13.576043128967285, True: 7.92812\n",
      "2024-07-06 19:38:51,738 - __main__ - DEBUG - Predicted: 9.9310302734375, True: 21.3639\n",
      "2024-07-06 19:38:51,739 - __main__ - DEBUG - Predicted: 9.410061836242676, True: 5.06904\n",
      "2024-07-06 19:38:51,739 - __main__ - DEBUG - Predicted: 9.312463760375977, True: 4.889866\n",
      "2024-07-06 19:38:51,739 - __main__ - DEBUG - Predicted: 8.21355152130127, True: 3.66329\n",
      "2024-07-06 19:38:51,739 - __main__ - DEBUG - Predicted: 10.096817016601562, True: 9.7279\n",
      "2024-07-06 19:38:51,740 - __main__ - DEBUG - Predicted: 8.884611129760742, True: 6.71991\n",
      "2024-07-06 19:38:51,740 - __main__ - DEBUG - Predicted: 8.947319984436035, True: 3.20602\n",
      "2024-07-06 19:38:51,740 - __main__ - DEBUG - Predicted: 9.952962875366211, True: 3.76288\n",
      "2024-07-06 19:38:51,740 - __main__ - DEBUG - Validation MSE: 45.027646020428804\n"
     ]
    },
    {
     "name": "stdout",
     "output_type": "stream",
     "text": [
      " 80%|████████  | 40/50 [49:15<06:41, 40.13s/trial, best loss: 44.98504367675202]"
     ]
    },
    {
     "name": "stderr",
     "output_type": "stream",
     "text": [
      "2024-07-06 19:38:51,743 - hyperopt.tpe - INFO - build_posterior_wrapper took 0.001884 seconds\n",
      "2024-07-06 19:38:51,744 - hyperopt.tpe - INFO - TPE using 40/40 trials with best loss 44.985044\n",
      "2024-07-06 19:38:51,762 - __main__ - DEBUG - Training with hyperparameters: {'colsample_bytree': 0.8655214731495663, 'early_stopping_rounds': 24, 'eta': 0.21448607874832515, 'gamma': 1.2804552099788111, 'max_bin': 1020, 'max_depth': 9, 'max_leaves': 46, 'min_child_weight': 7.0, 'n_estimators': 131, 'num_parallel_tree': 7, 'reg_alpha': 9.0, 'reg_lambda': 60.0, 'tree_method': 'auto'}\n",
      "2024-07-06 19:39:42,086 - __main__ - DEBUG - Predicting on validation set\n",
      "2024-07-06 19:39:42,088 - __main__ - DEBUG - Predicted: 13.467597961425781, True: 34.029\n",
      "2024-07-06 19:39:42,088 - __main__ - DEBUG - Predicted: 13.799152374267578, True: 7.92812\n",
      "2024-07-06 19:39:42,089 - __main__ - DEBUG - Predicted: 10.067420959472656, True: 21.3639\n",
      "2024-07-06 19:39:42,089 - __main__ - DEBUG - Predicted: 9.11187744140625, True: 5.06904\n",
      "2024-07-06 19:39:42,089 - __main__ - DEBUG - Predicted: 9.707610130310059, True: 4.889866\n",
      "2024-07-06 19:39:42,089 - __main__ - DEBUG - Predicted: 7.796700954437256, True: 3.66329\n",
      "2024-07-06 19:39:42,090 - __main__ - DEBUG - Predicted: 9.309624671936035, True: 9.7279\n",
      "2024-07-06 19:39:42,090 - __main__ - DEBUG - Predicted: 8.505946159362793, True: 6.71991\n",
      "2024-07-06 19:39:42,090 - __main__ - DEBUG - Predicted: 10.24204158782959, True: 3.20602\n",
      "2024-07-06 19:39:42,090 - __main__ - DEBUG - Predicted: 8.218121528625488, True: 3.76288\n",
      "2024-07-06 19:39:42,091 - __main__ - DEBUG - Validation MSE: 45.698835607579504\n"
     ]
    },
    {
     "name": "stdout",
     "output_type": "stream",
     "text": [
      " 82%|████████▏ | 41/50 [50:05<06:28, 43.20s/trial, best loss: 44.98504367675202]"
     ]
    },
    {
     "name": "stderr",
     "output_type": "stream",
     "text": [
      "2024-07-06 19:39:42,094 - hyperopt.tpe - INFO - build_posterior_wrapper took 0.001926 seconds\n",
      "2024-07-06 19:39:42,094 - hyperopt.tpe - INFO - TPE using 41/41 trials with best loss 44.985044\n",
      "2024-07-06 19:39:42,106 - __main__ - DEBUG - Training with hyperparameters: {'colsample_bytree': 0.8137856908081051, 'early_stopping_rounds': 35, 'eta': 0.26253511576488303, 'gamma': 7.94474215146912, 'max_bin': 911, 'max_depth': 11, 'max_leaves': 548, 'min_child_weight': 1.0, 'n_estimators': 275, 'num_parallel_tree': 6, 'reg_alpha': 1.0, 'reg_lambda': 8.0, 'tree_method': 'exact'}\n",
      "2024-07-06 19:39:46,882 - __main__ - DEBUG - Predicting on validation set\n",
      "2024-07-06 19:39:46,883 - __main__ - DEBUG - Predicted: 11.943012237548828, True: 34.029\n",
      "2024-07-06 19:39:46,883 - __main__ - DEBUG - Predicted: 13.100357055664062, True: 7.92812\n",
      "2024-07-06 19:39:46,884 - __main__ - DEBUG - Predicted: 8.962540626525879, True: 21.3639\n",
      "2024-07-06 19:39:46,884 - __main__ - DEBUG - Predicted: 10.24941349029541, True: 5.06904\n",
      "2024-07-06 19:39:46,884 - __main__ - DEBUG - Predicted: 8.579399108886719, True: 4.889866\n",
      "2024-07-06 19:39:46,885 - __main__ - DEBUG - Predicted: 9.337810516357422, True: 3.66329\n",
      "2024-07-06 19:39:46,885 - __main__ - DEBUG - Predicted: 7.597653865814209, True: 9.7279\n",
      "2024-07-06 19:39:46,885 - __main__ - DEBUG - Predicted: 7.675018787384033, True: 6.71991\n",
      "2024-07-06 19:39:46,885 - __main__ - DEBUG - Predicted: 8.184788703918457, True: 3.20602\n",
      "2024-07-06 19:39:46,886 - __main__ - DEBUG - Predicted: 8.5538911819458, True: 3.76288\n",
      "2024-07-06 19:39:46,886 - __main__ - DEBUG - Validation MSE: 47.52054419021463\n"
     ]
    },
    {
     "name": "stdout",
     "output_type": "stream",
     "text": [
      " 84%|████████▍ | 42/50 [50:10<04:13, 31.68s/trial, best loss: 44.98504367675202]"
     ]
    },
    {
     "name": "stderr",
     "output_type": "stream",
     "text": [
      "2024-07-06 19:39:46,889 - hyperopt.tpe - INFO - build_posterior_wrapper took 0.001845 seconds\n",
      "2024-07-06 19:39:46,890 - hyperopt.tpe - INFO - TPE using 42/42 trials with best loss 44.985044\n",
      "2024-07-06 19:39:46,907 - __main__ - DEBUG - Training with hyperparameters: {'colsample_bytree': 0.9958231586675355, 'early_stopping_rounds': 29, 'eta': 0.29334000772723723, 'gamma': 1.183236438068453, 'max_bin': 726, 'max_depth': 12, 'max_leaves': 451, 'min_child_weight': 2.0, 'n_estimators': 781, 'num_parallel_tree': 8, 'reg_alpha': 17.0, 'reg_lambda': 21.0, 'tree_method': 'approx'}\n",
      "2024-07-06 19:41:15,959 - __main__ - DEBUG - Predicting on validation set\n",
      "2024-07-06 19:41:15,961 - __main__ - DEBUG - Predicted: 11.49121379852295, True: 34.029\n",
      "2024-07-06 19:41:15,961 - __main__ - DEBUG - Predicted: 14.028651237487793, True: 7.92812\n",
      "2024-07-06 19:41:15,961 - __main__ - DEBUG - Predicted: 8.826594352722168, True: 21.3639\n",
      "2024-07-06 19:41:15,962 - __main__ - DEBUG - Predicted: 8.910151481628418, True: 5.06904\n",
      "2024-07-06 19:41:15,962 - __main__ - DEBUG - Predicted: 7.256213665008545, True: 4.889866\n",
      "2024-07-06 19:41:15,962 - __main__ - DEBUG - Predicted: 8.36689281463623, True: 3.66329\n",
      "2024-07-06 19:41:15,963 - __main__ - DEBUG - Predicted: 7.910854816436768, True: 9.7279\n",
      "2024-07-06 19:41:15,963 - __main__ - DEBUG - Predicted: 7.737139701843262, True: 6.71991\n",
      "2024-07-06 19:41:15,963 - __main__ - DEBUG - Predicted: 8.747843742370605, True: 3.20602\n",
      "2024-07-06 19:41:15,964 - __main__ - DEBUG - Predicted: 9.310458183288574, True: 3.76288\n",
      "2024-07-06 19:41:15,964 - __main__ - DEBUG - Validation MSE: 47.52633991298402\n"
     ]
    },
    {
     "name": "stdout",
     "output_type": "stream",
     "text": [
      " 86%|████████▌ | 43/50 [51:39<05:42, 48.90s/trial, best loss: 44.98504367675202]"
     ]
    },
    {
     "name": "stderr",
     "output_type": "stream",
     "text": [
      "2024-07-06 19:41:15,967 - hyperopt.tpe - INFO - build_posterior_wrapper took 0.001884 seconds\n",
      "2024-07-06 19:41:15,967 - hyperopt.tpe - INFO - TPE using 43/43 trials with best loss 44.985044\n",
      "2024-07-06 19:41:15,983 - __main__ - DEBUG - Training with hyperparameters: {'colsample_bytree': 0.9339053623028266, 'early_stopping_rounds': 42, 'eta': 0.15471949778873306, 'gamma': 8.969496019700395, 'max_bin': 963, 'max_depth': 18, 'max_leaves': 258, 'min_child_weight': 3.0, 'n_estimators': 1438, 'num_parallel_tree': 6, 'reg_alpha': 10.0, 'reg_lambda': 43.0, 'tree_method': 'hist'}\n",
      "2024-07-06 19:43:06,547 - __main__ - DEBUG - Predicting on validation set\n",
      "2024-07-06 19:43:06,549 - __main__ - DEBUG - Predicted: 12.411712646484375, True: 34.029\n",
      "2024-07-06 19:43:06,550 - __main__ - DEBUG - Predicted: 14.132637977600098, True: 7.92812\n",
      "2024-07-06 19:43:06,550 - __main__ - DEBUG - Predicted: 9.073687553405762, True: 21.3639\n",
      "2024-07-06 19:43:06,550 - __main__ - DEBUG - Predicted: 8.019001960754395, True: 5.06904\n",
      "2024-07-06 19:43:06,550 - __main__ - DEBUG - Predicted: 10.295682907104492, True: 4.889866\n",
      "2024-07-06 19:43:06,551 - __main__ - DEBUG - Predicted: 9.14222240447998, True: 3.66329\n",
      "2024-07-06 19:43:06,551 - __main__ - DEBUG - Predicted: 7.668264389038086, True: 9.7279\n",
      "2024-07-06 19:43:06,552 - __main__ - DEBUG - Predicted: 9.972640991210938, True: 6.71991\n",
      "2024-07-06 19:43:06,552 - __main__ - DEBUG - Predicted: 9.042177200317383, True: 3.20602\n",
      "2024-07-06 19:43:06,552 - __main__ - DEBUG - Predicted: 9.351448059082031, True: 3.76288\n",
      "2024-07-06 19:43:06,552 - __main__ - DEBUG - Validation MSE: 46.40615050049345\n"
     ]
    },
    {
     "name": "stdout",
     "output_type": "stream",
     "text": [
      " 88%|████████▊ | 44/50 [53:30<06:44, 67.41s/trial, best loss: 44.98504367675202]"
     ]
    },
    {
     "name": "stderr",
     "output_type": "stream",
     "text": [
      "2024-07-06 19:43:06,555 - hyperopt.tpe - INFO - build_posterior_wrapper took 0.001918 seconds\n",
      "2024-07-06 19:43:06,556 - hyperopt.tpe - INFO - TPE using 44/44 trials with best loss 44.985044\n",
      "2024-07-06 19:43:06,568 - __main__ - DEBUG - Training with hyperparameters: {'colsample_bytree': 0.9559478565120316, 'early_stopping_rounds': 10, 'eta': 0.17728636232690653, 'gamma': 3.197357125483249, 'max_bin': 661, 'max_depth': 16, 'max_leaves': 186, 'min_child_weight': 1.0, 'n_estimators': 104, 'num_parallel_tree': 7, 'reg_alpha': 1.0, 'reg_lambda': 11.0, 'tree_method': 'hist'}\n",
      "2024-07-06 19:44:13,482 - __main__ - DEBUG - Predicting on validation set\n",
      "2024-07-06 19:44:13,488 - __main__ - DEBUG - Predicted: 13.122015953063965, True: 34.029\n",
      "2024-07-06 19:44:13,490 - __main__ - DEBUG - Predicted: 12.889300346374512, True: 7.92812\n",
      "2024-07-06 19:44:13,491 - __main__ - DEBUG - Predicted: 9.366044044494629, True: 21.3639\n",
      "2024-07-06 19:44:13,492 - __main__ - DEBUG - Predicted: 7.907417297363281, True: 5.06904\n",
      "2024-07-06 19:44:13,493 - __main__ - DEBUG - Predicted: 7.849207878112793, True: 4.889866\n",
      "2024-07-06 19:44:13,493 - __main__ - DEBUG - Predicted: 10.032370567321777, True: 3.66329\n",
      "2024-07-06 19:44:13,494 - __main__ - DEBUG - Predicted: 8.673500061035156, True: 9.7279\n",
      "2024-07-06 19:44:13,494 - __main__ - DEBUG - Predicted: 8.554802894592285, True: 6.71991\n",
      "2024-07-06 19:44:13,496 - __main__ - DEBUG - Predicted: 8.197338104248047, True: 3.20602\n",
      "2024-07-06 19:44:13,496 - __main__ - DEBUG - Predicted: 8.426080703735352, True: 3.76288\n",
      "2024-07-06 19:44:13,499 - __main__ - DEBUG - Validation MSE: 47.01637564734323\n"
     ]
    },
    {
     "name": "stdout",
     "output_type": "stream",
     "text": [
      " 90%|█████████ | 45/50 [54:37<05:36, 67.27s/trial, best loss: 44.98504367675202]"
     ]
    },
    {
     "name": "stderr",
     "output_type": "stream",
     "text": [
      "2024-07-06 19:44:13,504 - hyperopt.tpe - INFO - build_posterior_wrapper took 0.002956 seconds\n",
      "2024-07-06 19:44:13,505 - hyperopt.tpe - INFO - TPE using 45/45 trials with best loss 44.985044\n",
      "2024-07-06 19:44:13,539 - __main__ - DEBUG - Training with hyperparameters: {'colsample_bytree': 0.8883695417757916, 'early_stopping_rounds': 83, 'eta': 0.11970106548452039, 'gamma': 4.864462580511246, 'max_bin': 784, 'max_depth': 14, 'max_leaves': 130, 'min_child_weight': 5.0, 'n_estimators': 942, 'num_parallel_tree': 9, 'reg_alpha': 23.0, 'reg_lambda': 69.0, 'tree_method': 'auto'}\n",
      "2024-07-06 19:48:00,301 - __main__ - DEBUG - Predicting on validation set\n",
      "2024-07-06 19:48:00,307 - __main__ - DEBUG - Predicted: 11.732599258422852, True: 34.029\n",
      "2024-07-06 19:48:00,308 - __main__ - DEBUG - Predicted: 14.761091232299805, True: 7.92812\n",
      "2024-07-06 19:48:00,308 - __main__ - DEBUG - Predicted: 9.031267166137695, True: 21.3639\n",
      "2024-07-06 19:48:00,308 - __main__ - DEBUG - Predicted: 8.978568077087402, True: 5.06904\n",
      "2024-07-06 19:48:00,308 - __main__ - DEBUG - Predicted: 10.554643630981445, True: 4.889866\n",
      "2024-07-06 19:48:00,309 - __main__ - DEBUG - Predicted: 8.823750495910645, True: 3.66329\n",
      "2024-07-06 19:48:00,309 - __main__ - DEBUG - Predicted: 9.227530479431152, True: 9.7279\n",
      "2024-07-06 19:48:00,309 - __main__ - DEBUG - Predicted: 9.711823463439941, True: 6.71991\n",
      "2024-07-06 19:48:00,309 - __main__ - DEBUG - Predicted: 9.318108558654785, True: 3.20602\n",
      "2024-07-06 19:48:00,310 - __main__ - DEBUG - Predicted: 9.490250587463379, True: 3.76288\n",
      "2024-07-06 19:48:00,310 - __main__ - DEBUG - Validation MSE: 46.77078798354314\n"
     ]
    },
    {
     "name": "stdout",
     "output_type": "stream",
     "text": [
      " 92%|█████████▏| 46/50 [58:23<07:40, 115.13s/trial, best loss: 44.98504367675202]"
     ]
    },
    {
     "name": "stderr",
     "output_type": "stream",
     "text": [
      "2024-07-06 19:48:00,316 - hyperopt.tpe - INFO - build_posterior_wrapper took 0.003559 seconds\n",
      "2024-07-06 19:48:00,317 - hyperopt.tpe - INFO - TPE using 46/46 trials with best loss 44.985044\n",
      "2024-07-06 19:48:00,330 - __main__ - DEBUG - Training with hyperparameters: {'colsample_bytree': 0.8316187749234304, 'early_stopping_rounds': 10, 'eta': 0.1800720604002227, 'gamma': 2.1252114723052777, 'max_bin': 716, 'max_depth': 7, 'max_leaves': 29, 'min_child_weight': 8.0, 'n_estimators': 1551, 'num_parallel_tree': 8, 'reg_alpha': 40.0, 'reg_lambda': 81.0, 'tree_method': 'approx'}\n",
      "2024-07-06 19:48:38,606 - __main__ - DEBUG - Predicting on validation set\n",
      "2024-07-06 19:48:38,611 - __main__ - DEBUG - Predicted: 13.563090324401855, True: 34.029\n",
      "2024-07-06 19:48:38,611 - __main__ - DEBUG - Predicted: 13.225375175476074, True: 7.92812\n",
      "2024-07-06 19:48:38,612 - __main__ - DEBUG - Predicted: 8.41467571258545, True: 21.3639\n",
      "2024-07-06 19:48:38,612 - __main__ - DEBUG - Predicted: 9.988375663757324, True: 5.06904\n",
      "2024-07-06 19:48:38,613 - __main__ - DEBUG - Predicted: 9.168147087097168, True: 4.889866\n",
      "2024-07-06 19:48:38,613 - __main__ - DEBUG - Predicted: 7.631545066833496, True: 3.66329\n",
      "2024-07-06 19:48:38,614 - __main__ - DEBUG - Predicted: 8.847187995910645, True: 9.7279\n",
      "2024-07-06 19:48:38,614 - __main__ - DEBUG - Predicted: 8.081753730773926, True: 6.71991\n",
      "2024-07-06 19:48:38,615 - __main__ - DEBUG - Predicted: 8.881434440612793, True: 3.20602\n",
      "2024-07-06 19:48:38,615 - __main__ - DEBUG - Predicted: 9.2063627243042, True: 3.76288\n",
      "2024-07-06 19:48:38,615 - __main__ - DEBUG - Validation MSE: 45.72410537510941\n"
     ]
    },
    {
     "name": "stdout",
     "output_type": "stream",
     "text": [
      " 94%|█████████▍| 47/50 [59:02<04:36, 92.08s/trial, best loss: 44.98504367675202] "
     ]
    },
    {
     "name": "stderr",
     "output_type": "stream",
     "text": [
      "2024-07-06 19:48:38,619 - hyperopt.tpe - INFO - build_posterior_wrapper took 0.001926 seconds\n",
      "2024-07-06 19:48:38,620 - hyperopt.tpe - INFO - TPE using 47/47 trials with best loss 44.985044\n",
      "2024-07-06 19:48:38,670 - __main__ - DEBUG - Training with hyperparameters: {'colsample_bytree': 0.7991494057947789, 'early_stopping_rounds': 65, 'eta': 0.14678848550159584, 'gamma': 3.6612911180962007, 'max_bin': 897, 'max_depth': 10, 'max_leaves': 341, 'min_child_weight': 6.0, 'n_estimators': 1117, 'num_parallel_tree': 2, 'reg_alpha': 14.0, 'reg_lambda': 61.0, 'tree_method': 'exact'}\n",
      "2024-07-06 19:48:45,153 - __main__ - DEBUG - Predicting on validation set\n",
      "2024-07-06 19:48:45,154 - __main__ - DEBUG - Predicted: 13.111943244934082, True: 34.029\n",
      "2024-07-06 19:48:45,154 - __main__ - DEBUG - Predicted: 13.381810188293457, True: 7.92812\n",
      "2024-07-06 19:48:45,155 - __main__ - DEBUG - Predicted: 7.811131000518799, True: 21.3639\n",
      "2024-07-06 19:48:45,155 - __main__ - DEBUG - Predicted: 8.794113159179688, True: 5.06904\n",
      "2024-07-06 19:48:45,155 - __main__ - DEBUG - Predicted: 9.202925682067871, True: 4.889866\n",
      "2024-07-06 19:48:45,156 - __main__ - DEBUG - Predicted: 8.447336196899414, True: 3.66329\n",
      "2024-07-06 19:48:45,156 - __main__ - DEBUG - Predicted: 9.249589920043945, True: 9.7279\n",
      "2024-07-06 19:48:45,156 - __main__ - DEBUG - Predicted: 9.62806510925293, True: 6.71991\n",
      "2024-07-06 19:48:45,156 - __main__ - DEBUG - Predicted: 7.872297286987305, True: 3.20602\n",
      "2024-07-06 19:48:45,156 - __main__ - DEBUG - Predicted: 10.212602615356445, True: 3.76288\n",
      "2024-07-06 19:48:45,157 - __main__ - DEBUG - Validation MSE: 46.73706339937919\n"
     ]
    },
    {
     "name": "stdout",
     "output_type": "stream",
     "text": [
      " 96%|█████████▌| 48/50 [59:08<02:12, 66.42s/trial, best loss: 44.98504367675202]"
     ]
    },
    {
     "name": "stderr",
     "output_type": "stream",
     "text": [
      "2024-07-06 19:48:45,160 - hyperopt.tpe - INFO - build_posterior_wrapper took 0.001979 seconds\n",
      "2024-07-06 19:48:45,160 - hyperopt.tpe - INFO - TPE using 48/48 trials with best loss 44.985044\n",
      "2024-07-06 19:48:45,177 - __main__ - DEBUG - Training with hyperparameters: {'colsample_bytree': 0.8780660738144379, 'early_stopping_rounds': 22, 'eta': 0.1999653625084797, 'gamma': 6.29507718635026, 'max_bin': 466, 'max_depth': 8, 'max_leaves': 416, 'min_child_weight': 1.0, 'n_estimators': 1995, 'num_parallel_tree': 6, 'reg_alpha': 99.0, 'reg_lambda': 51.0, 'tree_method': 'hist'}\n",
      "2024-07-06 19:49:04,028 - __main__ - DEBUG - Predicting on validation set\n",
      "2024-07-06 19:49:04,030 - __main__ - DEBUG - Predicted: 13.53007698059082, True: 34.029\n",
      "2024-07-06 19:49:04,031 - __main__ - DEBUG - Predicted: 14.266618728637695, True: 7.92812\n",
      "2024-07-06 19:49:04,031 - __main__ - DEBUG - Predicted: 8.81100082397461, True: 21.3639\n",
      "2024-07-06 19:49:04,031 - __main__ - DEBUG - Predicted: 8.491029739379883, True: 5.06904\n",
      "2024-07-06 19:49:04,032 - __main__ - DEBUG - Predicted: 9.639137268066406, True: 4.889866\n",
      "2024-07-06 19:49:04,032 - __main__ - DEBUG - Predicted: 8.754658699035645, True: 3.66329\n",
      "2024-07-06 19:49:04,032 - __main__ - DEBUG - Predicted: 9.461956977844238, True: 9.7279\n",
      "2024-07-06 19:49:04,032 - __main__ - DEBUG - Predicted: 8.580780982971191, True: 6.71991\n",
      "2024-07-06 19:49:04,033 - __main__ - DEBUG - Predicted: 9.139250755310059, True: 3.20602\n",
      "2024-07-06 19:49:04,033 - __main__ - DEBUG - Predicted: 9.28815746307373, True: 3.76288\n",
      "2024-07-06 19:49:04,033 - __main__ - DEBUG - Validation MSE: 46.85005515091398\n"
     ]
    },
    {
     "name": "stdout",
     "output_type": "stream",
     "text": [
      " 98%|█████████▊| 49/50 [59:27<00:52, 52.16s/trial, best loss: 44.98504367675202]"
     ]
    },
    {
     "name": "stderr",
     "output_type": "stream",
     "text": [
      "2024-07-06 19:49:04,036 - hyperopt.tpe - INFO - build_posterior_wrapper took 0.001913 seconds\n",
      "2024-07-06 19:49:04,037 - hyperopt.tpe - INFO - TPE using 49/49 trials with best loss 44.985044\n",
      "2024-07-06 19:49:04,051 - __main__ - DEBUG - Training with hyperparameters: {'colsample_bytree': 0.8428712587800602, 'early_stopping_rounds': 31, 'eta': 0.13415665758493056, 'gamma': 7.010578789166178, 'max_bin': 382, 'max_depth': 12, 'max_leaves': 520, 'min_child_weight': 4.0, 'n_estimators': 359, 'num_parallel_tree': 7, 'reg_alpha': 34.0, 'reg_lambda': 75.0, 'tree_method': 'hist'}\n",
      "2024-07-06 19:50:04,901 - __main__ - DEBUG - Predicting on validation set\n",
      "2024-07-06 19:50:04,904 - __main__ - DEBUG - Predicted: 12.78778076171875, True: 34.029\n",
      "2024-07-06 19:50:04,904 - __main__ - DEBUG - Predicted: 13.750221252441406, True: 7.92812\n",
      "2024-07-06 19:50:04,905 - __main__ - DEBUG - Predicted: 8.878832817077637, True: 21.3639\n",
      "2024-07-06 19:50:04,905 - __main__ - DEBUG - Predicted: 9.12183952331543, True: 5.06904\n",
      "2024-07-06 19:50:04,905 - __main__ - DEBUG - Predicted: 9.223499298095703, True: 4.889866\n",
      "2024-07-06 19:50:04,905 - __main__ - DEBUG - Predicted: 8.03152084350586, True: 3.66329\n",
      "2024-07-06 19:50:04,906 - __main__ - DEBUG - Predicted: 7.832106590270996, True: 9.7279\n",
      "2024-07-06 19:50:04,906 - __main__ - DEBUG - Predicted: 8.13602066040039, True: 6.71991\n",
      "2024-07-06 19:50:04,906 - __main__ - DEBUG - Predicted: 9.62033748626709, True: 3.20602\n",
      "2024-07-06 19:50:04,906 - __main__ - DEBUG - Predicted: 10.414485931396484, True: 3.76288\n",
      "2024-07-06 19:50:04,907 - __main__ - DEBUG - Validation MSE: 46.08622821609229\n"
     ]
    },
    {
     "name": "stdout",
     "output_type": "stream",
     "text": [
      "100%|██████████| 50/50 [1:00:28<00:00, 72.57s/trial, best loss: 44.98504367675202]\n",
      "Best hyperparameters: {'colsample_bytree': np.float64(0.9059491926661292), 'early_stopping_rounds': np.float64(61.815051353004165), 'eta': np.float64(0.09521666051691245), 'gamma': np.float64(6.964586504082723), 'max_bin': np.float64(877.7357998919459), 'max_depth': np.float64(5.0), 'max_leaves': np.float64(213.76314799400666), 'min_child_weight': np.float64(3.0), 'n_estimators': np.float64(396.0), 'num_parallel_tree': np.float64(9.0), 'reg_alpha': np.float64(26.0), 'reg_lambda': np.float64(54.0), 'tree_method': np.int64(3)}\n"
     ]
    }
   ],
   "source": [
    "def objective(space):\n",
    "    model = XGBRegressor(\n",
    "        **space,\n",
    "        n_jobs=-1,\n",
    "        random_state=8888,\n",
    "    )\n",
    "\n",
    "    logger.debug(f\"Training with hyperparameters: {space}\")\n",
    "\n",
    "    model.fit(\n",
    "        X_train,\n",
    "        y_train,\n",
    "        eval_set=[(X_val, y_val)],\n",
    "        verbose=False,\n",
    "    )\n",
    "\n",
    "    logger.debug(\"Predicting on validation set\")\n",
    "\n",
    "    predictions = model.predict(X_val)\n",
    "    mse = mean_squared_error(y_val, predictions)\n",
    "\n",
    "    for pred, true in zip(predictions[:10], y_val[:10]):\n",
    "        logger.debug(f\"Predicted: {pred}, True: {true}\")\n",
    "\n",
    "    logger.debug(f\"Validation MSE: {mse}\")\n",
    "\n",
    "    return {\"loss\": mse, \"status\": STATUS_OK}\n",
    "\n",
    "\n",
    "trials = Trials()\n",
    "\n",
    "best = fmin(\n",
    "    fn=objective,\n",
    "    space=space,\n",
    "    algo=tpe.suggest,\n",
    "    max_evals=50,\n",
    "    trials=trials,\n",
    "    # early_stop_fn=no_progress_loss(iteration_stop_count=50, percent_increase=0),\n",
    ")\n",
    "\n",
    "print(\"Best hyperparameters:\", best)"
   ]
  },
  {
   "cell_type": "code",
   "execution_count": 20,
   "metadata": {},
   "outputs": [
    {
     "data": {
      "text/plain": [
       "{'colsample_bytree': np.float64(0.9059491926661292),\n",
       " 'early_stopping_rounds': np.float64(61.815051353004165),\n",
       " 'eta': np.float64(0.09521666051691245),\n",
       " 'gamma': np.float64(6.964586504082723),\n",
       " 'max_bin': np.float64(877.7357998919459),\n",
       " 'max_depth': np.float64(5.0),\n",
       " 'max_leaves': np.float64(213.76314799400666),\n",
       " 'min_child_weight': np.float64(3.0),\n",
       " 'n_estimators': np.float64(396.0),\n",
       " 'num_parallel_tree': np.float64(9.0),\n",
       " 'reg_alpha': np.float64(26.0),\n",
       " 'reg_lambda': np.float64(54.0),\n",
       " 'tree_method': np.int64(3)}"
      ]
     },
     "execution_count": 20,
     "metadata": {},
     "output_type": "execute_result"
    }
   ],
   "source": [
    "best: dict\n",
    "best"
   ]
  },
  {
   "cell_type": "code",
   "execution_count": 25,
   "metadata": {},
   "outputs": [],
   "source": [
    "tree_method = [\"auto\", \"exact\", \"approx\", \"hist\"]\n",
    "best[\"tree_method\"] = tree_method[best[\"tree_method\"]]\n",
    "best[\"early_stopping_rounds\"] = int(best[\"early_stopping_rounds\"])\n",
    "best[\"max_bin\"] = int(best[\"max_bin\"])\n",
    "best[\"max_depth\"] = int(best[\"max_depth\"])\n",
    "best[\"max_leaves\"] = int(best[\"max_leaves\"])\n",
    "best[\"n_estimators\"] = int(best[\"n_estimators\"])\n",
    "best[\"num_parallel_tree\"] = int(best[\"num_parallel_tree\"])"
   ]
  },
  {
   "cell_type": "code",
   "execution_count": 26,
   "metadata": {},
   "outputs": [
    {
     "name": "stdout",
     "output_type": "stream",
     "text": [
      "[0]\tvalidation_0-rmse:7.12157\tvalidation_0-mean_squared_error:50.71675\n",
      "[1]\tvalidation_0-rmse:7.06056\tvalidation_0-mean_squared_error:49.85153\n",
      "[2]\tvalidation_0-rmse:7.01901\tvalidation_0-mean_squared_error:49.26656\n",
      "[3]\tvalidation_0-rmse:6.98399\tvalidation_0-mean_squared_error:48.77605\n",
      "[4]\tvalidation_0-rmse:6.94492\tvalidation_0-mean_squared_error:48.23186\n",
      "[5]\tvalidation_0-rmse:6.91467\tvalidation_0-mean_squared_error:47.81273\n",
      "[6]\tvalidation_0-rmse:6.88544\tvalidation_0-mean_squared_error:47.40924\n",
      "[7]\tvalidation_0-rmse:6.86999\tvalidation_0-mean_squared_error:47.19680\n",
      "[8]\tvalidation_0-rmse:6.86202\tvalidation_0-mean_squared_error:47.08736\n",
      "[9]\tvalidation_0-rmse:6.85347\tvalidation_0-mean_squared_error:46.97011\n",
      "[10]\tvalidation_0-rmse:6.84419\tvalidation_0-mean_squared_error:46.84288\n",
      "[11]\tvalidation_0-rmse:6.83640\tvalidation_0-mean_squared_error:46.73637\n",
      "[12]\tvalidation_0-rmse:6.82127\tvalidation_0-mean_squared_error:46.52977\n",
      "[13]\tvalidation_0-rmse:6.81364\tvalidation_0-mean_squared_error:46.42569\n",
      "[14]\tvalidation_0-rmse:6.80709\tvalidation_0-mean_squared_error:46.33654\n",
      "[15]\tvalidation_0-rmse:6.80609\tvalidation_0-mean_squared_error:46.32285\n",
      "[16]\tvalidation_0-rmse:6.80344\tvalidation_0-mean_squared_error:46.28683\n",
      "[17]\tvalidation_0-rmse:6.81157\tvalidation_0-mean_squared_error:46.39752\n",
      "[18]\tvalidation_0-rmse:6.80367\tvalidation_0-mean_squared_error:46.28988\n",
      "[19]\tvalidation_0-rmse:6.80575\tvalidation_0-mean_squared_error:46.31823\n",
      "[20]\tvalidation_0-rmse:6.80582\tvalidation_0-mean_squared_error:46.31924\n",
      "[21]\tvalidation_0-rmse:6.79949\tvalidation_0-mean_squared_error:46.23304\n",
      "[22]\tvalidation_0-rmse:6.79581\tvalidation_0-mean_squared_error:46.18304\n",
      "[23]\tvalidation_0-rmse:6.78883\tvalidation_0-mean_squared_error:46.08821\n",
      "[24]\tvalidation_0-rmse:6.78478\tvalidation_0-mean_squared_error:46.03326\n",
      "[25]\tvalidation_0-rmse:6.78443\tvalidation_0-mean_squared_error:46.02845\n",
      "[26]\tvalidation_0-rmse:6.79033\tvalidation_0-mean_squared_error:46.10858\n",
      "[27]\tvalidation_0-rmse:6.78835\tvalidation_0-mean_squared_error:46.08174\n",
      "[28]\tvalidation_0-rmse:6.78805\tvalidation_0-mean_squared_error:46.07762\n",
      "[29]\tvalidation_0-rmse:6.78185\tvalidation_0-mean_squared_error:45.99352\n",
      "[30]\tvalidation_0-rmse:6.77556\tvalidation_0-mean_squared_error:45.90814\n",
      "[31]\tvalidation_0-rmse:6.77053\tvalidation_0-mean_squared_error:45.84008\n",
      "[32]\tvalidation_0-rmse:6.77095\tvalidation_0-mean_squared_error:45.84579\n",
      "[33]\tvalidation_0-rmse:6.77751\tvalidation_0-mean_squared_error:45.93467\n",
      "[34]\tvalidation_0-rmse:6.77900\tvalidation_0-mean_squared_error:45.95489\n",
      "[35]\tvalidation_0-rmse:6.77589\tvalidation_0-mean_squared_error:45.91265\n",
      "[36]\tvalidation_0-rmse:6.77107\tvalidation_0-mean_squared_error:45.84737\n",
      "[37]\tvalidation_0-rmse:6.76640\tvalidation_0-mean_squared_error:45.78419\n",
      "[38]\tvalidation_0-rmse:6.76667\tvalidation_0-mean_squared_error:45.78785\n",
      "[39]\tvalidation_0-rmse:6.76511\tvalidation_0-mean_squared_error:45.76676\n",
      "[40]\tvalidation_0-rmse:6.76898\tvalidation_0-mean_squared_error:45.81904\n",
      "[41]\tvalidation_0-rmse:6.77581\tvalidation_0-mean_squared_error:45.91154\n",
      "[42]\tvalidation_0-rmse:6.77268\tvalidation_0-mean_squared_error:45.86921\n",
      "[43]\tvalidation_0-rmse:6.77039\tvalidation_0-mean_squared_error:45.83820\n",
      "[44]\tvalidation_0-rmse:6.77421\tvalidation_0-mean_squared_error:45.88988\n",
      "[45]\tvalidation_0-rmse:6.77599\tvalidation_0-mean_squared_error:45.91405\n",
      "[46]\tvalidation_0-rmse:6.77708\tvalidation_0-mean_squared_error:45.92881\n",
      "[47]\tvalidation_0-rmse:6.76864\tvalidation_0-mean_squared_error:45.81451\n",
      "[48]\tvalidation_0-rmse:6.77008\tvalidation_0-mean_squared_error:45.83405\n",
      "[49]\tvalidation_0-rmse:6.77020\tvalidation_0-mean_squared_error:45.83556\n",
      "[50]\tvalidation_0-rmse:6.76855\tvalidation_0-mean_squared_error:45.81330\n",
      "[51]\tvalidation_0-rmse:6.76754\tvalidation_0-mean_squared_error:45.79962\n",
      "[52]\tvalidation_0-rmse:6.77034\tvalidation_0-mean_squared_error:45.83754\n",
      "[53]\tvalidation_0-rmse:6.76926\tvalidation_0-mean_squared_error:45.82292\n",
      "[54]\tvalidation_0-rmse:6.76249\tvalidation_0-mean_squared_error:45.73126\n",
      "[55]\tvalidation_0-rmse:6.76380\tvalidation_0-mean_squared_error:45.74901\n",
      "[56]\tvalidation_0-rmse:6.76251\tvalidation_0-mean_squared_error:45.73153\n",
      "[57]\tvalidation_0-rmse:6.76612\tvalidation_0-mean_squared_error:45.78039\n",
      "[58]\tvalidation_0-rmse:6.76593\tvalidation_0-mean_squared_error:45.77782\n",
      "[59]\tvalidation_0-rmse:6.76721\tvalidation_0-mean_squared_error:45.79507\n",
      "[60]\tvalidation_0-rmse:6.76490\tvalidation_0-mean_squared_error:45.76393\n",
      "[61]\tvalidation_0-rmse:6.76469\tvalidation_0-mean_squared_error:45.76104\n",
      "[62]\tvalidation_0-rmse:6.76343\tvalidation_0-mean_squared_error:45.74403\n",
      "[63]\tvalidation_0-rmse:6.76481\tvalidation_0-mean_squared_error:45.76267\n",
      "[64]\tvalidation_0-rmse:6.76509\tvalidation_0-mean_squared_error:45.76648\n",
      "[65]\tvalidation_0-rmse:6.76892\tvalidation_0-mean_squared_error:45.81827\n",
      "[66]\tvalidation_0-rmse:6.76548\tvalidation_0-mean_squared_error:45.77172\n",
      "[67]\tvalidation_0-rmse:6.76473\tvalidation_0-mean_squared_error:45.76159\n",
      "[68]\tvalidation_0-rmse:6.76717\tvalidation_0-mean_squared_error:45.79455\n",
      "[69]\tvalidation_0-rmse:6.76232\tvalidation_0-mean_squared_error:45.72899\n",
      "[70]\tvalidation_0-rmse:6.76060\tvalidation_0-mean_squared_error:45.70570\n",
      "[71]\tvalidation_0-rmse:6.75825\tvalidation_0-mean_squared_error:45.67388\n",
      "[72]\tvalidation_0-rmse:6.75545\tvalidation_0-mean_squared_error:45.63605\n",
      "[73]\tvalidation_0-rmse:6.75952\tvalidation_0-mean_squared_error:45.69117\n",
      "[74]\tvalidation_0-rmse:6.76250\tvalidation_0-mean_squared_error:45.73143\n",
      "[75]\tvalidation_0-rmse:6.75782\tvalidation_0-mean_squared_error:45.66816\n",
      "[76]\tvalidation_0-rmse:6.75317\tvalidation_0-mean_squared_error:45.60536\n",
      "[77]\tvalidation_0-rmse:6.75280\tvalidation_0-mean_squared_error:45.60031\n",
      "[78]\tvalidation_0-rmse:6.75142\tvalidation_0-mean_squared_error:45.58162\n",
      "[79]\tvalidation_0-rmse:6.75048\tvalidation_0-mean_squared_error:45.56896\n",
      "[80]\tvalidation_0-rmse:6.75158\tvalidation_0-mean_squared_error:45.58380\n",
      "[81]\tvalidation_0-rmse:6.75285\tvalidation_0-mean_squared_error:45.60100\n",
      "[82]\tvalidation_0-rmse:6.75321\tvalidation_0-mean_squared_error:45.60590\n",
      "[83]\tvalidation_0-rmse:6.75370\tvalidation_0-mean_squared_error:45.61243\n",
      "[84]\tvalidation_0-rmse:6.75564\tvalidation_0-mean_squared_error:45.63869\n",
      "[85]\tvalidation_0-rmse:6.75596\tvalidation_0-mean_squared_error:45.64302\n",
      "[86]\tvalidation_0-rmse:6.75326\tvalidation_0-mean_squared_error:45.60656\n",
      "[87]\tvalidation_0-rmse:6.75290\tvalidation_0-mean_squared_error:45.60166\n",
      "[88]\tvalidation_0-rmse:6.75102\tvalidation_0-mean_squared_error:45.57623\n",
      "[89]\tvalidation_0-rmse:6.75406\tvalidation_0-mean_squared_error:45.61728\n",
      "[90]\tvalidation_0-rmse:6.75065\tvalidation_0-mean_squared_error:45.57130\n",
      "[91]\tvalidation_0-rmse:6.75307\tvalidation_0-mean_squared_error:45.60397\n",
      "[92]\tvalidation_0-rmse:6.75133\tvalidation_0-mean_squared_error:45.58049\n",
      "[93]\tvalidation_0-rmse:6.75029\tvalidation_0-mean_squared_error:45.56637\n",
      "[94]\tvalidation_0-rmse:6.74766\tvalidation_0-mean_squared_error:45.53089\n",
      "[95]\tvalidation_0-rmse:6.75030\tvalidation_0-mean_squared_error:45.56656\n",
      "[96]\tvalidation_0-rmse:6.74917\tvalidation_0-mean_squared_error:45.55131\n",
      "[97]\tvalidation_0-rmse:6.74671\tvalidation_0-mean_squared_error:45.51805\n",
      "[98]\tvalidation_0-rmse:6.74856\tvalidation_0-mean_squared_error:45.54305\n",
      "[99]\tvalidation_0-rmse:6.74973\tvalidation_0-mean_squared_error:45.55891\n",
      "[100]\tvalidation_0-rmse:6.74780\tvalidation_0-mean_squared_error:45.53283\n",
      "[101]\tvalidation_0-rmse:6.75019\tvalidation_0-mean_squared_error:45.56511\n",
      "[102]\tvalidation_0-rmse:6.74939\tvalidation_0-mean_squared_error:45.55430\n",
      "[103]\tvalidation_0-rmse:6.74956\tvalidation_0-mean_squared_error:45.55654\n",
      "[104]\tvalidation_0-rmse:6.75024\tvalidation_0-mean_squared_error:45.56570\n",
      "[105]\tvalidation_0-rmse:6.74828\tvalidation_0-mean_squared_error:45.53925\n",
      "[106]\tvalidation_0-rmse:6.74561\tvalidation_0-mean_squared_error:45.50328\n",
      "[107]\tvalidation_0-rmse:6.74590\tvalidation_0-mean_squared_error:45.50722\n",
      "[108]\tvalidation_0-rmse:6.74619\tvalidation_0-mean_squared_error:45.51114\n",
      "[109]\tvalidation_0-rmse:6.74362\tvalidation_0-mean_squared_error:45.47645\n",
      "[110]\tvalidation_0-rmse:6.74308\tvalidation_0-mean_squared_error:45.46908\n",
      "[111]\tvalidation_0-rmse:6.74198\tvalidation_0-mean_squared_error:45.45423\n",
      "[112]\tvalidation_0-rmse:6.73864\tvalidation_0-mean_squared_error:45.40922\n",
      "[113]\tvalidation_0-rmse:6.73987\tvalidation_0-mean_squared_error:45.42582\n",
      "[114]\tvalidation_0-rmse:6.73962\tvalidation_0-mean_squared_error:45.42254\n",
      "[115]\tvalidation_0-rmse:6.74019\tvalidation_0-mean_squared_error:45.43013\n",
      "[116]\tvalidation_0-rmse:6.73254\tvalidation_0-mean_squared_error:45.32712\n",
      "[117]\tvalidation_0-rmse:6.73367\tvalidation_0-mean_squared_error:45.34227\n",
      "[118]\tvalidation_0-rmse:6.73364\tvalidation_0-mean_squared_error:45.34188\n",
      "[119]\tvalidation_0-rmse:6.73423\tvalidation_0-mean_squared_error:45.34992\n",
      "[120]\tvalidation_0-rmse:6.72767\tvalidation_0-mean_squared_error:45.26148\n",
      "[121]\tvalidation_0-rmse:6.72957\tvalidation_0-mean_squared_error:45.28711\n",
      "[122]\tvalidation_0-rmse:6.72988\tvalidation_0-mean_squared_error:45.29131\n",
      "[123]\tvalidation_0-rmse:6.72903\tvalidation_0-mean_squared_error:45.27988\n",
      "[124]\tvalidation_0-rmse:6.72806\tvalidation_0-mean_squared_error:45.26683\n",
      "[125]\tvalidation_0-rmse:6.72697\tvalidation_0-mean_squared_error:45.25210\n",
      "[126]\tvalidation_0-rmse:6.72685\tvalidation_0-mean_squared_error:45.25056\n",
      "[127]\tvalidation_0-rmse:6.72624\tvalidation_0-mean_squared_error:45.24229\n",
      "[128]\tvalidation_0-rmse:6.72804\tvalidation_0-mean_squared_error:45.26656\n",
      "[129]\tvalidation_0-rmse:6.73030\tvalidation_0-mean_squared_error:45.29693\n",
      "[130]\tvalidation_0-rmse:6.72807\tvalidation_0-mean_squared_error:45.26699\n",
      "[131]\tvalidation_0-rmse:6.72726\tvalidation_0-mean_squared_error:45.25601\n",
      "[132]\tvalidation_0-rmse:6.72654\tvalidation_0-mean_squared_error:45.24630\n",
      "[133]\tvalidation_0-rmse:6.72644\tvalidation_0-mean_squared_error:45.24506\n",
      "[134]\tvalidation_0-rmse:6.72802\tvalidation_0-mean_squared_error:45.26628\n",
      "[135]\tvalidation_0-rmse:6.72959\tvalidation_0-mean_squared_error:45.28742\n",
      "[136]\tvalidation_0-rmse:6.72684\tvalidation_0-mean_squared_error:45.25032\n",
      "[137]\tvalidation_0-rmse:6.72408\tvalidation_0-mean_squared_error:45.21319\n",
      "[138]\tvalidation_0-rmse:6.72506\tvalidation_0-mean_squared_error:45.22639\n",
      "[139]\tvalidation_0-rmse:6.72297\tvalidation_0-mean_squared_error:45.19835\n",
      "[140]\tvalidation_0-rmse:6.72178\tvalidation_0-mean_squared_error:45.18234\n",
      "[141]\tvalidation_0-rmse:6.71965\tvalidation_0-mean_squared_error:45.15363\n",
      "[142]\tvalidation_0-rmse:6.71889\tvalidation_0-mean_squared_error:45.14349\n",
      "[143]\tvalidation_0-rmse:6.71546\tvalidation_0-mean_squared_error:45.09738\n",
      "[144]\tvalidation_0-rmse:6.71728\tvalidation_0-mean_squared_error:45.12183\n",
      "[145]\tvalidation_0-rmse:6.71954\tvalidation_0-mean_squared_error:45.15224\n",
      "[146]\tvalidation_0-rmse:6.71980\tvalidation_0-mean_squared_error:45.15567\n",
      "[147]\tvalidation_0-rmse:6.71838\tvalidation_0-mean_squared_error:45.13658\n",
      "[148]\tvalidation_0-rmse:6.71698\tvalidation_0-mean_squared_error:45.11780\n",
      "[149]\tvalidation_0-rmse:6.71731\tvalidation_0-mean_squared_error:45.12226\n",
      "[150]\tvalidation_0-rmse:6.72004\tvalidation_0-mean_squared_error:45.15897\n",
      "[151]\tvalidation_0-rmse:6.72011\tvalidation_0-mean_squared_error:45.15992\n",
      "[152]\tvalidation_0-rmse:6.72095\tvalidation_0-mean_squared_error:45.17118\n",
      "[153]\tvalidation_0-rmse:6.72094\tvalidation_0-mean_squared_error:45.17101\n",
      "[154]\tvalidation_0-rmse:6.71901\tvalidation_0-mean_squared_error:45.14511\n",
      "[155]\tvalidation_0-rmse:6.71880\tvalidation_0-mean_squared_error:45.14230\n",
      "[156]\tvalidation_0-rmse:6.71716\tvalidation_0-mean_squared_error:45.12021\n",
      "[157]\tvalidation_0-rmse:6.71552\tvalidation_0-mean_squared_error:45.09823\n",
      "[158]\tvalidation_0-rmse:6.71412\tvalidation_0-mean_squared_error:45.07935\n",
      "[159]\tvalidation_0-rmse:6.71494\tvalidation_0-mean_squared_error:45.09041\n",
      "[160]\tvalidation_0-rmse:6.71452\tvalidation_0-mean_squared_error:45.08473\n",
      "[161]\tvalidation_0-rmse:6.71335\tvalidation_0-mean_squared_error:45.06911\n",
      "[162]\tvalidation_0-rmse:6.71505\tvalidation_0-mean_squared_error:45.09187\n",
      "[163]\tvalidation_0-rmse:6.71703\tvalidation_0-mean_squared_error:45.11855\n",
      "[164]\tvalidation_0-rmse:6.71702\tvalidation_0-mean_squared_error:45.11840\n",
      "[165]\tvalidation_0-rmse:6.71853\tvalidation_0-mean_squared_error:45.13866\n",
      "[166]\tvalidation_0-rmse:6.71848\tvalidation_0-mean_squared_error:45.13799\n",
      "[167]\tvalidation_0-rmse:6.72071\tvalidation_0-mean_squared_error:45.16797\n",
      "[168]\tvalidation_0-rmse:6.72015\tvalidation_0-mean_squared_error:45.16040\n",
      "[169]\tvalidation_0-rmse:6.72261\tvalidation_0-mean_squared_error:45.19342\n",
      "[170]\tvalidation_0-rmse:6.72270\tvalidation_0-mean_squared_error:45.19464\n",
      "[171]\tvalidation_0-rmse:6.72167\tvalidation_0-mean_squared_error:45.18088\n",
      "[172]\tvalidation_0-rmse:6.72238\tvalidation_0-mean_squared_error:45.19036\n",
      "[173]\tvalidation_0-rmse:6.72244\tvalidation_0-mean_squared_error:45.19122\n",
      "[174]\tvalidation_0-rmse:6.72360\tvalidation_0-mean_squared_error:45.20684\n",
      "[175]\tvalidation_0-rmse:6.72269\tvalidation_0-mean_squared_error:45.19463\n",
      "[176]\tvalidation_0-rmse:6.72411\tvalidation_0-mean_squared_error:45.21370\n",
      "[177]\tvalidation_0-rmse:6.72318\tvalidation_0-mean_squared_error:45.20121\n",
      "[178]\tvalidation_0-rmse:6.72257\tvalidation_0-mean_squared_error:45.19295\n",
      "[179]\tvalidation_0-rmse:6.72123\tvalidation_0-mean_squared_error:45.17493\n",
      "[180]\tvalidation_0-rmse:6.72164\tvalidation_0-mean_squared_error:45.18047\n",
      "[181]\tvalidation_0-rmse:6.72044\tvalidation_0-mean_squared_error:45.16426\n",
      "[182]\tvalidation_0-rmse:6.72116\tvalidation_0-mean_squared_error:45.17393\n",
      "[183]\tvalidation_0-rmse:6.72115\tvalidation_0-mean_squared_error:45.17382\n",
      "[184]\tvalidation_0-rmse:6.72061\tvalidation_0-mean_squared_error:45.16656\n",
      "[185]\tvalidation_0-rmse:6.72070\tvalidation_0-mean_squared_error:45.16774\n",
      "[186]\tvalidation_0-rmse:6.72189\tvalidation_0-mean_squared_error:45.18381\n",
      "[187]\tvalidation_0-rmse:6.72250\tvalidation_0-mean_squared_error:45.19199\n",
      "[188]\tvalidation_0-rmse:6.72305\tvalidation_0-mean_squared_error:45.19940\n",
      "[189]\tvalidation_0-rmse:6.72558\tvalidation_0-mean_squared_error:45.23338\n",
      "[190]\tvalidation_0-rmse:6.72433\tvalidation_0-mean_squared_error:45.21656\n",
      "[191]\tvalidation_0-rmse:6.72298\tvalidation_0-mean_squared_error:45.19850\n",
      "[192]\tvalidation_0-rmse:6.72286\tvalidation_0-mean_squared_error:45.19682\n",
      "[193]\tvalidation_0-rmse:6.72011\tvalidation_0-mean_squared_error:45.15993\n",
      "[194]\tvalidation_0-rmse:6.71923\tvalidation_0-mean_squared_error:45.14806\n",
      "[195]\tvalidation_0-rmse:6.71812\tvalidation_0-mean_squared_error:45.13320\n",
      "[196]\tvalidation_0-rmse:6.71555\tvalidation_0-mean_squared_error:45.09859\n",
      "[197]\tvalidation_0-rmse:6.71467\tvalidation_0-mean_squared_error:45.08681\n",
      "[198]\tvalidation_0-rmse:6.71384\tvalidation_0-mean_squared_error:45.07567\n",
      "[199]\tvalidation_0-rmse:6.71296\tvalidation_0-mean_squared_error:45.06386\n",
      "[200]\tvalidation_0-rmse:6.71352\tvalidation_0-mean_squared_error:45.07135\n",
      "[201]\tvalidation_0-rmse:6.71233\tvalidation_0-mean_squared_error:45.05544\n",
      "[202]\tvalidation_0-rmse:6.71181\tvalidation_0-mean_squared_error:45.04841\n",
      "[203]\tvalidation_0-rmse:6.70909\tvalidation_0-mean_squared_error:45.01187\n",
      "[204]\tvalidation_0-rmse:6.70709\tvalidation_0-mean_squared_error:44.98504\n",
      "[205]\tvalidation_0-rmse:6.70733\tvalidation_0-mean_squared_error:44.98826\n",
      "[206]\tvalidation_0-rmse:6.70833\tvalidation_0-mean_squared_error:45.00172\n",
      "[207]\tvalidation_0-rmse:6.71003\tvalidation_0-mean_squared_error:45.02445\n",
      "[208]\tvalidation_0-rmse:6.71139\tvalidation_0-mean_squared_error:45.04271\n",
      "[209]\tvalidation_0-rmse:6.71537\tvalidation_0-mean_squared_error:45.09616\n",
      "[210]\tvalidation_0-rmse:6.71489\tvalidation_0-mean_squared_error:45.08971\n",
      "[211]\tvalidation_0-rmse:6.71415\tvalidation_0-mean_squared_error:45.07981\n",
      "[212]\tvalidation_0-rmse:6.71406\tvalidation_0-mean_squared_error:45.07858\n",
      "[213]\tvalidation_0-rmse:6.71398\tvalidation_0-mean_squared_error:45.07746\n",
      "[214]\tvalidation_0-rmse:6.71390\tvalidation_0-mean_squared_error:45.07647\n",
      "[215]\tvalidation_0-rmse:6.71383\tvalidation_0-mean_squared_error:45.07557\n",
      "[216]\tvalidation_0-rmse:6.71377\tvalidation_0-mean_squared_error:45.07476\n",
      "[217]\tvalidation_0-rmse:6.71372\tvalidation_0-mean_squared_error:45.07402\n",
      "[218]\tvalidation_0-rmse:6.71367\tvalidation_0-mean_squared_error:45.07336\n",
      "[219]\tvalidation_0-rmse:6.71363\tvalidation_0-mean_squared_error:45.07276\n",
      "[220]\tvalidation_0-rmse:6.71358\tvalidation_0-mean_squared_error:45.07222\n",
      "[221]\tvalidation_0-rmse:6.71355\tvalidation_0-mean_squared_error:45.07173\n",
      "[222]\tvalidation_0-rmse:6.71352\tvalidation_0-mean_squared_error:45.07129\n",
      "[223]\tvalidation_0-rmse:6.71349\tvalidation_0-mean_squared_error:45.07090\n",
      "[224]\tvalidation_0-rmse:6.71346\tvalidation_0-mean_squared_error:45.07053\n",
      "[225]\tvalidation_0-rmse:6.71344\tvalidation_0-mean_squared_error:45.07021\n",
      "[226]\tvalidation_0-rmse:6.71341\tvalidation_0-mean_squared_error:45.06992\n",
      "[227]\tvalidation_0-rmse:6.71339\tvalidation_0-mean_squared_error:45.06965\n",
      "[228]\tvalidation_0-rmse:6.71338\tvalidation_0-mean_squared_error:45.06941\n",
      "[229]\tvalidation_0-rmse:6.71336\tvalidation_0-mean_squared_error:45.06919\n",
      "[230]\tvalidation_0-rmse:6.71334\tvalidation_0-mean_squared_error:45.06899\n",
      "[231]\tvalidation_0-rmse:6.71333\tvalidation_0-mean_squared_error:45.06881\n",
      "[232]\tvalidation_0-rmse:6.71332\tvalidation_0-mean_squared_error:45.06864\n",
      "[233]\tvalidation_0-rmse:6.71331\tvalidation_0-mean_squared_error:45.06850\n",
      "[234]\tvalidation_0-rmse:6.71330\tvalidation_0-mean_squared_error:45.06836\n",
      "[235]\tvalidation_0-rmse:6.71329\tvalidation_0-mean_squared_error:45.06824\n",
      "[236]\tvalidation_0-rmse:6.71328\tvalidation_0-mean_squared_error:45.06813\n",
      "[237]\tvalidation_0-rmse:6.71327\tvalidation_0-mean_squared_error:45.06804\n",
      "[238]\tvalidation_0-rmse:6.71327\tvalidation_0-mean_squared_error:45.06795\n",
      "[239]\tvalidation_0-rmse:6.71326\tvalidation_0-mean_squared_error:45.06787\n",
      "[240]\tvalidation_0-rmse:6.71326\tvalidation_0-mean_squared_error:45.06779\n",
      "[241]\tvalidation_0-rmse:6.71325\tvalidation_0-mean_squared_error:45.06773\n",
      "[242]\tvalidation_0-rmse:6.71325\tvalidation_0-mean_squared_error:45.06767\n",
      "[243]\tvalidation_0-rmse:6.71324\tvalidation_0-mean_squared_error:45.06762\n",
      "[244]\tvalidation_0-rmse:6.71324\tvalidation_0-mean_squared_error:45.06756\n",
      "[245]\tvalidation_0-rmse:6.71323\tvalidation_0-mean_squared_error:45.06752\n",
      "[246]\tvalidation_0-rmse:6.71323\tvalidation_0-mean_squared_error:45.06748\n",
      "[247]\tvalidation_0-rmse:6.71323\tvalidation_0-mean_squared_error:45.06744\n",
      "[248]\tvalidation_0-rmse:6.71323\tvalidation_0-mean_squared_error:45.06740\n",
      "[249]\tvalidation_0-rmse:6.71322\tvalidation_0-mean_squared_error:45.06738\n",
      "[250]\tvalidation_0-rmse:6.71322\tvalidation_0-mean_squared_error:45.06735\n",
      "[251]\tvalidation_0-rmse:6.71322\tvalidation_0-mean_squared_error:45.06732\n",
      "[252]\tvalidation_0-rmse:6.71322\tvalidation_0-mean_squared_error:45.06730\n",
      "[253]\tvalidation_0-rmse:6.71322\tvalidation_0-mean_squared_error:45.06728\n",
      "[254]\tvalidation_0-rmse:6.71322\tvalidation_0-mean_squared_error:45.06726\n",
      "[255]\tvalidation_0-rmse:6.71321\tvalidation_0-mean_squared_error:45.06724\n",
      "[256]\tvalidation_0-rmse:6.71321\tvalidation_0-mean_squared_error:45.06723\n",
      "[257]\tvalidation_0-rmse:6.71321\tvalidation_0-mean_squared_error:45.06721\n",
      "[258]\tvalidation_0-rmse:6.71321\tvalidation_0-mean_squared_error:45.06720\n",
      "[259]\tvalidation_0-rmse:6.71321\tvalidation_0-mean_squared_error:45.06719\n",
      "[260]\tvalidation_0-rmse:6.71321\tvalidation_0-mean_squared_error:45.06718\n",
      "[261]\tvalidation_0-rmse:6.71321\tvalidation_0-mean_squared_error:45.06717\n",
      "[262]\tvalidation_0-rmse:6.71321\tvalidation_0-mean_squared_error:45.06716\n",
      "[263]\tvalidation_0-rmse:6.71321\tvalidation_0-mean_squared_error:45.06715\n",
      "[264]\tvalidation_0-rmse:6.71321\tvalidation_0-mean_squared_error:45.06715\n",
      "Test MSE: 44.55007214620912\n",
      "Test RMSE: 6.674584042935494\n",
      "Test MAE: 4.759155579855312\n",
      "Predicted: 9.26732349395752, True: 15.6873\n",
      "Predicted: 6.825560569763184, True: 6.21409\n",
      "Predicted: 7.015100479125977, True: 2.91146\n",
      "Predicted: 12.296817779541016, True: 39.848\n",
      "Predicted: 9.224281311035156, True: 19.5838\n",
      "Predicted: 8.944011688232422, True: 6.191268\n",
      "Predicted: 6.77626371383667, True: 4.495845\n",
      "Predicted: 9.435675621032715, True: 6.09677\n",
      "Predicted: 6.234957695007324, True: 6.3192\n",
      "Predicted: 12.234122276306152, True: 6.49387\n"
     ]
    }
   ],
   "source": [
    "model = XGBRegressor(\n",
    "    **best,\n",
    "    eval_metric=mean_squared_error,\n",
    "    n_jobs=-1,\n",
    "    random_state=8888,\n",
    ")\n",
    "\n",
    "model.fit(\n",
    "    X_train,\n",
    "    y_train,\n",
    "    eval_set=[(X_val, y_val)],\n",
    "    verbose=True,\n",
    ")\n",
    "\n",
    "predictions = model.predict(X_test)\n",
    "mse = mean_squared_error(y_test, predictions)\n",
    "\n",
    "print(f\"Test MSE: {mse}\")\n",
    "print(f\"Test RMSE: {np.sqrt(mse)}\")\n",
    "print(f\"Test MAE: {np.mean(np.abs(y_test - predictions))}\")\n",
    "\n",
    "for pred, true in zip(predictions[:10], y_test[:10]):\n",
    "    print(f\"Predicted: {pred}, True: {true}\")"
   ]
  },
  {
   "cell_type": "code",
   "execution_count": null,
   "metadata": {},
   "outputs": [],
   "source": []
  }
 ],
 "metadata": {
  "kernelspec": {
   "display_name": "mgr",
   "language": "python",
   "name": "python3"
  },
  "language_info": {
   "codemirror_mode": {
    "name": "ipython",
    "version": 3
   },
   "file_extension": ".py",
   "mimetype": "text/x-python",
   "name": "python",
   "nbconvert_exporter": "python",
   "pygments_lexer": "ipython3",
   "version": "3.11.9"
  }
 },
 "nbformat": 4,
 "nbformat_minor": 2
}
