{
 "cells": [
  {
   "cell_type": "code",
   "execution_count": 1,
   "metadata": {},
   "outputs": [],
   "source": [
    "import json\n",
    "import logging\n",
    "from collections import Counter\n",
    "from itertools import product\n",
    "from random import choice\n",
    "from time import perf_counter\n",
    "from typing import Literal, TypedDict\n",
    "\n",
    "import numpy as np\n",
    "from constants import DATA_DIR\n",
    "from tqdm import tqdm\n",
    "\n",
    "from astrofit.model import Asteroid, Lightcurve, LightcurveBin\n",
    "from astrofit.utils import (\n",
    "    AsteroidLoader,\n",
    "    FrequencyDecomposer,\n",
    "    LightcurveBinner,\n",
    "    LightcurvePlotter,\n",
    "    LightcurveSplitter,\n",
    ")"
   ]
  },
  {
   "cell_type": "code",
   "execution_count": 2,
   "metadata": {},
   "outputs": [],
   "source": [
    "logging.getLogger('matplotlib').setLevel(logging.WARNING)\n",
    "logger = logging.getLogger(\"freq\")\n",
    "\n",
    "logging.basicConfig(level=logging.DEBUG, format=\"%(asctime)s - %(name)s - %(levelname)s - %(message)s\")"
   ]
  },
  {
   "cell_type": "code",
   "execution_count": 3,
   "metadata": {},
   "outputs": [],
   "source": [
    "asteroid_loader = AsteroidLoader(DATA_DIR)\n",
    "frequency_decomposer = FrequencyDecomposer()\n",
    "lightcurve_binner = LightcurveBinner()\n",
    "lightcurve_plotter = LightcurvePlotter()\n",
    "lightcurve_splitter = LightcurveSplitter()\n",
    "\n",
    "FEATURES_DIR = DATA_DIR / \"features\"\n",
    "ASTEROIDS_JSON_FILE_NAME = \"asteroids_freq_data_{config_no}.json\"\n",
    "\n",
    "\n",
    "FEATURES_DIR.mkdir(exist_ok=True)"
   ]
  },
  {
   "cell_type": "code",
   "execution_count": 4,
   "metadata": {},
   "outputs": [
    {
     "name": "stderr",
     "output_type": "stream",
     "text": [
      "100%|██████████| 5057/5057 [00:14<00:00, 339.99it/s]"
     ]
    },
    {
     "name": "stdout",
     "output_type": "stream",
     "text": [
      "Loaded 5057 asteroids\n"
     ]
    },
    {
     "name": "stderr",
     "output_type": "stream",
     "text": [
      "\n"
     ]
    }
   ],
   "source": [
    "MAX_PERIOD = 40\n",
    "\n",
    "asteroids: dict[str, Asteroid] = {}\n",
    "for asteroid_name in tqdm(asteroid_loader.available_asteroids):\n",
    "    ast_name = asteroid_loader.load_asteroid(asteroid_name)\n",
    "    # if asteroid.period > MAX_PERIOD:\n",
    "    #     continue\n",
    "\n",
    "    asteroids[ast_name.name] = ast_name\n",
    "\n",
    "print(f\"Loaded {len(asteroids)} asteroids\")"
   ]
  },
  {
   "cell_type": "code",
   "execution_count": 5,
   "metadata": {},
   "outputs": [
    {
     "data": {
      "text/plain": [
       "array([  3.422438,   5.48469 ,   8.78678 ,  16.97036 ,  49.0198  ,\n",
       "       108.6936  ])"
      ]
     },
     "execution_count": 5,
     "metadata": {},
     "output_type": "execute_result"
    }
   ],
   "source": [
    "np.percentile([asteroid.period for asteroid in asteroids.values()], [5, 25, 50, 75, 90, 95])"
   ]
  },
  {
   "cell_type": "code",
   "execution_count": 6,
   "metadata": {},
   "outputs": [],
   "source": [
    "class Config(TypedDict):\n",
    "    max_hours_diff: float\n",
    "    min_no_points: int\n",
    "    top_k_bins: int\n",
    "    buffer_bins: int\n",
    "    select_bins_by: Literal[\"lightcurves\", \"points\"]\n",
    "    max_time_diff: float\n",
    "    min_bin_size: int\n",
    "    max_freq: float\n",
    "    top_k_freqs: int\n",
    "    nterms: int\n",
    "    max_debug: bool  # If true, will print and plot everything\n"
   ]
  },
  {
   "cell_type": "code",
   "execution_count": 7,
   "metadata": {},
   "outputs": [],
   "source": [
    "cached_lightcurves: dict[tuple, dict[str, list[Lightcurve]]] = {}\n",
    "cached_bins: dict[tuple, dict[str, list[LightcurveBin]]] = {}\n",
    "\n",
    "\n",
    "def _split_lightcurves(asteroid: Asteroid, config: Config) -> list[Lightcurve]:\n",
    "    max_hours_diff = config[\"max_hours_diff\"]\n",
    "    min_no_points = config[\"min_no_points\"]\n",
    "\n",
    "    logger.debug(\n",
    "        f\"Splitting lightcurves for {asteroid.name} with max_hours_diff={max_hours_diff} and min_no_points={min_no_points}\"\n",
    "    )\n",
    "    logger.debug(f\"Before splitting: {len(asteroid.lightcurves)} lightcurves\")\n",
    "\n",
    "    key = (max_hours_diff, min_no_points)\n",
    "    if key in cached_lightcurves and asteroid.name in cached_lightcurves[key]:\n",
    "        logger.debug(f\"Using cached lightcurves ({key}) for {asteroid.name}\")\n",
    "        splitted = cached_lightcurves[key][asteroid.name]\n",
    "    else:\n",
    "        splitted = lightcurve_splitter.split_lightcurves(\n",
    "            asteroid.lightcurves,\n",
    "            max_hours_diff=max_hours_diff,\n",
    "            min_no_points=min_no_points,\n",
    "        )\n",
    "\n",
    "        if key not in cached_lightcurves:\n",
    "            cached_lightcurves[key] = {}\n",
    "\n",
    "        cached_lightcurves[key][asteroid.name] = splitted\n",
    "\n",
    "    logger.debug(f\"After splitting: {len(splitted)} lightcurves\")\n",
    "\n",
    "    return splitted\n",
    "\n",
    "\n",
    "def _get_top_k_bins(lightcurves: list[Lightcurve], config: Config, asteroid: Asteroid) -> list[LightcurveBin]:\n",
    "    max_time_diff = config[\"max_time_diff\"]\n",
    "    min_bin_size = config[\"min_bin_size\"]\n",
    "    top_k_bins = config[\"top_k_bins\"]\n",
    "    buffer_bins = config[\"buffer_bins\"]  # In case of too few frequencies for some of selected bins\n",
    "\n",
    "    logger.debug(f\"Getting top {top_k_bins} bins with max_time_diff={max_time_diff} and min_bin_size={min_bin_size}\")\n",
    "\n",
    "    # If using the same lightcurves AND the same binning parameters, we can reuse the bins\n",
    "    composite_key = (config[\"max_hours_diff\"], config[\"min_no_points\"], max_time_diff, min_bin_size)\n",
    "    if composite_key in cached_bins and asteroid.name in cached_bins[composite_key]:\n",
    "        logger.debug(f\"Using cached bins ({composite_key}) for {asteroid.name}\")\n",
    "        bins = cached_bins[composite_key][asteroid.name]\n",
    "    else:\n",
    "        bins = lightcurve_binner.bin_lightcurves(\n",
    "            lightcurves,\n",
    "            max_time_diff=max_time_diff,\n",
    "            min_bin_size=min_bin_size,\n",
    "        )\n",
    "\n",
    "        if composite_key not in cached_bins:\n",
    "            cached_bins[composite_key] = {}\n",
    "\n",
    "        cached_bins[composite_key][asteroid.name] = bins\n",
    "\n",
    "    logger.debug(f\"After binning {len(bins)} bins available\")\n",
    "    if len(bins) < top_k_bins:\n",
    "        logger.debug(f\"Using {len(bins)} bins instead of {top_k_bins}\")\n",
    "\n",
    "    if config[\"select_bins_by\"] == \"lightcurves\":\n",
    "        return sorted(bins, reverse=True)[: top_k_bins + buffer_bins]\n",
    "\n",
    "    elif config[\"select_bins_by\"] == \"points\":\n",
    "        return sorted(bins, key=lambda bin: bin.points_count, reverse=True)[: top_k_bins + buffer_bins]\n",
    "\n",
    "    else:\n",
    "        raise ValueError(\"Invalid value for select_bins_by\")\n",
    "\n",
    "\n",
    "def _get_top_k_freqs(lightcurve_bin: LightcurveBin, config: Config, asteroid: Asteroid) -> np.ndarray:\n",
    "    nterms = config[\"nterms\"]\n",
    "    top_k_freqs = config[\"top_k_freqs\"]\n",
    "\n",
    "    logger.debug(\n",
    "        f\"Getting top {top_k_freqs} frequencies with nterms={nterms} for \"\n",
    "        f\"lightcurves={len(lightcurve_bin)} with total points={len(lightcurve_bin.times)}\"\n",
    "    )\n",
    "\n",
    "    freq_data = frequency_decomposer.decompose_bin(\n",
    "        lightcurve_bin,\n",
    "        fourier_nterms=nterms,\n",
    "        top_k=top_k_freqs,\n",
    "        max_freq=config[\"max_freq\"],\n",
    "        show_plot=config[\"max_debug\"],\n",
    "    )\n",
    "\n",
    "    if config[\"max_debug\"]:\n",
    "        # Return also the ratio of the frequency to the true frequency\n",
    "        true_freq_ratio = freq_data[:, 0] / (24 / asteroid.period)\n",
    "        return np.column_stack((freq_data, true_freq_ratio))\n",
    "    else:\n",
    "        return freq_data\n",
    "\n",
    "\n",
    "def _has_anomalous_series(data: list[list[float]], magnitude_threshold: int = 2):\n",
    "    if not data:\n",
    "        return False\n",
    "\n",
    "    medians = np.array([np.median(series) for series in data])\n",
    "    overall_median = np.median(medians)\n",
    "    ratios = medians / overall_median\n",
    "\n",
    "    anomalous_series_exist = np.any(np.logical_or(ratios > 10**magnitude_threshold, ratios < 10 ** (-magnitude_threshold)))\n",
    "\n",
    "    return anomalous_series_exist\n",
    "\n",
    "\n",
    "def get_freq_features(\n",
    "    asteroid: Asteroid,\n",
    "    config: Config,\n",
    ") -> list[list] | dict:\n",
    "    splitted_lightcurves = _split_lightcurves(asteroid, config)\n",
    "    if _has_anomalous_series([lc.brightness_arr for lc in splitted_lightcurves]):\n",
    "        logger.debug(\"Anomalous series detected\")\n",
    "\n",
    "        return {\"status\": \"failed\", \"reason\": \"anomalous series\"}\n",
    "\n",
    "    # Includes buffer bins\n",
    "    top_k_bins = _get_top_k_bins(splitted_lightcurves, config, asteroid)\n",
    "\n",
    "    if not top_k_bins:\n",
    "        logger.debug(\"No bins available\")\n",
    "\n",
    "        return {\"status\": \"failed\", \"reason\": \"no bins\"}\n",
    "\n",
    "    top_k_bins_no = config[\"top_k_bins\"]\n",
    "    buffer_bins_no = config[\"buffer_bins\"]\n",
    "\n",
    "    freq_data = []\n",
    "    for ind, _bin in enumerate(top_k_bins):\n",
    "        if len(freq_data) == top_k_bins_no:\n",
    "            break\n",
    "\n",
    "        if ind >= top_k_bins_no:\n",
    "            logger.debug(f\"Using buffer bin {ind - top_k_bins_no + 1} / {buffer_bins_no}\")\n",
    "\n",
    "        if config[\"max_debug\"]:\n",
    "            lightcurve_plotter.plot_lightcurves(_bin)\n",
    "\n",
    "        bin_freq = _get_top_k_freqs(_bin, config, asteroid)\n",
    "        if len(bin_freq) < config[\"top_k_freqs\"]:\n",
    "            logger.debug(f\"Bin {ind} has only {len(bin_freq)} frequencies, skipping\")\n",
    "\n",
    "            continue\n",
    "\n",
    "        freq_data.append(bin_freq.tolist())\n",
    "\n",
    "    if not freq_data:\n",
    "        logger.debug(\"No frequencies available\")\n",
    "\n",
    "        return {\"status\": \"failed\", \"reason\": \"no frequencies\"}\n",
    "\n",
    "    logger.debug(f\"{'-'*50}\\n\")\n",
    "\n",
    "    return freq_data"
   ]
  },
  {
   "cell_type": "code",
   "execution_count": 8,
   "metadata": {},
   "outputs": [
    {
     "name": "stdout",
     "output_type": "stream",
     "text": [
      "Generated 192 configurations\n",
      "Given ~4m per configuration, this will take ~12.8 hours\n"
     ]
    }
   ],
   "source": [
    "options = {\n",
    "    \"max_hours_diff\": [1, 2, 4, 8],\n",
    "    \"min_no_points\": [10, 20],\n",
    "    \"top_k_bins\": [2, 4],\n",
    "    \"buffer_bins\": [3],\n",
    "    \"select_bins_by\": [\"lightcurves\", \"points\"],\n",
    "    \"max_time_diff\": [30, 45, 60],\n",
    "    \"min_bin_size\": [1, 2],\n",
    "    \"max_freq\": [12],\n",
    "    \"top_k_freqs\": [50],\n",
    "    \"nterms\": [3],\n",
    "    \"max_debug\": [False],\n",
    "}\n",
    "\n",
    "configs = []\n",
    "for ind, option_values in enumerate(product(*options.values())):\n",
    "    option = dict(zip(options.keys(), option_values))\n",
    "    configs.append(Config(**option))\n",
    "\n",
    "print(f\"Generated {len(configs)} configurations\")\n",
    "print(f\"Given ~4m per configuration, this will take ~{len(configs) * 4 / 60} hours\")"
   ]
  },
  {
   "cell_type": "code",
   "execution_count": 9,
   "metadata": {},
   "outputs": [],
   "source": [
    "def calculate_and_save_features(config: Config, config_no: int):\n",
    "    config[\"max_debug\"] = False\n",
    "\n",
    "    failed_cnt = 0\n",
    "    asteroids_data = {}\n",
    "    for asteroid_name, ast_name in tqdm(asteroids.items()):\n",
    "        start = perf_counter()\n",
    "        features = get_freq_features(ast_name, config)\n",
    "        processing_time = perf_counter() - start\n",
    "\n",
    "        asteroids_data[asteroid_name] = {\n",
    "            \"is_failed\": False,\n",
    "            \"reason\": None,\n",
    "            \"period\": ast_name.period,\n",
    "            \"processing_time\": processing_time,\n",
    "            \"features\": [],\n",
    "        }\n",
    "        if isinstance(features, dict):\n",
    "            failed_cnt += 1\n",
    "            asteroids_data[asteroid_name][\"is_failed\"] = True\n",
    "            asteroids_data[asteroid_name][\"reason\"] = features[\"reason\"]\n",
    "            continue\n",
    "\n",
    "        assert len(features) in (1, 2, 3, 4), f\"Invalid number of sequences: {len(features)} for {asteroid_name}\"\n",
    "\n",
    "        asteroids_data[asteroid_name][\"features\"] = features\n",
    "\n",
    "    print(f\"Failed asteroids: {failed_cnt} ({failed_cnt / len(asteroids) * 100:.2f}%)\")\n",
    "    print(f\"{'-'*50}\")\n",
    "\n",
    "    dump_data = {\n",
    "        \"config\": config,\n",
    "        \"asteroids\": asteroids_data,\n",
    "    }\n",
    "\n",
    "    with open(FEATURES_DIR / (ASTEROIDS_JSON_FILE_NAME.format(config_no=config_no)), \"w\") as f:\n",
    "        json.dump(dump_data, f, indent=4)"
   ]
  },
  {
   "cell_type": "code",
   "execution_count": 10,
   "metadata": {},
   "outputs": [
    {
     "name": "stdout",
     "output_type": "stream",
     "text": [
      "Already calculated 112 configurations\n"
     ]
    }
   ],
   "source": [
    "calculated_configs = []\n",
    "for file in FEATURES_DIR.iterdir():\n",
    "    if file.suffix != \".json\":\n",
    "        continue\n",
    "\n",
    "    with open(file, \"r\") as f:\n",
    "        data = json.load(f)\n",
    "    \n",
    "    calculated_configs.append(data[\"config\"])\n",
    "\n",
    "print(f\"Already calculated {len(calculated_configs)} configurations\")"
   ]
  },
  {
   "cell_type": "code",
   "execution_count": 11,
   "metadata": {},
   "outputs": [
    {
     "name": "stdout",
     "output_type": "stream",
     "text": [
      "Config 113 / 192\n",
      "##########\n",
      "{'max_hours_diff': 4, 'min_no_points': 10, 'top_k_bins': 4, 'buffer_bins': 3, 'select_bins_by': 'lightcurves', 'max_time_diff': 60, 'min_bin_size': 1, 'max_freq': 12, 'top_k_freqs': 50, 'nterms': 3, 'max_debug': False}\n",
      "##########\n"
     ]
    },
    {
     "name": "stderr",
     "output_type": "stream",
     "text": [
      "100%|██████████| 5057/5057 [10:01<00:00,  8.40it/s]  \n"
     ]
    },
    {
     "name": "stdout",
     "output_type": "stream",
     "text": [
      "Failed asteroids: 4005 (79.20%)\n",
      "--------------------------------------------------\n",
      "Average time per configuration so far: 602.12 seconds\n",
      "--------------------------------------------------\n",
      "Config 114 / 192\n",
      "##########\n",
      "{'max_hours_diff': 4, 'min_no_points': 10, 'top_k_bins': 4, 'buffer_bins': 3, 'select_bins_by': 'lightcurves', 'max_time_diff': 60, 'min_bin_size': 2, 'max_freq': 12, 'top_k_freqs': 50, 'nterms': 3, 'max_debug': False}\n",
      "##########\n"
     ]
    },
    {
     "name": "stderr",
     "output_type": "stream",
     "text": [
      "100%|██████████| 5057/5057 [09:47<00:00,  8.60it/s]  \n"
     ]
    },
    {
     "name": "stdout",
     "output_type": "stream",
     "text": [
      "Failed asteroids: 4100 (81.08%)\n",
      "--------------------------------------------------\n",
      "Average time per configuration so far: 595.24 seconds\n",
      "--------------------------------------------------\n",
      "Config 115 / 192\n",
      "##########\n",
      "{'max_hours_diff': 4, 'min_no_points': 10, 'top_k_bins': 4, 'buffer_bins': 3, 'select_bins_by': 'points', 'max_time_diff': 30, 'min_bin_size': 1, 'max_freq': 12, 'top_k_freqs': 50, 'nterms': 3, 'max_debug': False}\n",
      "##########\n"
     ]
    },
    {
     "name": "stderr",
     "output_type": "stream",
     "text": [
      "100%|██████████| 5057/5057 [04:58<00:00, 16.94it/s]\n"
     ]
    },
    {
     "name": "stdout",
     "output_type": "stream",
     "text": [
      "Failed asteroids: 4052 (80.13%)\n",
      "--------------------------------------------------\n",
      "Average time per configuration so far: 496.47 seconds\n",
      "--------------------------------------------------\n",
      "Config 116 / 192\n",
      "##########\n",
      "{'max_hours_diff': 4, 'min_no_points': 10, 'top_k_bins': 4, 'buffer_bins': 3, 'select_bins_by': 'points', 'max_time_diff': 30, 'min_bin_size': 2, 'max_freq': 12, 'top_k_freqs': 50, 'nterms': 3, 'max_debug': False}\n",
      "##########\n"
     ]
    },
    {
     "name": "stderr",
     "output_type": "stream",
     "text": [
      "100%|██████████| 5057/5057 [04:56<00:00, 17.03it/s]\n"
     ]
    },
    {
     "name": "stdout",
     "output_type": "stream",
     "text": [
      "Failed asteroids: 4148 (82.02%)\n",
      "--------------------------------------------------\n",
      "Average time per configuration so far: 446.67 seconds\n",
      "--------------------------------------------------\n",
      "Config 117 / 192\n",
      "##########\n",
      "{'max_hours_diff': 4, 'min_no_points': 10, 'top_k_bins': 4, 'buffer_bins': 3, 'select_bins_by': 'points', 'max_time_diff': 45, 'min_bin_size': 1, 'max_freq': 12, 'top_k_freqs': 50, 'nterms': 3, 'max_debug': False}\n",
      "##########\n"
     ]
    },
    {
     "name": "stderr",
     "output_type": "stream",
     "text": [
      "100%|██████████| 5057/5057 [07:38<00:00, 11.02it/s]\n"
     ]
    },
    {
     "name": "stdout",
     "output_type": "stream",
     "text": [
      "Failed asteroids: 4024 (79.57%)\n",
      "--------------------------------------------------\n",
      "Average time per configuration so far: 449.20 seconds\n",
      "--------------------------------------------------\n",
      "Config 118 / 192\n",
      "##########\n",
      "{'max_hours_diff': 4, 'min_no_points': 10, 'top_k_bins': 4, 'buffer_bins': 3, 'select_bins_by': 'points', 'max_time_diff': 45, 'min_bin_size': 2, 'max_freq': 12, 'top_k_freqs': 50, 'nterms': 3, 'max_debug': False}\n",
      "##########\n"
     ]
    },
    {
     "name": "stderr",
     "output_type": "stream",
     "text": [
      "100%|██████████| 5057/5057 [07:36<00:00, 11.07it/s]\n"
     ]
    },
    {
     "name": "stdout",
     "output_type": "stream",
     "text": [
      "Failed asteroids: 4119 (81.45%)\n",
      "--------------------------------------------------\n",
      "Average time per configuration so far: 450.53 seconds\n",
      "--------------------------------------------------\n",
      "Config 119 / 192\n",
      "##########\n",
      "{'max_hours_diff': 4, 'min_no_points': 10, 'top_k_bins': 4, 'buffer_bins': 3, 'select_bins_by': 'points', 'max_time_diff': 60, 'min_bin_size': 1, 'max_freq': 12, 'top_k_freqs': 50, 'nterms': 3, 'max_debug': False}\n",
      "##########\n"
     ]
    },
    {
     "name": "stderr",
     "output_type": "stream",
     "text": [
      "100%|██████████| 5057/5057 [09:58<00:00,  8.45it/s]  \n"
     ]
    },
    {
     "name": "stdout",
     "output_type": "stream",
     "text": [
      "Failed asteroids: 4005 (79.20%)\n",
      "--------------------------------------------------\n",
      "Average time per configuration so far: 471.72 seconds\n",
      "--------------------------------------------------\n",
      "Config 120 / 192\n",
      "##########\n",
      "{'max_hours_diff': 4, 'min_no_points': 10, 'top_k_bins': 4, 'buffer_bins': 3, 'select_bins_by': 'points', 'max_time_diff': 60, 'min_bin_size': 2, 'max_freq': 12, 'top_k_freqs': 50, 'nterms': 3, 'max_debug': False}\n",
      "##########\n"
     ]
    },
    {
     "name": "stderr",
     "output_type": "stream",
     "text": [
      "100%|██████████| 5057/5057 [09:57<00:00,  8.47it/s]  \n"
     ]
    },
    {
     "name": "stdout",
     "output_type": "stream",
     "text": [
      "Failed asteroids: 4100 (81.08%)\n",
      "--------------------------------------------------\n",
      "Average time per configuration so far: 487.43 seconds\n",
      "--------------------------------------------------\n",
      "Config 121 / 192\n",
      "##########\n",
      "{'max_hours_diff': 4, 'min_no_points': 20, 'top_k_bins': 2, 'buffer_bins': 3, 'select_bins_by': 'lightcurves', 'max_time_diff': 30, 'min_bin_size': 1, 'max_freq': 12, 'top_k_freqs': 50, 'nterms': 3, 'max_debug': False}\n",
      "##########\n"
     ]
    },
    {
     "name": "stderr",
     "output_type": "stream",
     "text": [
      "100%|██████████| 5057/5057 [03:18<00:00, 25.49it/s] \n"
     ]
    },
    {
     "name": "stdout",
     "output_type": "stream",
     "text": [
      "Failed asteroids: 4412 (87.25%)\n",
      "--------------------------------------------------\n",
      "Average time per configuration so far: 455.34 seconds\n",
      "--------------------------------------------------\n",
      "Config 122 / 192\n",
      "##########\n",
      "{'max_hours_diff': 4, 'min_no_points': 20, 'top_k_bins': 2, 'buffer_bins': 3, 'select_bins_by': 'lightcurves', 'max_time_diff': 30, 'min_bin_size': 2, 'max_freq': 12, 'top_k_freqs': 50, 'nterms': 3, 'max_debug': False}\n",
      "##########\n"
     ]
    },
    {
     "name": "stderr",
     "output_type": "stream",
     "text": [
      "100%|██████████| 5057/5057 [03:16<00:00, 25.73it/s] \n"
     ]
    },
    {
     "name": "stdout",
     "output_type": "stream",
     "text": [
      "Failed asteroids: 4498 (88.95%)\n",
      "--------------------------------------------------\n",
      "Average time per configuration so far: 429.48 seconds\n",
      "--------------------------------------------------\n",
      "Config 123 / 192\n",
      "##########\n",
      "{'max_hours_diff': 4, 'min_no_points': 20, 'top_k_bins': 2, 'buffer_bins': 3, 'select_bins_by': 'lightcurves', 'max_time_diff': 45, 'min_bin_size': 1, 'max_freq': 12, 'top_k_freqs': 50, 'nterms': 3, 'max_debug': False}\n",
      "##########\n"
     ]
    },
    {
     "name": "stderr",
     "output_type": "stream",
     "text": [
      "100%|██████████| 5057/5057 [05:10<00:00, 16.31it/s]\n"
     ]
    },
    {
     "name": "stdout",
     "output_type": "stream",
     "text": [
      "Failed asteroids: 4410 (87.21%)\n",
      "--------------------------------------------------\n",
      "Average time per configuration so far: 418.65 seconds\n",
      "--------------------------------------------------\n",
      "Config 124 / 192\n",
      "##########\n",
      "{'max_hours_diff': 4, 'min_no_points': 20, 'top_k_bins': 2, 'buffer_bins': 3, 'select_bins_by': 'lightcurves', 'max_time_diff': 45, 'min_bin_size': 2, 'max_freq': 12, 'top_k_freqs': 50, 'nterms': 3, 'max_debug': False}\n",
      "##########\n"
     ]
    },
    {
     "name": "stderr",
     "output_type": "stream",
     "text": [
      "100%|██████████| 5057/5057 [05:09<00:00, 16.33it/s]\n"
     ]
    },
    {
     "name": "stdout",
     "output_type": "stream",
     "text": [
      "Failed asteroids: 4496 (88.91%)\n",
      "--------------------------------------------------\n",
      "Average time per configuration so far: 409.58 seconds\n",
      "--------------------------------------------------\n",
      "Config 125 / 192\n",
      "##########\n",
      "{'max_hours_diff': 4, 'min_no_points': 20, 'top_k_bins': 2, 'buffer_bins': 3, 'select_bins_by': 'lightcurves', 'max_time_diff': 60, 'min_bin_size': 1, 'max_freq': 12, 'top_k_freqs': 50, 'nterms': 3, 'max_debug': False}\n",
      "##########\n"
     ]
    },
    {
     "name": "stderr",
     "output_type": "stream",
     "text": [
      "100%|██████████| 5057/5057 [07:06<00:00, 11.84it/s]\n"
     ]
    },
    {
     "name": "stdout",
     "output_type": "stream",
     "text": [
      "Failed asteroids: 4409 (87.19%)\n",
      "--------------------------------------------------\n",
      "Average time per configuration so far: 410.94 seconds\n",
      "--------------------------------------------------\n",
      "Config 126 / 192\n",
      "##########\n",
      "{'max_hours_diff': 4, 'min_no_points': 20, 'top_k_bins': 2, 'buffer_bins': 3, 'select_bins_by': 'lightcurves', 'max_time_diff': 60, 'min_bin_size': 2, 'max_freq': 12, 'top_k_freqs': 50, 'nterms': 3, 'max_debug': False}\n",
      "##########\n"
     ]
    },
    {
     "name": "stderr",
     "output_type": "stream",
     "text": [
      "100%|██████████| 5057/5057 [07:07<00:00, 11.83it/s]\n"
     ]
    },
    {
     "name": "stdout",
     "output_type": "stream",
     "text": [
      "Failed asteroids: 4495 (88.89%)\n",
      "--------------------------------------------------\n",
      "Average time per configuration so far: 412.15 seconds\n",
      "--------------------------------------------------\n",
      "Config 127 / 192\n",
      "##########\n",
      "{'max_hours_diff': 4, 'min_no_points': 20, 'top_k_bins': 2, 'buffer_bins': 3, 'select_bins_by': 'points', 'max_time_diff': 30, 'min_bin_size': 1, 'max_freq': 12, 'top_k_freqs': 50, 'nterms': 3, 'max_debug': False}\n",
      "##########\n"
     ]
    },
    {
     "name": "stderr",
     "output_type": "stream",
     "text": [
      "100%|██████████| 5057/5057 [03:24<00:00, 24.77it/s] \n"
     ]
    },
    {
     "name": "stdout",
     "output_type": "stream",
     "text": [
      "Failed asteroids: 4412 (87.25%)\n",
      "--------------------------------------------------\n",
      "Average time per configuration so far: 398.29 seconds\n",
      "--------------------------------------------------\n",
      "Config 128 / 192\n",
      "##########\n",
      "{'max_hours_diff': 4, 'min_no_points': 20, 'top_k_bins': 2, 'buffer_bins': 3, 'select_bins_by': 'points', 'max_time_diff': 30, 'min_bin_size': 2, 'max_freq': 12, 'top_k_freqs': 50, 'nterms': 3, 'max_debug': False}\n",
      "##########\n"
     ]
    },
    {
     "name": "stderr",
     "output_type": "stream",
     "text": [
      "100%|██████████| 5057/5057 [03:24<00:00, 24.75it/s] \n"
     ]
    },
    {
     "name": "stdout",
     "output_type": "stream",
     "text": [
      "Failed asteroids: 4498 (88.95%)\n",
      "--------------------------------------------------\n",
      "Average time per configuration so far: 386.18 seconds\n",
      "--------------------------------------------------\n",
      "Config 129 / 192\n",
      "##########\n",
      "{'max_hours_diff': 4, 'min_no_points': 20, 'top_k_bins': 2, 'buffer_bins': 3, 'select_bins_by': 'points', 'max_time_diff': 45, 'min_bin_size': 1, 'max_freq': 12, 'top_k_freqs': 50, 'nterms': 3, 'max_debug': False}\n",
      "##########\n"
     ]
    },
    {
     "name": "stderr",
     "output_type": "stream",
     "text": [
      "100%|██████████| 5057/5057 [05:27<00:00, 15.43it/s]\n"
     ]
    },
    {
     "name": "stdout",
     "output_type": "stream",
     "text": [
      "Failed asteroids: 4410 (87.21%)\n",
      "--------------------------------------------------\n",
      "Average time per configuration so far: 382.76 seconds\n",
      "--------------------------------------------------\n",
      "Config 130 / 192\n",
      "##########\n",
      "{'max_hours_diff': 4, 'min_no_points': 20, 'top_k_bins': 2, 'buffer_bins': 3, 'select_bins_by': 'points', 'max_time_diff': 45, 'min_bin_size': 2, 'max_freq': 12, 'top_k_freqs': 50, 'nterms': 3, 'max_debug': False}\n",
      "##########\n"
     ]
    },
    {
     "name": "stderr",
     "output_type": "stream",
     "text": [
      "100%|██████████| 5057/5057 [05:25<00:00, 15.52it/s]\n"
     ]
    },
    {
     "name": "stdout",
     "output_type": "stream",
     "text": [
      "Failed asteroids: 4496 (88.91%)\n",
      "--------------------------------------------------\n",
      "Average time per configuration so far: 379.62 seconds\n",
      "--------------------------------------------------\n",
      "Config 131 / 192\n",
      "##########\n",
      "{'max_hours_diff': 4, 'min_no_points': 20, 'top_k_bins': 2, 'buffer_bins': 3, 'select_bins_by': 'points', 'max_time_diff': 60, 'min_bin_size': 1, 'max_freq': 12, 'top_k_freqs': 50, 'nterms': 3, 'max_debug': False}\n",
      "##########\n"
     ]
    },
    {
     "name": "stderr",
     "output_type": "stream",
     "text": [
      "100%|██████████| 5057/5057 [07:13<00:00, 11.66it/s]\n"
     ]
    },
    {
     "name": "stdout",
     "output_type": "stream",
     "text": [
      "Failed asteroids: 4409 (87.19%)\n",
      "--------------------------------------------------\n",
      "Average time per configuration so far: 382.47 seconds\n",
      "--------------------------------------------------\n",
      "Config 132 / 192\n",
      "##########\n",
      "{'max_hours_diff': 4, 'min_no_points': 20, 'top_k_bins': 2, 'buffer_bins': 3, 'select_bins_by': 'points', 'max_time_diff': 60, 'min_bin_size': 2, 'max_freq': 12, 'top_k_freqs': 50, 'nterms': 3, 'max_debug': False}\n",
      "##########\n"
     ]
    },
    {
     "name": "stderr",
     "output_type": "stream",
     "text": [
      "100%|██████████| 5057/5057 [07:12<00:00, 11.69it/s]\n"
     ]
    },
    {
     "name": "stdout",
     "output_type": "stream",
     "text": [
      "Failed asteroids: 4495 (88.89%)\n",
      "--------------------------------------------------\n",
      "Average time per configuration so far: 384.98 seconds\n",
      "--------------------------------------------------\n",
      "Config 133 / 192\n",
      "##########\n",
      "{'max_hours_diff': 4, 'min_no_points': 20, 'top_k_bins': 4, 'buffer_bins': 3, 'select_bins_by': 'lightcurves', 'max_time_diff': 30, 'min_bin_size': 1, 'max_freq': 12, 'top_k_freqs': 50, 'nterms': 3, 'max_debug': False}\n",
      "##########\n"
     ]
    },
    {
     "name": "stderr",
     "output_type": "stream",
     "text": [
      "100%|██████████| 5057/5057 [04:32<00:00, 18.54it/s]\n"
     ]
    },
    {
     "name": "stdout",
     "output_type": "stream",
     "text": [
      "Failed asteroids: 4412 (87.25%)\n",
      "--------------------------------------------------\n",
      "Average time per configuration so far: 379.65 seconds\n",
      "--------------------------------------------------\n",
      "Config 134 / 192\n",
      "##########\n",
      "{'max_hours_diff': 4, 'min_no_points': 20, 'top_k_bins': 4, 'buffer_bins': 3, 'select_bins_by': 'lightcurves', 'max_time_diff': 30, 'min_bin_size': 2, 'max_freq': 12, 'top_k_freqs': 50, 'nterms': 3, 'max_debug': False}\n",
      "##########\n"
     ]
    },
    {
     "name": "stderr",
     "output_type": "stream",
     "text": [
      "100%|██████████| 5057/5057 [04:30<00:00, 18.68it/s]\n"
     ]
    },
    {
     "name": "stdout",
     "output_type": "stream",
     "text": [
      "Failed asteroids: 4498 (88.95%)\n",
      "--------------------------------------------------\n",
      "Average time per configuration so far: 374.71 seconds\n",
      "--------------------------------------------------\n",
      "Config 135 / 192\n",
      "##########\n",
      "{'max_hours_diff': 4, 'min_no_points': 20, 'top_k_bins': 4, 'buffer_bins': 3, 'select_bins_by': 'lightcurves', 'max_time_diff': 45, 'min_bin_size': 1, 'max_freq': 12, 'top_k_freqs': 50, 'nterms': 3, 'max_debug': False}\n",
      "##########\n"
     ]
    },
    {
     "name": "stderr",
     "output_type": "stream",
     "text": [
      "100%|██████████| 5057/5057 [06:49<00:00, 12.36it/s]\n"
     ]
    },
    {
     "name": "stdout",
     "output_type": "stream",
     "text": [
      "Failed asteroids: 4410 (87.21%)\n",
      "--------------------------------------------------\n",
      "Average time per configuration so far: 376.23 seconds\n",
      "--------------------------------------------------\n",
      "Config 136 / 192\n",
      "##########\n",
      "{'max_hours_diff': 4, 'min_no_points': 20, 'top_k_bins': 4, 'buffer_bins': 3, 'select_bins_by': 'lightcurves', 'max_time_diff': 45, 'min_bin_size': 2, 'max_freq': 12, 'top_k_freqs': 50, 'nterms': 3, 'max_debug': False}\n",
      "##########\n"
     ]
    },
    {
     "name": "stderr",
     "output_type": "stream",
     "text": [
      "100%|██████████| 5057/5057 [06:48<00:00, 12.38it/s]\n"
     ]
    },
    {
     "name": "stdout",
     "output_type": "stream",
     "text": [
      "Failed asteroids: 4496 (88.91%)\n",
      "--------------------------------------------------\n",
      "Average time per configuration so far: 377.58 seconds\n",
      "--------------------------------------------------\n",
      "Config 137 / 192\n",
      "##########\n",
      "{'max_hours_diff': 4, 'min_no_points': 20, 'top_k_bins': 4, 'buffer_bins': 3, 'select_bins_by': 'lightcurves', 'max_time_diff': 60, 'min_bin_size': 1, 'max_freq': 12, 'top_k_freqs': 50, 'nterms': 3, 'max_debug': False}\n",
      "##########\n"
     ]
    },
    {
     "name": "stderr",
     "output_type": "stream",
     "text": [
      "100%|██████████| 5057/5057 [09:07<00:00,  9.24it/s]\n"
     ]
    },
    {
     "name": "stdout",
     "output_type": "stream",
     "text": [
      "Failed asteroids: 4409 (87.19%)\n",
      "--------------------------------------------------\n",
      "Average time per configuration so far: 384.37 seconds\n",
      "--------------------------------------------------\n",
      "Config 138 / 192\n",
      "##########\n",
      "{'max_hours_diff': 4, 'min_no_points': 20, 'top_k_bins': 4, 'buffer_bins': 3, 'select_bins_by': 'lightcurves', 'max_time_diff': 60, 'min_bin_size': 2, 'max_freq': 12, 'top_k_freqs': 50, 'nterms': 3, 'max_debug': False}\n",
      "##########\n"
     ]
    },
    {
     "name": "stderr",
     "output_type": "stream",
     "text": [
      "100%|██████████| 5057/5057 [09:07<00:00,  9.23it/s]\n"
     ]
    },
    {
     "name": "stdout",
     "output_type": "stream",
     "text": [
      "Failed asteroids: 4495 (88.89%)\n",
      "--------------------------------------------------\n",
      "Average time per configuration so far: 390.67 seconds\n",
      "--------------------------------------------------\n",
      "Config 139 / 192\n",
      "##########\n",
      "{'max_hours_diff': 4, 'min_no_points': 20, 'top_k_bins': 4, 'buffer_bins': 3, 'select_bins_by': 'points', 'max_time_diff': 30, 'min_bin_size': 1, 'max_freq': 12, 'top_k_freqs': 50, 'nterms': 3, 'max_debug': False}\n",
      "##########\n"
     ]
    },
    {
     "name": "stderr",
     "output_type": "stream",
     "text": [
      "100%|██████████| 5057/5057 [04:38<00:00, 18.15it/s]\n"
     ]
    },
    {
     "name": "stdout",
     "output_type": "stream",
     "text": [
      "Failed asteroids: 4412 (87.25%)\n",
      "--------------------------------------------------\n",
      "Average time per configuration so far: 386.53 seconds\n",
      "--------------------------------------------------\n",
      "Config 140 / 192\n",
      "##########\n",
      "{'max_hours_diff': 4, 'min_no_points': 20, 'top_k_bins': 4, 'buffer_bins': 3, 'select_bins_by': 'points', 'max_time_diff': 30, 'min_bin_size': 2, 'max_freq': 12, 'top_k_freqs': 50, 'nterms': 3, 'max_debug': False}\n",
      "##########\n"
     ]
    },
    {
     "name": "stderr",
     "output_type": "stream",
     "text": [
      "100%|██████████| 5057/5057 [04:37<00:00, 18.22it/s]\n"
     ]
    },
    {
     "name": "stdout",
     "output_type": "stream",
     "text": [
      "Failed asteroids: 4498 (88.95%)\n",
      "--------------------------------------------------\n",
      "Average time per configuration so far: 382.65 seconds\n",
      "--------------------------------------------------\n",
      "Config 141 / 192\n",
      "##########\n",
      "{'max_hours_diff': 4, 'min_no_points': 20, 'top_k_bins': 4, 'buffer_bins': 3, 'select_bins_by': 'points', 'max_time_diff': 45, 'min_bin_size': 1, 'max_freq': 12, 'top_k_freqs': 50, 'nterms': 3, 'max_debug': False}\n",
      "##########\n"
     ]
    },
    {
     "name": "stderr",
     "output_type": "stream",
     "text": [
      "100%|██████████| 5057/5057 [07:06<00:00, 11.86it/s]\n"
     ]
    },
    {
     "name": "stdout",
     "output_type": "stream",
     "text": [
      "Failed asteroids: 4410 (87.21%)\n",
      "--------------------------------------------------\n",
      "Average time per configuration so far: 384.16 seconds\n",
      "--------------------------------------------------\n",
      "Config 142 / 192\n",
      "##########\n",
      "{'max_hours_diff': 4, 'min_no_points': 20, 'top_k_bins': 4, 'buffer_bins': 3, 'select_bins_by': 'points', 'max_time_diff': 45, 'min_bin_size': 2, 'max_freq': 12, 'top_k_freqs': 50, 'nterms': 3, 'max_debug': False}\n",
      "##########\n"
     ]
    },
    {
     "name": "stderr",
     "output_type": "stream",
     "text": [
      "100%|██████████| 5057/5057 [07:03<00:00, 11.93it/s]\n"
     ]
    },
    {
     "name": "stdout",
     "output_type": "stream",
     "text": [
      "Failed asteroids: 4496 (88.91%)\n",
      "--------------------------------------------------\n",
      "Average time per configuration so far: 385.49 seconds\n",
      "--------------------------------------------------\n",
      "Config 143 / 192\n",
      "##########\n",
      "{'max_hours_diff': 4, 'min_no_points': 20, 'top_k_bins': 4, 'buffer_bins': 3, 'select_bins_by': 'points', 'max_time_diff': 60, 'min_bin_size': 1, 'max_freq': 12, 'top_k_freqs': 50, 'nterms': 3, 'max_debug': False}\n",
      "##########\n"
     ]
    },
    {
     "name": "stderr",
     "output_type": "stream",
     "text": [
      "100%|██████████| 5057/5057 [09:09<00:00,  9.20it/s]  \n"
     ]
    },
    {
     "name": "stdout",
     "output_type": "stream",
     "text": [
      "Failed asteroids: 4409 (87.19%)\n",
      "--------------------------------------------------\n",
      "Average time per configuration so far: 390.79 seconds\n",
      "--------------------------------------------------\n",
      "Config 144 / 192\n",
      "##########\n",
      "{'max_hours_diff': 4, 'min_no_points': 20, 'top_k_bins': 4, 'buffer_bins': 3, 'select_bins_by': 'points', 'max_time_diff': 60, 'min_bin_size': 2, 'max_freq': 12, 'top_k_freqs': 50, 'nterms': 3, 'max_debug': False}\n",
      "##########\n"
     ]
    },
    {
     "name": "stderr",
     "output_type": "stream",
     "text": [
      "100%|██████████| 5057/5057 [09:09<00:00,  9.21it/s]  \n"
     ]
    },
    {
     "name": "stdout",
     "output_type": "stream",
     "text": [
      "Failed asteroids: 4495 (88.89%)\n",
      "--------------------------------------------------\n",
      "Average time per configuration so far: 395.75 seconds\n",
      "--------------------------------------------------\n",
      "Config 145 / 192\n",
      "##########\n",
      "{'max_hours_diff': 8, 'min_no_points': 10, 'top_k_bins': 2, 'buffer_bins': 3, 'select_bins_by': 'lightcurves', 'max_time_diff': 30, 'min_bin_size': 1, 'max_freq': 12, 'top_k_freqs': 50, 'nterms': 3, 'max_debug': False}\n",
      "##########\n"
     ]
    },
    {
     "name": "stderr",
     "output_type": "stream",
     "text": [
      "100%|██████████| 5057/5057 [03:36<00:00, 23.35it/s]\n"
     ]
    },
    {
     "name": "stdout",
     "output_type": "stream",
     "text": [
      "Failed asteroids: 3337 (65.99%)\n",
      "--------------------------------------------------\n",
      "Average time per configuration so far: 390.34 seconds\n",
      "--------------------------------------------------\n",
      "Config 146 / 192\n",
      "##########\n",
      "{'max_hours_diff': 8, 'min_no_points': 10, 'top_k_bins': 2, 'buffer_bins': 3, 'select_bins_by': 'lightcurves', 'max_time_diff': 30, 'min_bin_size': 2, 'max_freq': 12, 'top_k_freqs': 50, 'nterms': 3, 'max_debug': False}\n",
      "##########\n"
     ]
    },
    {
     "name": "stderr",
     "output_type": "stream",
     "text": [
      "100%|██████████| 5057/5057 [03:31<00:00, 23.90it/s]\n"
     ]
    },
    {
     "name": "stdout",
     "output_type": "stream",
     "text": [
      "Failed asteroids: 4117 (81.41%)\n",
      "--------------------------------------------------\n",
      "Average time per configuration so far: 385.09 seconds\n",
      "--------------------------------------------------\n",
      "Config 147 / 192\n",
      "##########\n",
      "{'max_hours_diff': 8, 'min_no_points': 10, 'top_k_bins': 2, 'buffer_bins': 3, 'select_bins_by': 'lightcurves', 'max_time_diff': 45, 'min_bin_size': 1, 'max_freq': 12, 'top_k_freqs': 50, 'nterms': 3, 'max_debug': False}\n",
      "##########\n"
     ]
    },
    {
     "name": "stderr",
     "output_type": "stream",
     "text": [
      "100%|██████████| 5057/5057 [05:42<00:00, 14.76it/s]\n"
     ]
    },
    {
     "name": "stdout",
     "output_type": "stream",
     "text": [
      "Failed asteroids: 3311 (65.47%)\n",
      "--------------------------------------------------\n",
      "Average time per configuration so far: 383.89 seconds\n",
      "--------------------------------------------------\n",
      "Config 148 / 192\n",
      "##########\n",
      "{'max_hours_diff': 8, 'min_no_points': 10, 'top_k_bins': 2, 'buffer_bins': 3, 'select_bins_by': 'lightcurves', 'max_time_diff': 45, 'min_bin_size': 2, 'max_freq': 12, 'top_k_freqs': 50, 'nterms': 3, 'max_debug': False}\n",
      "##########\n"
     ]
    },
    {
     "name": "stderr",
     "output_type": "stream",
     "text": [
      "100%|██████████| 5057/5057 [05:39<00:00, 14.91it/s]\n"
     ]
    },
    {
     "name": "stdout",
     "output_type": "stream",
     "text": [
      "Failed asteroids: 4086 (80.80%)\n",
      "--------------------------------------------------\n",
      "Average time per configuration so far: 382.65 seconds\n",
      "--------------------------------------------------\n",
      "Config 149 / 192\n",
      "##########\n",
      "{'max_hours_diff': 8, 'min_no_points': 10, 'top_k_bins': 2, 'buffer_bins': 3, 'select_bins_by': 'lightcurves', 'max_time_diff': 60, 'min_bin_size': 1, 'max_freq': 12, 'top_k_freqs': 50, 'nterms': 3, 'max_debug': False}\n",
      "##########\n"
     ]
    },
    {
     "name": "stderr",
     "output_type": "stream",
     "text": [
      "100%|██████████| 5057/5057 [07:50<00:00, 10.76it/s]\n"
     ]
    },
    {
     "name": "stdout",
     "output_type": "stream",
     "text": [
      "Failed asteroids: 3292 (65.10%)\n",
      "--------------------------------------------------\n",
      "Average time per configuration so far: 385.02 seconds\n",
      "--------------------------------------------------\n",
      "Config 150 / 192\n",
      "##########\n",
      "{'max_hours_diff': 8, 'min_no_points': 10, 'top_k_bins': 2, 'buffer_bins': 3, 'select_bins_by': 'lightcurves', 'max_time_diff': 60, 'min_bin_size': 2, 'max_freq': 12, 'top_k_freqs': 50, 'nterms': 3, 'max_debug': False}\n",
      "##########\n"
     ]
    },
    {
     "name": "stderr",
     "output_type": "stream",
     "text": [
      "100%|██████████| 5057/5057 [07:46<00:00, 10.85it/s]\n"
     ]
    },
    {
     "name": "stdout",
     "output_type": "stream",
     "text": [
      "Failed asteroids: 4066 (80.40%)\n",
      "--------------------------------------------------\n",
      "Average time per configuration so far: 387.16 seconds\n",
      "--------------------------------------------------\n",
      "Config 151 / 192\n",
      "##########\n",
      "{'max_hours_diff': 8, 'min_no_points': 10, 'top_k_bins': 2, 'buffer_bins': 3, 'select_bins_by': 'points', 'max_time_diff': 30, 'min_bin_size': 1, 'max_freq': 12, 'top_k_freqs': 50, 'nterms': 3, 'max_debug': False}\n",
      "##########\n"
     ]
    },
    {
     "name": "stderr",
     "output_type": "stream",
     "text": [
      "100%|██████████| 5057/5057 [03:45<00:00, 22.43it/s]\n"
     ]
    },
    {
     "name": "stdout",
     "output_type": "stream",
     "text": [
      "Failed asteroids: 3337 (65.99%)\n",
      "--------------------------------------------------\n",
      "Average time per configuration so far: 383.03 seconds\n",
      "--------------------------------------------------\n",
      "Config 152 / 192\n",
      "##########\n",
      "{'max_hours_diff': 8, 'min_no_points': 10, 'top_k_bins': 2, 'buffer_bins': 3, 'select_bins_by': 'points', 'max_time_diff': 30, 'min_bin_size': 2, 'max_freq': 12, 'top_k_freqs': 50, 'nterms': 3, 'max_debug': False}\n",
      "##########\n"
     ]
    },
    {
     "name": "stderr",
     "output_type": "stream",
     "text": [
      "100%|██████████| 5057/5057 [03:41<00:00, 22.82it/s]\n"
     ]
    },
    {
     "name": "stdout",
     "output_type": "stream",
     "text": [
      "Failed asteroids: 4117 (81.41%)\n",
      "--------------------------------------------------\n",
      "Average time per configuration so far: 379.00 seconds\n",
      "--------------------------------------------------\n",
      "Config 153 / 192\n",
      "##########\n",
      "{'max_hours_diff': 8, 'min_no_points': 10, 'top_k_bins': 2, 'buffer_bins': 3, 'select_bins_by': 'points', 'max_time_diff': 45, 'min_bin_size': 1, 'max_freq': 12, 'top_k_freqs': 50, 'nterms': 3, 'max_debug': False}\n",
      "##########\n"
     ]
    },
    {
     "name": "stderr",
     "output_type": "stream",
     "text": [
      "100%|██████████| 5057/5057 [05:58<00:00, 14.12it/s]\n"
     ]
    },
    {
     "name": "stdout",
     "output_type": "stream",
     "text": [
      "Failed asteroids: 3311 (65.47%)\n",
      "--------------------------------------------------\n",
      "Average time per configuration so far: 378.51 seconds\n",
      "--------------------------------------------------\n",
      "Config 154 / 192\n",
      "##########\n",
      "{'max_hours_diff': 8, 'min_no_points': 10, 'top_k_bins': 2, 'buffer_bins': 3, 'select_bins_by': 'points', 'max_time_diff': 45, 'min_bin_size': 2, 'max_freq': 12, 'top_k_freqs': 50, 'nterms': 3, 'max_debug': False}\n",
      "##########\n"
     ]
    },
    {
     "name": "stderr",
     "output_type": "stream",
     "text": [
      "100%|██████████| 5057/5057 [05:53<00:00, 14.29it/s]\n"
     ]
    },
    {
     "name": "stdout",
     "output_type": "stream",
     "text": [
      "Failed asteroids: 4086 (80.80%)\n",
      "--------------------------------------------------\n",
      "Average time per configuration so far: 377.92 seconds\n",
      "--------------------------------------------------\n",
      "Config 155 / 192\n",
      "##########\n",
      "{'max_hours_diff': 8, 'min_no_points': 10, 'top_k_bins': 2, 'buffer_bins': 3, 'select_bins_by': 'points', 'max_time_diff': 60, 'min_bin_size': 1, 'max_freq': 12, 'top_k_freqs': 50, 'nterms': 3, 'max_debug': False}\n",
      "##########\n"
     ]
    },
    {
     "name": "stderr",
     "output_type": "stream",
     "text": [
      "100%|██████████| 5057/5057 [07:59<00:00, 10.55it/s]\n"
     ]
    },
    {
     "name": "stdout",
     "output_type": "stream",
     "text": [
      "Failed asteroids: 3292 (65.10%)\n",
      "--------------------------------------------------\n",
      "Average time per configuration so far: 380.30 seconds\n",
      "--------------------------------------------------\n",
      "Config 156 / 192\n",
      "##########\n",
      "{'max_hours_diff': 8, 'min_no_points': 10, 'top_k_bins': 2, 'buffer_bins': 3, 'select_bins_by': 'points', 'max_time_diff': 60, 'min_bin_size': 2, 'max_freq': 12, 'top_k_freqs': 50, 'nterms': 3, 'max_debug': False}\n",
      "##########\n"
     ]
    },
    {
     "name": "stderr",
     "output_type": "stream",
     "text": [
      "100%|██████████| 5057/5057 [07:52<00:00, 10.70it/s]\n"
     ]
    },
    {
     "name": "stdout",
     "output_type": "stream",
     "text": [
      "Failed asteroids: 4066 (80.40%)\n",
      "--------------------------------------------------\n",
      "Average time per configuration so far: 382.41 seconds\n",
      "--------------------------------------------------\n",
      "Config 157 / 192\n",
      "##########\n",
      "{'max_hours_diff': 8, 'min_no_points': 10, 'top_k_bins': 4, 'buffer_bins': 3, 'select_bins_by': 'lightcurves', 'max_time_diff': 30, 'min_bin_size': 1, 'max_freq': 12, 'top_k_freqs': 50, 'nterms': 3, 'max_debug': False}\n",
      "##########\n"
     ]
    },
    {
     "name": "stderr",
     "output_type": "stream",
     "text": [
      "100%|██████████| 5057/5057 [05:36<00:00, 15.02it/s]\n"
     ]
    },
    {
     "name": "stdout",
     "output_type": "stream",
     "text": [
      "Failed asteroids: 3337 (65.99%)\n",
      "--------------------------------------------------\n",
      "Average time per configuration so far: 381.40 seconds\n",
      "--------------------------------------------------\n",
      "Config 158 / 192\n",
      "##########\n",
      "{'max_hours_diff': 8, 'min_no_points': 10, 'top_k_bins': 4, 'buffer_bins': 3, 'select_bins_by': 'lightcurves', 'max_time_diff': 30, 'min_bin_size': 2, 'max_freq': 12, 'top_k_freqs': 50, 'nterms': 3, 'max_debug': False}\n",
      "##########\n"
     ]
    },
    {
     "name": "stderr",
     "output_type": "stream",
     "text": [
      "100%|██████████| 5057/5057 [07:33<00:00, 11.15it/s]\n"
     ]
    },
    {
     "name": "stdout",
     "output_type": "stream",
     "text": [
      "Failed asteroids: 4117 (81.41%)\n",
      "--------------------------------------------------\n",
      "Average time per configuration so far: 382.98 seconds\n",
      "--------------------------------------------------\n",
      "Config 159 / 192\n",
      "##########\n",
      "{'max_hours_diff': 8, 'min_no_points': 10, 'top_k_bins': 4, 'buffer_bins': 3, 'select_bins_by': 'lightcurves', 'max_time_diff': 45, 'min_bin_size': 1, 'max_freq': 12, 'top_k_freqs': 50, 'nterms': 3, 'max_debug': False}\n",
      "##########\n"
     ]
    },
    {
     "name": "stderr",
     "output_type": "stream",
     "text": [
      "100%|██████████| 5057/5057 [10:14<00:00,  8.23it/s]  \n"
     ]
    },
    {
     "name": "stdout",
     "output_type": "stream",
     "text": [
      "Failed asteroids: 3311 (65.47%)\n",
      "--------------------------------------------------\n",
      "Average time per configuration so far: 387.91 seconds\n",
      "--------------------------------------------------\n",
      "Config 160 / 192\n",
      "##########\n",
      "{'max_hours_diff': 8, 'min_no_points': 10, 'top_k_bins': 4, 'buffer_bins': 3, 'select_bins_by': 'lightcurves', 'max_time_diff': 45, 'min_bin_size': 2, 'max_freq': 12, 'top_k_freqs': 50, 'nterms': 3, 'max_debug': False}\n",
      "##########\n"
     ]
    },
    {
     "name": "stderr",
     "output_type": "stream",
     "text": [
      "100%|██████████| 5057/5057 [08:45<00:00,  9.63it/s]  \n"
     ]
    },
    {
     "name": "stdout",
     "output_type": "stream",
     "text": [
      "Failed asteroids: 4086 (80.80%)\n",
      "--------------------------------------------------\n",
      "Average time per configuration so far: 390.78 seconds\n",
      "--------------------------------------------------\n",
      "Config 161 / 192\n",
      "##########\n",
      "{'max_hours_diff': 8, 'min_no_points': 10, 'top_k_bins': 4, 'buffer_bins': 3, 'select_bins_by': 'lightcurves', 'max_time_diff': 60, 'min_bin_size': 1, 'max_freq': 12, 'top_k_freqs': 50, 'nterms': 3, 'max_debug': False}\n",
      "##########\n"
     ]
    },
    {
     "name": "stderr",
     "output_type": "stream",
     "text": [
      "100%|██████████| 5057/5057 [09:55<00:00,  8.49it/s]  \n"
     ]
    },
    {
     "name": "stdout",
     "output_type": "stream",
     "text": [
      "Failed asteroids: 3292 (65.10%)\n",
      "--------------------------------------------------\n",
      "Average time per configuration so far: 394.97 seconds\n",
      "--------------------------------------------------\n",
      "Config 162 / 192\n",
      "##########\n",
      "{'max_hours_diff': 8, 'min_no_points': 10, 'top_k_bins': 4, 'buffer_bins': 3, 'select_bins_by': 'lightcurves', 'max_time_diff': 60, 'min_bin_size': 2, 'max_freq': 12, 'top_k_freqs': 50, 'nterms': 3, 'max_debug': False}\n",
      "##########\n"
     ]
    },
    {
     "name": "stderr",
     "output_type": "stream",
     "text": [
      "100%|██████████| 5057/5057 [09:49<00:00,  8.58it/s]  \n"
     ]
    },
    {
     "name": "stdout",
     "output_type": "stream",
     "text": [
      "Failed asteroids: 4066 (80.40%)\n",
      "--------------------------------------------------\n",
      "Average time per configuration so far: 398.86 seconds\n",
      "--------------------------------------------------\n",
      "Config 163 / 192\n",
      "##########\n",
      "{'max_hours_diff': 8, 'min_no_points': 10, 'top_k_bins': 4, 'buffer_bins': 3, 'select_bins_by': 'points', 'max_time_diff': 30, 'min_bin_size': 1, 'max_freq': 12, 'top_k_freqs': 50, 'nterms': 3, 'max_debug': False}\n",
      "##########\n"
     ]
    },
    {
     "name": "stderr",
     "output_type": "stream",
     "text": [
      "100%|██████████| 5057/5057 [05:02<00:00, 16.72it/s]\n"
     ]
    },
    {
     "name": "stdout",
     "output_type": "stream",
     "text": [
      "Failed asteroids: 3337 (65.99%)\n",
      "--------------------------------------------------\n",
      "Average time per configuration so far: 396.98 seconds\n",
      "--------------------------------------------------\n",
      "Config 164 / 192\n",
      "##########\n",
      "{'max_hours_diff': 8, 'min_no_points': 10, 'top_k_bins': 4, 'buffer_bins': 3, 'select_bins_by': 'points', 'max_time_diff': 30, 'min_bin_size': 2, 'max_freq': 12, 'top_k_freqs': 50, 'nterms': 3, 'max_debug': False}\n",
      "##########\n"
     ]
    },
    {
     "name": "stderr",
     "output_type": "stream",
     "text": [
      "100%|██████████| 5057/5057 [04:57<00:00, 17.02it/s]\n"
     ]
    },
    {
     "name": "stdout",
     "output_type": "stream",
     "text": [
      "Failed asteroids: 4117 (81.41%)\n",
      "--------------------------------------------------\n",
      "Average time per configuration so far: 395.07 seconds\n",
      "--------------------------------------------------\n",
      "Config 165 / 192\n",
      "##########\n",
      "{'max_hours_diff': 8, 'min_no_points': 10, 'top_k_bins': 4, 'buffer_bins': 3, 'select_bins_by': 'points', 'max_time_diff': 45, 'min_bin_size': 1, 'max_freq': 12, 'top_k_freqs': 50, 'nterms': 3, 'max_debug': False}\n",
      "##########\n"
     ]
    },
    {
     "name": "stderr",
     "output_type": "stream",
     "text": [
      "100%|██████████| 5057/5057 [07:44<00:00, 10.90it/s]\n"
     ]
    },
    {
     "name": "stdout",
     "output_type": "stream",
     "text": [
      "Failed asteroids: 3311 (65.47%)\n",
      "--------------------------------------------------\n",
      "Average time per configuration so far: 396.38 seconds\n",
      "--------------------------------------------------\n",
      "Config 166 / 192\n",
      "##########\n",
      "{'max_hours_diff': 8, 'min_no_points': 10, 'top_k_bins': 4, 'buffer_bins': 3, 'select_bins_by': 'points', 'max_time_diff': 45, 'min_bin_size': 2, 'max_freq': 12, 'top_k_freqs': 50, 'nterms': 3, 'max_debug': False}\n",
      "##########\n"
     ]
    },
    {
     "name": "stderr",
     "output_type": "stream",
     "text": [
      "100%|██████████| 5057/5057 [07:38<00:00, 11.04it/s]\n"
     ]
    },
    {
     "name": "stdout",
     "output_type": "stream",
     "text": [
      "Failed asteroids: 4086 (80.80%)\n",
      "--------------------------------------------------\n",
      "Average time per configuration so far: 397.53 seconds\n",
      "--------------------------------------------------\n",
      "Config 167 / 192\n",
      "##########\n",
      "{'max_hours_diff': 8, 'min_no_points': 10, 'top_k_bins': 4, 'buffer_bins': 3, 'select_bins_by': 'points', 'max_time_diff': 60, 'min_bin_size': 1, 'max_freq': 12, 'top_k_freqs': 50, 'nterms': 3, 'max_debug': False}\n",
      "##########\n"
     ]
    },
    {
     "name": "stderr",
     "output_type": "stream",
     "text": [
      "100%|██████████| 5057/5057 [10:03<00:00,  8.38it/s]  \n"
     ]
    },
    {
     "name": "stdout",
     "output_type": "stream",
     "text": [
      "Failed asteroids: 3292 (65.10%)\n",
      "--------------------------------------------------\n",
      "Average time per configuration so far: 401.28 seconds\n",
      "--------------------------------------------------\n",
      "Config 168 / 192\n",
      "##########\n",
      "{'max_hours_diff': 8, 'min_no_points': 10, 'top_k_bins': 4, 'buffer_bins': 3, 'select_bins_by': 'points', 'max_time_diff': 60, 'min_bin_size': 2, 'max_freq': 12, 'top_k_freqs': 50, 'nterms': 3, 'max_debug': False}\n",
      "##########\n"
     ]
    },
    {
     "name": "stderr",
     "output_type": "stream",
     "text": [
      "100%|██████████| 5057/5057 [09:57<00:00,  8.46it/s]  \n"
     ]
    },
    {
     "name": "stdout",
     "output_type": "stream",
     "text": [
      "Failed asteroids: 4066 (80.40%)\n",
      "--------------------------------------------------\n",
      "Average time per configuration so far: 404.80 seconds\n",
      "--------------------------------------------------\n",
      "Config 169 / 192\n",
      "##########\n",
      "{'max_hours_diff': 8, 'min_no_points': 20, 'top_k_bins': 2, 'buffer_bins': 3, 'select_bins_by': 'lightcurves', 'max_time_diff': 30, 'min_bin_size': 1, 'max_freq': 12, 'top_k_freqs': 50, 'nterms': 3, 'max_debug': False}\n",
      "##########\n"
     ]
    },
    {
     "name": "stderr",
     "output_type": "stream",
     "text": [
      "100%|██████████| 5057/5057 [03:20<00:00, 25.28it/s] \n"
     ]
    },
    {
     "name": "stdout",
     "output_type": "stream",
     "text": [
      "Failed asteroids: 4111 (81.29%)\n",
      "--------------------------------------------------\n",
      "Average time per configuration so far: 401.21 seconds\n",
      "--------------------------------------------------\n",
      "Config 170 / 192\n",
      "##########\n",
      "{'max_hours_diff': 8, 'min_no_points': 20, 'top_k_bins': 2, 'buffer_bins': 3, 'select_bins_by': 'lightcurves', 'max_time_diff': 30, 'min_bin_size': 2, 'max_freq': 12, 'top_k_freqs': 50, 'nterms': 3, 'max_debug': False}\n",
      "##########\n"
     ]
    },
    {
     "name": "stderr",
     "output_type": "stream",
     "text": [
      "100%|██████████| 5057/5057 [03:16<00:00, 25.71it/s] \n"
     ]
    },
    {
     "name": "stdout",
     "output_type": "stream",
     "text": [
      "Failed asteroids: 4492 (88.83%)\n",
      "--------------------------------------------------\n",
      "Average time per configuration so far: 397.69 seconds\n",
      "--------------------------------------------------\n",
      "Config 171 / 192\n",
      "##########\n",
      "{'max_hours_diff': 8, 'min_no_points': 20, 'top_k_bins': 2, 'buffer_bins': 3, 'select_bins_by': 'lightcurves', 'max_time_diff': 45, 'min_bin_size': 1, 'max_freq': 12, 'top_k_freqs': 50, 'nterms': 3, 'max_debug': False}\n",
      "##########\n"
     ]
    },
    {
     "name": "stderr",
     "output_type": "stream",
     "text": [
      "100%|██████████| 5057/5057 [05:13<00:00, 16.14it/s]\n"
     ]
    },
    {
     "name": "stdout",
     "output_type": "stream",
     "text": [
      "Failed asteroids: 4109 (81.25%)\n",
      "--------------------------------------------------\n",
      "Average time per configuration so far: 396.26 seconds\n",
      "--------------------------------------------------\n",
      "Config 172 / 192\n",
      "##########\n",
      "{'max_hours_diff': 8, 'min_no_points': 20, 'top_k_bins': 2, 'buffer_bins': 3, 'select_bins_by': 'lightcurves', 'max_time_diff': 45, 'min_bin_size': 2, 'max_freq': 12, 'top_k_freqs': 50, 'nterms': 3, 'max_debug': False}\n",
      "##########\n"
     ]
    },
    {
     "name": "stderr",
     "output_type": "stream",
     "text": [
      "100%|██████████| 5057/5057 [05:09<00:00, 16.33it/s]\n"
     ]
    },
    {
     "name": "stdout",
     "output_type": "stream",
     "text": [
      "Failed asteroids: 4490 (88.79%)\n",
      "--------------------------------------------------\n",
      "Average time per configuration so far: 394.82 seconds\n",
      "--------------------------------------------------\n",
      "Config 173 / 192\n",
      "##########\n",
      "{'max_hours_diff': 8, 'min_no_points': 20, 'top_k_bins': 2, 'buffer_bins': 3, 'select_bins_by': 'lightcurves', 'max_time_diff': 60, 'min_bin_size': 1, 'max_freq': 12, 'top_k_freqs': 50, 'nterms': 3, 'max_debug': False}\n",
      "##########\n"
     ]
    },
    {
     "name": "stderr",
     "output_type": "stream",
     "text": [
      "100%|██████████| 5057/5057 [07:10<00:00, 11.75it/s]\n"
     ]
    },
    {
     "name": "stdout",
     "output_type": "stream",
     "text": [
      "Failed asteroids: 4108 (81.23%)\n",
      "--------------------------------------------------\n",
      "Average time per configuration so far: 395.41 seconds\n",
      "--------------------------------------------------\n",
      "Config 174 / 192\n",
      "##########\n",
      "{'max_hours_diff': 8, 'min_no_points': 20, 'top_k_bins': 2, 'buffer_bins': 3, 'select_bins_by': 'lightcurves', 'max_time_diff': 60, 'min_bin_size': 2, 'max_freq': 12, 'top_k_freqs': 50, 'nterms': 3, 'max_debug': False}\n",
      "##########\n"
     ]
    },
    {
     "name": "stderr",
     "output_type": "stream",
     "text": [
      "100%|██████████| 5057/5057 [07:06<00:00, 11.85it/s]\n"
     ]
    },
    {
     "name": "stdout",
     "output_type": "stream",
     "text": [
      "Failed asteroids: 4489 (88.77%)\n",
      "--------------------------------------------------\n",
      "Average time per configuration so far: 395.92 seconds\n",
      "--------------------------------------------------\n",
      "Config 175 / 192\n",
      "##########\n",
      "{'max_hours_diff': 8, 'min_no_points': 20, 'top_k_bins': 2, 'buffer_bins': 3, 'select_bins_by': 'points', 'max_time_diff': 30, 'min_bin_size': 1, 'max_freq': 12, 'top_k_freqs': 50, 'nterms': 3, 'max_debug': False}\n",
      "##########\n"
     ]
    },
    {
     "name": "stderr",
     "output_type": "stream",
     "text": [
      "100%|██████████| 5057/5057 [03:26<00:00, 24.47it/s] \n"
     ]
    },
    {
     "name": "stdout",
     "output_type": "stream",
     "text": [
      "Failed asteroids: 4111 (81.29%)\n",
      "--------------------------------------------------\n",
      "Average time per configuration so far: 392.92 seconds\n",
      "--------------------------------------------------\n",
      "Config 176 / 192\n",
      "##########\n",
      "{'max_hours_diff': 8, 'min_no_points': 20, 'top_k_bins': 2, 'buffer_bins': 3, 'select_bins_by': 'points', 'max_time_diff': 30, 'min_bin_size': 2, 'max_freq': 12, 'top_k_freqs': 50, 'nterms': 3, 'max_debug': False}\n",
      "##########\n"
     ]
    },
    {
     "name": "stderr",
     "output_type": "stream",
     "text": [
      "100%|██████████| 5057/5057 [03:24<00:00, 24.78it/s] \n"
     ]
    },
    {
     "name": "stdout",
     "output_type": "stream",
     "text": [
      "Failed asteroids: 4492 (88.83%)\n",
      "--------------------------------------------------\n",
      "Average time per configuration so far: 389.97 seconds\n",
      "--------------------------------------------------\n",
      "Config 177 / 192\n",
      "##########\n",
      "{'max_hours_diff': 8, 'min_no_points': 20, 'top_k_bins': 2, 'buffer_bins': 3, 'select_bins_by': 'points', 'max_time_diff': 45, 'min_bin_size': 1, 'max_freq': 12, 'top_k_freqs': 50, 'nterms': 3, 'max_debug': False}\n",
      "##########\n"
     ]
    },
    {
     "name": "stderr",
     "output_type": "stream",
     "text": [
      "100%|██████████| 5057/5057 [05:28<00:00, 15.40it/s]\n"
     ]
    },
    {
     "name": "stdout",
     "output_type": "stream",
     "text": [
      "Failed asteroids: 4109 (81.25%)\n",
      "--------------------------------------------------\n",
      "Average time per configuration so far: 389.03 seconds\n",
      "--------------------------------------------------\n",
      "Config 178 / 192\n",
      "##########\n",
      "{'max_hours_diff': 8, 'min_no_points': 20, 'top_k_bins': 2, 'buffer_bins': 3, 'select_bins_by': 'points', 'max_time_diff': 45, 'min_bin_size': 2, 'max_freq': 12, 'top_k_freqs': 50, 'nterms': 3, 'max_debug': False}\n",
      "##########\n"
     ]
    },
    {
     "name": "stderr",
     "output_type": "stream",
     "text": [
      "100%|██████████| 5057/5057 [05:25<00:00, 15.51it/s]\n"
     ]
    },
    {
     "name": "stdout",
     "output_type": "stream",
     "text": [
      "Failed asteroids: 4490 (88.79%)\n",
      "--------------------------------------------------\n",
      "Average time per configuration so far: 388.07 seconds\n",
      "--------------------------------------------------\n",
      "Config 179 / 192\n",
      "##########\n",
      "{'max_hours_diff': 8, 'min_no_points': 20, 'top_k_bins': 2, 'buffer_bins': 3, 'select_bins_by': 'points', 'max_time_diff': 60, 'min_bin_size': 1, 'max_freq': 12, 'top_k_freqs': 50, 'nterms': 3, 'max_debug': False}\n",
      "##########\n"
     ]
    },
    {
     "name": "stderr",
     "output_type": "stream",
     "text": [
      "100%|██████████| 5057/5057 [07:16<00:00, 11.60it/s]\n"
     ]
    },
    {
     "name": "stdout",
     "output_type": "stream",
     "text": [
      "Failed asteroids: 4108 (81.23%)\n",
      "--------------------------------------------------\n",
      "Average time per configuration so far: 388.79 seconds\n",
      "--------------------------------------------------\n",
      "Config 180 / 192\n",
      "##########\n",
      "{'max_hours_diff': 8, 'min_no_points': 20, 'top_k_bins': 2, 'buffer_bins': 3, 'select_bins_by': 'points', 'max_time_diff': 60, 'min_bin_size': 2, 'max_freq': 12, 'top_k_freqs': 50, 'nterms': 3, 'max_debug': False}\n",
      "##########\n"
     ]
    },
    {
     "name": "stderr",
     "output_type": "stream",
     "text": [
      "100%|██████████| 5057/5057 [07:13<00:00, 11.66it/s]\n"
     ]
    },
    {
     "name": "stdout",
     "output_type": "stream",
     "text": [
      "Failed asteroids: 4489 (88.77%)\n",
      "--------------------------------------------------\n",
      "Average time per configuration so far: 389.46 seconds\n",
      "--------------------------------------------------\n",
      "Config 181 / 192\n",
      "##########\n",
      "{'max_hours_diff': 8, 'min_no_points': 20, 'top_k_bins': 4, 'buffer_bins': 3, 'select_bins_by': 'lightcurves', 'max_time_diff': 30, 'min_bin_size': 1, 'max_freq': 12, 'top_k_freqs': 50, 'nterms': 3, 'max_debug': False}\n",
      "##########\n"
     ]
    },
    {
     "name": "stderr",
     "output_type": "stream",
     "text": [
      "100%|██████████| 5057/5057 [04:33<00:00, 18.47it/s]\n"
     ]
    },
    {
     "name": "stdout",
     "output_type": "stream",
     "text": [
      "Failed asteroids: 4111 (81.29%)\n",
      "--------------------------------------------------\n",
      "Average time per configuration so far: 387.79 seconds\n",
      "--------------------------------------------------\n",
      "Config 182 / 192\n",
      "##########\n",
      "{'max_hours_diff': 8, 'min_no_points': 20, 'top_k_bins': 4, 'buffer_bins': 3, 'select_bins_by': 'lightcurves', 'max_time_diff': 30, 'min_bin_size': 2, 'max_freq': 12, 'top_k_freqs': 50, 'nterms': 3, 'max_debug': False}\n",
      "##########\n"
     ]
    },
    {
     "name": "stderr",
     "output_type": "stream",
     "text": [
      "100%|██████████| 5057/5057 [04:30<00:00, 18.66it/s]\n"
     ]
    },
    {
     "name": "stdout",
     "output_type": "stream",
     "text": [
      "Failed asteroids: 4492 (88.83%)\n",
      "--------------------------------------------------\n",
      "Average time per configuration so far: 386.12 seconds\n",
      "--------------------------------------------------\n",
      "Config 183 / 192\n",
      "##########\n",
      "{'max_hours_diff': 8, 'min_no_points': 20, 'top_k_bins': 4, 'buffer_bins': 3, 'select_bins_by': 'lightcurves', 'max_time_diff': 45, 'min_bin_size': 1, 'max_freq': 12, 'top_k_freqs': 50, 'nterms': 3, 'max_debug': False}\n",
      "##########\n"
     ]
    },
    {
     "name": "stderr",
     "output_type": "stream",
     "text": [
      "100%|██████████| 5057/5057 [06:50<00:00, 12.31it/s]\n"
     ]
    },
    {
     "name": "stdout",
     "output_type": "stream",
     "text": [
      "Failed asteroids: 4109 (81.25%)\n",
      "--------------------------------------------------\n",
      "Average time per configuration so far: 386.48 seconds\n",
      "--------------------------------------------------\n",
      "Config 184 / 192\n",
      "##########\n",
      "{'max_hours_diff': 8, 'min_no_points': 20, 'top_k_bins': 4, 'buffer_bins': 3, 'select_bins_by': 'lightcurves', 'max_time_diff': 45, 'min_bin_size': 2, 'max_freq': 12, 'top_k_freqs': 50, 'nterms': 3, 'max_debug': False}\n",
      "##########\n"
     ]
    },
    {
     "name": "stderr",
     "output_type": "stream",
     "text": [
      "100%|██████████| 5057/5057 [06:49<00:00, 12.34it/s]\n"
     ]
    },
    {
     "name": "stdout",
     "output_type": "stream",
     "text": [
      "Failed asteroids: 4490 (88.79%)\n",
      "--------------------------------------------------\n",
      "Average time per configuration so far: 386.80 seconds\n",
      "--------------------------------------------------\n",
      "Config 185 / 192\n",
      "##########\n",
      "{'max_hours_diff': 8, 'min_no_points': 20, 'top_k_bins': 4, 'buffer_bins': 3, 'select_bins_by': 'lightcurves', 'max_time_diff': 60, 'min_bin_size': 1, 'max_freq': 12, 'top_k_freqs': 50, 'nterms': 3, 'max_debug': False}\n",
      "##########\n"
     ]
    },
    {
     "name": "stderr",
     "output_type": "stream",
     "text": [
      "100%|██████████| 5057/5057 [09:08<00:00,  9.21it/s]\n"
     ]
    },
    {
     "name": "stdout",
     "output_type": "stream",
     "text": [
      "Failed asteroids: 4108 (81.23%)\n",
      "--------------------------------------------------\n",
      "Average time per configuration so far: 389.03 seconds\n",
      "--------------------------------------------------\n",
      "Config 186 / 192\n",
      "##########\n",
      "{'max_hours_diff': 8, 'min_no_points': 20, 'top_k_bins': 4, 'buffer_bins': 3, 'select_bins_by': 'lightcurves', 'max_time_diff': 60, 'min_bin_size': 2, 'max_freq': 12, 'top_k_freqs': 50, 'nterms': 3, 'max_debug': False}\n",
      "##########\n"
     ]
    },
    {
     "name": "stderr",
     "output_type": "stream",
     "text": [
      "100%|██████████| 5057/5057 [09:08<00:00,  9.22it/s]\n"
     ]
    },
    {
     "name": "stdout",
     "output_type": "stream",
     "text": [
      "Failed asteroids: 4489 (88.77%)\n",
      "--------------------------------------------------\n",
      "Average time per configuration so far: 391.19 seconds\n",
      "--------------------------------------------------\n",
      "Config 187 / 192\n",
      "##########\n",
      "{'max_hours_diff': 8, 'min_no_points': 20, 'top_k_bins': 4, 'buffer_bins': 3, 'select_bins_by': 'points', 'max_time_diff': 30, 'min_bin_size': 1, 'max_freq': 12, 'top_k_freqs': 50, 'nterms': 3, 'max_debug': False}\n",
      "##########\n"
     ]
    },
    {
     "name": "stderr",
     "output_type": "stream",
     "text": [
      "100%|██████████| 5057/5057 [04:40<00:00, 18.05it/s]\n"
     ]
    },
    {
     "name": "stdout",
     "output_type": "stream",
     "text": [
      "Failed asteroids: 4111 (81.29%)\n",
      "--------------------------------------------------\n",
      "Average time per configuration so far: 389.71 seconds\n",
      "--------------------------------------------------\n",
      "Config 188 / 192\n",
      "##########\n",
      "{'max_hours_diff': 8, 'min_no_points': 20, 'top_k_bins': 4, 'buffer_bins': 3, 'select_bins_by': 'points', 'max_time_diff': 30, 'min_bin_size': 2, 'max_freq': 12, 'top_k_freqs': 50, 'nterms': 3, 'max_debug': False}\n",
      "##########\n"
     ]
    },
    {
     "name": "stderr",
     "output_type": "stream",
     "text": [
      "100%|██████████| 5057/5057 [04:37<00:00, 18.26it/s]\n"
     ]
    },
    {
     "name": "stdout",
     "output_type": "stream",
     "text": [
      "Failed asteroids: 4492 (88.83%)\n",
      "--------------------------------------------------\n",
      "Average time per configuration so far: 388.23 seconds\n",
      "--------------------------------------------------\n",
      "Config 189 / 192\n",
      "##########\n",
      "{'max_hours_diff': 8, 'min_no_points': 20, 'top_k_bins': 4, 'buffer_bins': 3, 'select_bins_by': 'points', 'max_time_diff': 45, 'min_bin_size': 1, 'max_freq': 12, 'top_k_freqs': 50, 'nterms': 3, 'max_debug': False}\n",
      "##########\n"
     ]
    },
    {
     "name": "stderr",
     "output_type": "stream",
     "text": [
      "100%|██████████| 5057/5057 [07:07<00:00, 11.83it/s]\n"
     ]
    },
    {
     "name": "stdout",
     "output_type": "stream",
     "text": [
      "Failed asteroids: 4109 (81.25%)\n",
      "--------------------------------------------------\n",
      "Average time per configuration so far: 388.75 seconds\n",
      "--------------------------------------------------\n",
      "Config 190 / 192\n",
      "##########\n",
      "{'max_hours_diff': 8, 'min_no_points': 20, 'top_k_bins': 4, 'buffer_bins': 3, 'select_bins_by': 'points', 'max_time_diff': 45, 'min_bin_size': 2, 'max_freq': 12, 'top_k_freqs': 50, 'nterms': 3, 'max_debug': False}\n",
      "##########\n"
     ]
    },
    {
     "name": "stderr",
     "output_type": "stream",
     "text": [
      "100%|██████████| 5057/5057 [07:05<00:00, 11.90it/s]\n"
     ]
    },
    {
     "name": "stdout",
     "output_type": "stream",
     "text": [
      "Failed asteroids: 4490 (88.79%)\n",
      "--------------------------------------------------\n",
      "Average time per configuration so far: 389.21 seconds\n",
      "--------------------------------------------------\n",
      "Config 191 / 192\n",
      "##########\n",
      "{'max_hours_diff': 8, 'min_no_points': 20, 'top_k_bins': 4, 'buffer_bins': 3, 'select_bins_by': 'points', 'max_time_diff': 60, 'min_bin_size': 1, 'max_freq': 12, 'top_k_freqs': 50, 'nterms': 3, 'max_debug': False}\n",
      "##########\n"
     ]
    },
    {
     "name": "stderr",
     "output_type": "stream",
     "text": [
      "100%|██████████| 5057/5057 [09:12<00:00,  9.16it/s]  \n"
     ]
    },
    {
     "name": "stdout",
     "output_type": "stream",
     "text": [
      "Failed asteroids: 4108 (81.23%)\n",
      "--------------------------------------------------\n",
      "Average time per configuration so far: 391.28 seconds\n",
      "--------------------------------------------------\n",
      "Config 192 / 192\n",
      "##########\n",
      "{'max_hours_diff': 8, 'min_no_points': 20, 'top_k_bins': 4, 'buffer_bins': 3, 'select_bins_by': 'points', 'max_time_diff': 60, 'min_bin_size': 2, 'max_freq': 12, 'top_k_freqs': 50, 'nterms': 3, 'max_debug': False}\n",
      "##########\n"
     ]
    },
    {
     "name": "stderr",
     "output_type": "stream",
     "text": [
      "100%|██████████| 5057/5057 [09:09<00:00,  9.21it/s]\n"
     ]
    },
    {
     "name": "stdout",
     "output_type": "stream",
     "text": [
      "Failed asteroids: 4489 (88.77%)\n",
      "--------------------------------------------------\n",
      "Average time per configuration so far: 393.26 seconds\n",
      "--------------------------------------------------\n"
     ]
    }
   ],
   "source": [
    "logging.getLogger().setLevel(logging.INFO)\n",
    "\n",
    "times = []\n",
    "for ind, config in enumerate(configs):\n",
    "    if config in calculated_configs:\n",
    "        continue\n",
    "\n",
    "    print(f\"Config {ind + 1} / {len(configs)}\")\n",
    "    print(f\"{'#'*10}\")\n",
    "    print(config)\n",
    "    print(f\"{'#'*10}\")\n",
    "    start = perf_counter()\n",
    "    calculate_and_save_features(config, config_no=ind + 1)\n",
    "    times.append(perf_counter() - start)\n",
    "\n",
    "    print(f\"Average time per configuration so far: {np.mean(times):.2f} seconds\")\n",
    "    print(f\"{'-'*50}\")\n",
    "\n",
    "logging.getLogger().setLevel(logging.DEBUG)"
   ]
  },
  {
   "cell_type": "code",
   "execution_count": 16,
   "metadata": {},
   "outputs": [
    {
     "data": {
      "text/plain": [
       "Asteroid(id=19898, name=1177 T-3, period=2.557692, lightcurves=2)"
      ]
     },
     "execution_count": 16,
     "metadata": {},
     "output_type": "execute_result"
    }
   ],
   "source": [
    "ast_name = asteroids[\"1177 T-3\"]\n",
    "ast_name"
   ]
  },
  {
   "cell_type": "code",
   "execution_count": 17,
   "metadata": {},
   "outputs": [],
   "source": [
    "config = configs[0]\n",
    "\n",
    "config['max_debug'] = True"
   ]
  },
  {
   "cell_type": "code",
   "execution_count": 18,
   "metadata": {},
   "outputs": [
    {
     "name": "stderr",
     "output_type": "stream",
     "text": [
      "2024-07-19 10:24:09,273 - freq - DEBUG - Splitting lightcurves for 1177 T-3 with max_hours_diff=1 and min_no_points=10\n",
      "2024-07-19 10:24:09,274 - freq - DEBUG - Before splitting: 2 lightcurves\n",
      "2024-07-19 10:24:09,274 - freq - DEBUG - Using cached lightcurves ((1, 10)) for 1177 T-3\n",
      "2024-07-19 10:24:09,274 - freq - DEBUG - After splitting: 0 lightcurves\n",
      "2024-07-19 10:24:09,275 - freq - DEBUG - Getting top 2 bins with max_time_diff=30 and min_bin_size=1\n",
      "2024-07-19 10:24:09,275 - freq - DEBUG - Using cached bins ((1, 10, 30, 1)) for 1177 T-3\n",
      "2024-07-19 10:24:09,275 - freq - DEBUG - After binning 0 bins available\n",
      "2024-07-19 10:24:09,276 - freq - DEBUG - Using 0 bins instead of 2\n",
      "2024-07-19 10:24:09,276 - freq - DEBUG - No bins available\n"
     ]
    }
   ],
   "source": [
    "data = get_freq_features(ast_name, config)"
   ]
  },
  {
   "cell_type": "code",
   "execution_count": 20,
   "metadata": {},
   "outputs": [],
   "source": [
    "with open(FEATURES_DIR / (ASTEROIDS_JSON_FILE_NAME.format(config_no=1)), \"r\") as f:\n",
    "    data = json.load(f)\n",
    "\n",
    "\n",
    "asteroids_data = data[\"asteroids\"]\n"
   ]
  },
  {
   "cell_type": "code",
   "execution_count": 21,
   "metadata": {},
   "outputs": [],
   "source": [
    "failed_asteroids = filter(lambda x: x[1][\"is_failed\"], asteroids_data.items())\n"
   ]
  },
  {
   "cell_type": "code",
   "execution_count": 22,
   "metadata": {},
   "outputs": [
    {
     "name": "stdout",
     "output_type": "stream",
     "text": [
      "Counter({'no bins': 3441, 'no frequencies': 773, 'anomalous series': 23})\n"
     ]
    }
   ],
   "source": [
    "reasons = Counter([failed_asteroid[\"reason\"] for _, failed_asteroid in failed_asteroids])\n",
    "print(reasons)"
   ]
  },
  {
   "cell_type": "code",
   "execution_count": 23,
   "metadata": {},
   "outputs": [],
   "source": [
    "diffs = {}\n",
    "for asteroid_name, asteroid_data in asteroids_data.items():\n",
    "    if asteroid_data[\"is_failed\"]:\n",
    "        continue\n",
    "\n",
    "    target_freq = 24 / asteroid_data[\"period\"]\n",
    "    freqs = np.array(asteroid_data[\"features\"])\n",
    "\n",
    "    top_k_ratio = freqs[:,:,0] / target_freq\n",
    "    min_diff = np.min(np.abs(top_k_ratio - 1))  # Closest to 1\n",
    "\n",
    "    diffs[asteroid_name] = min_diff"
   ]
  },
  {
   "cell_type": "code",
   "execution_count": 24,
   "metadata": {},
   "outputs": [
    {
     "data": {
      "text/plain": [
       "array([2.80992425e-06, 1.08534760e-04, 6.07905993e-04, 2.28275966e-03,\n",
       "       1.18916738e-02, 3.67478798e-01, 2.67102837e+01])"
      ]
     },
     "execution_count": 24,
     "metadata": {},
     "output_type": "execute_result"
    }
   ],
   "source": [
    "percentiles = np.percentile(list(diffs.values()), [0, 5, 25, 50, 75, 95, 100])\n",
    "percentiles"
   ]
  },
  {
   "cell_type": "code",
   "execution_count": 25,
   "metadata": {},
   "outputs": [
    {
     "data": {
      "text/plain": [
       "41"
      ]
     },
     "execution_count": 25,
     "metadata": {},
     "output_type": "execute_result"
    }
   ],
   "source": [
    "selected_asteroids = {name: data for name, data in asteroids_data.items() if name in diffs and diffs[name] > percentiles[-2]}\n",
    "len(selected_asteroids)"
   ]
  },
  {
   "cell_type": "code",
   "execution_count": 27,
   "metadata": {},
   "outputs": [
    {
     "name": "stderr",
     "output_type": "stream",
     "text": [
      "2024-07-19 10:24:58,150 - freq - DEBUG - Splitting lightcurves for Pobeda with max_hours_diff=1 and min_no_points=10\n",
      "2024-07-19 10:24:58,150 - freq - DEBUG - Before splitting: 1 lightcurves\n",
      "2024-07-19 10:24:58,151 - freq - DEBUG - After splitting: 2 lightcurves\n",
      "2024-07-19 10:24:58,152 - freq - DEBUG - Getting top 2 bins with max_time_diff=30 and min_bin_size=1\n",
      "2024-07-19 10:24:58,152 - freq - DEBUG - After binning 1 bins available\n",
      "2024-07-19 10:24:58,152 - freq - DEBUG - Using 1 bins instead of 2\n"
     ]
    },
    {
     "name": "stdout",
     "output_type": "stream",
     "text": [
      "Asteroid(id=1908, name=Pobeda, period=149.97, lightcurves=1)\n",
      "Target frequency: 0.16003200640128026\n"
     ]
    },
    {
     "data": {
      "image/png": "[encoded data removed]",
      "text/plain": [
       "<Figure size 1200x600 with 1 Axes>"
      ]
     },
     "metadata": {},
     "output_type": "display_data"
    },
    {
     "name": "stderr",
     "output_type": "stream",
     "text": [
      "2024-07-19 10:24:58,331 - freq - DEBUG - Getting top 50 frequencies with nterms=3 for lightcurves=2 with total points=20\n"
     ]
    },
    {
     "data": {
      "image/png": "[encoded data removed]",
      "text/plain": [
       "<Figure size 1200x600 with 1 Axes>"
      ]
     },
     "metadata": {},
     "output_type": "display_data"
    },
    {
     "name": "stderr",
     "output_type": "stream",
     "text": [
      "2024-07-19 10:24:58,482 - freq - DEBUG - --------------------------------------------------\n",
      "\n"
     ]
    },
    {
     "data": {
      "text/plain": [
       "[[[11.923113377259115, 0.7361058158884672, 74.5045547161479],\n",
       "  [11.424238340553714, 0.7358745120078577, 71.38720933053501],\n",
       "  [10.925363303848311, 0.7356521587457997, 68.26986394492214],\n",
       "  [10.426488267142908, 0.7354289400897481, 65.15251855930924],\n",
       "  [9.927613230437506, 0.7352021163402335, 62.035173173696364],\n",
       "  [9.428738193732103, 0.7349501235415241, 58.91782778808348],\n",
       "  [8.929863157026702, 0.7347248783734418, 55.8004824024706],\n",
       "  [8.430988120321299, 0.7344514200215363, 52.683137016857714],\n",
       "  [7.932113083615897, 0.7342111160600738, 49.565791631244835],\n",
       "  [7.433238046910494, 0.7339750248819139, 46.44844624563195],\n",
       "  [6.934363010205092, 0.733674650713823, 43.33110086001907],\n",
       "  [6.43548797349969, 0.7334169132814612, 40.213755474406184],\n",
       "  [5.936612936794288, 0.7330815062235382, 37.096410088793306],\n",
       "  [5.4377379000888855, 0.7328067206442088, 33.97906470318042],\n",
       "  [4.938862863383483, 0.7324611444877646, 30.86171931756754],\n",
       "  [4.439987826678081, 0.732262335303525, 27.74437393195466],\n",
       "  [3.9411127899726788, 0.7317792636205088, 24.627028546341776],\n",
       "  [3.442237753267276, 0.731237027398988, 21.50968316072889],\n",
       "  [2.943362716561874, 0.7310975268839109, 18.392337775116008],\n",
       "  [2.4444876798564716, 0.730771604693103, 15.274992389503126],\n",
       "  [11.823338369918035, 0.7297815018122213, 73.88108563902532],\n",
       "  [11.324463333212632, 0.7297605912469359, 70.76374025341244],\n",
       "  [10.825588296507231, 0.729734967411349, 67.64639486779956],\n",
       "  [10.326713259801828, 0.7297042490306807, 64.52904948218666],\n",
       "  [9.827838223096427, 0.7296682507431819, 61.41170409657379],\n",
       "  [9.328963186391023, 0.7296275301510169, 58.29435871096091],\n",
       "  [8.830088149685622, 0.7295814174339896, 55.17701332534803],\n",
       "  [8.331213112980219, 0.7295302794762349, 52.05966793973514],\n",
       "  [1.9456126431510692, 0.7295174007496741, 12.157647003890244],\n",
       "  [7.832338076274817, 0.7294735931488064, 48.942322554122256],\n",
       "  [7.3334630395694145, 0.7294118556507204, 45.82497716850938],\n",
       "  [6.834588002864011, 0.7293435475861492, 42.70763178289649],\n",
       "  [0.648537547717023, 0.7293201953473414, 4.0525490012967476],\n",
       "  [6.335712966158609, 0.7292701480129172, 39.590286397283606],\n",
       "  [5.836837929453207, 0.7291906986879917, 36.47294101167073],\n",
       "  [5.337962892747805, 0.729106060178312, 33.35559562605784],\n",
       "  [4.839087856042402, 0.729014251788477, 30.238250240444962],\n",
       "  [4.340212819337, 0.7289159424668906, 27.12090485483208],\n",
       "  [3.8413377826315984, 0.7288106881084121, 24.003559469219198],\n",
       "  [3.3424627459261957, 0.7286991672068113, 20.886214083606315],\n",
       "  [2.8435877092207935, 0.7285799248757799, 17.768868697993433],\n",
       "  [2.3447126725153913, 0.7284554460213296, 14.65152331238055],\n",
       "  [1.8458376358099886, 0.7283248801641883, 11.534177926767665],\n",
       "  [1.3469625991045862, 0.7281841738530688, 8.416832541154783],\n",
       "  [0.8480875623991839, 0.7280613149433167, 5.2994871555419],\n",
       "  [0.24943751835270117, 0.7277922455237319, 1.5586726928064414],\n",
       "  [1.746062628468908, 0.727715763501923, 10.910708849645088],\n",
       "  [2.244937665174311, 0.7277089299466951, 14.028054235257974],\n",
       "  [1.2471875917635058, 0.7276937407596925, 7.793363464032207],\n",
       "  [2.743812701879713, 0.727688201201178, 17.145399620870858]]]"
      ]
     },
     "execution_count": 27,
     "metadata": {},
     "output_type": "execute_result"
    }
   ],
   "source": [
    "ast_name = choice(list(selected_asteroids.keys()))\n",
    "print(repr(asteroids[ast_name]))\n",
    "print(f\"Target frequency: {24 / asteroids[ast_name].period}\")\n",
    "\n",
    "get_freq_features(asteroids[ast_name], config)"
   ]
  },
  {
   "cell_type": "code",
   "execution_count": null,
   "metadata": {},
   "outputs": [],
   "source": []
  }
 ],
 "metadata": {
  "kernelspec": {
   "display_name": "mgr",
   "language": "python",
   "name": "python3"
  },
  "language_info": {
   "codemirror_mode": {
    "name": "ipython",
    "version": 3
   },
   "file_extension": ".py",
   "mimetype": "text/x-python",
   "name": "python",
   "nbconvert_exporter": "python",
   "pygments_lexer": "ipython3",
   "version": "3.11.9"
  }
 },
 "nbformat": 4,
 "nbformat_minor": 2
}
