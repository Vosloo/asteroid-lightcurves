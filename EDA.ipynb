{
 "cells": [
  {
   "cell_type": "code",
   "execution_count": 1,
   "metadata": {},
   "outputs": [],
   "source": [
    "import json\n",
    "import logging\n",
    "from pathlib import Path\n",
    "\n",
    "import pandas as pd\n",
    "\n",
    "from constants import RAW_DIR\n",
    "from src.model import Asteroid, LightCurve\n",
    "\n",
    "logging.basicConfig(level=logging.DEBUG)"
   ]
  },
  {
   "cell_type": "code",
   "execution_count": 2,
   "metadata": {},
   "outputs": [],
   "source": [
    "ASTEROID_NAME = \"Eros\"\n",
    "with open(RAW_DIR / ASTEROID_NAME / \"lc.json\", \"r\") as f:\n",
    "    raw_data = json.load(f)"
   ]
  },
  {
   "cell_type": "code",
   "execution_count": 3,
   "metadata": {},
   "outputs": [
    {
     "data": {
      "text/plain": [
       "{'LightCurve': {'id': '14537',\n",
       "  'asteroid_id': '1714',\n",
       "  'scale': '0',\n",
       "  'filter': None,\n",
       "  'points': '2433915.385708  1.021246e+00    -1.49250950  -0.20313009  -0.25692782   -0.49091309  -0.15648988  -0.25691486\\n2433915.401167  1.018429e+00    -1.49243437  -0.20332590  -0.25693732   -0.49085471  -0.15642099  -0.25692433\\n2433915.407583  1.030696e+00    -1.49240319  -0.20340717  -0.25694127   -0.49083050  -0.15639240  -0.25692825\\n2433915.423333  1.025016e+00    -1.49232660  -0.20360666  -0.25695094   -0.49077108  -0.15632220  -0.25693789\\n2433915.434000  1.008163e+00    -1.49227472  -0.20374176  -0.25695749   -0.49073086  -0.15627466  -0.25694442\\n2433915.443625  9.897614e-01    -1.49222789  -0.20386366  -0.25696339   -0.49069459  -0.15623177  -0.25695030\\n2433915.453542  9.469576e-01    -1.49217962  -0.20398927  -0.25696948   -0.49065723  -0.15618757  -0.25695637\\n2433915.458333  9.211503e-01    -1.49215630  -0.20404995  -0.25697241   -0.49063919  -0.15616622  -0.25695929\\n2433915.464125  9.010119e-01    -1.49212811  -0.20412330  -0.25697597   -0.49061739  -0.15614041  -0.25696283\\n2433915.472333  9.365491e-01    -1.49208814  -0.20422726  -0.25698100   -0.49058650  -0.15610382  -0.25696785\\n2433915.477083  9.843069e-01    -1.49206501  -0.20428741  -0.25698391   -0.49056863  -0.15608265  -0.25697075\\n2433915.489250  1.010021e+00    -1.49200575  -0.20444151  -0.25699136   -0.49052287  -0.15602843  -0.25697818\\n2433915.496958  1.035453e+00    -1.49196819  -0.20453912  -0.25699608   -0.49049389  -0.15599407  -0.25698288\\n2433915.511750  1.071348e+00    -1.49189610  -0.20472646  -0.25700514   -0.49043831  -0.15592815  -0.25699191\\n2433915.516750  1.024072e+00    -1.49187173  -0.20478978  -0.25700820   -0.49041953  -0.15590586  -0.25699496\\n2433915.525583  1.038318e+00    -1.49182867  -0.20490164  -0.25701360   -0.49038637  -0.15586650  -0.25700034\\n2433915.533708  1.021246e+00    -1.49178904  -0.20500453  -0.25701857   -0.49035588  -0.15583028  -0.25700530\\n2433915.573625  9.548398e-01    -1.49159426  -0.20551002  -0.25704297   -0.49020623  -0.15565237  -0.25702961\\n2433915.583250  9.478302e-01    -1.49154727  -0.20563191  -0.25704885   -0.49017019  -0.15560947  -0.25703546\\n2433915.589750  1.020306e+00    -1.49151552  -0.20571422  -0.25705282   -0.49014585  -0.15558050  -0.25703942\\n2433915.609083  1.093278e+00    -1.49142108  -0.20595902  -0.25706461   -0.49007353  -0.15549433  -0.25705117\\n',\n",
       "  'comment': '1  1951  9 26.0  Beyer_1953',\n",
       "  'created': '2019-03-08 10:57:09',\n",
       "  'modified': '2019-03-08 10:57:09',\n",
       "  'display_label': '14537',\n",
       "  'points_count': '21'},\n",
       " 'Reference': [{'id': '208',\n",
       "   'bibcode': '1953an....281..121b',\n",
       "   'author': 'Beyer, M.',\n",
       "   'author_short': 'Beyer',\n",
       "   'year': '1953',\n",
       "   'title': 'Der Lichtwechsel und die Lage der Rotationsachse des Planeten 433 Eros während der Opposition 1951-52',\n",
       "   'journal': 'Astronomische Nachrichten',\n",
       "   'volume': '281',\n",
       "   'page': '121',\n",
       "   'url': None,\n",
       "   'comment': None,\n",
       "   'created': '2019-10-27 21:03:14',\n",
       "   'modified': '2019-10-27 21:03:14',\n",
       "   'display_label': 'Beyer (1953) ',\n",
       "   'LightCurvesReference': {'id': '12793',\n",
       "    'light_curve_id': '14537',\n",
       "    'reference_id': '208'}}]}"
      ]
     },
     "execution_count": 3,
     "metadata": {},
     "output_type": "execute_result"
    }
   ],
   "source": [
    "raw_data[0]"
   ]
  },
  {
   "cell_type": "code",
   "execution_count": 4,
   "metadata": {},
   "outputs": [
    {
     "data": {
      "text/plain": [
       "Asteroid(id=433, name=Eros, lightcurves=118)"
      ]
     },
     "execution_count": 4,
     "metadata": {},
     "output_type": "execute_result"
    }
   ],
   "source": [
    "asteroid = Asteroid.from_lightcurves(\n",
    "    id=433,\n",
    "    name=ASTEROID_NAME,\n",
    "    data=raw_data\n",
    ")\n",
    "asteroid"
   ]
  }
 ],
 "metadata": {
  "kernelspec": {
   "display_name": "mgr",
   "language": "python",
   "name": "python3"
  },
  "language_info": {
   "codemirror_mode": {
    "name": "ipython",
    "version": 3
   },
   "file_extension": ".py",
   "mimetype": "text/x-python",
   "name": "python",
   "nbconvert_exporter": "python",
   "pygments_lexer": "ipython3",
   "version": "3.10.13"
  },
  "orig_nbformat": 4
 },
 "nbformat": 4,
 "nbformat_minor": 2
}
